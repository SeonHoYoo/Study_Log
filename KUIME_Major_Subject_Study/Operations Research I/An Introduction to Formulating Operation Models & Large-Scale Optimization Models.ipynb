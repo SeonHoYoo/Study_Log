{
 "cells": [
  {
   "cell_type": "markdown",
   "id": "989cc376-a7f1-442f-b4e5-2e14f283683d",
   "metadata": {},
   "source": [
    "### Anteater-Bugs's Optimization Model"
   ]
  },
  {
   "cell_type": "code",
   "execution_count": 5,
   "id": "7473ccd1-ef54-4f5f-9751-a6c9a3a641ab",
   "metadata": {},
   "outputs": [],
   "source": [
    "import gurobipy as gp\n",
    "from gurobipy import GRB"
   ]
  },
  {
   "cell_type": "markdown",
   "id": "0d07ee8a-c3e2-4615-b2b8-15c6602399cd",
   "metadata": {},
   "source": [
    "##### Create new model"
   ]
  },
  {
   "cell_type": "code",
   "execution_count": null,
   "id": "464020bd-0a4a-415b-8684-216da7a313b9",
   "metadata": {},
   "outputs": [],
   "source": [
    "model = gp.Model('Anteater Bugs')"
   ]
  },
  {
   "cell_type": "markdown",
   "id": "6e06c3a6-e664-47dd-b3c4-4fffbac6bf31",
   "metadata": {},
   "source": [
    "##### Create Decision variable"
   ]
  },
  {
   "cell_type": "code",
   "execution_count": 9,
   "id": "4bcef1c0-b831-4a2c-8a53-09588913703d",
   "metadata": {},
   "outputs": [],
   "source": [
    "W = model.addVar(vtype = GRB.INTEGER, name = 'W')\n",
    "L = model.addVar(vtype = GRB.INTEGER, name = 'L')"
   ]
  },
  {
   "cell_type": "markdown",
   "id": "75532900-7a55-40c3-9f7e-0d7107885247",
   "metadata": {},
   "source": [
    "##### Set Objective"
   ]
  },
  {
   "cell_type": "code",
   "execution_count": 15,
   "id": "dfe9210d-4c64-47b1-8f85-1460dfbfd5c0",
   "metadata": {},
   "outputs": [],
   "source": [
    "model.setObjective(W+2*L, GRB.MAXIMIZE)"
   ]
  },
  {
   "cell_type": "markdown",
   "id": "648b9a7f-6540-4585-aad4-006325acf628",
   "metadata": {},
   "source": [
    "##### Add Constraints"
   ]
  },
  {
   "cell_type": "code",
   "execution_count": 17,
   "id": "796eac6a-a4d6-4b42-b801-e902acafe933",
   "metadata": {},
   "outputs": [
    {
     "data": {
      "text/plain": [
       "<gurobi.Constr *Awaiting Model Update*>"
      ]
     },
     "execution_count": 17,
     "metadata": {},
     "output_type": "execute_result"
    }
   ],
   "source": [
    "model.addConstr(10*W+3*L <= 1000, name = 'Malt_capa')\n",
    "model.addConstr(20*W+12*L <= 2000, name = 'Hops_capa')\n",
    "model.addConstr(3*W+3*L <= 1500, name = 'Labor_capa')\n",
    "model.addConstr(W >= 0, name = 'Nonnegativity1')\n",
    "model.addConstr(L >= 0, name = 'Nonnegativity2')"
   ]
  },
  {
   "cell_type": "markdown",
   "id": "a2095a26-4406-464c-99e3-bf106517b26c",
   "metadata": {},
   "source": [
    "##### Optimize model"
   ]
  },
  {
   "cell_type": "code",
   "execution_count": 19,
   "id": "78254b68-4a22-4a3b-8120-2cd8c7f51748",
   "metadata": {},
   "outputs": [
    {
     "name": "stdout",
     "output_type": "stream",
     "text": [
      "Gurobi Optimizer version 11.0.3 build v11.0.3rc0 (win64 - Windows 11.0 (22631.2))\n",
      "\n",
      "CPU model: 12th Gen Intel(R) Core(TM) i7-1260P, instruction set [SSE2|AVX|AVX2]\n",
      "Thread count: 12 physical cores, 16 logical processors, using up to 16 threads\n",
      "\n",
      "Optimize a model with 5 rows, 2 columns and 8 nonzeros\n",
      "Model fingerprint: 0xaba28571\n",
      "Variable types: 0 continuous, 2 integer (0 binary)\n",
      "Coefficient statistics:\n",
      "  Matrix range     [1e+00, 2e+01]\n",
      "  Objective range  [1e+00, 2e+00]\n",
      "  Bounds range     [0e+00, 0e+00]\n",
      "  RHS range        [1e+03, 2e+03]\n",
      "Found heuristic solution: objective 100.0000000\n",
      "Presolve removed 5 rows and 2 columns\n",
      "Presolve time: 0.00s\n",
      "Presolve: All rows and columns removed\n",
      "\n",
      "Explored 0 nodes (0 simplex iterations) in 0.02 seconds (0.00 work units)\n",
      "Thread count was 1 (of 16 available processors)\n",
      "\n",
      "Solution count 2: 332 100 \n",
      "\n",
      "Optimal solution found (tolerance 1.00e-04)\n",
      "Best objective 3.320000000000e+02, best bound 3.320000000000e+02, gap 0.0000%\n"
     ]
    }
   ],
   "source": [
    "model.optimize()"
   ]
  },
  {
   "cell_type": "markdown",
   "id": "27e4ca8d-1223-43d0-a2c5-385896d6829c",
   "metadata": {},
   "source": [
    "##### Print result"
   ]
  },
  {
   "cell_type": "code",
   "execution_count": 21,
   "id": "ffe6b5ff-1ae2-4238-9b52-f438f25f0875",
   "metadata": {},
   "outputs": [
    {
     "name": "stdout",
     "output_type": "stream",
     "text": [
      "Objective : 332.0\n",
      "W: -0.0\n",
      "L: 166.0\n"
     ]
    }
   ],
   "source": [
    "print(f'Objective : {model.ObjVal}')\n",
    "print(f'W: {W.X}')\n",
    "print(f'L: {L.X}')"
   ]
  },
  {
   "cell_type": "markdown",
   "id": "02500bba-ef53-4410-a8d1-aa4a38111b1e",
   "metadata": {},
   "source": [
    "### Large-scale Optimization Model"
   ]
  },
  {
   "cell_type": "code",
   "execution_count": 46,
   "id": "8c01cdcf-bd28-4d06-96dc-61814ca100e0",
   "metadata": {},
   "outputs": [],
   "source": [
    "import random\n",
    "import gurobipy as gp\n",
    "from gurobipy import GRB\n",
    "import matplotlib.pyplot as plt"
   ]
  },
  {
   "cell_type": "markdown",
   "id": "fa43084f-5b9c-445f-9017-edd853a822fd",
   "metadata": {},
   "source": [
    "##### Create Data Function"
   ]
  },
  {
   "cell_type": "code",
   "execution_count": 51,
   "id": "05e2cf22-94b9-495e-9784-ed8ab25f0c59",
   "metadata": {},
   "outputs": [],
   "source": [
    "def create_data(data_size):\n",
    "    random.seed(42)\n",
    "\n",
    "    p_j = [random.randint(1,100) for _ in range(data_size)]\n",
    "    a_1_j = [random.randint(1,100) for _ in range(data_size)]\n",
    "    a_2_j = [random.randint(1,100) for _ in range(data_size)]\n",
    "    a_3_j = [random.randint(1,100) for _ in range(data_size)]\n",
    "\n",
    "    return p_j, a_1_j, a_2_j, a_3_j"
   ]
  },
  {
   "cell_type": "markdown",
   "id": "a3df0b52-19a4-4136-9273-06e162266cd8",
   "metadata": {},
   "source": [
    "##### Gurobi Model Function"
   ]
  },
  {
   "cell_type": "code",
   "execution_count": 63,
   "id": "92d9d6de-b3ad-4ed3-8ad7-75e0a9f879d2",
   "metadata": {},
   "outputs": [],
   "source": [
    "def gurobi_model(data_size, p_j, a_1_j, a_2_j, a_3_j, b1, b2, b3):\n",
    "    model = gp.Model('Anteater Bugs')\n",
    "\n",
    "    x = model.addVars(data_size, vtype=GRB.INTEGER, name = ' x')\n",
    "    model.setObjective(gp.quicksum(p_j[j]*x[j] for j in range(data_size)), GRB.MAXIMIZE)\n",
    "\n",
    "    model.addConstr(gp.quicksum(a_1_j[j]*x[j] for j in range(data_size)) <= b1, name = 'Malt_capa')\n",
    "    model.addConstr(gp.quicksum(a_2_j[j]*x[j] for j in range(data_size)) <= b2, name = 'Hops_capa')\n",
    "    model.addConstr(gp.quicksum(a_3_j[j]*x[j] for j in range(data_size)) <= b3, name = 'Labor_capa')\n",
    "\n",
    "    for j in range(data_size):\n",
    "        model.addConstr(x[j] >= 0, name = 'Nonnegativity')\n",
    "\n",
    "    model.optimize()\n",
    "\n",
    "    print('==================================================')\n",
    "    print(f'Objective: {model.ObjVal}')\n",
    "\n",
    "    return model.Runtime"
   ]
  },
  {
   "cell_type": "markdown",
   "id": "20eb68ed-233e-4ea1-b8d1-95f6e4c8a02c",
   "metadata": {},
   "source": [
    "##### Plot Runtime Graph Function"
   ]
  },
  {
   "cell_type": "code",
   "execution_count": 65,
   "id": "bec703b9-957d-4f61-929c-95fee2c59b18",
   "metadata": {},
   "outputs": [],
   "source": [
    "def plot_runtime_graph(runtime_dict):\n",
    "    data_sizes = list(runtime_dict.keys())\n",
    "    runtimes = list(runtime_dict.values())\n",
    "\n",
    "    plt.figure(figsize=(10,6))\n",
    "    plt.plot(data_sizes, runtimes, marker = 'o')\n",
    "\n",
    "    for i in range(len(data_sizes)):\n",
    "        plt.text(data_sizes[i], runtimes[i] + 0.003, '%.3f' %runtimes[i], ha = 'center')\n",
    "\n",
    "    plt.title('Computation Time')\n",
    "    plt.xlabel('Data Size')\n",
    "    plt.ylabel('Runtime (seconds)')\n",
    "\n",
    "    plt.xticks(data_sizes)\n",
    "\n",
    "    plt.grid(True)\n",
    "    plt.show()"
   ]
  },
  {
   "cell_type": "markdown",
   "id": "8b055396-0cb2-47d4-9c96-58c470a080a1",
   "metadata": {},
   "source": [
    "##### Main Function"
   ]
  },
  {
   "cell_type": "code",
   "execution_count": 78,
   "id": "fff00984-1149-4802-9fc5-57297228774e",
   "metadata": {},
   "outputs": [],
   "source": [
    "def main():\n",
    "    data_sizes = [100, 500, 100, 5000, 10000]\n",
    "    b1, b2, b3 = 1000, 2000, 1500\n",
    "    runtime_dict = {}\n",
    "\n",
    "    for data_size in data_sizes:\n",
    "        p_j, a_1_j, a_2_j, a_3_j = create_data(data_size)\n",
    "        gurobi_runtime = gurobi_model(data_size, p_j, a_1_j, a_2_j, a_3_j, b1, b2, b3)\n",
    "        runtime_dict[data_size] = gurobi_runtime\n",
    "\n",
    "    plot_runtime_graph(runtime_dict)"
   ]
  },
  {
   "cell_type": "code",
   "execution_count": 80,
   "id": "ebbff173-2834-4bf4-aaa5-55d1e53c32bf",
   "metadata": {},
   "outputs": [
    {
     "name": "stdout",
     "output_type": "stream",
     "text": [
      "Gurobi Optimizer version 11.0.3 build v11.0.3rc0 (win64 - Windows 11.0 (22631.2))\n",
      "\n",
      "CPU model: 12th Gen Intel(R) Core(TM) i7-1260P, instruction set [SSE2|AVX|AVX2]\n",
      "Thread count: 12 physical cores, 16 logical processors, using up to 16 threads\n",
      "\n",
      "Optimize a model with 103 rows, 100 columns and 400 nonzeros\n",
      "Model fingerprint: 0xbeb635e7\n",
      "Variable types: 0 continuous, 100 integer (0 binary)\n",
      "Coefficient statistics:\n",
      "  Matrix range     [1e+00, 1e+02]\n",
      "  Objective range  [1e+00, 1e+02]\n",
      "  Bounds range     [0e+00, 0e+00]\n",
      "  RHS range        [1e+03, 2e+03]\n",
      "Found heuristic solution: objective 1260.0000000\n",
      "Presolve removed 100 rows and 78 columns\n",
      "Presolve time: 0.00s\n",
      "Presolved: 3 rows, 22 columns, 66 nonzeros\n",
      "Found heuristic solution: objective 1614.0000000\n",
      "Variable types: 0 continuous, 22 integer (0 binary)\n",
      "Found heuristic solution: objective 2621.0000000\n",
      "\n",
      "Root relaxation: objective 1.514535e+04, 7 iterations, 0.00 seconds (0.00 work units)\n",
      "\n",
      "    Nodes    |    Current Node    |     Objective Bounds      |     Work\n",
      " Expl Unexpl |  Obj  Depth IntInf | Incumbent    BestBd   Gap | It/Node Time\n",
      "\n",
      "     0     0 15145.3488    0    2 2621.00000 15145.3488   478%     -    0s\n",
      "H    0     0                    15090.000000 15145.3488  0.37%     -    0s\n",
      "H    0     0                    15097.000000 15117.2927  0.13%     -    0s\n",
      "\n",
      "Cutting planes:\n",
      "  Gomory: 1\n",
      "  MIR: 2\n",
      "\n",
      "Explored 1 nodes (7 simplex iterations) in 0.03 seconds (0.00 work units)\n",
      "Thread count was 16 (of 16 available processors)\n",
      "\n",
      "Solution count 5: 15097 15090 2621 ... 1260\n",
      "\n",
      "Optimal solution found (tolerance 1.00e-04)\n",
      "Best objective 1.509700000000e+04, best bound 1.509700000000e+04, gap 0.0000%\n",
      "==================================================\n",
      "Objective: 15097.0\n",
      "Gurobi Optimizer version 11.0.3 build v11.0.3rc0 (win64 - Windows 11.0 (22631.2))\n",
      "\n",
      "CPU model: 12th Gen Intel(R) Core(TM) i7-1260P, instruction set [SSE2|AVX|AVX2]\n",
      "Thread count: 12 physical cores, 16 logical processors, using up to 16 threads\n",
      "\n",
      "Optimize a model with 503 rows, 500 columns and 2000 nonzeros\n",
      "Model fingerprint: 0xf4336de1\n",
      "Variable types: 0 continuous, 500 integer (0 binary)\n",
      "Coefficient statistics:\n",
      "  Matrix range     [1e+00, 1e+02]\n",
      "  Objective range  [1e+00, 1e+02]\n",
      "  Bounds range     [0e+00, 0e+00]\n",
      "  RHS range        [1e+03, 2e+03]\n",
      "Found heuristic solution: objective 992.0000000\n",
      "Presolve removed 500 rows and 448 columns\n",
      "Presolve time: 0.00s\n",
      "Presolved: 3 rows, 52 columns, 156 nonzeros\n",
      "Found heuristic solution: objective 3407.0000000\n",
      "Variable types: 0 continuous, 52 integer (0 binary)\n",
      "Found heuristic solution: objective 4297.0000000\n",
      "\n",
      "Root relaxation: objective 1.044520e+04, 6 iterations, 0.00 seconds (0.00 work units)\n",
      "\n",
      "    Nodes    |    Current Node    |     Objective Bounds      |     Work\n",
      " Expl Unexpl |  Obj  Depth IntInf | Incumbent    BestBd   Gap | It/Node Time\n",
      "\n",
      "     0     0 10445.1987    0    3 4297.00000 10445.1987   143%     -    0s\n",
      "H    0     0                    10385.000000 10445.1987  0.58%     -    0s\n",
      "H    0     0                    10391.000000 10445.1987  0.52%     -    0s\n",
      "H    0     0                    10420.000000 10445.1987  0.24%     -    0s\n",
      "     0     0 10434.8331    0    4 10420.0000 10434.8331  0.14%     -    0s\n",
      "     0     0 10434.8331    0    3 10420.0000 10434.8331  0.14%     -    0s\n",
      "     0     0 10432.7972    0    6 10420.0000 10432.7972  0.12%     -    0s\n",
      "     0     0 10430.3207    0    4 10420.0000 10430.3207  0.10%     -    0s\n",
      "     0     0 10426.6981    0    5 10420.0000 10426.6981  0.06%     -    0s\n",
      "     0     0 10426.2419    0    4 10420.0000 10426.2419  0.06%     -    0s\n",
      "     0     0 10426.2419    0    4 10420.0000 10426.2419  0.06%     -    0s\n",
      "     0     2 10426.2419    0    4 10420.0000 10426.2419  0.06%     -    0s\n",
      "\n",
      "Cutting planes:\n",
      "  Gomory: 2\n",
      "  MIR: 3\n",
      "\n",
      "Explored 27 nodes (96 simplex iterations) in 0.08 seconds (0.00 work units)\n",
      "Thread count was 16 (of 16 available processors)\n",
      "\n",
      "Solution count 6: 10420 10391 10385 ... 992\n",
      "\n",
      "Optimal solution found (tolerance 1.00e-04)\n",
      "Best objective 1.042000000000e+04, best bound 1.042000000000e+04, gap 0.0000%\n",
      "==================================================\n",
      "Objective: 10420.0\n",
      "Gurobi Optimizer version 11.0.3 build v11.0.3rc0 (win64 - Windows 11.0 (22631.2))\n",
      "\n",
      "CPU model: 12th Gen Intel(R) Core(TM) i7-1260P, instruction set [SSE2|AVX|AVX2]\n",
      "Thread count: 12 physical cores, 16 logical processors, using up to 16 threads\n",
      "\n",
      "Optimize a model with 103 rows, 100 columns and 400 nonzeros\n",
      "Model fingerprint: 0xbeb635e7\n",
      "Variable types: 0 continuous, 100 integer (0 binary)\n",
      "Coefficient statistics:\n",
      "  Matrix range     [1e+00, 1e+02]\n",
      "  Objective range  [1e+00, 1e+02]\n",
      "  Bounds range     [0e+00, 0e+00]\n",
      "  RHS range        [1e+03, 2e+03]\n",
      "Found heuristic solution: objective 1260.0000000\n",
      "Presolve removed 100 rows and 78 columns\n",
      "Presolve time: 0.00s\n",
      "Presolved: 3 rows, 22 columns, 66 nonzeros\n",
      "Found heuristic solution: objective 1614.0000000\n",
      "Variable types: 0 continuous, 22 integer (0 binary)\n",
      "Found heuristic solution: objective 2621.0000000\n",
      "\n",
      "Root relaxation: objective 1.514535e+04, 7 iterations, 0.00 seconds (0.00 work units)\n",
      "\n",
      "    Nodes    |    Current Node    |     Objective Bounds      |     Work\n",
      " Expl Unexpl |  Obj  Depth IntInf | Incumbent    BestBd   Gap | It/Node Time\n",
      "\n",
      "     0     0 15145.3488    0    2 2621.00000 15145.3488   478%     -    0s\n",
      "H    0     0                    15090.000000 15145.3488  0.37%     -    0s\n",
      "H    0     0                    15097.000000 15117.2927  0.13%     -    0s\n",
      "\n",
      "Cutting planes:\n",
      "  Gomory: 1\n",
      "  MIR: 2\n",
      "\n",
      "Explored 1 nodes (7 simplex iterations) in 0.03 seconds (0.00 work units)\n",
      "Thread count was 16 (of 16 available processors)\n",
      "\n",
      "Solution count 5: 15097 15090 2621 ... 1260\n",
      "\n",
      "Optimal solution found (tolerance 1.00e-04)\n",
      "Best objective 1.509700000000e+04, best bound 1.509700000000e+04, gap 0.0000%\n",
      "==================================================\n",
      "Objective: 15097.0\n",
      "Gurobi Optimizer version 11.0.3 build v11.0.3rc0 (win64 - Windows 11.0 (22631.2))\n",
      "\n",
      "CPU model: 12th Gen Intel(R) Core(TM) i7-1260P, instruction set [SSE2|AVX|AVX2]\n",
      "Thread count: 12 physical cores, 16 logical processors, using up to 16 threads\n",
      "\n",
      "Optimize a model with 5003 rows, 5000 columns and 20000 nonzeros\n",
      "Model fingerprint: 0xbf2b093b\n",
      "Variable types: 0 continuous, 5000 integer (0 binary)\n",
      "Coefficient statistics:\n",
      "  Matrix range     [1e+00, 1e+02]\n",
      "  Objective range  [1e+00, 1e+02]\n",
      "  Bounds range     [0e+00, 0e+00]\n",
      "  RHS range        [1e+03, 2e+03]\n",
      "Found heuristic solution: objective 1161.0000000\n",
      "Presolve removed 5000 rows and 14 columns\n",
      "Presolve time: 0.05s\n",
      "Presolved: 3 rows, 4986 columns, 14958 nonzeros\n",
      "Variable types: 0 continuous, 4986 integer (0 binary)\n",
      "Found heuristic solution: objective 3290.0000000\n",
      "\n",
      "Root relaxation: objective 1.897410e+04, 5 iterations, 0.00 seconds (0.00 work units)\n",
      "\n",
      "    Nodes    |    Current Node    |     Objective Bounds      |     Work\n",
      " Expl Unexpl |  Obj  Depth IntInf | Incumbent    BestBd   Gap | It/Node Time\n",
      "\n",
      "     0     0 18974.1024    0    3 3290.00000 18974.1024   477%     -    0s\n",
      "H    0     0                    18830.000000 18974.1024  0.77%     -    0s\n",
      "H    0     0                    18923.000000 18974.1024  0.27%     -    0s\n",
      "H    0     0                    18957.000000 18974.1024  0.09%     -    0s\n",
      "\n",
      "Cutting planes:\n",
      "  Gomory: 6\n",
      "  MIR: 1\n",
      "  StrongCG: 1\n",
      "\n",
      "Explored 1 nodes (5 simplex iterations) in 0.43 seconds (0.07 work units)\n",
      "Thread count was 16 (of 16 available processors)\n",
      "\n",
      "Solution count 5: 18957 18923 18830 ... 1161\n",
      "\n",
      "Optimal solution found (tolerance 1.00e-04)\n",
      "Best objective 1.895700000000e+04, best bound 1.895700000000e+04, gap 0.0000%\n",
      "==================================================\n",
      "Objective: 18957.0\n",
      "Gurobi Optimizer version 11.0.3 build v11.0.3rc0 (win64 - Windows 11.0 (22631.2))\n",
      "\n",
      "CPU model: 12th Gen Intel(R) Core(TM) i7-1260P, instruction set [SSE2|AVX|AVX2]\n",
      "Thread count: 12 physical cores, 16 logical processors, using up to 16 threads\n",
      "\n",
      "Optimize a model with 10003 rows, 10000 columns and 40000 nonzeros\n",
      "Model fingerprint: 0x0f3c5f2c\n",
      "Variable types: 0 continuous, 10000 integer (0 binary)\n",
      "Coefficient statistics:\n",
      "  Matrix range     [1e+00, 1e+02]\n",
      "  Objective range  [1e+00, 1e+02]\n",
      "  Bounds range     [0e+00, 0e+00]\n",
      "  RHS range        [1e+03, 2e+03]\n",
      "Found heuristic solution: objective 2354.0000000\n",
      "Presolve removed 10000 rows and 45 columns\n",
      "Presolve time: 0.09s\n",
      "Presolved: 3 rows, 9955 columns, 29865 nonzeros\n",
      "Variable types: 0 continuous, 9955 integer (0 binary)\n",
      "Found heuristic solution: objective 3355.0000000\n",
      "\n",
      "Root relaxation: objective 2.433840e+04, 9 iterations, 0.01 seconds (0.00 work units)\n",
      "\n",
      "    Nodes    |    Current Node    |     Objective Bounds      |     Work\n",
      " Expl Unexpl |  Obj  Depth IntInf | Incumbent    BestBd   Gap | It/Node Time\n",
      "\n",
      "     0     0 24338.4030    0    3 3355.00000 24338.4030   625%     -    0s\n",
      "H    0     0                    24256.000000 24338.4030  0.34%     -    0s\n",
      "H    0     0                    24304.000000 24338.4030  0.14%     -    0s\n",
      "\n",
      "Cutting planes:\n",
      "  Gomory: 2\n",
      "  MIR: 1\n",
      "\n",
      "Explored 1 nodes (9 simplex iterations) in 0.78 seconds (0.12 work units)\n",
      "Thread count was 16 (of 16 available processors)\n",
      "\n",
      "Solution count 4: 24304 24256 3355 2354 \n",
      "\n",
      "Optimal solution found (tolerance 1.00e-04)\n",
      "Best objective 2.430400000000e+04, best bound 2.430400000000e+04, gap 0.0000%\n",
      "==================================================\n",
      "Objective: 24304.0\n"
     ]
    },
    {
     "data": {
      "image/png": "[encoded data removed]",
      "text/plain": [
       "<Figure size 1000x600 with 1 Axes>"
      ]
     },
     "metadata": {},
     "output_type": "display_data"
    }
   ],
   "source": [
    "main()"
   ]
  },
  {
   "cell_type": "code",
   "execution_count": null,
   "id": "d1bd597d-bb83-4947-aa4d-5c31e28bf93d",
   "metadata": {},
   "outputs": [],
   "source": []
  },
  {
   "cell_type": "code",
   "execution_count": null,
   "id": "e0463c86-b39c-433a-9a49-493021085b4a",
   "metadata": {},
   "outputs": [],
   "source": []
  }
 ],
 "metadata": {
  "kernelspec": {
   "display_name": "Python 3 (ipykernel)",
   "language": "python",
   "name": "python3"
  },
  "language_info": {
   "codemirror_mode": {
    "name": "ipython",
    "version": 3
   },
   "file_extension": ".py",
   "mimetype": "text/x-python",
   "name": "python",
   "nbconvert_exporter": "python",
   "pygments_lexer": "ipython3",
   "version": "3.12.4"
  }
 },
 "nbformat": 4,
 "nbformat_minor": 5
}
