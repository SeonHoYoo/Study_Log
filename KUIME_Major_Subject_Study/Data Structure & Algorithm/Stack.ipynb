{
 "cells": [
  {
   "cell_type": "code",
   "execution_count": 1,
   "id": "37043886-df50-439f-a5f6-4193ae62f9dd",
   "metadata": {},
   "outputs": [
    {
     "name": "stdout",
     "output_type": "stream",
     "text": [
      "Underflow error\n",
      "apple\n",
      "orange\n",
      "cherry\n",
      "['apple', 'orange', 'cherry', None, None]\n",
      "cherry\n",
      "cherry is delete\n",
      "['apple', 'orange', None, None, None]\n"
     ]
    }
   ],
   "source": [
    "def is_empty():\n",
    "    if top == -1:\n",
    "        return True\n",
    "    else:\n",
    "        return False\n",
    "\n",
    "def is_full():\n",
    "    if top == MAX_SIZE - 1:\n",
    "        return True\n",
    "    else:\n",
    "        return False\n",
    "\n",
    "def peek(stack):\n",
    "    if len(stack) != 0:\n",
    "        return stack[top]\n",
    "    else:\n",
    "        empty()\n",
    "\n",
    "def push(stack, item):\n",
    "    global top\n",
    "    if is_full():\n",
    "        print(\"Overflow error\")\n",
    "    else:\n",
    "        top = top + 1\n",
    "        stack[top] = item\n",
    "        print(stack[top])\n",
    "\n",
    "def pop(stack):\n",
    "    global top\n",
    "    if is_empty():\n",
    "        print(\"Underflow error\")\n",
    "    else:\n",
    "        item = stack[top]\n",
    "        stack[top] = None\n",
    "        top -= 1\n",
    "        return item\n",
    "\n",
    "if __name__ == \"__main__\":\n",
    "    MAX_SIZE = 5\n",
    "    me = [None]*MAX_SIZE\n",
    "    top = -1\n",
    "    pop(me)\n",
    "    push(me, 'apple')\n",
    "    push(me, 'orange')\n",
    "    push(me, 'cherry')\n",
    "    print(me)\n",
    "    print(peek(me))\n",
    "    print(f'{pop(me)} is delete')\n",
    "    print(me)"
   ]
  },
  {
   "cell_type": "code",
   "execution_count": 3,
   "id": "ef70b486-b379-4bc9-81d7-f2c7d93e9c65",
   "metadata": {},
   "outputs": [
    {
     "name": "stdout",
     "output_type": "stream",
     "text": [
      "Underflow error\n",
      "['apple', 'orange', 'cherry']\n",
      "cherry\n",
      "cherry is delete\n",
      "['apple', 'orange']\n"
     ]
    }
   ],
   "source": [
    "# Stack 구현에서 리스트 메서드 적용\n",
    "\n",
    "def push(stack, item):\n",
    "    stack.append(item)\n",
    "\n",
    "def pop(stack):\n",
    "    if is_empty(stack):\n",
    "        print(\"Underflow error\")\n",
    "    else:\n",
    "        item = stack.pop()\n",
    "        return item\n",
    "\n",
    "def is_empty(stack):\n",
    "    if len(stack) == 0:\n",
    "        return True\n",
    "    else:\n",
    "        return False\n",
    "\n",
    "def peek(stack):\n",
    "    if len(stack) != 0:\n",
    "        return stack[-1]\n",
    "    else:\n",
    "        print(\"No data\")\n",
    "\n",
    "if __name__ == \"__main__\":\n",
    "    me = []\n",
    "    pop(me)\n",
    "    push(me, 'apple')\n",
    "    push(me, 'orange')\n",
    "    push(me, 'cherry')\n",
    "    print(me)\n",
    "    print(peek(me))\n",
    "    print(f'{pop(me)} is delete')\n",
    "    print(me)"
   ]
  },
  {
   "cell_type": "code",
   "execution_count": 5,
   "id": "bab4ed05-73d0-4621-bbab-a8672dade966",
   "metadata": {},
   "outputs": [
    {
     "name": "stdin",
     "output_type": "stream",
     "text": [
      "input expression >>  ())\n"
     ]
    },
    {
     "name": "stdout",
     "output_type": "stream",
     "text": [
      "[2]\n"
     ]
    }
   ],
   "source": [
    "# 스택의 응용 I - 수식에 사용된 괄호 검사\n",
    "## (, {, [ : 해당 괄호 push\n",
    "## ), }, ] : top 값과 비교\n",
    "\n",
    "def check_bracket(text):\n",
    "    stack = []\n",
    "\n",
    "    for index, letter in enumerate(text):\n",
    "        if letter == '(':\n",
    "            stack.append(index)\n",
    "        elif letter == ')':\n",
    "            if stack:\n",
    "                stack.pop()\n",
    "            else:\n",
    "                stack.append(index)\n",
    "                return stack\n",
    "    return stack\n",
    "\n",
    "if __name__ == '__main__':\n",
    "    exp = input(\"input expression >> \")\n",
    "    print(check_bracket(exp))"
   ]
  },
  {
   "cell_type": "code",
   "execution_count": 7,
   "id": "f8dde54d-dde7-4a41-a3e3-617a28bbf6db",
   "metadata": {},
   "outputs": [
    {
     "name": "stdin",
     "output_type": "stream",
     "text": [
      "input expression >>  ({{)}})]]\n"
     ]
    },
    {
     "name": "stdout",
     "output_type": "stream",
     "text": [
      "False\n"
     ]
    }
   ],
   "source": [
    "def stack_bracket(text):\n",
    "    stack = []\n",
    "    for i in text:\n",
    "        open_brk = '({['\n",
    "        close_brk = ')}]'\n",
    "\n",
    "        if i in open_brk:\n",
    "            stack.append(i)\n",
    "        elif i in close_brk:\n",
    "            if open_brk.find(stack.pop()) != close_brk.find(i):\n",
    "                return False\n",
    "\n",
    "    if not stack:\n",
    "        return True\n",
    "    else:\n",
    "        return False\n",
    "\n",
    "if __name__ == '__main__':\n",
    "    exp = input(\"input expression >> \")\n",
    "    print(stack_bracket(exp))"
   ]
  },
  {
   "cell_type": "markdown",
   "id": "88d0c7af-3f0b-4d04-b092-67e17689b0b6",
   "metadata": {},
   "source": [
    "#### 스택의 응용 II - 스택을 이용한 수식의 계산"
   ]
  },
  {
   "cell_type": "code",
   "execution_count": 10,
   "id": "745d019a-8f91-43fc-8250-45de8589f763",
   "metadata": {},
   "outputs": [
    {
     "name": "stdin",
     "output_type": "stream",
     "text": [
      "enter your expression >>  5*(10+2)%2\n"
     ]
    },
    {
     "name": "stdout",
     "output_type": "stream",
     "text": [
      "5102%2\n"
     ]
    }
   ],
   "source": [
    "# 중위식 -> 후위식으로 변경\n",
    "\n",
    "import stack as s # stack.py로 정의\n",
    "\n",
    "def precedence(op):\n",
    "    if op == '(' or op ==')':\n",
    "        return 0\n",
    "    elif op == '+' or op == '-':\n",
    "        return 1\n",
    "    elif op == '*' or op == '/':\n",
    "        return 2\n",
    "    else:\n",
    "        return -1\n",
    "\n",
    "def mid2post(express):\n",
    "    post_result = []\n",
    "    stack = []\n",
    "    for i in express:\n",
    "        if i == ' ':\n",
    "            continue\n",
    "        if i == '(':\n",
    "            s.push(stack, i)\n",
    "        elif i == ')':\n",
    "            while not s.is_empty(stack):\n",
    "                op = s.pop(stack)\n",
    "                if op == '(':\n",
    "                    break\n",
    "                else:\n",
    "                    post_result.append(op)\n",
    "        elif i in \"+-*/\":\n",
    "            while not s.is_empty(stack):\n",
    "                op = s.peek(stack)\n",
    "                if (precedence(i) <= precedence(op)):\n",
    "                    post_result.append(op)\n",
    "                    stack.pop()\n",
    "                else:\n",
    "                    break\n",
    "                s.push(stack, i)\n",
    "        else:\n",
    "            post_result.append(i)\n",
    "    \n",
    "    while not s.is_empty(stack):\n",
    "        post_result.append(stack.pop(stack))\n",
    "    return post_result\n",
    "\n",
    "if __name__ == \"__main__\":\n",
    "    express = input(\"enter your expression >> \")\n",
    "    print(\"\".join(mid2post(express)))"
   ]
  }
 ],
 "metadata": {
  "kernelspec": {
   "display_name": "Python 3 (ipykernel)",
   "language": "python",
   "name": "python3"
  },
  "language_info": {
   "codemirror_mode": {
    "name": "ipython",
    "version": 3
   },
   "file_extension": ".py",
   "mimetype": "text/x-python",
   "name": "python",
   "nbconvert_exporter": "python",
   "pygments_lexer": "ipython3",
   "version": "3.12.4"
  }
 },
 "nbformat": 4,
 "nbformat_minor": 5
}
