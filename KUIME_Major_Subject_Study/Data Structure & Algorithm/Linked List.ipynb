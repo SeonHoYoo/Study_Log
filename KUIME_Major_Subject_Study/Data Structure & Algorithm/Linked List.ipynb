{
 "cells": [
  {
   "cell_type": "markdown",
   "id": "76aa88b7-1431-49cc-ba5d-1c2570d0d966",
   "metadata": {},
   "source": [
    "#### 단순 연결 리스트"
   ]
  },
  {
   "cell_type": "code",
   "execution_count": 3,
   "id": "23a670c6-0537-4ee7-a2c5-d7cbe631cc28",
   "metadata": {},
   "outputs": [
    {
     "name": "stdout",
     "output_type": "stream",
     "text": [
      "find apple\n"
     ]
    }
   ],
   "source": [
    "class Node:\n",
    "    def __init__(self,val,link):\n",
    "        self.data = val\n",
    "        self.next = link\n",
    "\n",
    "class singleList:\n",
    "    def __init__(self):\n",
    "        self.head = None\n",
    "        self.size = 0\n",
    "\n",
    "    def create(self, data):\n",
    "        self.head = Node(data[0], None)\n",
    "        self.size = len(data)\n",
    "        t = self.head\n",
    "        for i in range(1, len(data)):\n",
    "            s = Node(data[i], None)\n",
    "            t.next = s\n",
    "            t = s\n",
    "\n",
    "    def search(self, val):\n",
    "        p = self.head\n",
    "        for _ in range(self.size):\n",
    "            if p == None:\n",
    "                return f'No Data'\n",
    "            else:\n",
    "                if p.data == val:\n",
    "                    return f'find {val}'\n",
    "            p = p.next\n",
    "        return f'No {val}'\n",
    "\n",
    "if __name__ == \"__main__\":\n",
    "    data = ['apple', 'mango', 'berry', 'pear', 'peach']\n",
    "    s1 = singleList()\n",
    "    s1.create(data)\n",
    "    print(s1.search('apple'))"
   ]
  },
  {
   "cell_type": "markdown",
   "id": "8aaa7d7b-827e-477a-8814-08ff55ad4612",
   "metadata": {},
   "source": [
    "#### 이중 연결리스트"
   ]
  },
  {
   "cell_type": "code",
   "execution_count": 7,
   "id": "4634f640-4f98-4c03-be55-6dfd4972a261",
   "metadata": {},
   "outputs": [
    {
     "name": "stdout",
     "output_type": "stream",
     "text": [
      "apple\n",
      "apple <==> pine\n",
      "apple <==> cherry <==> pine\n",
      "apple <==> pine\n"
     ]
    }
   ],
   "source": [
    "from __future__ import annotations\n",
    "from dataclasses import dataclass\n",
    "\n",
    "@dataclass\n",
    "class Node:\n",
    "    item: str = ''\n",
    "    before: Node = None\n",
    "    after: Node = None\n",
    "\n",
    "class Double:\n",
    "    def __init__(self):\n",
    "        self.head = Node(None, None, None)\n",
    "        self.tail = Node(None, self.head, None)\n",
    "        self.head.after = self.tail\n",
    "        self.size = 0\n",
    "\n",
    "    def isEmpty(self):\n",
    "        return self.size == 0\n",
    "\n",
    "    def insertBefore(self, p, item):\n",
    "        t = p.before\n",
    "        new = Node(item, t, p)\n",
    "        p.before = new\n",
    "        t.after = new\n",
    "        self.size += 1\n",
    "\n",
    "    def insertAfter(self, p, item):\n",
    "        t = p.after\n",
    "        new = Node(item, p, t)\n",
    "        p.after = new\n",
    "        t.before = new\n",
    "        self.size += 1\n",
    "\n",
    "    def delete(self, p):\n",
    "        b = p.before\n",
    "        a = p.after\n",
    "        b.after = a\n",
    "        a.before = b\n",
    "        self.size -= 1\n",
    "        return p.item\n",
    "\n",
    "    def printList(self):\n",
    "        if self.isEmpty():\n",
    "            print(\"List is Empty\")\n",
    "        else:\n",
    "            t = self.head.after\n",
    "            while t != self.tail:\n",
    "                if t.after != self.tail:\n",
    "                    print(t.item, '<==>', end = ' ')\n",
    "                else:\n",
    "                    print(t.item)\n",
    "                t = t.after\n",
    "\n",
    "    def search_item(self, item):\n",
    "        if self.isempty():\n",
    "            print(\"List is Empty\")\n",
    "        else:\n",
    "            p = self.head\n",
    "            for i in range(self.size+1):\n",
    "                if item == p.item:\n",
    "                    return p\n",
    "                p = p.after\n",
    "\n",
    "            return None\n",
    "\n",
    "if __name__ == \"__main__\":\n",
    "    s = Double()\n",
    "    s.insertBefore(s.tail, 'apple')\n",
    "    s.printList()\n",
    "    s.insertBefore(s.tail, 'pine')\n",
    "    s.printList()\n",
    "    s.insertAfter(s.head.after, 'cherry')\n",
    "    s.printList()\n",
    "    s.delete(s.head.after.after)\n",
    "    s.printList()"
   ]
  },
  {
   "cell_type": "markdown",
   "id": "d681c353-57b1-4826-a84e-721ae191d1b3",
   "metadata": {},
   "source": [
    "#### Stack - 단순연결리스트 구현"
   ]
  },
  {
   "cell_type": "code",
   "execution_count": 11,
   "id": "13dd7f4c-25f3-46fa-b02a-acd286adac52",
   "metadata": {},
   "outputs": [
    {
     "name": "stdout",
     "output_type": "stream",
     "text": [
      "top --> \tcherry --> pear --> apple\n",
      "top --> \tpear --> apple\n"
     ]
    }
   ],
   "source": [
    "from __future__ import annotations\n",
    "from dataclasses import dataclass\n",
    "\n",
    "@dataclass\n",
    "class Node:\n",
    "    item: str\n",
    "    before: Node\n",
    "\n",
    "class StackLink:\n",
    "    def __init__(self):\n",
    "        self.top = None\n",
    "        self.size = 0\n",
    "    \n",
    "    def push(self, item):\n",
    "        self.top = Node(item, self.top)\n",
    "        self.size += 1\n",
    "\n",
    "    def pop(self):\n",
    "        if self.size != 0:\n",
    "            temp = self.top.item\n",
    "            self.top = self.top.before\n",
    "            self.size -= 1\n",
    "            return temp\n",
    "\n",
    "    def print_stack(self):\n",
    "        print(f'top --> \\t', end = '')\n",
    "        p = self.top\n",
    "        while p:\n",
    "            if p.before != None:\n",
    "                print(f'{p.item} --> ', end = \"\")\n",
    "            else:\n",
    "                print(f'{p.item}', end = \"\")\n",
    "            p = p.before\n",
    "        print()\n",
    "\n",
    "if __name__ == \"__main__\":\n",
    "    top = StackLink()\n",
    "    top.push(\"apple\")\n",
    "    top.push(\"pear\")\n",
    "    top.push(\"cherry\")\n",
    "    top.print_stack()\n",
    "    top.pop()\n",
    "    top.print_stack()"
   ]
  },
  {
   "cell_type": "markdown",
   "id": "20cc628b-a27e-4222-a32b-64a7016ff1ed",
   "metadata": {},
   "source": [
    "#### Queue - 단순연결리스트 구현"
   ]
  },
  {
   "cell_type": "code",
   "execution_count": 15,
   "id": "7792583f-0a51-449a-a909-d8e266a66f73",
   "metadata": {},
   "outputs": [
    {
     "name": "stdout",
     "output_type": "stream",
     "text": [
      "front: apple -->pear -->cherry :rear\n",
      "apple\n",
      "pear\n",
      "front: cherry :rear\n"
     ]
    }
   ],
   "source": [
    "from dataclasses import dataclass\n",
    "@dataclass\n",
    "class Node:\n",
    "    item :str = \"\"\n",
    "    next :Node = None\n",
    "\n",
    "class QueueLink:\n",
    "    def __init__(self):\n",
    "        self.size = 0\n",
    "        self.front = None\n",
    "        self.rear = None\n",
    "\n",
    "    def enqueue(self, item):\n",
    "        self.np = Node(item, None)\n",
    "        if self.size == 0:\n",
    "            self.front = self.np\n",
    "            self.rear = self.np\n",
    "        else:\n",
    "            self.rear.next = self.np\n",
    "            self.rear = self.np\n",
    "        self.size += 1\n",
    "\n",
    "    def dequeue(self):\n",
    "        if self.size != 0:\n",
    "            delete_item = self.front.item\n",
    "            self.front = self.front.next\n",
    "            self.size -= 1\n",
    "            if self.size == 0:\n",
    "                self.rear = None\n",
    "            return delete_item\n",
    "\n",
    "    def queue_print(self):\n",
    "        p = self.front\n",
    "        print('front: ', end = '')\n",
    "        while p:\n",
    "            if p.next != None:\n",
    "                print(p.item, '-->', end = \"\")\n",
    "            else:\n",
    "                print(p.item, end = \"\")\n",
    "            p = p.next\n",
    "        print(' :rear')\n",
    "\n",
    "if __name__ == \"__main__\":\n",
    "    nq = QueueLink()\n",
    "    nq.enqueue('apple')\n",
    "    nq.enqueue('pear')\n",
    "    nq.enqueue('cherry')\n",
    "    nq.queue_print()\n",
    "    print(nq.dequeue())\n",
    "    print(nq.dequeue())\n",
    "    nq.queue_print()"
   ]
  },
  {
   "cell_type": "code",
   "execution_count": null,
   "id": "a16bdbf0-4256-41b3-9c09-d9ca28f29302",
   "metadata": {},
   "outputs": [],
   "source": []
  }
 ],
 "metadata": {
  "kernelspec": {
   "display_name": "Python 3 (ipykernel)",
   "language": "python",
   "name": "python3"
  },
  "language_info": {
   "codemirror_mode": {
    "name": "ipython",
    "version": 3
   },
   "file_extension": ".py",
   "mimetype": "text/x-python",
   "name": "python",
   "nbconvert_exporter": "python",
   "pygments_lexer": "ipython3",
   "version": "3.12.4"
  }
 },
 "nbformat": 4,
 "nbformat_minor": 5
}
