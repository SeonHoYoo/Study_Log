{
 "cells": [
  {
   "cell_type": "markdown",
   "id": "ef5e526e-3754-4aec-bdc8-95414869a95f",
   "metadata": {},
   "source": [
    "#### circle Queue basic algoritm"
   ]
  },
  {
   "cell_type": "code",
   "execution_count": 3,
   "id": "e39907c4-bb40-4094-a267-a4a139c55641",
   "metadata": {},
   "outputs": [
    {
     "name": "stdout",
     "output_type": "stream",
     "text": [
      "[None, 'A', 'B', 'C', 'D'] 4 0\n",
      "[None, None, 'B', 'C', 'D'] 4 1\n",
      "Queue is Full\n",
      "['E', None, 'B', 'C', 'D'] 0 1\n",
      "['E', 'F', None, 'C', 'D'] 1 2\n"
     ]
    }
   ],
   "source": [
    "def enqueue(q, v):\n",
    "    global rear\n",
    "    global MAX\n",
    "    if full():\n",
    "        rear = (rear+1)%MAX\n",
    "        q[rear] = v\n",
    "\n",
    "def dequeue(q):\n",
    "    global front\n",
    "    global MAX\n",
    "    if empty():\n",
    "        front = (front+1)%MAX\n",
    "        q[front] = None\n",
    "\n",
    "def empty():\n",
    "    global rear\n",
    "    global front\n",
    "    if rear != front:\n",
    "        return True\n",
    "    else:\n",
    "        print(\"Queue is Empty\")\n",
    "        return False\n",
    "\n",
    "def full():\n",
    "    global rear\n",
    "    global front\n",
    "    if front%MAX != (rear+1)%MAX:\n",
    "        return True\n",
    "    else:\n",
    "        print(\"Queue is Full\")\n",
    "        return False\n",
    "\n",
    "if __name__ == \"__main__\":\n",
    "    MAX = 5\n",
    "    main_q = [None]*MAX\n",
    "\n",
    "    rear, front = 0,0\n",
    "    enqueue(main_q, 'A')\n",
    "    enqueue(main_q, 'B')\n",
    "    enqueue(main_q, 'C')\n",
    "    enqueue(main_q, 'D')\n",
    "    print(main_q, rear, front)\n",
    "    dequeue(main_q)\n",
    "    print(main_q, rear, front)\n",
    "    enqueue(main_q, 'E')\n",
    "    enqueue(main_q, 'F')\n",
    "    print(main_q, rear, front)\n",
    "    dequeue(main_q)\n",
    "    enqueue(main_q, 'F')\n",
    "    print(main_q, rear, front)"
   ]
  },
  {
   "cell_type": "markdown",
   "id": "66446ddb-37a2-452e-bbe5-54b526c2fde4",
   "metadata": {},
   "source": [
    "#### Class(circle Queue 기반)"
   ]
  },
  {
   "cell_type": "code",
   "execution_count": 7,
   "id": "2ff8e8d0-a5a5-49eb-b98d-5effbfce18b2",
   "metadata": {},
   "outputs": [
    {
     "name": "stdin",
     "output_type": "stream",
     "text": [
      "enter size of circle queue >> 5\n"
     ]
    },
    {
     "name": "stdout",
     "output_type": "stream",
     "text": [
      "[None, None, None, 40, None]\n",
      "front: 2, rear: 3\n"
     ]
    }
   ],
   "source": [
    "class CircleQ:\n",
    "    def __init__(self, size):\n",
    "        self.size = size\n",
    "        self.data = [None]*size\n",
    "        self.front = 0\n",
    "        self.rear = 0\n",
    "\n",
    "    def isFull(self):\n",
    "        return self.front == (self.rear + 1)%self.size\n",
    "\n",
    "    def isEmpty(self):\n",
    "        return self.front == self.rear\n",
    "\n",
    "    def clear(self):\n",
    "        self.front == self.rear\n",
    "\n",
    "    def enqueue(self, value):\n",
    "        if not self.isFull():\n",
    "            self.rear = (self.rear+1)%self.size\n",
    "            self.data[self.rear] = value\n",
    "\n",
    "    def dequeue(self):\n",
    "        if not self.isEmpty():\n",
    "            self.front = (self.front+1)%self.size\n",
    "            self.data[self.front] = None\n",
    "\n",
    "    def peek(self):\n",
    "        if not self.isEmpty():\n",
    "            return self.data[(self.front+1)%self.size]\n",
    "\n",
    "    def display(self):\n",
    "        print(self.data)\n",
    "\n",
    "    def main():\n",
    "        size = int(input('enter size of circle queue >>'))\n",
    "        circleq1 = CircleQ(size)\n",
    "        circleq1.enqueue(1)\n",
    "        circleq1.enqueue(10)\n",
    "        circleq1.dequeue()\n",
    "        circleq1.dequeue()\n",
    "        circleq1.enqueue(40)\n",
    "        circleq1.display()\n",
    "        print(f'front: {circleq1.front}, rear: {circleq1.rear}')\n",
    "\n",
    "if __name__ == \"__main__\":\n",
    "    CircleQ.main()"
   ]
  },
  {
   "cell_type": "markdown",
   "id": "d9aed591-da5f-4abc-8027-06cb53619bbc",
   "metadata": {},
   "source": [
    "#### Queue 패키지 이용"
   ]
  },
  {
   "cell_type": "code",
   "execution_count": 11,
   "id": "f8dd68a9-2896-46f8-9641-9afb6499b9af",
   "metadata": {},
   "outputs": [
    {
     "name": "stdout",
     "output_type": "stream",
     "text": [
      "10\n",
      "myQ size :: 2\n",
      "Queue: 20 Queue: 30 Queue: 1 Queue: 2 Queue: 3 Queue: 4 Queue: 5 Queue: 6 \n"
     ]
    }
   ],
   "source": [
    "import queue\n",
    "\n",
    "myQ = queue.Queue(maxsize = 8)\n",
    "myQ.put(10)\n",
    "myQ.put(20)\n",
    "myQ.put(30)\n",
    "print(f'{myQ.get()}')\n",
    "print(f'myQ size :: {myQ.qsize()}')\n",
    "\n",
    "for i in range(1, 15):\n",
    "    if not myQ.full():\n",
    "        myQ.put(i)\n",
    "for _ in range(1, 10):\n",
    "    if not myQ.empty():\n",
    "        print(f'Queue: {myQ.get()}', end = ' ')\n",
    "print()"
   ]
  },
  {
   "cell_type": "markdown",
   "id": "64b33053-d8c5-4490-996d-df76a3eb4ec2",
   "metadata": {},
   "source": [
    "#### DEQUE CLASS로 구현"
   ]
  },
  {
   "cell_type": "code",
   "execution_count": 15,
   "id": "f568c2ff-736d-46af-b81d-472bf9a9f1c9",
   "metadata": {},
   "outputs": [
    {
     "name": "stdout",
     "output_type": "stream",
     "text": [
      "6, 4\n",
      "[100, 10, 20, 30, 40, None, None, 200]\n"
     ]
    }
   ],
   "source": [
    "class CirculeDeque(CircleQ):\n",
    "    def __init__(self, size):\n",
    "        super().__init__(size)\n",
    "\n",
    "    def add_rear(self, data):\n",
    "        self.enqueue(data)\n",
    "    def delete_front(self):\n",
    "        self.dequeue()\n",
    "\n",
    "    def delete_rear(self):\n",
    "        if self.isEmpty():\n",
    "            return print(f\"You can't delete\")\n",
    "        else:\n",
    "            temp = self.data[self.rear]\n",
    "            self.data[self.rear] = None\n",
    "            self.rear = (self.rear - 1 + self.size)%self.size\n",
    "        return temp\n",
    "\n",
    "    def add_front(self, data):\n",
    "        if self.isFull():\n",
    "            return print(f\"You can't enter\")\n",
    "        else:\n",
    "            self.data[self.front] = data\n",
    "            self.front = (self.front - 1 + self.size)%self.size\n",
    "\n",
    "if __name__ == \"__main__\":\n",
    "    deq1 = CirculeDeque(8)\n",
    "    temp = 10\n",
    "    for i in range(5):\n",
    "        deq1.add_rear(temp)\n",
    "        temp += 10\n",
    "    deq1.delete_rear()\n",
    "    deq1.add_front(100)\n",
    "    deq1.add_front(200)\n",
    "    print(f'{deq1.front}, {deq1.rear}')\n",
    "    print(deq1.data)"
   ]
  },
  {
   "cell_type": "markdown",
   "id": "f6a90cae-169c-47a1-9d0c-21834f3741b6",
   "metadata": {},
   "source": [
    "#### Collections 패키지의 deque 모듈로 구현"
   ]
  },
  {
   "cell_type": "code",
   "execution_count": 19,
   "id": "0b926fc9-9898-4423-bfae-ab9457034711",
   "metadata": {},
   "outputs": [
    {
     "name": "stdout",
     "output_type": "stream",
     "text": [
      "\n",
      "deque([['berry', 'banana'], 'pear', 'apple'])\n",
      "deque(['pear'])\n",
      "deque(['pear', 'cherry', 'mango'])\n"
     ]
    }
   ],
   "source": [
    "from collections import deque\n",
    "\n",
    "dq = deque()\n",
    "print()\n",
    "item = ['berry', 'banana']\n",
    "dq.append('apple')\n",
    "dq.appendleft('pear')\n",
    "dq.appendleft(item)\n",
    "print(dq)\n",
    "dq.pop()\n",
    "dq.popleft()\n",
    "print(dq)\n",
    "item = ['cherry', 'mango']\n",
    "dq.extend(item)\n",
    "print(dq)"
   ]
  },
  {
   "cell_type": "markdown",
   "id": "1b15d4d7-be63-49a4-8d0c-eec9edaad2db",
   "metadata": {},
   "source": [
    "#### 우선순위 큐의 핵심 코드 - 리스트 사용"
   ]
  },
  {
   "cell_type": "code",
   "execution_count": 23,
   "id": "8a35bee5-eb7b-458b-a0c2-b822d2cb89de",
   "metadata": {},
   "outputs": [],
   "source": [
    "class PriorityQueue:\n",
    "    def __init__(self, capa):\n",
    "        self.capa = capa\n",
    "        self.data = [None]*capa\n",
    "        self.size = 0\n",
    "\n",
    "    def findMaxPriority(self):\n",
    "        if self.isEmpty():\n",
    "            return -1\n",
    "        priority = 0\n",
    "        for i in range(1, self.size):\n",
    "            if self.data[i] > self.data[priority]:\n",
    "                priority = i\n",
    "        return priority\n",
    "\n",
    "    def dequeue(self):\n",
    "        priority = self.findMaxPriority()\n",
    "        if priority != -1:\n",
    "            self.size -= 1\n",
    "            self.data[priority], self.data[self.size-1] = self.data[self.size-1], self.data[priority]\n",
    "            return self.data[self.size-1]"
   ]
  },
  {
   "cell_type": "markdown",
   "id": "ec3607ad-716c-4202-9509-79b8dcc782c6",
   "metadata": {},
   "source": [
    "#### 우선순위 큐 코드 - queue 모듈에 있는 PriorityQueue 클래스 사용"
   ]
  },
  {
   "cell_type": "code",
   "execution_count": 27,
   "id": "eb62f952-c071-4f6f-9296-c0bcd53aed7b",
   "metadata": {},
   "outputs": [
    {
     "name": "stdout",
     "output_type": "stream",
     "text": [
      "3  7  10  40  "
     ]
    }
   ],
   "source": [
    "# 기본적으로 오름순위의 우선순위를 가짐(가장 작은 값이 우선순위를 가짐)\n",
    "from queue import PriorityQueue\n",
    "\n",
    "q = PriorityQueue(maxsize = 5)\n",
    "q.put(10)\n",
    "q.put(3)\n",
    "q.put(40)\n",
    "q.put(7)\n",
    "\n",
    "for i in range(q.qsize()):\n",
    "    print(q.get(), end = '  ')"
   ]
  },
  {
   "cell_type": "code",
   "execution_count": 29,
   "id": "75f09983-bdb7-43c2-8e81-3529f98bce5e",
   "metadata": {},
   "outputs": [
    {
     "name": "stdout",
     "output_type": "stream",
     "text": [
      "40  10  7  3  "
     ]
    }
   ],
   "source": [
    "# 최댓값을 먼저 처리하고 싶다면?\n",
    "from queue import PriorityQueue\n",
    "\n",
    "q = PriorityQueue(maxsize = 5)\n",
    "q.put((-10,10))\n",
    "q.put((-3,3))\n",
    "q.put((-40,40))\n",
    "q.put((-7,7))\n",
    "\n",
    "for i in range(q.qsize()):\n",
    "    print(q.get()[1], end = '  ')"
   ]
  },
  {
   "cell_type": "code",
   "execution_count": null,
   "id": "d2ea9c62-1de7-447a-b81f-712d4b079992",
   "metadata": {},
   "outputs": [],
   "source": []
  }
 ],
 "metadata": {
  "kernelspec": {
   "display_name": "Python 3 (ipykernel)",
   "language": "python",
   "name": "python3"
  },
  "language_info": {
   "codemirror_mode": {
    "name": "ipython",
    "version": 3
   },
   "file_extension": ".py",
   "mimetype": "text/x-python",
   "name": "python",
   "nbconvert_exporter": "python",
   "pygments_lexer": "ipython3",
   "version": "3.12.4"
  }
 },
 "nbformat": 4,
 "nbformat_minor": 5
}
