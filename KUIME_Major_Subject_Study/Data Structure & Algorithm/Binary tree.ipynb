{
 "cells": [
  {
   "cell_type": "markdown",
   "id": "944bd7ee-acf0-4f64-a645-7e903a98ff1b",
   "metadata": {},
   "source": [
    "### 배열을 이용한 이진 트리 생성"
   ]
  },
  {
   "cell_type": "code",
   "execution_count": 3,
   "id": "7efa7b99-a22c-4a64-a130-28792723fbf3",
   "metadata": {},
   "outputs": [
    {
     "data": {
      "text/plain": [
       "[None, 'A', 'B', 'C', 'D', 'E']"
      ]
     },
     "execution_count": 3,
     "metadata": {},
     "output_type": "execute_result"
    }
   ],
   "source": [
    "bt = [None]*1\n",
    "\n",
    "bt.append('A')\n",
    "bt.append('B')\n",
    "bt.append('C')\n",
    "bt.append('D')\n",
    "bt.append('E')\n",
    "\n",
    "bt"
   ]
  },
  {
   "cell_type": "code",
   "execution_count": 6,
   "id": "7724ea2f-e702-4552-95a0-91686dcf8669",
   "metadata": {},
   "outputs": [
    {
     "data": {
      "text/plain": [
       "[None,\n",
       " [90, 'watermelon'],\n",
       " [80, 'pear'],\n",
       " [70, 'melon'],\n",
       " [50, 'lime'],\n",
       " [60, 'mango']]"
      ]
     },
     "execution_count": 6,
     "metadata": {},
     "output_type": "execute_result"
    }
   ],
   "source": [
    "bt = [None]*1\n",
    "\n",
    "bt.append([90, 'watermelon'])\n",
    "bt.append([80, 'pear'])\n",
    "bt.append([70, 'melon'])\n",
    "bt.append([50, 'lime'])\n",
    "bt.append([60, 'mango'])\n",
    "\n",
    "bt"
   ]
  },
  {
   "cell_type": "markdown",
   "id": "0bb4d26e-d203-42e2-b6d1-75128d4ae77c",
   "metadata": {},
   "source": [
    "### 연결 링크를 이용한 이진 트리 구현"
   ]
  },
  {
   "cell_type": "code",
   "execution_count": 12,
   "id": "68a3189c-3bc9-4d99-b6a5-6a340356462d",
   "metadata": {},
   "outputs": [],
   "source": [
    "class Node:\n",
    "    def __init__(self, item, left = None, right = None):\n",
    "        self.item = item\n",
    "        self.left = left\n",
    "        self.right = right\n",
    "\n",
    "class BinaryTree:\n",
    "    def __init__(self):\n",
    "        self.root = None\n",
    "\n",
    "if __name__ == '__main__':\n",
    "    t = BinaryTree()\n",
    "    a = Node(100)\n",
    "    b = Node(200)\n",
    "    c = Node(300)\n",
    "    d = Node(400)\n",
    "    e = Node(500)\n",
    "    t.root = a\n",
    "    a.left = b\n",
    "    a.right = c\n",
    "    b.left = d\n",
    "    b.right = e"
   ]
  },
  {
   "cell_type": "code",
   "execution_count": 21,
   "id": "a53f0768-dc5c-4223-97a4-4fe303a445aa",
   "metadata": {},
   "outputs": [
    {
     "data": {
      "text/plain": [
       "<__main__.BinaryTree at 0x1c6d6fe8e60>"
      ]
     },
     "execution_count": 21,
     "metadata": {},
     "output_type": "execute_result"
    }
   ],
   "source": [
    "class Node:\n",
    "    def __init__(self, item, left = None, right = None):\n",
    "        self.item = item\n",
    "        self.left = left\n",
    "        self.right = right\n",
    "\n",
    "class BinaryTree:\n",
    "    def __init__(self):\n",
    "        self.root = None\n",
    "        \n",
    "    def make_tree(self, node, left, right):\n",
    "        if self.root == None:\n",
    "            self.root = node\n",
    "        node.left = left\n",
    "        node.right = right\n",
    "\n",
    "if __name__ == '__main__':\n",
    "    tree1 = BinaryTree()\n",
    "    value = [100, 200, 300, 400, 500, None, None]\n",
    "    n = []\n",
    "    for i in value:\n",
    "        n.append(Node(i))\n",
    "\n",
    "    for i in range(len(value)//2):\n",
    "        tree1.make_tree(n[i], n[2*i+1], n[i*2+2])"
   ]
  },
  {
   "cell_type": "markdown",
   "id": "0500c68f-8dec-4162-aa72-2185e4ee6cbd",
   "metadata": {},
   "source": [
    "### 이진트리 전위순회"
   ]
  },
  {
   "cell_type": "code",
   "execution_count": 28,
   "id": "f92eccdd-9eb3-4d90-a94e-284194e360f6",
   "metadata": {},
   "outputs": [],
   "source": [
    "class Node:\n",
    "    def __init__(self, item, left = None, right = None):\n",
    "        self.item = item\n",
    "        self.left = left\n",
    "        self.right = right\n",
    "\n",
    "class BinaryTree:\n",
    "    def __init__(self):\n",
    "        self.root = None\n",
    "        \n",
    "    def make_tree(self, node, left, right):\n",
    "        if self.root == None:\n",
    "            self.root = node\n",
    "        node.left = left\n",
    "        node.right = right\n",
    "\n",
    "class Traversal(BinaryTree):\n",
    "    def __init__(self):\n",
    "        super().__init__()\n",
    "    def preorder(self, n):\n",
    "        if n.item != None:\n",
    "            print(str(n.item), ' ', end = '')\n",
    "            if n.left:\n",
    "                self.preorder(n.left)\n",
    "            if n.right:\n",
    "                self.preorder(n.right)\n",
    "\n",
    "    ## inorder, postorder, levelorder 메소드 추가\n",
    "    def height(self, root):\n",
    "        if root == None:\n",
    "            return 0\n",
    "        return max(self.height(root.left), self.height(root.right))+1"
   ]
  },
  {
   "cell_type": "code",
   "execution_count": 32,
   "id": "2f5e1612-7760-48ae-a877-ec3246a8e484",
   "metadata": {},
   "outputs": [
    {
     "name": "stdout",
     "output_type": "stream",
     "text": [
      "tree height:: 1\n",
      "tree Preorder\n",
      "A  "
     ]
    }
   ],
   "source": [
    "if __name__ == \"__main__\":\n",
    "    t = Traversal()\n",
    "    value = ['A', 'B', 'C', 'D', 'E', None, 'F', 'G', 'H', None, None, None, None, 'I', None]\n",
    "\n",
    "    n = []\n",
    "    for i in value:\n",
    "        n.append(Node(i))\n",
    "\n",
    "    for i in range(1, len(n)//2):\n",
    "        if 2*i + 2 <= len(value)-1:\n",
    "            t.make_tree(n[i], n[i*2+1], n[i*2+2])\n",
    "        else:\n",
    "            t.make_tree(n[i], n[i*2+1], None)\n",
    "    t.root = n[0]\n",
    "\n",
    "    print(f'tree height:: {t.height(t.root)}')\n",
    "    print(f'tree Preorder')\n",
    "    t.preorder(t.root)"
   ]
  },
  {
   "cell_type": "markdown",
   "id": "49109559-e2a8-470c-8990-f7939d81556e",
   "metadata": {},
   "source": [
    "### 이진트리 중위순회"
   ]
  },
  {
   "cell_type": "code",
   "execution_count": 36,
   "id": "4f348a1f-cecb-425e-86c5-120d5bc21c1c",
   "metadata": {},
   "outputs": [],
   "source": [
    "def inorder(self, n):\n",
    "    if n.item != None:\n",
    "        if n.left:\n",
    "            self.inorder(n.left)\n",
    "        print(str(n.item), ' ', end='')\n",
    "\n",
    "        if n.right:\n",
    "            self.inorder(n.right)\n",
    "\n",
    "def inorder1(self, n):\n",
    "    if n is not None:\n",
    "        self.inorder1(n.left)\n",
    "        print(f'{n.item} ', end = '')\n",
    "        self.inorder1(n.right)"
   ]
  },
  {
   "cell_type": "markdown",
   "id": "4a910aad-7d1c-4aa8-b2ea-2095530c82d5",
   "metadata": {},
   "source": [
    "### 이진트리 층별순회"
   ]
  },
  {
   "cell_type": "code",
   "execution_count": 40,
   "id": "82884972-8d50-4759-838b-8e609fde1388",
   "metadata": {},
   "outputs": [],
   "source": [
    "def levelorder(self, n):\n",
    "    q = []\n",
    "    q.append(n)\n",
    "    while len(q) != 0:\n",
    "        t = q.pop(0)\n",
    "        if t.item != None:\n",
    "            print(str(t.item), ' ', end = '')\n",
    "        if t.left != None:\n",
    "            q.append(t.left)\n",
    "        if t.right != None:\n",
    "            q.append(t.right)"
   ]
  },
  {
   "cell_type": "code",
   "execution_count": 42,
   "id": "fdb838c4-b68a-47e1-88f7-dd0a56576e8e",
   "metadata": {},
   "outputs": [],
   "source": [
    "from collections import deque\n",
    "\n",
    "def levelorder(self, n):\n",
    "    queue = deque([n])\n",
    "    while queue:\n",
    "        n = queue.popleft()\n",
    "        if n.item != None:\n",
    "            print(str(n.item), ' ', end = '')\n",
    "        if n.left != None:\n",
    "            queue.append(n.left)\n",
    "        if n.right != None:\n",
    "            queue.append(n.right)"
   ]
  },
  {
   "cell_type": "code",
   "execution_count": 46,
   "id": "5f0b401b-813c-403f-b151-cee8eef00781",
   "metadata": {},
   "outputs": [],
   "source": [
    "### 수식 트리 작성"
   ]
  },
  {
   "cell_type": "code",
   "execution_count": 48,
   "id": "991c0025-cc41-47df-93c3-3b588dfd5e71",
   "metadata": {},
   "outputs": [
    {
     "name": "stdout",
     "output_type": "stream",
     "text": [
      "3  *  2\n",
      "5  /  6\n",
      "*  +  /\n",
      "중위 표현의 수식\n",
      "\n",
      "3 * 2 + 5 / 6 "
     ]
    }
   ],
   "source": [
    "class Node:\n",
    "    def __init__(self, value, left, right):\n",
    "        self.value = value\n",
    "        self.left = left\n",
    "        self.right = right\n",
    "\n",
    "def isOperator(c):\n",
    "    if (c == '+' or c == '-' or c == '*' or c == '/'):\n",
    "        return True\n",
    "    else:\n",
    "        return False\n",
    "\n",
    "def inorder(t):\n",
    "    if t is not None:\n",
    "        inorder(t.left)\n",
    "        print(f'{t.value} ', end ='')\n",
    "        inorder(t.right)\n",
    "\n",
    "def constructTree(postfix):\n",
    "    stack = []\n",
    "    # Traverse through every character\n",
    "    for char in postfix:\n",
    "\n",
    "        # if operand, simply push into stack\n",
    "        # leaf noad 생성\n",
    "        if not isOperator(char):\n",
    "            t = Node(char, None, None)\n",
    "            stack.append(t)\n",
    "\n",
    "        # Operator\n",
    "        else:\n",
    "            # Pop two top nodes and make them children\n",
    "            t1 = stack.pop()\n",
    "            t2 = stack.pop()\n",
    "            t = Node(char, t2, t1)\n",
    "\n",
    "            stack.append(t)\n",
    "            print(t.left.value, '', t.value, '', t.right.value)\n",
    "\n",
    "    t = stack.pop()\n",
    "    return t\n",
    "\n",
    "if __name__ == \"__main__\":\n",
    "    postfix = \"32*56/+\"\n",
    "    expressT = constructTree(postfix)\n",
    "    print(\"중위 표현의 수식\\n\")\n",
    "    inorder(expressT)"
   ]
  },
  {
   "cell_type": "code",
   "execution_count": null,
   "id": "ba4bb548-8129-4e47-87ed-3b94e472f70f",
   "metadata": {},
   "outputs": [],
   "source": []
  }
 ],
 "metadata": {
  "kernelspec": {
   "display_name": "Python 3 (ipykernel)",
   "language": "python",
   "name": "python3"
  },
  "language_info": {
   "codemirror_mode": {
    "name": "ipython",
    "version": 3
   },
   "file_extension": ".py",
   "mimetype": "text/x-python",
   "name": "python",
   "nbconvert_exporter": "python",
   "pygments_lexer": "ipython3",
   "version": "3.12.4"
  }
 },
 "nbformat": 4,
 "nbformat_minor": 5
}
