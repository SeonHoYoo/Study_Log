{
 "cells": [
  {
   "cell_type": "code",
   "execution_count": 1,
   "id": "dfa974a1-8e1d-4e6c-b7ba-733b7e9c254f",
   "metadata": {},
   "outputs": [
    {
     "name": "stdout",
     "output_type": "stream",
     "text": [
      "[2, 3, 10, 4, 5, 2, 20]\n",
      "delete data = 10, [2, 3, 4, 5, 2, 20, None]\n"
     ]
    }
   ],
   "source": [
    "# 정적리스트(배열의 개수 고정) : 배열구조 - 삽입, 삭제\n",
    "def insertf(data: list, item: int, p: int):\n",
    "    global count\n",
    "    if count == 0 or count >= N:\n",
    "        raise IndexError(\"Index is none or Index is over\")\n",
    "    elif p >= 0 and p < count:\n",
    "        for i in range(count, p, -1):\n",
    "            data[i] = data[i-1]\n",
    "    data[p] = item\n",
    "    count += 1\n",
    "\n",
    "def deletf(data: list, p: int) -> int:\n",
    "    global count\n",
    "    if count == 0 or p < 0 or p >= count:\n",
    "        raise IndexError(\"data is empty or position is wrong\")\n",
    "    else:\n",
    "        temp = data[p]\n",
    "        for i in range(p, count-1):\n",
    "            data[i] = data[i+1]\n",
    "        data[count-1] = None\n",
    "        count -= 1\n",
    "    return temp\n",
    "\n",
    "if __name__ == \"__main__\":\n",
    "    N = 7\n",
    "    count = 0 # count는 배열의 사이즈\n",
    "    data = [2,3,4,5,2,None,None]\n",
    "    for i in data:\n",
    "        if i is not None:\n",
    "            count += 1\n",
    "            \n",
    "    insertf(data, 10, 2)\n",
    "    insertf(data, 20, 6)\n",
    "    print(data)\n",
    "    temp = deletf(data, 2)\n",
    "    print(f'delete data = {temp}, {data}')"
   ]
  },
  {
   "cell_type": "code",
   "execution_count": 3,
   "id": "e847752b-9e3f-4dde-9b39-25bbb84a3a4c",
   "metadata": {},
   "outputs": [
    {
     "name": "stdout",
     "output_type": "stream",
     "text": [
      "max profit:: 13\n"
     ]
    }
   ],
   "source": [
    "# 리스트 활용 예제 - 주식의 최대 이윤 구하기\n",
    "\n",
    "import sys\n",
    "\n",
    "def stock_profit(prices: list[int]) -> int:\n",
    "    max_profit = -100\n",
    "    min_price = sys.maxsize\n",
    "    for var in prices:\n",
    "        min_price = min(min_price, var)\n",
    "        max_profit = max(max_profit, var - min_price)\n",
    "    return max_profit\n",
    "\n",
    "prices = [7,5,3,6,4,10,8,9,16,2]\n",
    "print(f'max profit:: {stock_profit(prices)}')"
   ]
  },
  {
   "cell_type": "code",
   "execution_count": 4,
   "id": "e5be112c-4899-4c6b-95ab-6b4b477232fa",
   "metadata": {},
   "outputs": [
    {
     "name": "stdout",
     "output_type": "stream",
     "text": [
      "주식 산 금액:  3    주식 판 금액: 16\n",
      "max profit:: 13\n"
     ]
    }
   ],
   "source": [
    "import sys\n",
    "\n",
    "def stock_profit(prices: list[int]) -> int:\n",
    "    max_profit = -100\n",
    "    min_price = sys.maxsize\n",
    "    for i, var in enumerate(prices):\n",
    "        if max_profit < (var - min_price):\n",
    "            top = i\n",
    "            end = min(prices[:top])\n",
    "        min_price = min(min_price, var)\n",
    "        max_profit = max(max_profit, var - min_price)\n",
    "\n",
    "    print('주식 산 금액: ', end, '   주식 판 금액:', prices[top])\n",
    "    return max_profit\n",
    "\n",
    "prices = [7,5,3,6,4,10,8,9,16,2]\n",
    "print(f'max profit:: {stock_profit(prices)}')"
   ]
  }
 ],
 "metadata": {
  "kernelspec": {
   "display_name": "Python 3 (ipykernel)",
   "language": "python",
   "name": "python3"
  },
  "language_info": {
   "codemirror_mode": {
    "name": "ipython",
    "version": 3
   },
   "file_extension": ".py",
   "mimetype": "text/x-python",
   "name": "python",
   "nbconvert_exporter": "python",
   "pygments_lexer": "ipython3",
   "version": "3.12.4"
  }
 },
 "nbformat": 4,
 "nbformat_minor": 5
}
