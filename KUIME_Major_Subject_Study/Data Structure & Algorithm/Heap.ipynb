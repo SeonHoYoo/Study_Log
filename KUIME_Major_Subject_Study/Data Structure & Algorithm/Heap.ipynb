{
 "cells": [
  {
   "cell_type": "markdown",
   "id": "25fe206e-ce40-45d9-864b-c3cc7add3f48",
   "metadata": {},
   "source": [
    "### 최대 힙"
   ]
  },
  {
   "cell_type": "code",
   "execution_count": 12,
   "id": "c25e1b47-35b5-4367-b605-cf84361fa459",
   "metadata": {},
   "outputs": [],
   "source": [
    "class MAXHeap:\n",
    "    def __init__(self, args):\n",
    "        if len(args) != 0:\n",
    "            self._heap = args\n",
    "        else:\n",
    "            self._heap = []\n",
    "\n",
    "    def makeHeap(self):\n",
    "        for i in range((len(self._heap)-1)//2, 0, -1):\n",
    "            self._heapDown(i)\n",
    "\n",
    "    def _heapUp(self, child):\n",
    "        parent = child // 2\n",
    "        if child > 1 and self._heap[child] > self._heap[parent]:\n",
    "            self._heap[child], self._heap[parent] = self._heap[parent], self._heap[child]\n",
    "            self._heapUp(parent)\n",
    "\n",
    "    def insert(self, val):\n",
    "        self._heap.append(val)\n",
    "        self._heapUp(len(self._heap)-1)\n",
    "\n",
    "    def delete(self):\n",
    "        if len(self._heap)-1 != 0:\n",
    "            max_val = self._heap[1]\n",
    "            if len(self._heap) > 2:\n",
    "                self._heap[1] = self._heap.pop()\n",
    "                self._heapDown(1)\n",
    "            else:\n",
    "                self._heap.pop()\n",
    "            return max_val\n",
    "        else:\n",
    "            return None\n",
    "\n",
    "    def _heapDown(self, parent):\n",
    "        child = parent*2\n",
    "        right = parent*2 + 1\n",
    "        if child <= len(self._heap)-1:\n",
    "            if right <= len(self._heap)-1 and self._heap[child] < self._heap[right]:\n",
    "                child = right\n",
    "            if self._heap[parent] < self._heap[child]:\n",
    "                self._heap[child], self._heap[parent] = self._heap[parent], self._heap[child]\n",
    "                self._heapDown(child)\n",
    "\n",
    "    def print_heap(self):\n",
    "        for i in range(1, len(self._heap)):\n",
    "            print(f'{self._heap[i]:5d}', end = '')\n",
    "\n",
    "    def clear(self):\n",
    "        self._heap = [None]"
   ]
  },
  {
   "cell_type": "code",
   "execution_count": 14,
   "id": "fe6cd0cd-34ea-40df-9278-dd2f61a26929",
   "metadata": {},
   "outputs": [
    {
     "name": "stdout",
     "output_type": "stream",
     "text": [
      "   20    8   10    3    5\n",
      "   10    5    7    3\n",
      "    7    5    3"
     ]
    }
   ],
   "source": [
    "if __name__ == \"__main__\":\n",
    "    heap1 = MAXHeap([None, 5, 3, 10, 20, 8])\n",
    "    heap1.makeHeap()\n",
    "    heap1.print_heap()\n",
    "    heap1.clear()\n",
    "    heap1.insert(7)\n",
    "    heap1.insert(5)\n",
    "    heap1.insert(10)\n",
    "    heap1.insert(3)\n",
    "    print()\n",
    "    heap1.print_heap()\n",
    "    heap1.delete()\n",
    "    print()\n",
    "    heap1.print_heap()"
   ]
  },
  {
   "cell_type": "code",
   "execution_count": null,
   "id": "a8ef3723-b882-4df6-a62a-0c42a8f47e14",
   "metadata": {},
   "outputs": [],
   "source": []
  }
 ],
 "metadata": {
  "kernelspec": {
   "display_name": "Python 3 (ipykernel)",
   "language": "python",
   "name": "python3"
  },
  "language_info": {
   "codemirror_mode": {
    "name": "ipython",
    "version": 3
   },
   "file_extension": ".py",
   "mimetype": "text/x-python",
   "name": "python",
   "nbconvert_exporter": "python",
   "pygments_lexer": "ipython3",
   "version": "3.12.4"
  }
 },
 "nbformat": 4,
 "nbformat_minor": 5
}
