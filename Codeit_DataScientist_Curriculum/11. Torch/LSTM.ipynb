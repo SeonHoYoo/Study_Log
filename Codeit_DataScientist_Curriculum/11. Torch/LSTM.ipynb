{
  "nbformat": 4,
  "nbformat_minor": 0,
  "metadata": {
    "colab": {
      "provenance": [],
      "gpuType": "T4"
    },
    "kernelspec": {
      "name": "python3",
      "display_name": "Python 3"
    },
    "language_info": {
      "name": "python"
    },
    "accelerator": "GPU"
  },
  "cells": [
    {
      "cell_type": "code",
      "execution_count": null,
      "metadata": {
        "colab": {
          "base_uri": "https://localhost:8080/"
        },
        "id": "vlKCbQUZVeQZ",
        "outputId": "9aab31db-6c79-4fbc-becb-d49158e01bc5"
      },
      "outputs": [
        {
          "output_type": "stream",
          "name": "stdout",
          "text": [
            "--2024-12-13 09:26:43--  https://storage.googleapis.com/tensorflow/tf-keras-datasets/jena_climate_2009_2016.csv.zip\n",
            "Resolving storage.googleapis.com (storage.googleapis.com)... 74.125.200.207, 74.125.130.207, 74.125.68.207, ...\n",
            "Connecting to storage.googleapis.com (storage.googleapis.com)|74.125.200.207|:443... connected.\n",
            "HTTP request sent, awaiting response... 200 OK\n",
            "Length: 13568290 (13M) [application/zip]\n",
            "Saving to: ‘jena_climate_2009_2016.csv.zip’\n",
            "\n",
            "jena_climate_2009_2 100%[===================>]  12.94M  7.61MB/s    in 1.7s    \n",
            "\n",
            "2024-12-13 09:26:45 (7.61 MB/s) - ‘jena_climate_2009_2016.csv.zip’ saved [13568290/13568290]\n",
            "\n",
            "Archive:  jena_climate_2009_2016.csv.zip\n",
            "  inflating: jena_climate_2009_2016.csv  \n"
          ]
        }
      ],
      "source": [
        "!wget https://storage.googleapis.com/tensorflow/tf-keras-datasets/jena_climate_2009_2016.csv.zip\n",
        "!unzip jena_climate_2009_2016.csv.zip"
      ]
    },
    {
      "cell_type": "code",
      "source": [
        "import pandas as pd\n",
        "import numpy as np\n",
        "from sklearn.preprocessing import StandardScaler\n",
        "\n",
        "import torch\n",
        "import torch.nn as nn\n",
        "import torch.nn.functional as F\n",
        "import torch.optim as optim\n",
        "from torch.utils.data import Dataset, DataLoader"
      ],
      "metadata": {
        "id": "EOQcRoHBVvQX"
      },
      "execution_count": null,
      "outputs": []
    },
    {
      "cell_type": "code",
      "source": [
        "# 데이터 불러오기\n",
        "df = pd.read_csv('./jena_climate_2009_2016.csv')\n",
        "\n",
        "\n",
        "# 기온 데이터 추출\n",
        "temperatures = df[['T (degC)']].to_numpy().astype(np.float32)\n",
        "temperatures = temperatures[:50000]\n",
        "\n",
        "\n",
        "# 학습/검증/테스트 분할\n",
        "num_data = len(temperatures)\n",
        "train_size = int(num_data * 0.8)\n",
        "val_size = int(num_data * 0.1)\n",
        "\n",
        "train_data = temperatures[:train_size]\n",
        "val_data = temperatures[train_size:train_size + val_size]\n",
        "test_data = temperatures[train_size + val_size:]\n",
        "\n",
        "\n",
        "# 표준화\n",
        "scaler = StandardScaler()\n",
        "scaler.fit(train_data)\n",
        "\n",
        "train_data_scaled = scaler.transform(train_data)\n",
        "val_data_scaled = scaler.transform(val_data)\n",
        "test_data_scaled = scaler.transform(test_data)"
      ],
      "metadata": {
        "id": "HBqQDfSxWXSM"
      },
      "execution_count": null,
      "outputs": []
    },
    {
      "cell_type": "code",
      "source": [
        "# 데이터셋\n",
        "class JenaTemperatureDataset(Dataset):\n",
        "    def __init__(self, temperatures, sequence_length):\n",
        "        self.temperatures = temperatures\n",
        "        self.sequence_length = sequence_length\n",
        "\n",
        "    def __getitem__(self, index):\n",
        "        inputs = self.temperatures[index:index+self.sequence_length]\n",
        "        targets = self.temperatures[index+1:index+self.sequence_length+1]\n",
        "\n",
        "        return torch.tensor(inputs), torch.tensor(targets)\n",
        "\n",
        "    def __len__(self):\n",
        "        return len(self.temperatures) - self.sequence_length\n",
        "\n",
        "sequence_length = 24\n",
        "train_dataset = JenaTemperatureDataset(train_data_scaled, sequence_length)\n",
        "val_dataset = JenaTemperatureDataset(val_data_scaled, sequence_length)\n",
        "test_dataset = JenaTemperatureDataset(test_data_scaled, sequence_length)\n",
        "\n",
        "# 데이터로더\n",
        "train_dataloader = DataLoader(train_dataset, batch_size=128, shuffle=True, drop_last=True)\n",
        "val_dataloader = DataLoader(val_dataset, batch_size=128)\n",
        "test_dataloader = DataLoader(test_dataset, batch_size=128)"
      ],
      "metadata": {
        "id": "wutQ9RzfWZMJ"
      },
      "execution_count": null,
      "outputs": []
    },
    {
      "cell_type": "code",
      "source": [
        "# 모델\n",
        "class LSTMModel(nn.Module):\n",
        "    def __init__(self):\n",
        "        super().__init__()\n",
        "        self.lstm = nn.LSTM(\n",
        "            input_size=1,\n",
        "            hidden_size=32,\n",
        "            num_layers=2,\n",
        "            batch_first=True,\n",
        "        )\n",
        "        self.linear = nn.Linear(32, 1)\n",
        "\n",
        "    def forward(self, x):\n",
        "        lstm_output, _ = self.lstm(x)\n",
        "        output = self.linear(lstm_output)\n",
        "\n",
        "        return output\n",
        "\n",
        "\n",
        "model = LSTMModel()\n",
        "\n",
        "device = torch.device('cuda' if torch.cuda.is_available() else 'cpu')\n",
        "model.to(device)"
      ],
      "metadata": {
        "colab": {
          "base_uri": "https://localhost:8080/"
        },
        "id": "L_zs3XIVXxIT",
        "outputId": "eab4f6c6-a8b6-4416-d7fc-7a5b5207f2da"
      },
      "execution_count": null,
      "outputs": [
        {
          "output_type": "execute_result",
          "data": {
            "text/plain": [
              "LSTMModel(\n",
              "  (lstm): LSTM(1, 32, num_layers=2, batch_first=True)\n",
              "  (linear): Linear(in_features=32, out_features=1, bias=True)\n",
              ")"
            ]
          },
          "metadata": {},
          "execution_count": 5
        }
      ]
    },
    {
      "cell_type": "code",
      "source": [
        "loss_fn = nn.MSELoss()\n",
        "optimizer = optim.Adam(model.parameters())"
      ],
      "metadata": {
        "id": "TPELIZyvYLr6"
      },
      "execution_count": null,
      "outputs": []
    },
    {
      "cell_type": "code",
      "source": [
        "epochs = 5\n",
        "step = 0\n",
        "for epoch in range(epochs):\n",
        "    model.train()\n",
        "    for train_batch in train_dataloader:\n",
        "        inputs = train_batch[0].to(device)\n",
        "        targets = train_batch[1].to(device)\n",
        "        preds = model(inputs)\n",
        "        loss = loss_fn(preds, targets)\n",
        "\n",
        "        loss.backward()\n",
        "        optimizer.step()\n",
        "        optimizer.zero_grad()\n",
        "\n",
        "        step += 1\n",
        "        if step % 100 == 0:\n",
        "            print(f'step {step}, train loss: {loss.item():.4f}')\n",
        "\n",
        "    model.eval()\n",
        "    with torch.no_grad():\n",
        "        losses = []\n",
        "        for val_batch in val_dataloader:\n",
        "            inputs = val_batch[0].to(device)\n",
        "            targets = val_batch[1].to(device)\n",
        "            preds = model(inputs)\n",
        "            loss = loss_fn(preds, targets)\n",
        "            losses.append(loss.item())\n",
        "\n",
        "    val_loss_avg = sum(losses) / len(losses)\n",
        "    print(f'\\nepoch {epoch+1}/{epochs}, val loss: {val_loss_avg:.4f}\\n')"
      ],
      "metadata": {
        "colab": {
          "base_uri": "https://localhost:8080/"
        },
        "id": "bBKD6OxrYcZp",
        "outputId": "6577953b-3ec4-4e64-eff2-f8aefb69d366"
      },
      "execution_count": null,
      "outputs": [
        {
          "output_type": "stream",
          "name": "stdout",
          "text": [
            "step 100, train loss: 0.0782\n",
            "step 200, train loss: 0.0367\n",
            "step 300, train loss: 0.0257\n",
            "\n",
            "epoch 1/5, val loss: 0.0100\n",
            "\n",
            "step 400, train loss: 0.0109\n",
            "step 500, train loss: 0.0067\n",
            "step 600, train loss: 0.0028\n",
            "\n",
            "epoch 2/5, val loss: 0.0012\n",
            "\n",
            "step 700, train loss: 0.0017\n",
            "step 800, train loss: 0.0014\n",
            "step 900, train loss: 0.0017\n",
            "\n",
            "epoch 3/5, val loss: 0.0007\n",
            "\n",
            "step 1000, train loss: 0.0012\n",
            "step 1100, train loss: 0.0015\n",
            "step 1200, train loss: 0.0014\n",
            "\n",
            "epoch 4/5, val loss: 0.0006\n",
            "\n",
            "step 1300, train loss: 0.0013\n",
            "step 1400, train loss: 0.0009\n",
            "step 1500, train loss: 0.0009\n",
            "\n",
            "epoch 5/5, val loss: 0.0005\n",
            "\n"
          ]
        }
      ]
    },
    {
      "cell_type": "code",
      "source": [
        "test_preds = []\n",
        "model.eval()\n",
        "with torch.no_grad():\n",
        "    for test_batch in test_dataloader:\n",
        "        inputs = test_batch[0].to(device)\n",
        "        preds = model(inputs) # [batch size, sequence length, 1]\n",
        "        test_preds.append(preds[:, -1, :])\n",
        "\n",
        "    test_preds = torch.cat(test_preds, dim=0)\n",
        "    test_preds = test_preds.cpu().numpy()\n",
        "    test_preds = scaler.inverse_transform(test_preds)"
      ],
      "metadata": {
        "id": "XxG_iveRZerh"
      },
      "execution_count": null,
      "outputs": []
    },
    {
      "cell_type": "code",
      "source": [
        "test_targets = test_data[sequence_length:]"
      ],
      "metadata": {
        "id": "eOGiDT-UbQd_"
      },
      "execution_count": null,
      "outputs": []
    },
    {
      "cell_type": "code",
      "source": [
        "import matplotlib.pyplot as plt\n",
        "\n",
        "plt.plot(test_targets[:200], color='blue', label='Actual Temperature')\n",
        "plt.plot(test_preds[:200], color='red', label='Predicted Temperature')\n",
        "plt.legend()\n",
        "plt.show()"
      ],
      "metadata": {
        "colab": {
          "base_uri": "https://localhost:8080/",
          "height": 430
        },
        "id": "KYVLDsTQbuKS",
        "outputId": "d2ed976a-4b35-492f-c8f4-c3293e1a56ea"
      },
      "execution_count": null,
      "outputs": [
        {
          "output_type": "display_data",
          "data": {
            "text/plain": [
              "<Figure size 640x480 with 1 Axes>"
            ],
            "image/png": "[encoded data removed]"
          },
          "metadata": {}
        }
      ]
    },
    {
      "cell_type": "code",
      "source": [],
      "metadata": {
        "id": "bmwfqZhucZpM"
      },
      "execution_count": null,
      "outputs": []
    }
  ]
}