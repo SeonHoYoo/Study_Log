{
 "cells": [
  {
   "cell_type": "code",
   "execution_count": 1,
   "id": "4b2ac27f-f738-4027-935f-6f3e8cd82cd1",
   "metadata": {},
   "outputs": [],
   "source": [
    "import tensorflow as tf\n",
    "import keras"
   ]
  },
  {
   "cell_type": "code",
   "execution_count": 15,
   "id": "8248de3c-c0b0-4909-8513-4457c6ad659b",
   "metadata": {},
   "outputs": [],
   "source": [
    "class MyModel(keras.Model):\n",
    "    def __init__(self, **kwargs):\n",
    "        super().__init__(**kwargs)\n",
    "        self.dense0 = keras.layers.Dense(4, activation = \"relu\")\n",
    "        self.dense1 = keras.layers.Dense(6, activation = \"relu\")\n",
    "        self.dense2 = keras.layers.Dense(2, activation = \"softmax\")\n",
    "\n",
    "    def call(self, inputs):\n",
    "        x = self.dense0(inputs)\n",
    "        x = self.dense1(x)\n",
    "        x = self.dense2(x)\n",
    "        return x"
   ]
  },
  {
   "cell_type": "code",
   "execution_count": 17,
   "id": "ef2093bd-89f7-40f0-8c6c-1a4d216701a4",
   "metadata": {},
   "outputs": [],
   "source": [
    "model = MyModel(name=\"My Subclassing API Model\")"
   ]
  },
  {
   "cell_type": "code",
   "execution_count": 19,
   "id": "bbc8af91-b3ce-47a3-8760-17dc8f462185",
   "metadata": {},
   "outputs": [
    {
     "data": {
      "text/html": [
       "<pre style=\"white-space:pre;overflow-x:auto;line-height:normal;font-family:Menlo,'DejaVu Sans Mono',consolas,'Courier New',monospace\"><span style=\"font-weight: bold\">Model: \"My Subclassing API Model\"</span>\n",
       "</pre>\n"
      ],
      "text/plain": [
       "\u001b[1mModel: \"My Subclassing API Model\"\u001b[0m\n"
      ]
     },
     "metadata": {},
     "output_type": "display_data"
    },
    {
     "data": {
      "text/html": [
       "<pre style=\"white-space:pre;overflow-x:auto;line-height:normal;font-family:Menlo,'DejaVu Sans Mono',consolas,'Courier New',monospace\">┏━━━━━━━━━━━━━━━━━━━━━━━━━━━━━━━━━━━━━━┳━━━━━━━━━━━━━━━━━━━━━━━━━━━━━┳━━━━━━━━━━━━━━━━━┓\n",
       "┃<span style=\"font-weight: bold\"> Layer (type)                         </span>┃<span style=\"font-weight: bold\"> Output Shape                </span>┃<span style=\"font-weight: bold\">         Param # </span>┃\n",
       "┡━━━━━━━━━━━━━━━━━━━━━━━━━━━━━━━━━━━━━━╇━━━━━━━━━━━━━━━━━━━━━━━━━━━━━╇━━━━━━━━━━━━━━━━━┩\n",
       "│ dense (<span style=\"color: #0087ff; text-decoration-color: #0087ff\">Dense</span>)                        │ ?                           │     <span style=\"color: #00af00; text-decoration-color: #00af00\">0</span> (unbuilt) │\n",
       "├──────────────────────────────────────┼─────────────────────────────┼─────────────────┤\n",
       "│ dense_1 (<span style=\"color: #0087ff; text-decoration-color: #0087ff\">Dense</span>)                      │ ?                           │     <span style=\"color: #00af00; text-decoration-color: #00af00\">0</span> (unbuilt) │\n",
       "├──────────────────────────────────────┼─────────────────────────────┼─────────────────┤\n",
       "│ dense_2 (<span style=\"color: #0087ff; text-decoration-color: #0087ff\">Dense</span>)                      │ ?                           │     <span style=\"color: #00af00; text-decoration-color: #00af00\">0</span> (unbuilt) │\n",
       "└──────────────────────────────────────┴─────────────────────────────┴─────────────────┘\n",
       "</pre>\n"
      ],
      "text/plain": [
       "┏━━━━━━━━━━━━━━━━━━━━━━━━━━━━━━━━━━━━━━┳━━━━━━━━━━━━━━━━━━━━━━━━━━━━━┳━━━━━━━━━━━━━━━━━┓\n",
       "┃\u001b[1m \u001b[0m\u001b[1mLayer (type)                        \u001b[0m\u001b[1m \u001b[0m┃\u001b[1m \u001b[0m\u001b[1mOutput Shape               \u001b[0m\u001b[1m \u001b[0m┃\u001b[1m \u001b[0m\u001b[1m        Param #\u001b[0m\u001b[1m \u001b[0m┃\n",
       "┡━━━━━━━━━━━━━━━━━━━━━━━━━━━━━━━━━━━━━━╇━━━━━━━━━━━━━━━━━━━━━━━━━━━━━╇━━━━━━━━━━━━━━━━━┩\n",
       "│ dense (\u001b[38;5;33mDense\u001b[0m)                        │ ?                           │     \u001b[38;5;34m0\u001b[0m (unbuilt) │\n",
       "├──────────────────────────────────────┼─────────────────────────────┼─────────────────┤\n",
       "│ dense_1 (\u001b[38;5;33mDense\u001b[0m)                      │ ?                           │     \u001b[38;5;34m0\u001b[0m (unbuilt) │\n",
       "├──────────────────────────────────────┼─────────────────────────────┼─────────────────┤\n",
       "│ dense_2 (\u001b[38;5;33mDense\u001b[0m)                      │ ?                           │     \u001b[38;5;34m0\u001b[0m (unbuilt) │\n",
       "└──────────────────────────────────────┴─────────────────────────────┴─────────────────┘\n"
      ]
     },
     "metadata": {},
     "output_type": "display_data"
    },
    {
     "data": {
      "text/html": [
       "<pre style=\"white-space:pre;overflow-x:auto;line-height:normal;font-family:Menlo,'DejaVu Sans Mono',consolas,'Courier New',monospace\"><span style=\"font-weight: bold\"> Total params: </span><span style=\"color: #00af00; text-decoration-color: #00af00\">0</span> (0.00 B)\n",
       "</pre>\n"
      ],
      "text/plain": [
       "\u001b[1m Total params: \u001b[0m\u001b[38;5;34m0\u001b[0m (0.00 B)\n"
      ]
     },
     "metadata": {},
     "output_type": "display_data"
    },
    {
     "data": {
      "text/html": [
       "<pre style=\"white-space:pre;overflow-x:auto;line-height:normal;font-family:Menlo,'DejaVu Sans Mono',consolas,'Courier New',monospace\"><span style=\"font-weight: bold\"> Trainable params: </span><span style=\"color: #00af00; text-decoration-color: #00af00\">0</span> (0.00 B)\n",
       "</pre>\n"
      ],
      "text/plain": [
       "\u001b[1m Trainable params: \u001b[0m\u001b[38;5;34m0\u001b[0m (0.00 B)\n"
      ]
     },
     "metadata": {},
     "output_type": "display_data"
    },
    {
     "data": {
      "text/html": [
       "<pre style=\"white-space:pre;overflow-x:auto;line-height:normal;font-family:Menlo,'DejaVu Sans Mono',consolas,'Courier New',monospace\"><span style=\"font-weight: bold\"> Non-trainable params: </span><span style=\"color: #00af00; text-decoration-color: #00af00\">0</span> (0.00 B)\n",
       "</pre>\n"
      ],
      "text/plain": [
       "\u001b[1m Non-trainable params: \u001b[0m\u001b[38;5;34m0\u001b[0m (0.00 B)\n"
      ]
     },
     "metadata": {},
     "output_type": "display_data"
    }
   ],
   "source": [
    "model.summary()"
   ]
  },
  {
   "cell_type": "code",
   "execution_count": 21,
   "id": "a9d494d7-e4bd-4a23-a3e6-9a217e36dd09",
   "metadata": {},
   "outputs": [
    {
     "data": {
      "text/plain": [
       "'My Subclassing API Model'"
      ]
     },
     "execution_count": 21,
     "metadata": {},
     "output_type": "execute_result"
    }
   ],
   "source": [
    "model.name"
   ]
  },
  {
   "cell_type": "code",
   "execution_count": 23,
   "id": "cc854c98-f862-49d4-8362-db723e54602c",
   "metadata": {},
   "outputs": [],
   "source": [
    "x = tf.random.normal([3, 8])\n",
    "y = model(x)"
   ]
  },
  {
   "cell_type": "code",
   "execution_count": 25,
   "id": "53946a37-cc59-4509-9691-a744e66cc528",
   "metadata": {},
   "outputs": [
    {
     "name": "stdout",
     "output_type": "stream",
     "text": [
      "출력 텐서 shape: (3, 2)\n"
     ]
    }
   ],
   "source": [
    "print(f\"출력 텐서 shape: {y.shape}\")"
   ]
  },
  {
   "cell_type": "code",
   "execution_count": null,
   "id": "e5f4777a-faa8-4b5c-a1a2-87448c1d3fe9",
   "metadata": {},
   "outputs": [],
   "source": [
    "# Subclassing API로 복잡한 모델 만들기"
   ]
  },
  {
   "cell_type": "code",
   "execution_count": 27,
   "id": "bb40adc0-6e96-423c-a62f-8c57a3785de6",
   "metadata": {},
   "outputs": [],
   "source": [
    "class ComplexModel(keras.Model):\n",
    "    def __init__(self, **kwargs):\n",
    "        super().__init__(**kwargs)\n",
    "        self.dense0_0 = keras.layers.Dense(8, activation = \"relu\")\n",
    "        self.dense0_1 = keras.layers.Dense(4, activation = \"relu\")\n",
    "        self.concat = keras.layers.Concatenate()\n",
    "        self.dense1_0 = keras.layers.Dense(8)\n",
    "        self.dense1_1 = keras.layers.Dense(2)\n",
    "\n",
    "    def call(self, inputs):\n",
    "        input0, input1, input2 = inputs\n",
    "        h0_0 = self.dense0_0(input0)\n",
    "        h0_1 = self.dense0_1(input1)\n",
    "        concat_feature = self.concat([h0_0, h0_1, input2])\n",
    "        output0 = self.dense1_0(concat_feature)\n",
    "        output1 = self.dense1_1(concat_feature)\n",
    "        return output0, output1"
   ]
  },
  {
   "cell_type": "code",
   "execution_count": 29,
   "id": "ef16e847-456b-463e-8746-aa55ccccd49e",
   "metadata": {},
   "outputs": [],
   "source": [
    "complex_model = ComplexModel()"
   ]
  },
  {
   "cell_type": "code",
   "execution_count": 31,
   "id": "7893c420-f110-4a2d-93d0-2de55ec4e6e7",
   "metadata": {},
   "outputs": [],
   "source": [
    "x0 = tf.random.normal([3, 4])\n",
    "x1 = tf.random.normal([3, 6])\n",
    "x2 = tf.random.normal([3, 2])\n",
    "\n",
    "y = complex_model([x0, x1, x2])"
   ]
  },
  {
   "cell_type": "code",
   "execution_count": 33,
   "id": "c9eaf61e-b7eb-4805-8d79-fd6c99e88699",
   "metadata": {},
   "outputs": [
    {
     "data": {
      "text/plain": [
       "(<tf.Tensor: shape=(3, 8), dtype=float32, numpy=\n",
       " array([[ 0.09152794,  2.027401  ,  0.70917535, -1.2605323 , -2.4480157 ,\n",
       "         -0.15068951, -0.29007652,  1.454891  ],\n",
       "        [-0.16378106, -0.31391037,  0.60854375, -0.15176743,  0.72444993,\n",
       "         -0.12649071, -0.6155102 , -0.6483801 ],\n",
       "        [-0.54178125,  0.9161054 ,  0.8939525 ,  0.6089164 ,  0.7060109 ,\n",
       "          0.19168928,  1.7074941 , -0.33645108]], dtype=float32)>,\n",
       " <tf.Tensor: shape=(3, 2), dtype=float32, numpy=\n",
       " array([[ 1.5734881e-03,  3.4883919e+00],\n",
       "        [ 9.4543204e-02, -3.2733735e-01],\n",
       "        [-4.5151281e-01, -1.3257071e+00]], dtype=float32)>)"
      ]
     },
     "execution_count": 33,
     "metadata": {},
     "output_type": "execute_result"
    }
   ],
   "source": [
    "y"
   ]
  }
 ],
 "metadata": {
  "kernelspec": {
   "display_name": "Python 3 (ipykernel)",
   "language": "python",
   "name": "python3"
  },
  "language_info": {
   "codemirror_mode": {
    "name": "ipython",
    "version": 3
   },
   "file_extension": ".py",
   "mimetype": "text/x-python",
   "name": "python",
   "nbconvert_exporter": "python",
   "pygments_lexer": "ipython3",
   "version": "3.12.4"
  }
 },
 "nbformat": 4,
 "nbformat_minor": 5
}
