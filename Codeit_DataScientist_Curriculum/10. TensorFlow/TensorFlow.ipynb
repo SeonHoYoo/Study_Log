{
 "cells": [
  {
   "cell_type": "markdown",
   "id": "844032c8-fde1-4f66-892d-132e02f2a200",
   "metadata": {
    "jp-MarkdownHeadingCollapsed": true
   },
   "source": [
    "### Tensor 생성 함수"
   ]
  },
  {
   "cell_type": "code",
   "execution_count": 1,
   "id": "30e44415-bfda-4d23-bc0b-385e986fb8b2",
   "metadata": {},
   "outputs": [],
   "source": [
    "import tensorflow as tf"
   ]
  },
  {
   "cell_type": "code",
   "execution_count": 3,
   "id": "de143fa1-c684-43a0-b23c-a899d6c17124",
   "metadata": {},
   "outputs": [
    {
     "data": {
      "text/plain": [
       "<tf.Tensor: shape=(2,), dtype=int32, numpy=array([1, 2])>"
      ]
     },
     "execution_count": 3,
     "metadata": {},
     "output_type": "execute_result"
    }
   ],
   "source": [
    "tensor = tf.constant([1, 2])\n",
    "tensor"
   ]
  },
  {
   "cell_type": "code",
   "execution_count": 7,
   "id": "da10152c-8a9b-4b45-a9f3-54fae6f0674f",
   "metadata": {},
   "outputs": [
    {
     "name": "stdout",
     "output_type": "stream",
     "text": [
      "data type: <dtype: 'int32'>\n",
      "number of dimensions: 1\n",
      "shape: (2,)\n"
     ]
    }
   ],
   "source": [
    "print(f\"data type: {tensor.dtype}\")\n",
    "print(f\"number of dimensions: {tensor.ndim}\")\n",
    "print(f\"shape: {tensor.shape}\")"
   ]
  },
  {
   "cell_type": "code",
   "execution_count": 11,
   "id": "85b48e3c-fec5-41bf-a3b2-368521a7aa60",
   "metadata": {},
   "outputs": [
    {
     "data": {
      "text/plain": [
       "tf.float32"
      ]
     },
     "execution_count": 11,
     "metadata": {},
     "output_type": "execute_result"
    }
   ],
   "source": [
    "tensor = tf.constant([1, 1.5])\n",
    "tensor.dtype"
   ]
  },
  {
   "cell_type": "code",
   "execution_count": 13,
   "id": "4d9b791f-fca5-4f6d-9a24-1adc08f6f107",
   "metadata": {},
   "outputs": [
    {
     "data": {
      "text/plain": [
       "tf.float16"
      ]
     },
     "execution_count": 13,
     "metadata": {},
     "output_type": "execute_result"
    }
   ],
   "source": [
    "tensor = tf.constant([1, 1.5], dtype = tf.float16)\n",
    "tensor.dtype"
   ]
  },
  {
   "cell_type": "code",
   "execution_count": 15,
   "id": "0d01a151-0152-4a96-ac25-5ac205a33822",
   "metadata": {},
   "outputs": [
    {
     "data": {
      "text/plain": [
       "<tf.Tensor: shape=(2, 2), dtype=int32, numpy=\n",
       "array([[1, 2],\n",
       "       [3, 4]])>"
      ]
     },
     "execution_count": 15,
     "metadata": {},
     "output_type": "execute_result"
    }
   ],
   "source": [
    "import numpy as np\n",
    "\n",
    "tensor = tf.constant(\n",
    "    np.array([[1,2], [3,4]])\n",
    ")\n",
    "tensor"
   ]
  },
  {
   "cell_type": "code",
   "execution_count": 17,
   "id": "bde1deef-16c6-49ec-896b-2aa06eb33fba",
   "metadata": {},
   "outputs": [
    {
     "data": {
      "text/plain": [
       "<tf.Variable 'Variable:0' shape=(2,) dtype=int32, numpy=array([1, 2])>"
      ]
     },
     "execution_count": 17,
     "metadata": {},
     "output_type": "execute_result"
    }
   ],
   "source": [
    "variable_tensor = tf.Variable([1, 2])\n",
    "variable_tensor"
   ]
  },
  {
   "cell_type": "code",
   "execution_count": 19,
   "id": "842b3911-4b41-4e41-90a0-8aaaaa14f172",
   "metadata": {},
   "outputs": [
    {
     "data": {
      "text/plain": [
       "<tf.Variable 'Variable:0' shape=(2, 2) dtype=int32, numpy=\n",
       "array([[1, 2],\n",
       "       [3, 4]])>"
      ]
     },
     "execution_count": 19,
     "metadata": {},
     "output_type": "execute_result"
    }
   ],
   "source": [
    "variable_tensor = tf.Variable(\n",
    "    np.array([[1, 2],[3, 4]])\n",
    ")\n",
    "variable_tensor"
   ]
  },
  {
   "cell_type": "code",
   "execution_count": 21,
   "id": "e606e524-7e84-4ec3-b5f7-ec36c89a6a84",
   "metadata": {},
   "outputs": [
    {
     "data": {
      "text/plain": [
       "<tf.Variable 'Variable:0' shape=(2, 2) dtype=int32, numpy=\n",
       "array([[4, 5],\n",
       "       [6, 7]])>"
      ]
     },
     "execution_count": 21,
     "metadata": {},
     "output_type": "execute_result"
    }
   ],
   "source": [
    "variable_tensor.assign(\n",
    "    [[4, 5], [6, 7]]\n",
    ")\n",
    "variable_tensor"
   ]
  },
  {
   "cell_type": "code",
   "execution_count": 23,
   "id": "9fe20f62-0e17-4a25-a461-089e50349cb3",
   "metadata": {},
   "outputs": [
    {
     "data": {
      "text/plain": [
       "<tf.Tensor: shape=(1, 3), dtype=float32, numpy=array([[-0.16737351,  1.5531421 ,  0.5483768 ]], dtype=float32)>"
      ]
     },
     "execution_count": 23,
     "metadata": {},
     "output_type": "execute_result"
    }
   ],
   "source": [
    "tf.random.normal([1, 3])"
   ]
  },
  {
   "cell_type": "code",
   "execution_count": 25,
   "id": "af7bc047-13cd-4cd0-ab0d-e2899ba34d69",
   "metadata": {},
   "outputs": [
    {
     "data": {
      "text/plain": [
       "<tf.Tensor: shape=(1, 3), dtype=float32, numpy=array([[ 3.1634507,  5.91868  , -1.5401516]], dtype=float32)>"
      ]
     },
     "execution_count": 25,
     "metadata": {},
     "output_type": "execute_result"
    }
   ],
   "source": [
    "tf.random.normal([1, 3], mean=3, stddev=2)"
   ]
  },
  {
   "cell_type": "code",
   "execution_count": 27,
   "id": "6d64fd2b-34d1-4743-8f25-5be0e6d0bba9",
   "metadata": {},
   "outputs": [
    {
     "data": {
      "text/plain": [
       "<tf.Tensor: shape=(1, 3), dtype=float32, numpy=array([[0.61577404, 0.6404271 , 0.17537594]], dtype=float32)>"
      ]
     },
     "execution_count": 27,
     "metadata": {},
     "output_type": "execute_result"
    }
   ],
   "source": [
    "tf.random.uniform([1, 3])"
   ]
  },
  {
   "cell_type": "code",
   "execution_count": 29,
   "id": "f0343075-1c06-4267-9cad-ac9e26d6c5c1",
   "metadata": {},
   "outputs": [
    {
     "data": {
      "text/plain": [
       "<tf.Tensor: shape=(1, 3), dtype=float32, numpy=array([[-2.6867123, -1.9112799, -2.1114721]], dtype=float32)>"
      ]
     },
     "execution_count": 29,
     "metadata": {},
     "output_type": "execute_result"
    }
   ],
   "source": [
    "tf.random.uniform([1, 3], minval=-3, maxval=3)"
   ]
  },
  {
   "cell_type": "code",
   "execution_count": 31,
   "id": "8e02ff38-d300-4239-853a-b6cf12b4f804",
   "metadata": {},
   "outputs": [
    {
     "data": {
      "text/plain": [
       "<tf.Tensor: shape=(1, 3), dtype=float32, numpy=array([[1., 1., 1.]], dtype=float32)>"
      ]
     },
     "execution_count": 31,
     "metadata": {},
     "output_type": "execute_result"
    }
   ],
   "source": [
    "tf.ones([1, 3])"
   ]
  },
  {
   "cell_type": "code",
   "execution_count": 33,
   "id": "72058478-753e-42de-bb9e-a8c4309b613d",
   "metadata": {},
   "outputs": [
    {
     "data": {
      "text/plain": [
       "<tf.Tensor: shape=(1, 3), dtype=float32, numpy=array([[0., 0., 0.]], dtype=float32)>"
      ]
     },
     "execution_count": 33,
     "metadata": {},
     "output_type": "execute_result"
    }
   ],
   "source": [
    "tf.zeros([1, 3])"
   ]
  },
  {
   "cell_type": "code",
   "execution_count": 35,
   "id": "86d392e9-1f79-413e-9f6f-cb3c80fafbd8",
   "metadata": {},
   "outputs": [
    {
     "data": {
      "text/plain": [
       "<tf.Tensor: shape=(2, 3), dtype=int32, numpy=\n",
       "array([[10, 10, 10],\n",
       "       [10, 10, 10]])>"
      ]
     },
     "execution_count": 35,
     "metadata": {},
     "output_type": "execute_result"
    }
   ],
   "source": [
    "tf.fill([2, 3], 10)"
   ]
  },
  {
   "cell_type": "markdown",
   "id": "e3cdf9af-94e8-487a-a64e-da7570e0fa41",
   "metadata": {
    "jp-MarkdownHeadingCollapsed": true
   },
   "source": [
    "### 텐서의 변환과 연산"
   ]
  },
  {
   "cell_type": "code",
   "execution_count": 39,
   "id": "d37d6c4c-4c08-4c9e-9ded-48cf71d6a821",
   "metadata": {},
   "outputs": [],
   "source": [
    "import numpy as np\n",
    "import tensorflow as tf"
   ]
  },
  {
   "cell_type": "code",
   "execution_count": 41,
   "id": "7ca2a63e-a35b-44c9-b15f-288e1dc428b7",
   "metadata": {},
   "outputs": [],
   "source": [
    "tensor = tf.constant([[1, 2],\n",
    "                     [3, 4]])"
   ]
  },
  {
   "cell_type": "code",
   "execution_count": 43,
   "id": "34044f22-3255-41ac-a22c-fcc974a98cc4",
   "metadata": {},
   "outputs": [
    {
     "data": {
      "text/plain": [
       "array([[1, 2],\n",
       "       [3, 4]])"
      ]
     },
     "execution_count": 43,
     "metadata": {},
     "output_type": "execute_result"
    }
   ],
   "source": [
    "np_array = tensor.numpy()\n",
    "np_array"
   ]
  },
  {
   "cell_type": "code",
   "execution_count": 45,
   "id": "f848c34b-23a6-40fa-b26c-b597c58eb8b8",
   "metadata": {},
   "outputs": [
    {
     "data": {
      "text/plain": [
       "numpy.ndarray"
      ]
     },
     "execution_count": 45,
     "metadata": {},
     "output_type": "execute_result"
    }
   ],
   "source": [
    "type(np_array)"
   ]
  },
  {
   "cell_type": "code",
   "execution_count": 47,
   "id": "97cd59cf-8d7e-4e71-b19f-e4aa6c3d16e1",
   "metadata": {},
   "outputs": [
    {
     "data": {
      "text/plain": [
       "array([[1, 2],\n",
       "       [3, 4]])"
      ]
     },
     "execution_count": 47,
     "metadata": {},
     "output_type": "execute_result"
    }
   ],
   "source": [
    "np_array = np.array(tensor)\n",
    "np_array"
   ]
  },
  {
   "cell_type": "code",
   "execution_count": 51,
   "id": "c846cd47-7535-488f-96c9-75e94b555f97",
   "metadata": {},
   "outputs": [],
   "source": [
    "a = tf.constant([[1, 2],\n",
    "               [3, 4]])\n",
    "b = tf.constant([[1, 1],\n",
    "                [2, 2]])"
   ]
  },
  {
   "cell_type": "code",
   "execution_count": 53,
   "id": "6b17281d-30ba-4bf5-a05d-0fe6829982f7",
   "metadata": {},
   "outputs": [
    {
     "data": {
      "text/plain": [
       "<tf.Tensor: shape=(2, 2), dtype=int32, numpy=\n",
       "array([[2, 3],\n",
       "       [5, 6]])>"
      ]
     },
     "execution_count": 53,
     "metadata": {},
     "output_type": "execute_result"
    }
   ],
   "source": [
    "add_result = a + b\n",
    "add_result"
   ]
  },
  {
   "cell_type": "code",
   "execution_count": 55,
   "id": "392720e8-5684-40fd-b12a-e6eb22065b1d",
   "metadata": {},
   "outputs": [
    {
     "data": {
      "text/plain": [
       "<tf.Tensor: shape=(2, 2), dtype=int32, numpy=\n",
       "array([[2, 3],\n",
       "       [5, 6]])>"
      ]
     },
     "execution_count": 55,
     "metadata": {},
     "output_type": "execute_result"
    }
   ],
   "source": [
    "add_result = tf.add(a, b)\n",
    "add_result"
   ]
  },
  {
   "cell_type": "code",
   "execution_count": 57,
   "id": "e5bbb3e7-168a-4bdb-98c5-295fe00ca523",
   "metadata": {},
   "outputs": [
    {
     "data": {
      "text/plain": [
       "<tf.Tensor: shape=(2, 2), dtype=int32, numpy=\n",
       "array([[1, 2],\n",
       "       [6, 8]])>"
      ]
     },
     "execution_count": 57,
     "metadata": {},
     "output_type": "execute_result"
    }
   ],
   "source": [
    "mul_result = a * b\n",
    "mul_result"
   ]
  },
  {
   "cell_type": "code",
   "execution_count": 59,
   "id": "faf255b6-2058-4b63-9f89-42ca50f1a33e",
   "metadata": {},
   "outputs": [
    {
     "data": {
      "text/plain": [
       "<tf.Tensor: shape=(2, 2), dtype=int32, numpy=\n",
       "array([[1, 2],\n",
       "       [6, 8]])>"
      ]
     },
     "execution_count": 59,
     "metadata": {},
     "output_type": "execute_result"
    }
   ],
   "source": [
    "mul_result = tf.multiply(a, b)\n",
    "mul_result"
   ]
  },
  {
   "cell_type": "code",
   "execution_count": 65,
   "id": "64ca2686-129b-4e28-b1a0-5cc5cb3e5021",
   "metadata": {},
   "outputs": [
    {
     "name": "stdout",
     "output_type": "stream",
     "text": [
      "a의 열 개수: 2\n",
      "b의 행 개수: 2\n"
     ]
    }
   ],
   "source": [
    "a = tf.constant([[1, 2],\n",
    "                [3, 4],\n",
    "                [5, 6],\n",
    "                [7, 8]])\n",
    "b = tf.constant([[1, 0, 0],\n",
    "                [0, 0, 1]])\n",
    "\n",
    "print(f\"a의 열 개수: {a.shape[1]}\")\n",
    "print(f\"b의 행 개수: {b.shape[0]}\")"
   ]
  },
  {
   "cell_type": "code",
   "execution_count": 67,
   "id": "0ce90128-b8ba-41c5-9167-b1a61104a0dd",
   "metadata": {},
   "outputs": [
    {
     "data": {
      "text/plain": [
       "<tf.Tensor: shape=(4, 3), dtype=int32, numpy=\n",
       "array([[1, 0, 2],\n",
       "       [3, 0, 4],\n",
       "       [5, 0, 6],\n",
       "       [7, 0, 8]])>"
      ]
     },
     "execution_count": 67,
     "metadata": {},
     "output_type": "execute_result"
    }
   ],
   "source": [
    "matmul_result = tf.matmul(a, b)\n",
    "matmul_result"
   ]
  },
  {
   "cell_type": "code",
   "execution_count": 69,
   "id": "e7c8d040-339e-4dbe-98c2-bbf03571c68a",
   "metadata": {},
   "outputs": [],
   "source": [
    "tensor_int = tf.constant([1, 2], dtype = tf.int32)\n",
    "tensor_float = tf.constant([3, 4], dtype = tf.float32)"
   ]
  },
  {
   "cell_type": "code",
   "execution_count": 73,
   "id": "d76b1e34-e9ee-40cc-b753-ac347af08082",
   "metadata": {},
   "outputs": [
    {
     "data": {
      "text/plain": [
       "<tf.Tensor: shape=(2,), dtype=int32, numpy=array([4, 6])>"
      ]
     },
     "execution_count": 73,
     "metadata": {},
     "output_type": "execute_result"
    }
   ],
   "source": [
    "tensor_cast = tf.cast(tensor_float, dtype = tf.int32)\n",
    "tensor_int + tensor_cast"
   ]
  },
  {
   "cell_type": "code",
   "execution_count": 75,
   "id": "5f0b5f78-aa08-4490-82c0-a1609b38e298",
   "metadata": {},
   "outputs": [],
   "source": [
    "tensor = tf.constant([3, 5, 7, 9, 10])"
   ]
  },
  {
   "cell_type": "code",
   "execution_count": 77,
   "id": "51196e93-cc91-442e-b8ad-dd60b17cc8d1",
   "metadata": {},
   "outputs": [
    {
     "data": {
      "text/plain": [
       "7"
      ]
     },
     "execution_count": 77,
     "metadata": {},
     "output_type": "execute_result"
    }
   ],
   "source": [
    "tensor[2].numpy()"
   ]
  },
  {
   "cell_type": "code",
   "execution_count": 79,
   "id": "1971edd4-0fdb-41d4-be48-025404deabed",
   "metadata": {},
   "outputs": [
    {
     "data": {
      "text/plain": [
       "array([3, 5])"
      ]
     },
     "execution_count": 79,
     "metadata": {},
     "output_type": "execute_result"
    }
   ],
   "source": [
    "tensor[:2].numpy()"
   ]
  },
  {
   "cell_type": "markdown",
   "id": "d9e9d3c2-1b68-4718-a5de-a5c660b330c0",
   "metadata": {
    "jp-MarkdownHeadingCollapsed": true
   },
   "source": [
    "### 브로드캐스팅"
   ]
  },
  {
   "cell_type": "code",
   "execution_count": 82,
   "id": "efba051a-3277-41ba-bc50-15ecacb8dcf7",
   "metadata": {},
   "outputs": [],
   "source": [
    "import tensorflow as tf"
   ]
  },
  {
   "cell_type": "code",
   "execution_count": 84,
   "id": "c49b2d3c-882f-4d83-93fb-d9c1f4ab19b3",
   "metadata": {},
   "outputs": [
    {
     "name": "stdout",
     "output_type": "stream",
     "text": [
      "a의 shape: (2, 3)\n",
      "b의 shape: (3,)\n"
     ]
    }
   ],
   "source": [
    "a = tf.constant(\n",
    "    [[1, 2, 3],\n",
    "     [4, 5, 6]]\n",
    ")\n",
    "b = tf.constant([1, -1, 2])\n",
    "\n",
    "print(f\"a의 shape: {a.shape}\")\n",
    "print(f\"b의 shape: {b.shape}\")"
   ]
  },
  {
   "cell_type": "code",
   "execution_count": 86,
   "id": "90fed239-39e4-4bf0-8caa-90396605a922",
   "metadata": {},
   "outputs": [
    {
     "data": {
      "text/plain": [
       "<tf.Tensor: shape=(2, 3), dtype=int32, numpy=\n",
       "array([[2, 1, 5],\n",
       "       [5, 4, 8]])>"
      ]
     },
     "execution_count": 86,
     "metadata": {},
     "output_type": "execute_result"
    }
   ],
   "source": [
    "a + b"
   ]
  },
  {
   "cell_type": "code",
   "execution_count": 88,
   "id": "2cf8a31e-0636-4b6a-b52d-a38f7581f9ca",
   "metadata": {},
   "outputs": [],
   "source": [
    "a = tf.constant(\n",
    "    [[-1, -1],\n",
    "    [1, 1]]\n",
    ")"
   ]
  },
  {
   "cell_type": "code",
   "execution_count": 90,
   "id": "820ab70e-9eeb-4707-a68b-a0a3e8e4c38d",
   "metadata": {},
   "outputs": [
    {
     "data": {
      "text/plain": [
       "<tf.Tensor: shape=(2, 2), dtype=int32, numpy=\n",
       "array([[0, 0],\n",
       "       [2, 2]])>"
      ]
     },
     "execution_count": 90,
     "metadata": {},
     "output_type": "execute_result"
    }
   ],
   "source": [
    "a + 1"
   ]
  },
  {
   "cell_type": "code",
   "execution_count": 92,
   "id": "ea9da928-6323-4cfc-b8cf-e3db84f4eede",
   "metadata": {},
   "outputs": [
    {
     "data": {
      "text/plain": [
       "<tf.Tensor: shape=(2, 2), dtype=int32, numpy=\n",
       "array([[-2, -2],\n",
       "       [ 2,  2]])>"
      ]
     },
     "execution_count": 92,
     "metadata": {},
     "output_type": "execute_result"
    }
   ],
   "source": [
    "a * 2"
   ]
  },
  {
   "cell_type": "code",
   "execution_count": 94,
   "id": "c3d9e78a-ecc1-4b78-829f-f1738025e9af",
   "metadata": {},
   "outputs": [
    {
     "name": "stdout",
     "output_type": "stream",
     "text": [
      "a의 shape: (2, 3)\n",
      "b의 shape: (3,)\n"
     ]
    }
   ],
   "source": [
    "a = tf.constant(\n",
    "    [[1, 2, 3],\n",
    "     [4, 5, 6]]\n",
    ")\n",
    "b = tf.constant([1, -1, 2])\n",
    "\n",
    "print(f\"a의 shape: {a.shape}\")\n",
    "print(f\"b의 shape: {b.shape}\")"
   ]
  },
  {
   "cell_type": "code",
   "execution_count": 96,
   "id": "611b7567-c5ca-4ace-b1ee-c16c35ca7367",
   "metadata": {},
   "outputs": [
    {
     "name": "stdout",
     "output_type": "stream",
     "text": [
      "(1, 3)\n"
     ]
    }
   ],
   "source": [
    "b_expanded = tf.constant([[1, -1, 2]])\n",
    "print(b_expanded.shape)"
   ]
  },
  {
   "cell_type": "code",
   "execution_count": 98,
   "id": "310f0b4a-615c-4a47-a8d5-1466b298bf18",
   "metadata": {},
   "outputs": [
    {
     "name": "stdout",
     "output_type": "stream",
     "text": [
      "a의 shape: (2, 3)\n",
      "b의 shape: (2,)\n"
     ]
    }
   ],
   "source": [
    "a = tf.constant(\n",
    "    [[1, 2, 3],\n",
    "     [4, 5, 6]]\n",
    ")\n",
    "b = tf.constant([1, -1])\n",
    "\n",
    "print(f\"a의 shape: {a.shape}\")\n",
    "print(f\"b의 shape: {b.shape}\")"
   ]
  },
  {
   "cell_type": "code",
   "execution_count": 100,
   "id": "63877c5c-0add-4de5-a9fb-e105057d3b40",
   "metadata": {},
   "outputs": [
    {
     "ename": "InvalidArgumentError",
     "evalue": "{{function_node __wrapped__AddV2_device_/job:localhost/replica:0/task:0/device:CPU:0}} Incompatible shapes: [2,3] vs. [2] [Op:AddV2] name: ",
     "output_type": "error",
     "traceback": [
      "\u001b[1;31m---------------------------------------------------------------------------\u001b[0m",
      "\u001b[1;31mInvalidArgumentError\u001b[0m                      Traceback (most recent call last)",
      "Cell \u001b[1;32mIn[100], line 1\u001b[0m\n\u001b[1;32m----> 1\u001b[0m a \u001b[38;5;241m+\u001b[39m b\n",
      "File \u001b[1;32m~\\anaconda3\\Lib\\site-packages\\tensorflow\\python\\util\\traceback_utils.py:153\u001b[0m, in \u001b[0;36mfilter_traceback.<locals>.error_handler\u001b[1;34m(*args, **kwargs)\u001b[0m\n\u001b[0;32m    151\u001b[0m \u001b[38;5;28;01mexcept\u001b[39;00m \u001b[38;5;167;01mException\u001b[39;00m \u001b[38;5;28;01mas\u001b[39;00m e:\n\u001b[0;32m    152\u001b[0m   filtered_tb \u001b[38;5;241m=\u001b[39m _process_traceback_frames(e\u001b[38;5;241m.\u001b[39m__traceback__)\n\u001b[1;32m--> 153\u001b[0m   \u001b[38;5;28;01mraise\u001b[39;00m e\u001b[38;5;241m.\u001b[39mwith_traceback(filtered_tb) \u001b[38;5;28;01mfrom\u001b[39;00m \u001b[38;5;28;01mNone\u001b[39;00m\n\u001b[0;32m    154\u001b[0m \u001b[38;5;28;01mfinally\u001b[39;00m:\n\u001b[0;32m    155\u001b[0m   \u001b[38;5;28;01mdel\u001b[39;00m filtered_tb\n",
      "File \u001b[1;32m~\\anaconda3\\Lib\\site-packages\\tensorflow\\python\\framework\\ops.py:6002\u001b[0m, in \u001b[0;36mraise_from_not_ok_status\u001b[1;34m(e, name)\u001b[0m\n\u001b[0;32m   6000\u001b[0m \u001b[38;5;28;01mdef\u001b[39;00m \u001b[38;5;21mraise_from_not_ok_status\u001b[39m(e, name) \u001b[38;5;241m-\u001b[39m\u001b[38;5;241m>\u001b[39m NoReturn:\n\u001b[0;32m   6001\u001b[0m   e\u001b[38;5;241m.\u001b[39mmessage \u001b[38;5;241m+\u001b[39m\u001b[38;5;241m=\u001b[39m (\u001b[38;5;124m\"\u001b[39m\u001b[38;5;124m name: \u001b[39m\u001b[38;5;124m\"\u001b[39m \u001b[38;5;241m+\u001b[39m \u001b[38;5;28mstr\u001b[39m(name \u001b[38;5;28;01mif\u001b[39;00m name \u001b[38;5;129;01mis\u001b[39;00m \u001b[38;5;129;01mnot\u001b[39;00m \u001b[38;5;28;01mNone\u001b[39;00m \u001b[38;5;28;01melse\u001b[39;00m \u001b[38;5;124m\"\u001b[39m\u001b[38;5;124m\"\u001b[39m))\n\u001b[1;32m-> 6002\u001b[0m   \u001b[38;5;28;01mraise\u001b[39;00m core\u001b[38;5;241m.\u001b[39m_status_to_exception(e) \u001b[38;5;28;01mfrom\u001b[39;00m \u001b[38;5;28;01mNone\u001b[39;00m\n",
      "\u001b[1;31mInvalidArgumentError\u001b[0m: {{function_node __wrapped__AddV2_device_/job:localhost/replica:0/task:0/device:CPU:0}} Incompatible shapes: [2,3] vs. [2] [Op:AddV2] name: "
     ]
    }
   ],
   "source": [
    "a + b #브로드캐스팅 불가"
   ]
  },
  {
   "cell_type": "markdown",
   "id": "85206b43-1cda-45b7-95fa-697cfc282eb3",
   "metadata": {
    "jp-MarkdownHeadingCollapsed": true
   },
   "source": [
    "### GPU 활용하기"
   ]
  },
  {
   "cell_type": "code",
   "execution_count": 104,
   "id": "da024986-3334-40fe-ad9b-0cd69bf35ff5",
   "metadata": {},
   "outputs": [
    {
     "name": "stdout",
     "output_type": "stream",
     "text": [
      "/job:localhost/replica:0/task:0/device:CPU:0\n"
     ]
    }
   ],
   "source": [
    "tensor = tf.ones([1, 2])\n",
    "print(tensor.device)"
   ]
  },
  {
   "cell_type": "code",
   "execution_count": 106,
   "id": "b91d28bd-7f27-4af5-8076-28bd408e9fa4",
   "metadata": {},
   "outputs": [
    {
     "name": "stdout",
     "output_type": "stream",
     "text": [
      "[]\n"
     ]
    }
   ],
   "source": [
    "print(tf.config.list_physical_devices(\"GPU\"))"
   ]
  },
  {
   "cell_type": "code",
   "execution_count": 108,
   "id": "e4726b5f-92a8-4924-b287-e50eb529c28f",
   "metadata": {},
   "outputs": [],
   "source": [
    "with tf.device(\"CPU:0\"):\n",
    "    cpu_tensor = tf.ones([1, 2])"
   ]
  },
  {
   "cell_type": "code",
   "execution_count": 110,
   "id": "b811e8dd-be90-4838-a25c-2ef9519669e3",
   "metadata": {},
   "outputs": [
    {
     "name": "stdout",
     "output_type": "stream",
     "text": [
      "/job:localhost/replica:0/task:0/device:CPU:0\n"
     ]
    }
   ],
   "source": [
    "print(cpu_tensor.device)"
   ]
  },
  {
   "cell_type": "code",
   "execution_count": 112,
   "id": "bc10b908-3734-47d8-a3e4-2e34fa73a147",
   "metadata": {},
   "outputs": [],
   "source": [
    "with tf.device(\"GPU:0\"):\n",
    "    gpu_tensor = tf.ones([1, 2])"
   ]
  },
  {
   "cell_type": "code",
   "execution_count": 114,
   "id": "5156e8e8-ddef-4e1c-8d1f-519bfccf7210",
   "metadata": {},
   "outputs": [
    {
     "name": "stdout",
     "output_type": "stream",
     "text": [
      "/job:localhost/replica:0/task:0/device:CPU:0\n"
     ]
    }
   ],
   "source": [
    "print(gpu_tensor.device)"
   ]
  },
  {
   "cell_type": "markdown",
   "id": "0de12706-9403-40f2-aaa2-d6f5e2294771",
   "metadata": {
    "jp-MarkdownHeadingCollapsed": true
   },
   "source": [
    "### 데이터셋 알아보기"
   ]
  },
  {
   "cell_type": "code",
   "execution_count": 117,
   "id": "4ddff1a6-25a1-45de-8a40-3d9c2e2dc7cf",
   "metadata": {},
   "outputs": [],
   "source": [
    "import numpy as np\n",
    "import tensorflow as tf"
   ]
  },
  {
   "cell_type": "code",
   "execution_count": 119,
   "id": "2eb98192-55a5-44ad-8963-a6f33d7507e7",
   "metadata": {},
   "outputs": [],
   "source": [
    "x = np.array([0, 1, 2, 3, 4])"
   ]
  },
  {
   "cell_type": "code",
   "execution_count": 121,
   "id": "5efbef6e-b81a-4a0e-b677-e3d41019e3f0",
   "metadata": {},
   "outputs": [],
   "source": [
    "dataset = tf.data.Dataset.from_tensor_slices(x)"
   ]
  },
  {
   "cell_type": "code",
   "execution_count": 123,
   "id": "299f9924-195b-4676-a05d-e900eb135a16",
   "metadata": {},
   "outputs": [
    {
     "name": "stdout",
     "output_type": "stream",
     "text": [
      "tf.Tensor(0, shape=(), dtype=int32)\n",
      "tf.Tensor(1, shape=(), dtype=int32)\n",
      "tf.Tensor(2, shape=(), dtype=int32)\n",
      "tf.Tensor(3, shape=(), dtype=int32)\n",
      "tf.Tensor(4, shape=(), dtype=int32)\n"
     ]
    }
   ],
   "source": [
    "for data in dataset:\n",
    "    print(data)"
   ]
  },
  {
   "cell_type": "code",
   "execution_count": 125,
   "id": "38a0b325-8be1-465b-b8cd-2d256ee75d74",
   "metadata": {},
   "outputs": [],
   "source": [
    "x = [[10, 20],\n",
    "     [20, 15],\n",
    "     [15, 15],\n",
    "     [80, 90],\n",
    "     [85, 80],\n",
    "     [85, 90]]"
   ]
  },
  {
   "cell_type": "code",
   "execution_count": 127,
   "id": "a7cf6cf3-41ba-4fdd-80ff-f3dec2c60745",
   "metadata": {},
   "outputs": [],
   "source": [
    "dataset = tf.data.Dataset.from_tensor_slices(x)"
   ]
  },
  {
   "cell_type": "code",
   "execution_count": 129,
   "id": "dcb707df-80db-4968-8b84-cd6154a6a71b",
   "metadata": {},
   "outputs": [
    {
     "name": "stdout",
     "output_type": "stream",
     "text": [
      "tf.Tensor([10 20], shape=(2,), dtype=int32)\n",
      "tf.Tensor([20 15], shape=(2,), dtype=int32)\n",
      "tf.Tensor([15 15], shape=(2,), dtype=int32)\n",
      "tf.Tensor([80 90], shape=(2,), dtype=int32)\n",
      "tf.Tensor([85 80], shape=(2,), dtype=int32)\n",
      "tf.Tensor([85 90], shape=(2,), dtype=int32)\n"
     ]
    }
   ],
   "source": [
    "for data in dataset:\n",
    "    print(data)"
   ]
  },
  {
   "cell_type": "code",
   "execution_count": 131,
   "id": "28587dc6-e773-4aef-b724-d99b5faafacb",
   "metadata": {},
   "outputs": [],
   "source": [
    "x = [[10, 20],\n",
    "     [20, 15],\n",
    "     [15, 15],\n",
    "     [80, 90],\n",
    "     [85, 80],\n",
    "     [85, 90]]\n",
    "\n",
    "y = [0, 0, 0, 1, 1, 1]"
   ]
  },
  {
   "cell_type": "code",
   "execution_count": 133,
   "id": "d7108303-6181-475b-acf2-0e4df3e7a8dd",
   "metadata": {},
   "outputs": [],
   "source": [
    "dataset = tf.data.Dataset.from_tensor_slices((x, y))"
   ]
  },
  {
   "cell_type": "code",
   "execution_count": 135,
   "id": "3747cb80-8a52-44c7-87db-371add4ae7ea",
   "metadata": {},
   "outputs": [
    {
     "name": "stdout",
     "output_type": "stream",
     "text": [
      "(<tf.Tensor: shape=(2,), dtype=int32, numpy=array([10, 20])>, <tf.Tensor: shape=(), dtype=int32, numpy=0>)\n",
      "(<tf.Tensor: shape=(2,), dtype=int32, numpy=array([20, 15])>, <tf.Tensor: shape=(), dtype=int32, numpy=0>)\n",
      "(<tf.Tensor: shape=(2,), dtype=int32, numpy=array([15, 15])>, <tf.Tensor: shape=(), dtype=int32, numpy=0>)\n",
      "(<tf.Tensor: shape=(2,), dtype=int32, numpy=array([80, 90])>, <tf.Tensor: shape=(), dtype=int32, numpy=1>)\n",
      "(<tf.Tensor: shape=(2,), dtype=int32, numpy=array([85, 80])>, <tf.Tensor: shape=(), dtype=int32, numpy=1>)\n",
      "(<tf.Tensor: shape=(2,), dtype=int32, numpy=array([85, 90])>, <tf.Tensor: shape=(), dtype=int32, numpy=1>)\n"
     ]
    }
   ],
   "source": [
    "for data in dataset:\n",
    "    print(data)"
   ]
  },
  {
   "cell_type": "code",
   "execution_count": 137,
   "id": "60b5b0f5-d008-472e-a137-f16d39eaa655",
   "metadata": {},
   "outputs": [
    {
     "name": "stdout",
     "output_type": "stream",
     "text": [
      "x: [10 20], y: 0\n",
      "x: [20 15], y: 0\n",
      "x: [15 15], y: 0\n",
      "x: [80 90], y: 1\n",
      "x: [85 80], y: 1\n",
      "x: [85 90], y: 1\n"
     ]
    }
   ],
   "source": [
    "for data in dataset:\n",
    "    print(f\"x: {data[0]}, y: {data[1]}\")"
   ]
  },
  {
   "cell_type": "code",
   "execution_count": 139,
   "id": "7d83f9a3-f8a0-40d0-8802-12579f147aaa",
   "metadata": {},
   "outputs": [],
   "source": [
    "import keras"
   ]
  },
  {
   "cell_type": "code",
   "execution_count": 143,
   "id": "d5b6a4b0-f723-4037-a489-9c5493a73adf",
   "metadata": {},
   "outputs": [],
   "source": [
    "train_data, test_data = keras.datasets.california_housing.load_data()\n",
    "\n",
    "x_train, y_train = train_data\n",
    "x_test, y_test = test_data"
   ]
  },
  {
   "cell_type": "code",
   "execution_count": 145,
   "id": "242a50eb-e61f-4d51-ba13-1bb8f297e1ba",
   "metadata": {},
   "outputs": [
    {
     "data": {
      "text/plain": [
       "array([-118.27  ,   34.09  ,   52.    , 2327.    ,  555.    , 1048.    ,\n",
       "        491.    ,    3.7847], dtype=float32)"
      ]
     },
     "execution_count": 145,
     "metadata": {},
     "output_type": "execute_result"
    }
   ],
   "source": [
    "x_train[0]"
   ]
  },
  {
   "cell_type": "code",
   "execution_count": 147,
   "id": "2b50e34e-fb15-4d3d-8fc8-10b38c45c9b4",
   "metadata": {},
   "outputs": [
    {
     "data": {
      "text/plain": [
       "252300.0"
      ]
     },
     "execution_count": 147,
     "metadata": {},
     "output_type": "execute_result"
    }
   ],
   "source": [
    "y_train[0]"
   ]
  },
  {
   "cell_type": "code",
   "execution_count": 149,
   "id": "c6fb3da9-1098-401a-b618-588153f24beb",
   "metadata": {},
   "outputs": [],
   "source": [
    "train_dataset = tf.data.Dataset.from_tensor_slices((x_train, y_train))"
   ]
  },
  {
   "cell_type": "code",
   "execution_count": 153,
   "id": "592c9d63-352c-4195-9e10-0f9c1402cf5d",
   "metadata": {},
   "outputs": [
    {
     "name": "stdout",
     "output_type": "stream",
     "text": [
      "(<tf.Tensor: shape=(8,), dtype=float32, numpy=\n",
      "array([-118.27  ,   34.09  ,   52.    , 2327.    ,  555.    , 1048.    ,\n",
      "        491.    ,    3.7847], dtype=float32)>, <tf.Tensor: shape=(), dtype=float32, numpy=252300.0>)\n"
     ]
    }
   ],
   "source": [
    "for train_data in train_dataset:\n",
    "    print(train_data)\n",
    "    break"
   ]
  }
 ],
 "metadata": {
  "kernelspec": {
   "display_name": "Python 3 (ipykernel)",
   "language": "python",
   "name": "python3"
  },
  "language_info": {
   "codemirror_mode": {
    "name": "ipython",
    "version": 3
   },
   "file_extension": ".py",
   "mimetype": "text/x-python",
   "name": "python",
   "nbconvert_exporter": "python",
   "pygments_lexer": "ipython3",
   "version": "3.12.4"
  }
 },
 "nbformat": 4,
 "nbformat_minor": 5
}
