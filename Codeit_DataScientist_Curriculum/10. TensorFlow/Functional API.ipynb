{
 "cells": [
  {
   "cell_type": "code",
   "execution_count": 1,
   "id": "c4f2f87c-2690-4687-b7b6-6ea31879a253",
   "metadata": {},
   "outputs": [],
   "source": [
    "import tensorflow as tf\n",
    "import keras"
   ]
  },
  {
   "cell_type": "code",
   "execution_count": 3,
   "id": "750e5728-fba9-4a71-a85e-faf85f7fd805",
   "metadata": {},
   "outputs": [],
   "source": [
    "model_sequential = keras.Sequential(\n",
    "    [\n",
    "        keras.Input(shape = (8, )),\n",
    "        keras.layers.Dense(4, activation = \"relu\"),\n",
    "        keras.layers.Dense(6, activation = \"relu\"),\n",
    "        keras.layers.Dense(2, activation = \"softmax\"),\n",
    "    ],\n",
    ")"
   ]
  },
  {
   "cell_type": "code",
   "execution_count": 5,
   "id": "432edbaa-ee32-4e4b-96a4-eae2b5721408",
   "metadata": {},
   "outputs": [
    {
     "name": "stdout",
     "output_type": "stream",
     "text": [
      "11\n"
     ]
    }
   ],
   "source": [
    "def add_one(x):\n",
    "    return x + 1\n",
    "\n",
    "print(add_one(10))"
   ]
  },
  {
   "cell_type": "code",
   "execution_count": 11,
   "id": "27407573-6c8c-4d14-8310-8ec3e315496f",
   "metadata": {},
   "outputs": [],
   "source": [
    "inputs = keras.Input(shape = (8, ))\n",
    "h0 = keras.layers.Dense(4, activation = \"relu\")(inputs)"
   ]
  },
  {
   "cell_type": "code",
   "execution_count": 13,
   "id": "12b0eabd-e8a4-4d74-bb21-5047c6963555",
   "metadata": {},
   "outputs": [],
   "source": [
    "random_tensor = tf.random.normal([2, 8])\n",
    "y = keras.layers.Dense(4, activation = \"relu\")(random_tensor)"
   ]
  },
  {
   "cell_type": "code",
   "execution_count": 15,
   "id": "176aedbe-d388-4bbf-adf1-e97f40facbed",
   "metadata": {},
   "outputs": [
    {
     "name": "stdout",
     "output_type": "stream",
     "text": [
      "h0:\n",
      "<KerasTensor shape=(None, 4), dtype=float32, sparse=False, name=keras_tensor_8>\n",
      "\n",
      "y:\n",
      "[[1.6975296  0.         2.5204387  0.        ]\n",
      " [0.1648444  0.43086553 2.157658   0.        ]]\n"
     ]
    }
   ],
   "source": [
    "print(f\"h0:\\n{h0}\\n\")\n",
    "print(f\"y:\\n{y}\")"
   ]
  },
  {
   "cell_type": "code",
   "execution_count": 17,
   "id": "4b2a0d6c-cc10-4a31-b807-18fa2bed1fc2",
   "metadata": {},
   "outputs": [],
   "source": [
    "inputs = keras.Input(shape = (8, ))\n",
    "h0 = keras.layers.Dense(4, activation = \"relu\")(inputs)\n",
    "h1 = keras.layers.Dense(6, activation = \"relu\")(h0)\n",
    "outputs = keras.layers.Dense(2, activation = \"softmax\")(h1)\n",
    "model = keras.Model(inputs = inputs, outputs = outputs, name = \"My Functional Model\")"
   ]
  },
  {
   "cell_type": "code",
   "execution_count": 19,
   "id": "144a45f9-7375-45b3-945b-562a10a9b026",
   "metadata": {},
   "outputs": [
    {
     "data": {
      "text/html": [
       "<pre style=\"white-space:pre;overflow-x:auto;line-height:normal;font-family:Menlo,'DejaVu Sans Mono',consolas,'Courier New',monospace\"><span style=\"font-weight: bold\">Model: \"My Functional Model\"</span>\n",
       "</pre>\n"
      ],
      "text/plain": [
       "\u001b[1mModel: \"My Functional Model\"\u001b[0m\n"
      ]
     },
     "metadata": {},
     "output_type": "display_data"
    },
    {
     "data": {
      "text/html": [
       "<pre style=\"white-space:pre;overflow-x:auto;line-height:normal;font-family:Menlo,'DejaVu Sans Mono',consolas,'Courier New',monospace\">┏━━━━━━━━━━━━━━━━━━━━━━━━━━━━━━━━━━━━━━┳━━━━━━━━━━━━━━━━━━━━━━━━━━━━━┳━━━━━━━━━━━━━━━━━┓\n",
       "┃<span style=\"font-weight: bold\"> Layer (type)                         </span>┃<span style=\"font-weight: bold\"> Output Shape                </span>┃<span style=\"font-weight: bold\">         Param # </span>┃\n",
       "┡━━━━━━━━━━━━━━━━━━━━━━━━━━━━━━━━━━━━━━╇━━━━━━━━━━━━━━━━━━━━━━━━━━━━━╇━━━━━━━━━━━━━━━━━┩\n",
       "│ input_layer_4 (<span style=\"color: #0087ff; text-decoration-color: #0087ff\">InputLayer</span>)           │ (<span style=\"color: #00d7ff; text-decoration-color: #00d7ff\">None</span>, <span style=\"color: #00af00; text-decoration-color: #00af00\">8</span>)                   │               <span style=\"color: #00af00; text-decoration-color: #00af00\">0</span> │\n",
       "├──────────────────────────────────────┼─────────────────────────────┼─────────────────┤\n",
       "│ dense_7 (<span style=\"color: #0087ff; text-decoration-color: #0087ff\">Dense</span>)                      │ (<span style=\"color: #00d7ff; text-decoration-color: #00d7ff\">None</span>, <span style=\"color: #00af00; text-decoration-color: #00af00\">4</span>)                   │              <span style=\"color: #00af00; text-decoration-color: #00af00\">36</span> │\n",
       "├──────────────────────────────────────┼─────────────────────────────┼─────────────────┤\n",
       "│ dense_8 (<span style=\"color: #0087ff; text-decoration-color: #0087ff\">Dense</span>)                      │ (<span style=\"color: #00d7ff; text-decoration-color: #00d7ff\">None</span>, <span style=\"color: #00af00; text-decoration-color: #00af00\">6</span>)                   │              <span style=\"color: #00af00; text-decoration-color: #00af00\">30</span> │\n",
       "├──────────────────────────────────────┼─────────────────────────────┼─────────────────┤\n",
       "│ dense_9 (<span style=\"color: #0087ff; text-decoration-color: #0087ff\">Dense</span>)                      │ (<span style=\"color: #00d7ff; text-decoration-color: #00d7ff\">None</span>, <span style=\"color: #00af00; text-decoration-color: #00af00\">2</span>)                   │              <span style=\"color: #00af00; text-decoration-color: #00af00\">14</span> │\n",
       "└──────────────────────────────────────┴─────────────────────────────┴─────────────────┘\n",
       "</pre>\n"
      ],
      "text/plain": [
       "┏━━━━━━━━━━━━━━━━━━━━━━━━━━━━━━━━━━━━━━┳━━━━━━━━━━━━━━━━━━━━━━━━━━━━━┳━━━━━━━━━━━━━━━━━┓\n",
       "┃\u001b[1m \u001b[0m\u001b[1mLayer (type)                        \u001b[0m\u001b[1m \u001b[0m┃\u001b[1m \u001b[0m\u001b[1mOutput Shape               \u001b[0m\u001b[1m \u001b[0m┃\u001b[1m \u001b[0m\u001b[1m        Param #\u001b[0m\u001b[1m \u001b[0m┃\n",
       "┡━━━━━━━━━━━━━━━━━━━━━━━━━━━━━━━━━━━━━━╇━━━━━━━━━━━━━━━━━━━━━━━━━━━━━╇━━━━━━━━━━━━━━━━━┩\n",
       "│ input_layer_4 (\u001b[38;5;33mInputLayer\u001b[0m)           │ (\u001b[38;5;45mNone\u001b[0m, \u001b[38;5;34m8\u001b[0m)                   │               \u001b[38;5;34m0\u001b[0m │\n",
       "├──────────────────────────────────────┼─────────────────────────────┼─────────────────┤\n",
       "│ dense_7 (\u001b[38;5;33mDense\u001b[0m)                      │ (\u001b[38;5;45mNone\u001b[0m, \u001b[38;5;34m4\u001b[0m)                   │              \u001b[38;5;34m36\u001b[0m │\n",
       "├──────────────────────────────────────┼─────────────────────────────┼─────────────────┤\n",
       "│ dense_8 (\u001b[38;5;33mDense\u001b[0m)                      │ (\u001b[38;5;45mNone\u001b[0m, \u001b[38;5;34m6\u001b[0m)                   │              \u001b[38;5;34m30\u001b[0m │\n",
       "├──────────────────────────────────────┼─────────────────────────────┼─────────────────┤\n",
       "│ dense_9 (\u001b[38;5;33mDense\u001b[0m)                      │ (\u001b[38;5;45mNone\u001b[0m, \u001b[38;5;34m2\u001b[0m)                   │              \u001b[38;5;34m14\u001b[0m │\n",
       "└──────────────────────────────────────┴─────────────────────────────┴─────────────────┘\n"
      ]
     },
     "metadata": {},
     "output_type": "display_data"
    },
    {
     "data": {
      "text/html": [
       "<pre style=\"white-space:pre;overflow-x:auto;line-height:normal;font-family:Menlo,'DejaVu Sans Mono',consolas,'Courier New',monospace\"><span style=\"font-weight: bold\"> Total params: </span><span style=\"color: #00af00; text-decoration-color: #00af00\">80</span> (320.00 B)\n",
       "</pre>\n"
      ],
      "text/plain": [
       "\u001b[1m Total params: \u001b[0m\u001b[38;5;34m80\u001b[0m (320.00 B)\n"
      ]
     },
     "metadata": {},
     "output_type": "display_data"
    },
    {
     "data": {
      "text/html": [
       "<pre style=\"white-space:pre;overflow-x:auto;line-height:normal;font-family:Menlo,'DejaVu Sans Mono',consolas,'Courier New',monospace\"><span style=\"font-weight: bold\"> Trainable params: </span><span style=\"color: #00af00; text-decoration-color: #00af00\">80</span> (320.00 B)\n",
       "</pre>\n"
      ],
      "text/plain": [
       "\u001b[1m Trainable params: \u001b[0m\u001b[38;5;34m80\u001b[0m (320.00 B)\n"
      ]
     },
     "metadata": {},
     "output_type": "display_data"
    },
    {
     "data": {
      "text/html": [
       "<pre style=\"white-space:pre;overflow-x:auto;line-height:normal;font-family:Menlo,'DejaVu Sans Mono',consolas,'Courier New',monospace\"><span style=\"font-weight: bold\"> Non-trainable params: </span><span style=\"color: #00af00; text-decoration-color: #00af00\">0</span> (0.00 B)\n",
       "</pre>\n"
      ],
      "text/plain": [
       "\u001b[1m Non-trainable params: \u001b[0m\u001b[38;5;34m0\u001b[0m (0.00 B)\n"
      ]
     },
     "metadata": {},
     "output_type": "display_data"
    }
   ],
   "source": [
    "model.summary()"
   ]
  },
  {
   "cell_type": "code",
   "execution_count": 21,
   "id": "cb218ee6-bb6b-4149-af26-c8111e35f708",
   "metadata": {},
   "outputs": [],
   "source": [
    "random_input = tf.random.normal([3, 8])\n",
    "y = model(random_input)"
   ]
  },
  {
   "cell_type": "code",
   "execution_count": 23,
   "id": "007e719d-38c5-414a-82c5-4e6c86326fc6",
   "metadata": {},
   "outputs": [
    {
     "name": "stdout",
     "output_type": "stream",
     "text": [
      "출력 텐서 shape: (3, 2)\n"
     ]
    }
   ],
   "source": [
    "print(f\"출력 텐서 shape: {y.shape}\")"
   ]
  },
  {
   "cell_type": "code",
   "execution_count": 25,
   "id": "3345f4e5-57d9-42be-8117-873e07ed513e",
   "metadata": {},
   "outputs": [],
   "source": [
    "# Functional API로 복잡한 모델 만들기"
   ]
  },
  {
   "cell_type": "code",
   "execution_count": 29,
   "id": "4c41575a-16d9-49a5-88a4-d71e85b27c28",
   "metadata": {},
   "outputs": [],
   "source": [
    "inputs0 = keras.Input(shape = (4, ))\n",
    "h0_0 = keras.layers.Dense(8, activation = \"relu\")(inputs0)\n",
    "\n",
    "inputs1 = keras.Input(shape = (6, ))\n",
    "h0_1 = keras.layers.Dense(4, activation = \"relu\")(inputs1)\n",
    "\n",
    "inputs2 = keras.Input(shape = (2, ))\n",
    "\n",
    "h1 = keras.layers.Concatenate()([h0_0, h0_1, inputs2])\n",
    "\n",
    "outputs0 = keras.layers.Dense(8)(h1)\n",
    "outputs1 = keras.layers.Dense(2)(h1)\n",
    "\n",
    "model = keras.Model(\n",
    "    inputs = [inputs0, inputs1, inputs2],\n",
    "    outputs = [outputs0, outputs1],\n",
    ")"
   ]
  },
  {
   "cell_type": "code",
   "execution_count": 43,
   "id": "1c66e257-85e5-4e56-b895-502a52eb0338",
   "metadata": {},
   "outputs": [],
   "source": [
    "x0 = tf.random.normal([3, 4])\n",
    "x1 = tf.random.normal([3, 6])\n",
    "x2 = tf.random.normal([3, 2])\n",
    "\n",
    "y = model([x0, x1, x2])"
   ]
  },
  {
   "cell_type": "code",
   "execution_count": 45,
   "id": "2142a4b7-d1ea-4851-b003-e0322cb19ebd",
   "metadata": {},
   "outputs": [
    {
     "data": {
      "text/plain": [
       "[<tf.Tensor: shape=(3, 8), dtype=float32, numpy=\n",
       " array([[-0.3954648 , -0.00264072, -0.7168668 ,  0.54537964,  0.20280641,\n",
       "          0.42920673, -0.44134167, -0.07733229],\n",
       "        [-0.5817325 ,  0.21766317, -0.44830745,  0.48394904, -0.79013693,\n",
       "          0.5452383 ,  0.05320725,  0.5450447 ],\n",
       "        [-1.4381207 ,  0.5246835 , -0.429006  ,  0.55778587, -0.34462965,\n",
       "          0.75060964,  0.61465305, -0.00283945]], dtype=float32)>,\n",
       " <tf.Tensor: shape=(3, 2), dtype=float32, numpy=\n",
       " array([[-1.553304  ,  0.8736481 ],\n",
       "        [-0.23739845,  0.76540864],\n",
       "        [-0.87494963,  0.5950003 ]], dtype=float32)>]"
      ]
     },
     "execution_count": 45,
     "metadata": {},
     "output_type": "execute_result"
    }
   ],
   "source": [
    "y"
   ]
  },
  {
   "cell_type": "code",
   "execution_count": null,
   "id": "5f56f926-9d9f-424e-b962-3cd1f514f30c",
   "metadata": {},
   "outputs": [],
   "source": []
  }
 ],
 "metadata": {
  "kernelspec": {
   "display_name": "Python 3 (ipykernel)",
   "language": "python",
   "name": "python3"
  },
  "language_info": {
   "codemirror_mode": {
    "name": "ipython",
    "version": 3
   },
   "file_extension": ".py",
   "mimetype": "text/x-python",
   "name": "python",
   "nbconvert_exporter": "python",
   "pygments_lexer": "ipython3",
   "version": "3.12.4"
  }
 },
 "nbformat": 4,
 "nbformat_minor": 5
}
