{
 "cells": [
  {
   "cell_type": "code",
   "execution_count": 1,
   "id": "1adf8715-8945-4769-b09b-9e93ff1855b6",
   "metadata": {},
   "outputs": [],
   "source": [
    "import tensorflow as tf\n",
    "import keras"
   ]
  },
  {
   "cell_type": "code",
   "execution_count": 3,
   "id": "fbd9a3f6-4a7e-4424-a801-beeb83da43d9",
   "metadata": {},
   "outputs": [],
   "source": [
    "def print_dataset(dataset):\n",
    "    for data in dataset:\n",
    "        print(data)"
   ]
  },
  {
   "cell_type": "code",
   "execution_count": 5,
   "id": "26934137-01ca-4568-9122-fbdaa09a4555",
   "metadata": {},
   "outputs": [],
   "source": [
    "x = [[0,0], [1,-1], [2,-2], [3,-3], [4,-4], [5,-5]]\n",
    "dataset = tf.data.Dataset.from_tensor_slices(x)"
   ]
  },
  {
   "cell_type": "code",
   "execution_count": 7,
   "id": "c7f9d7d9-d191-4541-8abd-2fcf29cc1131",
   "metadata": {},
   "outputs": [
    {
     "name": "stdout",
     "output_type": "stream",
     "text": [
      "tf.Tensor([0 0], shape=(2,), dtype=int32)\n",
      "tf.Tensor([ 1 -1], shape=(2,), dtype=int32)\n",
      "tf.Tensor([ 2 -2], shape=(2,), dtype=int32)\n",
      "tf.Tensor([ 3 -3], shape=(2,), dtype=int32)\n",
      "tf.Tensor([ 4 -4], shape=(2,), dtype=int32)\n",
      "tf.Tensor([ 5 -5], shape=(2,), dtype=int32)\n"
     ]
    }
   ],
   "source": [
    "print_dataset(dataset)"
   ]
  },
  {
   "cell_type": "code",
   "execution_count": 9,
   "id": "4b988b70-8d76-467e-be36-f6b4e79927d4",
   "metadata": {},
   "outputs": [],
   "source": [
    "dataset_batch = dataset.batch(2)"
   ]
  },
  {
   "cell_type": "code",
   "execution_count": 11,
   "id": "12327dbd-036a-47fd-938a-0404ab13bbd2",
   "metadata": {},
   "outputs": [
    {
     "name": "stdout",
     "output_type": "stream",
     "text": [
      "tf.Tensor(\n",
      "[[ 0  0]\n",
      " [ 1 -1]], shape=(2, 2), dtype=int32)\n",
      "tf.Tensor(\n",
      "[[ 2 -2]\n",
      " [ 3 -3]], shape=(2, 2), dtype=int32)\n",
      "tf.Tensor(\n",
      "[[ 4 -4]\n",
      " [ 5 -5]], shape=(2, 2), dtype=int32)\n"
     ]
    }
   ],
   "source": [
    "print_dataset(dataset_batch)"
   ]
  },
  {
   "cell_type": "code",
   "execution_count": 13,
   "id": "6ca192f9-5f05-4c25-80a3-b8718e8aaa07",
   "metadata": {},
   "outputs": [],
   "source": [
    "dataset_batch = dataset.batch(4)"
   ]
  },
  {
   "cell_type": "code",
   "execution_count": 15,
   "id": "6d7a2d4e-27b4-4c5c-990f-3b4887895141",
   "metadata": {},
   "outputs": [
    {
     "name": "stdout",
     "output_type": "stream",
     "text": [
      "tf.Tensor(\n",
      "[[ 0  0]\n",
      " [ 1 -1]\n",
      " [ 2 -2]\n",
      " [ 3 -3]], shape=(4, 2), dtype=int32)\n",
      "tf.Tensor(\n",
      "[[ 4 -4]\n",
      " [ 5 -5]], shape=(2, 2), dtype=int32)\n"
     ]
    }
   ],
   "source": [
    "print_dataset(dataset_batch)"
   ]
  },
  {
   "cell_type": "code",
   "execution_count": 17,
   "id": "0c7da907-5841-4872-837c-c66b2af2567c",
   "metadata": {},
   "outputs": [],
   "source": [
    "dataset_batch = dataset.batch(4, drop_remainder = True)"
   ]
  },
  {
   "cell_type": "code",
   "execution_count": 19,
   "id": "925e7d2f-6b6f-4f83-a7fc-28efb38d49c6",
   "metadata": {},
   "outputs": [
    {
     "name": "stdout",
     "output_type": "stream",
     "text": [
      "tf.Tensor(\n",
      "[[ 0  0]\n",
      " [ 1 -1]\n",
      " [ 2 -2]\n",
      " [ 3 -3]], shape=(4, 2), dtype=int32)\n"
     ]
    }
   ],
   "source": [
    "print_dataset(dataset_batch)"
   ]
  },
  {
   "cell_type": "code",
   "execution_count": 21,
   "id": "8cf8da64-1b3b-4715-b847-9a2986549576",
   "metadata": {},
   "outputs": [],
   "source": [
    "dataset_shuffle = dataset.shuffle(buffer_size = 4)"
   ]
  },
  {
   "cell_type": "code",
   "execution_count": 23,
   "id": "68bfd654-1160-4d1e-aa49-d807d3e16739",
   "metadata": {},
   "outputs": [
    {
     "name": "stdout",
     "output_type": "stream",
     "text": [
      "tf.Tensor([ 1 -1], shape=(2,), dtype=int32)\n",
      "tf.Tensor([ 4 -4], shape=(2,), dtype=int32)\n",
      "tf.Tensor([ 3 -3], shape=(2,), dtype=int32)\n",
      "tf.Tensor([ 2 -2], shape=(2,), dtype=int32)\n",
      "tf.Tensor([0 0], shape=(2,), dtype=int32)\n",
      "tf.Tensor([ 5 -5], shape=(2,), dtype=int32)\n"
     ]
    }
   ],
   "source": [
    "print_dataset(dataset_shuffle)"
   ]
  },
  {
   "cell_type": "code",
   "execution_count": 27,
   "id": "986dbab2-1c1a-4638-b466-68e08f0a4e6e",
   "metadata": {},
   "outputs": [],
   "source": [
    "dataset_shuffle = dataset.shuffle(buffer_size = dataset.cardinality())"
   ]
  },
  {
   "cell_type": "code",
   "execution_count": 29,
   "id": "6f06c104-2836-45db-8c08-c45ceb9578dd",
   "metadata": {},
   "outputs": [
    {
     "name": "stdout",
     "output_type": "stream",
     "text": [
      "\n",
      "Epoch 0\n",
      "tf.Tensor([ 5 -5], shape=(2,), dtype=int32)\n",
      "tf.Tensor([ 3 -3], shape=(2,), dtype=int32)\n",
      "tf.Tensor([ 4 -4], shape=(2,), dtype=int32)\n",
      "tf.Tensor([0 0], shape=(2,), dtype=int32)\n",
      "tf.Tensor([ 1 -1], shape=(2,), dtype=int32)\n",
      "tf.Tensor([ 2 -2], shape=(2,), dtype=int32)\n",
      "\n",
      "Epoch 1\n",
      "tf.Tensor([0 0], shape=(2,), dtype=int32)\n",
      "tf.Tensor([ 2 -2], shape=(2,), dtype=int32)\n",
      "tf.Tensor([ 1 -1], shape=(2,), dtype=int32)\n",
      "tf.Tensor([ 4 -4], shape=(2,), dtype=int32)\n",
      "tf.Tensor([ 3 -3], shape=(2,), dtype=int32)\n",
      "tf.Tensor([ 5 -5], shape=(2,), dtype=int32)\n",
      "\n",
      "Epoch 2\n",
      "tf.Tensor([ 5 -5], shape=(2,), dtype=int32)\n",
      "tf.Tensor([ 1 -1], shape=(2,), dtype=int32)\n",
      "tf.Tensor([0 0], shape=(2,), dtype=int32)\n",
      "tf.Tensor([ 3 -3], shape=(2,), dtype=int32)\n",
      "tf.Tensor([ 2 -2], shape=(2,), dtype=int32)\n",
      "tf.Tensor([ 4 -4], shape=(2,), dtype=int32)\n"
     ]
    }
   ],
   "source": [
    "epochs = 3\n",
    "\n",
    "for e in range(epochs):\n",
    "    print(f\"\\nEpoch {e}\")\n",
    "    print_dataset(dataset_shuffle)"
   ]
  },
  {
   "cell_type": "code",
   "execution_count": 33,
   "id": "97d708ff-0bfa-4fa9-bbd7-ef7a7fa492e5",
   "metadata": {},
   "outputs": [],
   "source": [
    "dataset = tf.data.Dataset.from_tensor_slices([1,2,3,4])"
   ]
  },
  {
   "cell_type": "code",
   "execution_count": 35,
   "id": "cf6044e3-a77c-47a6-a8c0-4746fc552fb2",
   "metadata": {},
   "outputs": [
    {
     "name": "stdout",
     "output_type": "stream",
     "text": [
      "tf.Tensor(1, shape=(), dtype=int32)\n",
      "tf.Tensor(2, shape=(), dtype=int32)\n",
      "tf.Tensor(3, shape=(), dtype=int32)\n",
      "tf.Tensor(4, shape=(), dtype=int32)\n"
     ]
    }
   ],
   "source": [
    "print_dataset(dataset)"
   ]
  },
  {
   "cell_type": "code",
   "execution_count": 37,
   "id": "59cd0aaf-74da-400a-9d51-eaf3432fb4b8",
   "metadata": {},
   "outputs": [],
   "source": [
    "def preprocess_double(num):\n",
    "    return 2 * num\n",
    "\n",
    "dataset_doubled = dataset.map(preprocess_double)"
   ]
  },
  {
   "cell_type": "code",
   "execution_count": 39,
   "id": "baf95e7c-85d5-4fe6-a065-a36ce6b82a20",
   "metadata": {},
   "outputs": [
    {
     "name": "stdout",
     "output_type": "stream",
     "text": [
      "tf.Tensor(2, shape=(), dtype=int32)\n",
      "tf.Tensor(4, shape=(), dtype=int32)\n",
      "tf.Tensor(6, shape=(), dtype=int32)\n",
      "tf.Tensor(8, shape=(), dtype=int32)\n"
     ]
    }
   ],
   "source": [
    "print_dataset(dataset_doubled)"
   ]
  },
  {
   "cell_type": "code",
   "execution_count": 41,
   "id": "39a71855-408d-4cd0-8e3e-06de83dedf91",
   "metadata": {},
   "outputs": [
    {
     "name": "stdout",
     "output_type": "stream",
     "text": [
      "tf.Tensor(2, shape=(), dtype=int32)\n",
      "tf.Tensor(4, shape=(), dtype=int32)\n",
      "tf.Tensor(6, shape=(), dtype=int32)\n",
      "tf.Tensor(8, shape=(), dtype=int32)\n"
     ]
    }
   ],
   "source": [
    "dataset_doubled = dataset.map(lambda x : x*2)\n",
    "print_dataset(dataset_doubled)"
   ]
  },
  {
   "cell_type": "code",
   "execution_count": 43,
   "id": "773449bf-428a-4c4a-8ca3-7e5b1ec8c356",
   "metadata": {},
   "outputs": [],
   "source": [
    "import glob\n",
    "import matplotlib.pyplot as plt"
   ]
  },
  {
   "cell_type": "code",
   "execution_count": 55,
   "id": "5068ba5f-fd59-4ef6-bb8d-6ccc77296667",
   "metadata": {},
   "outputs": [],
   "source": [
    "image_root = keras.utils.get_file(\n",
    "    \"flower_photos\",\n",
    "    \"https://storage.googleapis.com/download.tensorflow.org/example_images/flower_photos.tgz\",\n",
    "    untar = True,\n",
    ")"
   ]
  },
  {
   "cell_type": "code",
   "execution_count": 56,
   "id": "8f41a027-c7d6-4d10-b7b1-31ea70fcc613",
   "metadata": {},
   "outputs": [],
   "source": [
    "image_files = glob.glob(f\"{image_root}/*/*.jpg\")"
   ]
  },
  {
   "cell_type": "code",
   "execution_count": 57,
   "id": "e59e3889-7226-426a-9f3c-50b496341a79",
   "metadata": {},
   "outputs": [
    {
     "data": {
      "text/plain": [
       "[]"
      ]
     },
     "execution_count": 57,
     "metadata": {},
     "output_type": "execute_result"
    }
   ],
   "source": [
    "image_files[:10]"
   ]
  },
  {
   "cell_type": "code",
   "execution_count": 61,
   "id": "715aa084-4851-411b-89e9-1cce6ef787a0",
   "metadata": {},
   "outputs": [],
   "source": [
    "filepath_dataset = tf.data.Dataset.from_tensor_slices(image_files).take(5)"
   ]
  },
  {
   "cell_type": "code",
   "execution_count": 63,
   "id": "8d78ebd4-4178-46e5-a705-c89c288c2886",
   "metadata": {},
   "outputs": [],
   "source": [
    "print_dataset(filepath_dataset)"
   ]
  },
  {
   "cell_type": "code",
   "execution_count": null,
   "id": "c4c4772d-e920-4bae-86f0-1f4f9c2a370b",
   "metadata": {},
   "outputs": [],
   "source": [
    "def parse_image(file_path):\n",
    "    raw = tf.io.read_file(file_path)\n",
    "    image = tf.io.decode_jpeg(raw)\n",
    "    return image\n",
    "\n",
    "image_dataset = filepath_dataset.map(parse_image)"
   ]
  },
  {
   "cell_type": "code",
   "execution_count": null,
   "id": "f1c89273-f898-49d1-b3c4-6f27e49e8315",
   "metadata": {},
   "outputs": [],
   "source": [
    "def show_image(image):\n",
    "    plt.figure()\n",
    "    plt.imshow(image)\n",
    "    plt.axis(\"off\")"
   ]
  },
  {
   "cell_type": "code",
   "execution_count": null,
   "id": "c2903f19-da92-4d4c-944a-8d2757bb832f",
   "metadata": {},
   "outputs": [],
   "source": [
    "for image in image_dataset:\n",
    "    show_image(image)"
   ]
  },
  {
   "cell_type": "code",
   "execution_count": 67,
   "id": "2d95e2c7-9d34-4ba9-acc5-af87779497b7",
   "metadata": {},
   "outputs": [],
   "source": [
    "layer = keras.layers.Normalization(axis = None)\n",
    "\n",
    "adapt_data = tf.constant([1,2,3,4,5])\n",
    "layer.adapt(adapt_data)"
   ]
  },
  {
   "cell_type": "code",
   "execution_count": 69,
   "id": "5a6254f1-42ab-42ba-982e-3d1348aa5aab",
   "metadata": {},
   "outputs": [
    {
     "data": {
      "text/plain": [
       "<tf.Tensor: shape=(4,), dtype=float32, numpy=array([-2.828427  , -0.70710677,  0.        ,  1.4142135 ], dtype=float32)>"
      ]
     },
     "execution_count": 69,
     "metadata": {},
     "output_type": "execute_result"
    }
   ],
   "source": [
    "layer(tf.constant([-1,2,3,5]))"
   ]
  },
  {
   "cell_type": "code",
   "execution_count": 71,
   "id": "17eed578-ab85-4861-a0d8-ab736d092b96",
   "metadata": {},
   "outputs": [],
   "source": [
    "layer_denorm = keras.layers.Normalization(axis = None, invert = True)\n",
    "layer_denorm.adapt(adapt_data)"
   ]
  },
  {
   "cell_type": "code",
   "execution_count": 75,
   "id": "4670a73c-d938-4c07-9437-e764f3189828",
   "metadata": {},
   "outputs": [
    {
     "data": {
      "text/plain": [
       "<tf.Tensor: shape=(3,), dtype=float32, numpy=array([-0.99999976,  3.        ,  6.        ], dtype=float32)>"
      ]
     },
     "execution_count": 75,
     "metadata": {},
     "output_type": "execute_result"
    }
   ],
   "source": [
    "normalized = layer(tf.constant([-1, 3, 6]))\n",
    "layer_denorm(normalized)"
   ]
  },
  {
   "cell_type": "code",
   "execution_count": 77,
   "id": "6321560b-d888-4d72-8116-94f708580eed",
   "metadata": {},
   "outputs": [
    {
     "data": {
      "text/plain": [
       "<tf.Tensor: shape=(3, 5), dtype=float32, numpy=\n",
       "array([[0., 0., 0., 1., 0.],\n",
       "       [1., 0., 0., 0., 0.],\n",
       "       [0., 0., 0., 0., 1.]], dtype=float32)>"
      ]
     },
     "execution_count": 77,
     "metadata": {},
     "output_type": "execute_result"
    }
   ],
   "source": [
    "layer = keras.layers.CategoryEncoding(num_tokens = 5, output_mode = \"one_hot\")\n",
    "layer([3,0,4])"
   ]
  },
  {
   "cell_type": "code",
   "execution_count": 79,
   "id": "607a8c93-279b-4cdf-8622-2fed7bd1c450",
   "metadata": {},
   "outputs": [
    {
     "data": {
      "text/plain": [
       "<tf.Tensor: shape=(3, 5), dtype=float32, numpy=\n",
       "array([[1., 0., 0., 1., 0.],\n",
       "       [0., 1., 1., 0., 0.],\n",
       "       [1., 0., 0., 0., 1.]], dtype=float32)>"
      ]
     },
     "execution_count": 79,
     "metadata": {},
     "output_type": "execute_result"
    }
   ],
   "source": [
    "layer = keras.layers.CategoryEncoding(num_tokens = 5, output_mode = \"multi_hot\")\n",
    "layer([[3, 0], [1, 2], [0, 4]])"
   ]
  },
  {
   "cell_type": "code",
   "execution_count": 81,
   "id": "8108592e-7d82-4505-8a58-ec115bfaa242",
   "metadata": {},
   "outputs": [],
   "source": [
    "category_dataset = tf.data.Dataset.from_tensor_slices([1,2,3,4])\n",
    "encoding_layer = keras.layers.CategoryEncoding(num_tokens = 5, output_mode = \"one_hot\")"
   ]
  },
  {
   "cell_type": "code",
   "execution_count": 83,
   "id": "9d58d9d7-7a7a-426b-b5d3-0109c93b4df7",
   "metadata": {},
   "outputs": [],
   "source": [
    "encoded_dataset = category_dataset.map(encoding_layer)"
   ]
  },
  {
   "cell_type": "code",
   "execution_count": 85,
   "id": "9df66059-8903-4913-919c-5489b9b80841",
   "metadata": {},
   "outputs": [
    {
     "name": "stdout",
     "output_type": "stream",
     "text": [
      "tf.Tensor([[0. 1. 0. 0. 0.]], shape=(1, 5), dtype=float32)\n",
      "tf.Tensor([[0. 0. 1. 0. 0.]], shape=(1, 5), dtype=float32)\n",
      "tf.Tensor([[0. 0. 0. 1. 0.]], shape=(1, 5), dtype=float32)\n",
      "tf.Tensor([[0. 0. 0. 0. 1.]], shape=(1, 5), dtype=float32)\n"
     ]
    }
   ],
   "source": [
    "print_dataset(encoded_dataset)"
   ]
  },
  {
   "cell_type": "code",
   "execution_count": 87,
   "id": "6fa12522-e88f-49ca-9ab3-5c8a3badc532",
   "metadata": {},
   "outputs": [],
   "source": [
    "x_train = tf.random.normal([1000, 10])\n",
    "\n",
    "normalizer = keras.layers.Normalization()\n",
    "normalizer.adapt(x_train)"
   ]
  },
  {
   "cell_type": "code",
   "execution_count": 89,
   "id": "e5758b80-f6da-48dd-8749-10e91522c7d6",
   "metadata": {},
   "outputs": [],
   "source": [
    "model = keras.Sequential(\n",
    "    [\n",
    "        keras.Input(shape = (10, )),\n",
    "        normalizer,\n",
    "        keras.layers.Dense(4, activation = \"relu\"),\n",
    "        keras.layers.Dense(6, activation = \"relu\"),\n",
    "        keras.layers.Dense(2),\n",
    "    ]\n",
    ")"
   ]
  },
  {
   "cell_type": "code",
   "execution_count": 91,
   "id": "a898b99e-e94b-4d00-a1e8-f1d673fba5a8",
   "metadata": {},
   "outputs": [
    {
     "data": {
      "text/html": [
       "<pre style=\"white-space:pre;overflow-x:auto;line-height:normal;font-family:Menlo,'DejaVu Sans Mono',consolas,'Courier New',monospace\"><span style=\"font-weight: bold\">Model: \"sequential\"</span>\n",
       "</pre>\n"
      ],
      "text/plain": [
       "\u001b[1mModel: \"sequential\"\u001b[0m\n"
      ]
     },
     "metadata": {},
     "output_type": "display_data"
    },
    {
     "data": {
      "text/html": [
       "<pre style=\"white-space:pre;overflow-x:auto;line-height:normal;font-family:Menlo,'DejaVu Sans Mono',consolas,'Courier New',monospace\">┏━━━━━━━━━━━━━━━━━━━━━━━━━━━━━━━━━━━━━━┳━━━━━━━━━━━━━━━━━━━━━━━━━━━━━┳━━━━━━━━━━━━━━━━━┓\n",
       "┃<span style=\"font-weight: bold\"> Layer (type)                         </span>┃<span style=\"font-weight: bold\"> Output Shape                </span>┃<span style=\"font-weight: bold\">         Param # </span>┃\n",
       "┡━━━━━━━━━━━━━━━━━━━━━━━━━━━━━━━━━━━━━━╇━━━━━━━━━━━━━━━━━━━━━━━━━━━━━╇━━━━━━━━━━━━━━━━━┩\n",
       "│ normalization_2 (<span style=\"color: #0087ff; text-decoration-color: #0087ff\">Normalization</span>)      │ (<span style=\"color: #00d7ff; text-decoration-color: #00d7ff\">None</span>, <span style=\"color: #00af00; text-decoration-color: #00af00\">10</span>)                  │              <span style=\"color: #00af00; text-decoration-color: #00af00\">21</span> │\n",
       "├──────────────────────────────────────┼─────────────────────────────┼─────────────────┤\n",
       "│ dense (<span style=\"color: #0087ff; text-decoration-color: #0087ff\">Dense</span>)                        │ (<span style=\"color: #00d7ff; text-decoration-color: #00d7ff\">None</span>, <span style=\"color: #00af00; text-decoration-color: #00af00\">4</span>)                   │              <span style=\"color: #00af00; text-decoration-color: #00af00\">44</span> │\n",
       "├──────────────────────────────────────┼─────────────────────────────┼─────────────────┤\n",
       "│ dense_1 (<span style=\"color: #0087ff; text-decoration-color: #0087ff\">Dense</span>)                      │ (<span style=\"color: #00d7ff; text-decoration-color: #00d7ff\">None</span>, <span style=\"color: #00af00; text-decoration-color: #00af00\">6</span>)                   │              <span style=\"color: #00af00; text-decoration-color: #00af00\">30</span> │\n",
       "├──────────────────────────────────────┼─────────────────────────────┼─────────────────┤\n",
       "│ dense_2 (<span style=\"color: #0087ff; text-decoration-color: #0087ff\">Dense</span>)                      │ (<span style=\"color: #00d7ff; text-decoration-color: #00d7ff\">None</span>, <span style=\"color: #00af00; text-decoration-color: #00af00\">2</span>)                   │              <span style=\"color: #00af00; text-decoration-color: #00af00\">14</span> │\n",
       "└──────────────────────────────────────┴─────────────────────────────┴─────────────────┘\n",
       "</pre>\n"
      ],
      "text/plain": [
       "┏━━━━━━━━━━━━━━━━━━━━━━━━━━━━━━━━━━━━━━┳━━━━━━━━━━━━━━━━━━━━━━━━━━━━━┳━━━━━━━━━━━━━━━━━┓\n",
       "┃\u001b[1m \u001b[0m\u001b[1mLayer (type)                        \u001b[0m\u001b[1m \u001b[0m┃\u001b[1m \u001b[0m\u001b[1mOutput Shape               \u001b[0m\u001b[1m \u001b[0m┃\u001b[1m \u001b[0m\u001b[1m        Param #\u001b[0m\u001b[1m \u001b[0m┃\n",
       "┡━━━━━━━━━━━━━━━━━━━━━━━━━━━━━━━━━━━━━━╇━━━━━━━━━━━━━━━━━━━━━━━━━━━━━╇━━━━━━━━━━━━━━━━━┩\n",
       "│ normalization_2 (\u001b[38;5;33mNormalization\u001b[0m)      │ (\u001b[38;5;45mNone\u001b[0m, \u001b[38;5;34m10\u001b[0m)                  │              \u001b[38;5;34m21\u001b[0m │\n",
       "├──────────────────────────────────────┼─────────────────────────────┼─────────────────┤\n",
       "│ dense (\u001b[38;5;33mDense\u001b[0m)                        │ (\u001b[38;5;45mNone\u001b[0m, \u001b[38;5;34m4\u001b[0m)                   │              \u001b[38;5;34m44\u001b[0m │\n",
       "├──────────────────────────────────────┼─────────────────────────────┼─────────────────┤\n",
       "│ dense_1 (\u001b[38;5;33mDense\u001b[0m)                      │ (\u001b[38;5;45mNone\u001b[0m, \u001b[38;5;34m6\u001b[0m)                   │              \u001b[38;5;34m30\u001b[0m │\n",
       "├──────────────────────────────────────┼─────────────────────────────┼─────────────────┤\n",
       "│ dense_2 (\u001b[38;5;33mDense\u001b[0m)                      │ (\u001b[38;5;45mNone\u001b[0m, \u001b[38;5;34m2\u001b[0m)                   │              \u001b[38;5;34m14\u001b[0m │\n",
       "└──────────────────────────────────────┴─────────────────────────────┴─────────────────┘\n"
      ]
     },
     "metadata": {},
     "output_type": "display_data"
    },
    {
     "data": {
      "text/html": [
       "<pre style=\"white-space:pre;overflow-x:auto;line-height:normal;font-family:Menlo,'DejaVu Sans Mono',consolas,'Courier New',monospace\"><span style=\"font-weight: bold\"> Total params: </span><span style=\"color: #00af00; text-decoration-color: #00af00\">109</span> (440.00 B)\n",
       "</pre>\n"
      ],
      "text/plain": [
       "\u001b[1m Total params: \u001b[0m\u001b[38;5;34m109\u001b[0m (440.00 B)\n"
      ]
     },
     "metadata": {},
     "output_type": "display_data"
    },
    {
     "data": {
      "text/html": [
       "<pre style=\"white-space:pre;overflow-x:auto;line-height:normal;font-family:Menlo,'DejaVu Sans Mono',consolas,'Courier New',monospace\"><span style=\"font-weight: bold\"> Trainable params: </span><span style=\"color: #00af00; text-decoration-color: #00af00\">88</span> (352.00 B)\n",
       "</pre>\n"
      ],
      "text/plain": [
       "\u001b[1m Trainable params: \u001b[0m\u001b[38;5;34m88\u001b[0m (352.00 B)\n"
      ]
     },
     "metadata": {},
     "output_type": "display_data"
    },
    {
     "data": {
      "text/html": [
       "<pre style=\"white-space:pre;overflow-x:auto;line-height:normal;font-family:Menlo,'DejaVu Sans Mono',consolas,'Courier New',monospace\"><span style=\"font-weight: bold\"> Non-trainable params: </span><span style=\"color: #00af00; text-decoration-color: #00af00\">21</span> (88.00 B)\n",
       "</pre>\n"
      ],
      "text/plain": [
       "\u001b[1m Non-trainable params: \u001b[0m\u001b[38;5;34m21\u001b[0m (88.00 B)\n"
      ]
     },
     "metadata": {},
     "output_type": "display_data"
    }
   ],
   "source": [
    "model.summary()"
   ]
  },
  {
   "cell_type": "code",
   "execution_count": 93,
   "id": "1ea271bc-e109-4746-b978-cd3ba4d00bfd",
   "metadata": {},
   "outputs": [
    {
     "data": {
      "text/plain": [
       "<tf.Tensor: shape=(3, 2), dtype=float32, numpy=\n",
       "array([[ 0.00704715, -0.92447984],\n",
       "       [-0.86443454, -1.3288966 ],\n",
       "       [ 0.6600261 , -0.32427505]], dtype=float32)>"
      ]
     },
     "execution_count": 93,
     "metadata": {},
     "output_type": "execute_result"
    }
   ],
   "source": [
    "model(tf.random.normal([3, 10]))"
   ]
  },
  {
   "cell_type": "code",
   "execution_count": null,
   "id": "6f5524bf-d5a2-49c8-959d-bc110fa94557",
   "metadata": {},
   "outputs": [],
   "source": []
  }
 ],
 "metadata": {
  "kernelspec": {
   "display_name": "Python 3 (ipykernel)",
   "language": "python",
   "name": "python3"
  },
  "language_info": {
   "codemirror_mode": {
    "name": "ipython",
    "version": 3
   },
   "file_extension": ".py",
   "mimetype": "text/x-python",
   "name": "python",
   "nbconvert_exporter": "python",
   "pygments_lexer": "ipython3",
   "version": "3.12.4"
  }
 },
 "nbformat": 4,
 "nbformat_minor": 5
}
