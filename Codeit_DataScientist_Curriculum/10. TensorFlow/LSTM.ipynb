{
  "nbformat": 4,
  "nbformat_minor": 0,
  "metadata": {
    "colab": {
      "provenance": []
    },
    "kernelspec": {
      "name": "python3",
      "display_name": "Python 3"
    },
    "language_info": {
      "name": "python"
    }
  },
  "cells": [
    {
      "cell_type": "code",
      "execution_count": 1,
      "metadata": {
        "id": "HJJBxhpT0J9r"
      },
      "outputs": [],
      "source": [
        "import os\n",
        "import tensorflow as tf\n",
        "import keras\n",
        "import pandas as pd"
      ]
    },
    {
      "cell_type": "code",
      "source": [
        "zip_path = keras.utils.get_file(\n",
        "    origin = \"https://storage.googleapis.com/tensorflow/tf-keras-datasets/jena_climate_2009_2016.csv.zip\",\n",
        "    fname = \"jena_climate_2009_2016.csv.zip\",\n",
        "    extract = True\n",
        ")\n",
        "csv_path, _ = os.path.splitext(zip_path)"
      ],
      "metadata": {
        "colab": {
          "base_uri": "https://localhost:8080/"
        },
        "id": "E-tlBc-Y0XVt",
        "outputId": "e1087a1b-6a54-4f7b-d24f-f9e87e499bc2"
      },
      "execution_count": 3,
      "outputs": [
        {
          "output_type": "stream",
          "name": "stdout",
          "text": [
            "Downloading data from https://storage.googleapis.com/tensorflow/tf-keras-datasets/jena_climate_2009_2016.csv.zip\n",
            "\u001b[1m13568290/13568290\u001b[0m \u001b[32m━━━━━━━━━━━━━━━━━━━━\u001b[0m\u001b[37m\u001b[0m \u001b[1m0s\u001b[0m 0us/step\n"
          ]
        }
      ]
    },
    {
      "cell_type": "code",
      "source": [
        "df = pd.read_csv(csv_path)\n",
        "df.head()"
      ],
      "metadata": {
        "colab": {
          "base_uri": "https://localhost:8080/",
          "height": 311
        },
        "id": "pTBDn-sM0rpK",
        "outputId": "0da085d9-5341-46a7-f273-a3d4458f3d2a"
      },
      "execution_count": 4,
      "outputs": [
        {
          "output_type": "execute_result",
          "data": {
            "text/plain": [
              "             Date Time  p (mbar)  T (degC)  Tpot (K)  Tdew (degC)  rh (%)  \\\n",
              "0  01.01.2009 00:10:00    996.52     -8.02    265.40        -8.90    93.3   \n",
              "1  01.01.2009 00:20:00    996.57     -8.41    265.01        -9.28    93.4   \n",
              "2  01.01.2009 00:30:00    996.53     -8.51    264.91        -9.31    93.9   \n",
              "3  01.01.2009 00:40:00    996.51     -8.31    265.12        -9.07    94.2   \n",
              "4  01.01.2009 00:50:00    996.51     -8.27    265.15        -9.04    94.1   \n",
              "\n",
              "   VPmax (mbar)  VPact (mbar)  VPdef (mbar)  sh (g/kg)  H2OC (mmol/mol)  \\\n",
              "0          3.33          3.11          0.22       1.94             3.12   \n",
              "1          3.23          3.02          0.21       1.89             3.03   \n",
              "2          3.21          3.01          0.20       1.88             3.02   \n",
              "3          3.26          3.07          0.19       1.92             3.08   \n",
              "4          3.27          3.08          0.19       1.92             3.09   \n",
              "\n",
              "   rho (g/m**3)  wv (m/s)  max. wv (m/s)  wd (deg)  \n",
              "0       1307.75      1.03           1.75     152.3  \n",
              "1       1309.80      0.72           1.50     136.1  \n",
              "2       1310.24      0.19           0.63     171.6  \n",
              "3       1309.19      0.34           0.50     198.0  \n",
              "4       1309.00      0.32           0.63     214.3  "
            ],
            "text/html": [
              "\n",
              "  <div id=\"df-b553a193-c88e-4750-ab46-959b3eb52d7d\" class=\"colab-df-container\">\n",
              "    <div>\n",
              "<style scoped>\n",
              "    .dataframe tbody tr th:only-of-type {\n",
              "        vertical-align: middle;\n",
              "    }\n",
              "\n",
              "    .dataframe tbody tr th {\n",
              "        vertical-align: top;\n",
              "    }\n",
              "\n",
              "    .dataframe thead th {\n",
              "        text-align: right;\n",
              "    }\n",
              "</style>\n",
              "<table border=\"1\" class=\"dataframe\">\n",
              "  <thead>\n",
              "    <tr style=\"text-align: right;\">\n",
              "      <th></th>\n",
              "      <th>Date Time</th>\n",
              "      <th>p (mbar)</th>\n",
              "      <th>T (degC)</th>\n",
              "      <th>Tpot (K)</th>\n",
              "      <th>Tdew (degC)</th>\n",
              "      <th>rh (%)</th>\n",
              "      <th>VPmax (mbar)</th>\n",
              "      <th>VPact (mbar)</th>\n",
              "      <th>VPdef (mbar)</th>\n",
              "      <th>sh (g/kg)</th>\n",
              "      <th>H2OC (mmol/mol)</th>\n",
              "      <th>rho (g/m**3)</th>\n",
              "      <th>wv (m/s)</th>\n",
              "      <th>max. wv (m/s)</th>\n",
              "      <th>wd (deg)</th>\n",
              "    </tr>\n",
              "  </thead>\n",
              "  <tbody>\n",
              "    <tr>\n",
              "      <th>0</th>\n",
              "      <td>01.01.2009 00:10:00</td>\n",
              "      <td>996.52</td>\n",
              "      <td>-8.02</td>\n",
              "      <td>265.40</td>\n",
              "      <td>-8.90</td>\n",
              "      <td>93.3</td>\n",
              "      <td>3.33</td>\n",
              "      <td>3.11</td>\n",
              "      <td>0.22</td>\n",
              "      <td>1.94</td>\n",
              "      <td>3.12</td>\n",
              "      <td>1307.75</td>\n",
              "      <td>1.03</td>\n",
              "      <td>1.75</td>\n",
              "      <td>152.3</td>\n",
              "    </tr>\n",
              "    <tr>\n",
              "      <th>1</th>\n",
              "      <td>01.01.2009 00:20:00</td>\n",
              "      <td>996.57</td>\n",
              "      <td>-8.41</td>\n",
              "      <td>265.01</td>\n",
              "      <td>-9.28</td>\n",
              "      <td>93.4</td>\n",
              "      <td>3.23</td>\n",
              "      <td>3.02</td>\n",
              "      <td>0.21</td>\n",
              "      <td>1.89</td>\n",
              "      <td>3.03</td>\n",
              "      <td>1309.80</td>\n",
              "      <td>0.72</td>\n",
              "      <td>1.50</td>\n",
              "      <td>136.1</td>\n",
              "    </tr>\n",
              "    <tr>\n",
              "      <th>2</th>\n",
              "      <td>01.01.2009 00:30:00</td>\n",
              "      <td>996.53</td>\n",
              "      <td>-8.51</td>\n",
              "      <td>264.91</td>\n",
              "      <td>-9.31</td>\n",
              "      <td>93.9</td>\n",
              "      <td>3.21</td>\n",
              "      <td>3.01</td>\n",
              "      <td>0.20</td>\n",
              "      <td>1.88</td>\n",
              "      <td>3.02</td>\n",
              "      <td>1310.24</td>\n",
              "      <td>0.19</td>\n",
              "      <td>0.63</td>\n",
              "      <td>171.6</td>\n",
              "    </tr>\n",
              "    <tr>\n",
              "      <th>3</th>\n",
              "      <td>01.01.2009 00:40:00</td>\n",
              "      <td>996.51</td>\n",
              "      <td>-8.31</td>\n",
              "      <td>265.12</td>\n",
              "      <td>-9.07</td>\n",
              "      <td>94.2</td>\n",
              "      <td>3.26</td>\n",
              "      <td>3.07</td>\n",
              "      <td>0.19</td>\n",
              "      <td>1.92</td>\n",
              "      <td>3.08</td>\n",
              "      <td>1309.19</td>\n",
              "      <td>0.34</td>\n",
              "      <td>0.50</td>\n",
              "      <td>198.0</td>\n",
              "    </tr>\n",
              "    <tr>\n",
              "      <th>4</th>\n",
              "      <td>01.01.2009 00:50:00</td>\n",
              "      <td>996.51</td>\n",
              "      <td>-8.27</td>\n",
              "      <td>265.15</td>\n",
              "      <td>-9.04</td>\n",
              "      <td>94.1</td>\n",
              "      <td>3.27</td>\n",
              "      <td>3.08</td>\n",
              "      <td>0.19</td>\n",
              "      <td>1.92</td>\n",
              "      <td>3.09</td>\n",
              "      <td>1309.00</td>\n",
              "      <td>0.32</td>\n",
              "      <td>0.63</td>\n",
              "      <td>214.3</td>\n",
              "    </tr>\n",
              "  </tbody>\n",
              "</table>\n",
              "</div>\n",
              "    <div class=\"colab-df-buttons\">\n",
              "\n",
              "  <div class=\"colab-df-container\">\n",
              "    <button class=\"colab-df-convert\" onclick=\"convertToInteractive('df-b553a193-c88e-4750-ab46-959b3eb52d7d')\"\n",
              "            title=\"Convert this dataframe to an interactive table.\"\n",
              "            style=\"display:none;\">\n",
              "\n",
              "  <svg xmlns=\"http://www.w3.org/2000/svg\" height=\"24px\" viewBox=\"0 -960 960 960\">\n",
              "    <path d=\"M120-120v-720h720v720H120Zm60-500h600v-160H180v160Zm220 220h160v-160H400v160Zm0 220h160v-160H400v160ZM180-400h160v-160H180v160Zm440 0h160v-160H620v160ZM180-180h160v-160H180v160Zm440 0h160v-160H620v160Z\"/>\n",
              "  </svg>\n",
              "    </button>\n",
              "\n",
              "  <style>\n",
              "    .colab-df-container {\n",
              "      display:flex;\n",
              "      gap: 12px;\n",
              "    }\n",
              "\n",
              "    .colab-df-convert {\n",
              "      background-color: #E8F0FE;\n",
              "      border: none;\n",
              "      border-radius: 50%;\n",
              "      cursor: pointer;\n",
              "      display: none;\n",
              "      fill: #1967D2;\n",
              "      height: 32px;\n",
              "      padding: 0 0 0 0;\n",
              "      width: 32px;\n",
              "    }\n",
              "\n",
              "    .colab-df-convert:hover {\n",
              "      background-color: #E2EBFA;\n",
              "      box-shadow: 0px 1px 2px rgba(60, 64, 67, 0.3), 0px 1px 3px 1px rgba(60, 64, 67, 0.15);\n",
              "      fill: #174EA6;\n",
              "    }\n",
              "\n",
              "    .colab-df-buttons div {\n",
              "      margin-bottom: 4px;\n",
              "    }\n",
              "\n",
              "    [theme=dark] .colab-df-convert {\n",
              "      background-color: #3B4455;\n",
              "      fill: #D2E3FC;\n",
              "    }\n",
              "\n",
              "    [theme=dark] .colab-df-convert:hover {\n",
              "      background-color: #434B5C;\n",
              "      box-shadow: 0px 1px 3px 1px rgba(0, 0, 0, 0.15);\n",
              "      filter: drop-shadow(0px 1px 2px rgba(0, 0, 0, 0.3));\n",
              "      fill: #FFFFFF;\n",
              "    }\n",
              "  </style>\n",
              "\n",
              "    <script>\n",
              "      const buttonEl =\n",
              "        document.querySelector('#df-b553a193-c88e-4750-ab46-959b3eb52d7d button.colab-df-convert');\n",
              "      buttonEl.style.display =\n",
              "        google.colab.kernel.accessAllowed ? 'block' : 'none';\n",
              "\n",
              "      async function convertToInteractive(key) {\n",
              "        const element = document.querySelector('#df-b553a193-c88e-4750-ab46-959b3eb52d7d');\n",
              "        const dataTable =\n",
              "          await google.colab.kernel.invokeFunction('convertToInteractive',\n",
              "                                                    [key], {});\n",
              "        if (!dataTable) return;\n",
              "\n",
              "        const docLinkHtml = 'Like what you see? Visit the ' +\n",
              "          '<a target=\"_blank\" href=https://colab.research.google.com/notebooks/data_table.ipynb>data table notebook</a>'\n",
              "          + ' to learn more about interactive tables.';\n",
              "        element.innerHTML = '';\n",
              "        dataTable['output_type'] = 'display_data';\n",
              "        await google.colab.output.renderOutput(dataTable, element);\n",
              "        const docLink = document.createElement('div');\n",
              "        docLink.innerHTML = docLinkHtml;\n",
              "        element.appendChild(docLink);\n",
              "      }\n",
              "    </script>\n",
              "  </div>\n",
              "\n",
              "\n",
              "<div id=\"df-35643bd7-1ec7-41b2-9008-d1dfce867135\">\n",
              "  <button class=\"colab-df-quickchart\" onclick=\"quickchart('df-35643bd7-1ec7-41b2-9008-d1dfce867135')\"\n",
              "            title=\"Suggest charts\"\n",
              "            style=\"display:none;\">\n",
              "\n",
              "<svg xmlns=\"http://www.w3.org/2000/svg\" height=\"24px\"viewBox=\"0 0 24 24\"\n",
              "     width=\"24px\">\n",
              "    <g>\n",
              "        <path d=\"M19 3H5c-1.1 0-2 .9-2 2v14c0 1.1.9 2 2 2h14c1.1 0 2-.9 2-2V5c0-1.1-.9-2-2-2zM9 17H7v-7h2v7zm4 0h-2V7h2v10zm4 0h-2v-4h2v4z\"/>\n",
              "    </g>\n",
              "</svg>\n",
              "  </button>\n",
              "\n",
              "<style>\n",
              "  .colab-df-quickchart {\n",
              "      --bg-color: #E8F0FE;\n",
              "      --fill-color: #1967D2;\n",
              "      --hover-bg-color: #E2EBFA;\n",
              "      --hover-fill-color: #174EA6;\n",
              "      --disabled-fill-color: #AAA;\n",
              "      --disabled-bg-color: #DDD;\n",
              "  }\n",
              "\n",
              "  [theme=dark] .colab-df-quickchart {\n",
              "      --bg-color: #3B4455;\n",
              "      --fill-color: #D2E3FC;\n",
              "      --hover-bg-color: #434B5C;\n",
              "      --hover-fill-color: #FFFFFF;\n",
              "      --disabled-bg-color: #3B4455;\n",
              "      --disabled-fill-color: #666;\n",
              "  }\n",
              "\n",
              "  .colab-df-quickchart {\n",
              "    background-color: var(--bg-color);\n",
              "    border: none;\n",
              "    border-radius: 50%;\n",
              "    cursor: pointer;\n",
              "    display: none;\n",
              "    fill: var(--fill-color);\n",
              "    height: 32px;\n",
              "    padding: 0;\n",
              "    width: 32px;\n",
              "  }\n",
              "\n",
              "  .colab-df-quickchart:hover {\n",
              "    background-color: var(--hover-bg-color);\n",
              "    box-shadow: 0 1px 2px rgba(60, 64, 67, 0.3), 0 1px 3px 1px rgba(60, 64, 67, 0.15);\n",
              "    fill: var(--button-hover-fill-color);\n",
              "  }\n",
              "\n",
              "  .colab-df-quickchart-complete:disabled,\n",
              "  .colab-df-quickchart-complete:disabled:hover {\n",
              "    background-color: var(--disabled-bg-color);\n",
              "    fill: var(--disabled-fill-color);\n",
              "    box-shadow: none;\n",
              "  }\n",
              "\n",
              "  .colab-df-spinner {\n",
              "    border: 2px solid var(--fill-color);\n",
              "    border-color: transparent;\n",
              "    border-bottom-color: var(--fill-color);\n",
              "    animation:\n",
              "      spin 1s steps(1) infinite;\n",
              "  }\n",
              "\n",
              "  @keyframes spin {\n",
              "    0% {\n",
              "      border-color: transparent;\n",
              "      border-bottom-color: var(--fill-color);\n",
              "      border-left-color: var(--fill-color);\n",
              "    }\n",
              "    20% {\n",
              "      border-color: transparent;\n",
              "      border-left-color: var(--fill-color);\n",
              "      border-top-color: var(--fill-color);\n",
              "    }\n",
              "    30% {\n",
              "      border-color: transparent;\n",
              "      border-left-color: var(--fill-color);\n",
              "      border-top-color: var(--fill-color);\n",
              "      border-right-color: var(--fill-color);\n",
              "    }\n",
              "    40% {\n",
              "      border-color: transparent;\n",
              "      border-right-color: var(--fill-color);\n",
              "      border-top-color: var(--fill-color);\n",
              "    }\n",
              "    60% {\n",
              "      border-color: transparent;\n",
              "      border-right-color: var(--fill-color);\n",
              "    }\n",
              "    80% {\n",
              "      border-color: transparent;\n",
              "      border-right-color: var(--fill-color);\n",
              "      border-bottom-color: var(--fill-color);\n",
              "    }\n",
              "    90% {\n",
              "      border-color: transparent;\n",
              "      border-bottom-color: var(--fill-color);\n",
              "    }\n",
              "  }\n",
              "</style>\n",
              "\n",
              "  <script>\n",
              "    async function quickchart(key) {\n",
              "      const quickchartButtonEl =\n",
              "        document.querySelector('#' + key + ' button');\n",
              "      quickchartButtonEl.disabled = true;  // To prevent multiple clicks.\n",
              "      quickchartButtonEl.classList.add('colab-df-spinner');\n",
              "      try {\n",
              "        const charts = await google.colab.kernel.invokeFunction(\n",
              "            'suggestCharts', [key], {});\n",
              "      } catch (error) {\n",
              "        console.error('Error during call to suggestCharts:', error);\n",
              "      }\n",
              "      quickchartButtonEl.classList.remove('colab-df-spinner');\n",
              "      quickchartButtonEl.classList.add('colab-df-quickchart-complete');\n",
              "    }\n",
              "    (() => {\n",
              "      let quickchartButtonEl =\n",
              "        document.querySelector('#df-35643bd7-1ec7-41b2-9008-d1dfce867135 button');\n",
              "      quickchartButtonEl.style.display =\n",
              "        google.colab.kernel.accessAllowed ? 'block' : 'none';\n",
              "    })();\n",
              "  </script>\n",
              "</div>\n",
              "\n",
              "    </div>\n",
              "  </div>\n"
            ],
            "application/vnd.google.colaboratory.intrinsic+json": {
              "type": "dataframe",
              "variable_name": "df"
            }
          },
          "metadata": {},
          "execution_count": 4
        }
      ]
    },
    {
      "cell_type": "code",
      "source": [
        "df.shape"
      ],
      "metadata": {
        "colab": {
          "base_uri": "https://localhost:8080/"
        },
        "id": "FmBXAefw0ySq",
        "outputId": "19a33610-5f5d-42f2-99b1-a4a0c2a7c3de"
      },
      "execution_count": 5,
      "outputs": [
        {
          "output_type": "execute_result",
          "data": {
            "text/plain": [
              "(420551, 15)"
            ]
          },
          "metadata": {},
          "execution_count": 5
        }
      ]
    },
    {
      "cell_type": "code",
      "source": [
        "temperatures = df[\"T (degC)\"]\n",
        "temperatures.index = df[\"Date Time\"]"
      ],
      "metadata": {
        "id": "KjhYszoG02cO"
      },
      "execution_count": 6,
      "outputs": []
    },
    {
      "cell_type": "code",
      "source": [
        "temperatures.plot()"
      ],
      "metadata": {
        "colab": {
          "base_uri": "https://localhost:8080/",
          "height": 470
        },
        "id": "MnDMYRuX0-Qr",
        "outputId": "8c68b004-1d1c-406c-b47c-3bdbbaa3b04a"
      },
      "execution_count": 7,
      "outputs": [
        {
          "output_type": "execute_result",
          "data": {
            "text/plain": [
              "<Axes: xlabel='Date Time'>"
            ]
          },
          "metadata": {},
          "execution_count": 7
        },
        {
          "output_type": "display_data",
          "data": {
            "text/plain": [
              "<Figure size 640x480 with 1 Axes>"
            ],
            "image/png": "[encoded data removed]"
          },
          "metadata": {}
        }
      ]
    },
    {
      "cell_type": "markdown",
      "source": [
        "### LSTM 모델 만들기"
      ],
      "metadata": {
        "id": "fSKCg_pw1IdF"
      }
    },
    {
      "cell_type": "code",
      "source": [
        "lstm_layer = keras.layers.LSTM(units = 32)"
      ],
      "metadata": {
        "id": "yGdSYCfW0_pS"
      },
      "execution_count": 8,
      "outputs": []
    },
    {
      "cell_type": "code",
      "source": [
        "x = tf.random.normal([2, 24, 1])"
      ],
      "metadata": {
        "id": "38Klp88g1SQ7"
      },
      "execution_count": 9,
      "outputs": []
    },
    {
      "cell_type": "code",
      "source": [
        "y = lstm_layer(x)"
      ],
      "metadata": {
        "id": "_Xf3A-mH1VC1"
      },
      "execution_count": 10,
      "outputs": []
    },
    {
      "cell_type": "code",
      "source": [
        "y.shape"
      ],
      "metadata": {
        "colab": {
          "base_uri": "https://localhost:8080/"
        },
        "id": "x_YfgFKU1cJr",
        "outputId": "80d2a665-d032-45d0-8886-a12f2317faf3"
      },
      "execution_count": 11,
      "outputs": [
        {
          "output_type": "execute_result",
          "data": {
            "text/plain": [
              "TensorShape([2, 32])"
            ]
          },
          "metadata": {},
          "execution_count": 11
        }
      ]
    },
    {
      "cell_type": "code",
      "source": [
        "lstm_layer_seq = keras.layers.LSTM(units=32, return_sequences=True)"
      ],
      "metadata": {
        "id": "SfkgdZ3f1cvg"
      },
      "execution_count": 12,
      "outputs": []
    },
    {
      "cell_type": "code",
      "source": [
        "y_seq = lstm_layer_seq(x)\n",
        "y_seq.shape"
      ],
      "metadata": {
        "colab": {
          "base_uri": "https://localhost:8080/"
        },
        "id": "rrWj0DOS1poi",
        "outputId": "e3be651c-ac9c-436c-f7ec-65238cd00533"
      },
      "execution_count": 13,
      "outputs": [
        {
          "output_type": "execute_result",
          "data": {
            "text/plain": [
              "TensorShape([2, 24, 32])"
            ]
          },
          "metadata": {},
          "execution_count": 13
        }
      ]
    },
    {
      "cell_type": "code",
      "source": [
        "lstm_model = keras.models.Sequential(\n",
        "    [\n",
        "        keras.layers.LSTM(units=32, return_sequences=True),\n",
        "        keras.layers.Dense(1),\n",
        "    ]\n",
        ")"
      ],
      "metadata": {
        "id": "QAcvedzn1tB6"
      },
      "execution_count": 14,
      "outputs": []
    },
    {
      "cell_type": "code",
      "source": [
        "y = lstm_model(x)\n",
        "y.shape"
      ],
      "metadata": {
        "colab": {
          "base_uri": "https://localhost:8080/"
        },
        "id": "ZXt9ciWt1_x5",
        "outputId": "7221ab20-1fc1-4cff-900d-17b027c60791"
      },
      "execution_count": 15,
      "outputs": [
        {
          "output_type": "execute_result",
          "data": {
            "text/plain": [
              "TensorShape([2, 24, 1])"
            ]
          },
          "metadata": {},
          "execution_count": 15
        }
      ]
    },
    {
      "cell_type": "markdown",
      "source": [
        "### 시계열 데이터 전처리"
      ],
      "metadata": {
        "id": "zDG3jkVI2LdQ"
      }
    },
    {
      "cell_type": "code",
      "source": [
        "temperatures = df[\"T (degC)\"].tolist()\n",
        "temperatures = temperatures[:50000]"
      ],
      "metadata": {
        "id": "dxCBbn6h2BfX"
      },
      "execution_count": 16,
      "outputs": []
    },
    {
      "cell_type": "code",
      "source": [
        "temperatures[:10]"
      ],
      "metadata": {
        "colab": {
          "base_uri": "https://localhost:8080/"
        },
        "id": "MzK4WClN2U2K",
        "outputId": "9f7b60d8-50e2-4a04-f21a-5a372e15b0d0"
      },
      "execution_count": 17,
      "outputs": [
        {
          "output_type": "execute_result",
          "data": {
            "text/plain": [
              "[-8.02, -8.41, -8.51, -8.31, -8.27, -8.05, -7.62, -7.62, -7.91, -8.43]"
            ]
          },
          "metadata": {},
          "execution_count": 17
        }
      ]
    },
    {
      "cell_type": "code",
      "source": [
        "num_data = len(temperatures)\n",
        "\n",
        "train_size = int(num_data * 0.8)\n",
        "val_size = int(num_data * 0.1)"
      ],
      "metadata": {
        "id": "fDqeZAQC2X8k"
      },
      "execution_count": 18,
      "outputs": []
    },
    {
      "cell_type": "code",
      "source": [
        "train_data = temperatures[:train_size]\n",
        "val_data = temperatures[train_size:train_size + val_size]\n",
        "test_data = temperatures[train_size + val_size:]"
      ],
      "metadata": {
        "id": "rLJBKnf82iIa"
      },
      "execution_count": 19,
      "outputs": []
    },
    {
      "cell_type": "code",
      "source": [
        "print(f\"max: {max(train_data)}, min: {min(train_data)}\")"
      ],
      "metadata": {
        "colab": {
          "base_uri": "https://localhost:8080/"
        },
        "id": "FlB4mFlL2lA6",
        "outputId": "2d132b9a-b78f-491a-e570-89cbdd03b048"
      },
      "execution_count": 20,
      "outputs": [
        {
          "output_type": "stream",
          "name": "stdout",
          "text": [
            "max: 32.98, min: -23.01\n"
          ]
        }
      ]
    },
    {
      "cell_type": "code",
      "source": [
        "normalizer = keras.layers.Normalization(axis = None)\n",
        "normalizer.adapt(tf.constant(train_data))"
      ],
      "metadata": {
        "id": "RNzGFETe2q6D"
      },
      "execution_count": 21,
      "outputs": []
    },
    {
      "cell_type": "code",
      "source": [
        "train_data_normalized = normalizer(train_data)\n",
        "val_data_normalized = normalizer(val_data)\n",
        "test_data_normalized = normalizer(test_data)"
      ],
      "metadata": {
        "id": "ivDDm4mP2yxZ"
      },
      "execution_count": 22,
      "outputs": []
    },
    {
      "cell_type": "code",
      "source": [
        "print(f\"before: {train_data[0]}, after: {train_data_normalized[0].numpy()}\")"
      ],
      "metadata": {
        "colab": {
          "base_uri": "https://localhost:8080/"
        },
        "id": "bZZwyA1v24oc",
        "outputId": "281d9283-33b5-44c7-ab3d-d75657df07f2"
      },
      "execution_count": 23,
      "outputs": [
        {
          "output_type": "stream",
          "name": "stdout",
          "text": [
            "before: -8.02, after: -2.099597215652466\n"
          ]
        }
      ]
    },
    {
      "cell_type": "code",
      "source": [
        "import numpy as np\n",
        "\n",
        "def preprocess_data(data, sequence_length):\n",
        "  data = np.array(data)\n",
        "  inputs = np.array([data[i:i+sequence_length] for i in range(len(data) - sequence_length)])\n",
        "  targets = np.array([data[i+1:i+sequence_length+1] for i in range(len(data) - sequence_length)])\n",
        "\n",
        "  inputs = np.expand_dims(inputs, axis = -1)\n",
        "  targets = np.expand_dims(targets, axis = -1)\n",
        "\n",
        "  return inputs, targets"
      ],
      "metadata": {
        "id": "dcacf_Iq3BAs"
      },
      "execution_count": 24,
      "outputs": []
    },
    {
      "cell_type": "code",
      "source": [
        "sequence_length = 24\n",
        "train_inputs, train_targets = preprocess_data(train_data_normalized, sequence_length)\n",
        "val_inputs, val_targets = preprocess_data(val_data_normalized, sequence_length)\n",
        "test_inputs, test_targets = preprocess_data(test_data_normalized, sequence_length)"
      ],
      "metadata": {
        "id": "WvjSOc7Y3zM9"
      },
      "execution_count": 25,
      "outputs": []
    },
    {
      "cell_type": "code",
      "source": [
        "print(f\"original: {train_data_normalized[:25]}\\n\")\n",
        "print(f\"input: {train_inputs[0]}\\n\")\n",
        "print(f\"target: {train_targets[0]}\\n\")"
      ],
      "metadata": {
        "colab": {
          "base_uri": "https://localhost:8080/"
        },
        "id": "wDT-NGGK4J_G",
        "outputId": "d3b00cdf-80c8-4559-9140-1cbb7e4af8df"
      },
      "execution_count": 26,
      "outputs": [
        {
          "output_type": "stream",
          "name": "stdout",
          "text": [
            "original: [-2.0995972 -2.144479  -2.1559873 -2.1329708 -2.1283677 -2.1030498\n",
            " -2.0535645 -2.0535645 -2.0869381 -2.1467807 -2.1847577 -2.1985676\n",
            " -2.1951153 -2.1928136 -2.1732495 -2.1732495 -2.1778526 -2.190512\n",
            " -2.1939645 -2.2054727 -2.2054727 -2.196266  -2.2112267 -2.2181318\n",
            " -2.2388463]\n",
            "\n",
            "input: [[-2.0995972]\n",
            " [-2.144479 ]\n",
            " [-2.1559873]\n",
            " [-2.1329708]\n",
            " [-2.1283677]\n",
            " [-2.1030498]\n",
            " [-2.0535645]\n",
            " [-2.0535645]\n",
            " [-2.0869381]\n",
            " [-2.1467807]\n",
            " [-2.1847577]\n",
            " [-2.1985676]\n",
            " [-2.1951153]\n",
            " [-2.1928136]\n",
            " [-2.1732495]\n",
            " [-2.1732495]\n",
            " [-2.1778526]\n",
            " [-2.190512 ]\n",
            " [-2.1939645]\n",
            " [-2.2054727]\n",
            " [-2.2054727]\n",
            " [-2.196266 ]\n",
            " [-2.2112267]\n",
            " [-2.2181318]]\n",
            "\n",
            "target: [[-2.144479 ]\n",
            " [-2.1559873]\n",
            " [-2.1329708]\n",
            " [-2.1283677]\n",
            " [-2.1030498]\n",
            " [-2.0535645]\n",
            " [-2.0535645]\n",
            " [-2.0869381]\n",
            " [-2.1467807]\n",
            " [-2.1847577]\n",
            " [-2.1985676]\n",
            " [-2.1951153]\n",
            " [-2.1928136]\n",
            " [-2.1732495]\n",
            " [-2.1732495]\n",
            " [-2.1778526]\n",
            " [-2.190512 ]\n",
            " [-2.1939645]\n",
            " [-2.2054727]\n",
            " [-2.2054727]\n",
            " [-2.196266 ]\n",
            " [-2.2112267]\n",
            " [-2.2181318]\n",
            " [-2.2388463]]\n",
            "\n"
          ]
        }
      ]
    },
    {
      "cell_type": "code",
      "source": [
        "train_dataset = tf.data.Dataset.from_tensor_slices((train_inputs, train_targets)).shuffle(512).batch(128, drop_remainder = True)\n",
        "val_dataset = tf.data.Dataset.from_tensor_slices((val_inputs, val_targets)).batch(128)\n",
        "test_dataset = tf.data.Dataset.from_tensor_slices((test_inputs, test_targets)).batch(128)"
      ],
      "metadata": {
        "id": "5JbvcfRJ4Y-e"
      },
      "execution_count": 27,
      "outputs": []
    },
    {
      "cell_type": "markdown",
      "source": [
        "### 시계열 예측 모델 학습"
      ],
      "metadata": {
        "id": "KicESAJ17oWx"
      }
    },
    {
      "cell_type": "code",
      "source": [
        "zip_path = keras.utils.get_file(\n",
        "    origin = \"https://storage.googleapis.com/tensorflow/tf-keras-datasets/jena_climate_2009_2016.csv.zip\",\n",
        "    fname = \"jena_climate_2009_2016.csv.zip\",\n",
        "    extract = True\n",
        ")\n",
        "csv_path, _ = os.path.splitext(zip_path)\n",
        "\n",
        "df = pd.read_csv(csv_path)\n",
        "\n",
        "temperatures = df[\"T (degC)\"].tolist()\n",
        "temperatures = temperatures[:50000]"
      ],
      "metadata": {
        "id": "1aE_R02g47OL"
      },
      "execution_count": 28,
      "outputs": []
    },
    {
      "cell_type": "code",
      "source": [
        "num_data = len(temperatures)\n",
        "\n",
        "train_size = int(num_data * 0.8)\n",
        "val_size = int(num_data * 0.1)\n",
        "\n",
        "train_data = temperatures[:train_size]\n",
        "val_data = temperatures[train_size:train_size + val_size]\n",
        "test_data = temperatures[train_size + val_size:]\n",
        "\n",
        "def preprocess_data(data, sequence_length):\n",
        "  data = np.array(data)\n",
        "  inputs = np.array([data[i:i+sequence_length] for i in range(len(data) - sequence_length)])\n",
        "  targets = np.array([data[i+1:i+sequence_length+1] for i in range(len(data) - sequence_length)])\n",
        "\n",
        "  inputs = np.expand_dims(inputs, axis = -1)\n",
        "  targets = np.expand_dims(targets, axis = -1)\n",
        "\n",
        "  return inputs, targets\n",
        "\n",
        "  sequence_length = 24\n",
        "train_inputs, train_targets = preprocess_data(train_data_normalized, sequence_length)\n",
        "val_inputs, val_targets = preprocess_data(val_data_normalized, sequence_length)\n",
        "test_inputs, test_targets = preprocess_data(test_data_normalized, sequence_length)"
      ],
      "metadata": {
        "id": "V92cZeATNZNd"
      },
      "execution_count": 29,
      "outputs": []
    },
    {
      "cell_type": "code",
      "source": [
        "train_dataset = tf.data.Dataset.from_tensor_slices((train_inputs, train_targets)).shuffle(512).batch(128, drop_remainder = True)\n",
        "val_dataset = tf.data.Dataset.from_tensor_slices((val_inputs, val_targets)).batch(128)\n",
        "test_dataset = tf.data.Dataset.from_tensor_slices((test_inputs, test_targets)).batch(128)"
      ],
      "metadata": {
        "id": "tME7B47-Nrye"
      },
      "execution_count": 30,
      "outputs": []
    },
    {
      "cell_type": "code",
      "source": [
        "model = keras.models.Sequential(\n",
        "    [\n",
        "        keras.layers.LSTM(units=32, return_sequences=True),\n",
        "        keras.layers.Dense(1),\n",
        "    ]\n",
        ")"
      ],
      "metadata": {
        "id": "LRyGXJD4NuCR"
      },
      "execution_count": 31,
      "outputs": []
    },
    {
      "cell_type": "code",
      "source": [
        "loss_fn = keras.losses.MeanSquaredError()\n",
        "optimizer = keras.optimizers.Adam()\n",
        "metric = keras.metrics.MeanAbsoluteError()"
      ],
      "metadata": {
        "id": "wslxQsJqN7Ox"
      },
      "execution_count": 32,
      "outputs": []
    },
    {
      "cell_type": "code",
      "source": [
        "@tf.function\n",
        "def train_step(x, y):\n",
        "  with tf.GradientTape() as tape:\n",
        "    logits = model(x, training = True)\n",
        "    loss_value = loss_fn(y, logits)\n",
        "  grads = tape.gradient(loss_value, model.trainable_variables)\n",
        "  optimizer.apply_gradients(zip(grads, model.trainable_variables))\n",
        "\n",
        "  return loss_value\n",
        "\n",
        "@tf.function\n",
        "def val_step(x, y):\n",
        "  val_preds = model(x_val, training = False)\n",
        "  metric.update_state(y_val, val_preds)"
      ],
      "metadata": {
        "id": "sgzGKKXiOER8"
      },
      "execution_count": 34,
      "outputs": []
    },
    {
      "cell_type": "code",
      "source": [
        "epochs = 10\n",
        "step = 0\n",
        "for epoch in range(epochs):\n",
        "  for x_train, y_train in train_dataset:\n",
        "    loss_value = train_step(x_train, y_train)\n",
        "    step += 1\n",
        "\n",
        "    if step % 100 == 0:\n",
        "      print(f\"train loss at step {step}: {loss_value:.4f}\")\n",
        "\n",
        "  for x_val, y_val in val_dataset:\n",
        "    val_step(x_val, y_val)\n",
        "\n",
        "  print(f\"validation metric at epoch {epoch}: {metric.result():.4f}\\n\")\n",
        "  metric.reset_state()"
      ],
      "metadata": {
        "colab": {
          "base_uri": "https://localhost:8080/"
        },
        "id": "ZbPBbHdeOdKC",
        "outputId": "2b3128ba-d145-4890-f8a2-ef5adde5ff3b"
      },
      "execution_count": 35,
      "outputs": [
        {
          "output_type": "stream",
          "name": "stdout",
          "text": [
            "train loss at step 100: 0.0453\n",
            "train loss at step 200: 0.0894\n",
            "train loss at step 300: 0.0225\n",
            "validation metric at epoch 0: 0.0706\n",
            "\n",
            "train loss at step 400: 0.0253\n",
            "train loss at step 500: 0.0247\n",
            "train loss at step 600: 0.0103\n",
            "validation metric at epoch 1: 0.0491\n",
            "\n",
            "train loss at step 700: 0.0172\n",
            "train loss at step 800: 0.0091\n",
            "train loss at step 900: 0.0181\n",
            "validation metric at epoch 2: 0.0387\n",
            "\n",
            "train loss at step 1000: 0.0108\n",
            "train loss at step 1100: 0.0117\n",
            "train loss at step 1200: 0.0270\n",
            "validation metric at epoch 3: 0.0325\n",
            "\n",
            "train loss at step 1300: 0.0277\n",
            "train loss at step 1400: 0.0064\n",
            "train loss at step 1500: 0.0138\n",
            "validation metric at epoch 4: 0.0273\n",
            "\n",
            "train loss at step 1600: 0.0104\n",
            "train loss at step 1700: 0.0034\n",
            "train loss at step 1800: 0.0097\n",
            "validation metric at epoch 5: 0.0237\n",
            "\n",
            "train loss at step 1900: 0.0106\n",
            "train loss at step 2000: 0.0032\n",
            "train loss at step 2100: 0.0065\n",
            "validation metric at epoch 6: 0.0209\n",
            "\n",
            "train loss at step 2200: 0.0132\n",
            "train loss at step 2300: 0.0028\n",
            "train loss at step 2400: 0.0036\n",
            "validation metric at epoch 7: 0.0185\n",
            "\n",
            "train loss at step 2500: 0.0252\n",
            "train loss at step 2600: 0.0018\n",
            "train loss at step 2700: 0.0038\n",
            "train loss at step 2800: 0.0009\n",
            "validation metric at epoch 8: 0.0165\n",
            "\n",
            "train loss at step 2900: 0.0009\n",
            "train loss at step 3000: 0.0014\n",
            "train loss at step 3100: 0.0009\n",
            "validation metric at epoch 9: 0.0147\n",
            "\n"
          ]
        }
      ]
    },
    {
      "cell_type": "code",
      "source": [
        "predictions = model.predict(test_dataset)"
      ],
      "metadata": {
        "colab": {
          "base_uri": "https://localhost:8080/"
        },
        "id": "2qoB7uYTO6aZ",
        "outputId": "33c1e5b5-b3ba-4c9b-ee92-d9e2fce4734a"
      },
      "execution_count": 37,
      "outputs": [
        {
          "output_type": "stream",
          "name": "stdout",
          "text": [
            "\u001b[1m39/39\u001b[0m \u001b[32m━━━━━━━━━━━━━━━━━━━━\u001b[0m\u001b[37m\u001b[0m \u001b[1m2s\u001b[0m 38ms/step\n"
          ]
        }
      ]
    },
    {
      "cell_type": "code",
      "source": [
        "predictions.shape"
      ],
      "metadata": {
        "colab": {
          "base_uri": "https://localhost:8080/"
        },
        "id": "uYXBxnNgPJlx",
        "outputId": "6b46927e-904c-4e16-97a6-04a71898d86b"
      },
      "execution_count": 38,
      "outputs": [
        {
          "output_type": "execute_result",
          "data": {
            "text/plain": [
              "(4976, 24, 1)"
            ]
          },
          "metadata": {},
          "execution_count": 38
        }
      ]
    },
    {
      "cell_type": "code",
      "source": [
        "denormalizer = keras.layers.Normalization(axis = None, invert = True)\n",
        "denormalizer.adapt(tf.constant(train_data))"
      ],
      "metadata": {
        "id": "CnwS4E2hPN5O"
      },
      "execution_count": 39,
      "outputs": []
    },
    {
      "cell_type": "code",
      "source": [
        "pred_denorm = denormalizer(predictions)\n",
        "true_denorm = denormalizer(test_targets)"
      ],
      "metadata": {
        "id": "JhJh12idPX38"
      },
      "execution_count": 40,
      "outputs": []
    },
    {
      "cell_type": "code",
      "source": [
        "import matplotlib.pyplot as plt\n",
        "\n",
        "num_steps = 200\n",
        "plt.plot(true_denorm[:num_steps, -1], color = \"blue\", label = \"true temperature\")\n",
        "plt.plot(pred_denorm[:num_steps, -1], color = \"red\", label = \"pred temperature\")\n",
        "plt.legend()\n",
        "plt.show()"
      ],
      "metadata": {
        "colab": {
          "base_uri": "https://localhost:8080/",
          "height": 430
        },
        "id": "5w1DDYlGPeHg",
        "outputId": "934cfeef-1085-42f0-8278-e6adbaa3c623"
      },
      "execution_count": 41,
      "outputs": [
        {
          "output_type": "display_data",
          "data": {
            "text/plain": [
              "<Figure size 640x480 with 1 Axes>"
            ],
            "image/png": "[encoded data removed]"
          },
          "metadata": {}
        }
      ]
    },
    {
      "cell_type": "code",
      "source": [],
      "metadata": {
        "id": "AHRLf0G_PxP_"
      },
      "execution_count": null,
      "outputs": []
    }
  ]
}