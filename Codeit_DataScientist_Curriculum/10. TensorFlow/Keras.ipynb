{
 "cells": [
  {
   "cell_type": "code",
   "execution_count": 3,
   "id": "964a62b5-4b05-4157-9307-e200f9c8ced7",
   "metadata": {},
   "outputs": [],
   "source": [
    "import tensorflow as tf"
   ]
  },
  {
   "cell_type": "code",
   "execution_count": 5,
   "id": "ca23f6b6-e037-45b4-acea-ba010a9d26a3",
   "metadata": {},
   "outputs": [],
   "source": [
    "class FullyConnectedLayer:\n",
    "    def __init__(self, input_dim, output_dim):\n",
    "        self.W = tf.Variable(tf.random.normal([input_dim, output_dim]))\n",
    "        self.b = tf.Variable(tf.random.normal([output_dim]))\n",
    "\n",
    "    def __cell__(self, x):\n",
    "        return tf.matmul(x, self.W) + self.b\n",
    "\n",
    "layer = FullyConnectedLayer(8, 4)"
   ]
  },
  {
   "cell_type": "code",
   "execution_count": 7,
   "id": "a76aa7c9-9ca6-490f-abdf-90c4c2a47851",
   "metadata": {},
   "outputs": [],
   "source": [
    "import keras"
   ]
  },
  {
   "cell_type": "code",
   "execution_count": 9,
   "id": "8a60e111-0e6b-495b-80a8-f588224a22ad",
   "metadata": {},
   "outputs": [],
   "source": [
    "layer = keras.layers.Dense(4, activation = \"relu\")"
   ]
  },
  {
   "cell_type": "code",
   "execution_count": 11,
   "id": "c9f3e6d7-db5b-4e13-a9a1-9cdd8c39997c",
   "metadata": {},
   "outputs": [
    {
     "data": {
      "text/plain": [
       "<tf.Tensor: shape=(2, 4), dtype=float32, numpy=\n",
       "array([[0.        , 0.        , 1.0777937 , 0.94488895],\n",
       "       [0.        , 0.        , 0.        , 0.        ]], dtype=float32)>"
      ]
     },
     "execution_count": 11,
     "metadata": {},
     "output_type": "execute_result"
    }
   ],
   "source": [
    "x = tf.random.normal([2, 8])\n",
    "y = layer(x)\n",
    "y"
   ]
  },
  {
   "cell_type": "code",
   "execution_count": 13,
   "id": "2b51e62b-2440-4ad5-add1-f26fd3643d54",
   "metadata": {},
   "outputs": [
    {
     "name": "stdout",
     "output_type": "stream",
     "text": [
      "0차원 텐서 차원: 0, shape: ()\n",
      "1차원 텐서 차원: 1, shape: (3,)\n",
      "2차원 텐서 차원: 2, shape: (2, 2)\n",
      "3차원 텐서 차원: 3, shape: (2, 2, 1)\n"
     ]
    }
   ],
   "source": [
    "tensor_0d = tf.constant(5)\n",
    "tensor_1d = tf.constant([1, 2, 3])\n",
    "tensor_2d = tf.constant(\n",
    "    [\n",
    "        [1, 2],\n",
    "        [3, 4],\n",
    "    ]\n",
    ")\n",
    "tensor_3d = tf.constant(\n",
    "    [\n",
    "        [[1], [2]],\n",
    "        [[3], [4]],\n",
    "    ]\n",
    ")\n",
    "\n",
    "print(f\"0차원 텐서 차원: {tensor_0d.ndim}, shape: {tensor_0d.shape}\")\n",
    "print(f\"1차원 텐서 차원: {tensor_1d.ndim}, shape: {tensor_1d.shape}\")\n",
    "print(f\"2차원 텐서 차원: {tensor_2d.ndim}, shape: {tensor_2d.shape}\")\n",
    "print(f\"3차원 텐서 차원: {tensor_3d.ndim}, shape: {tensor_3d.shape}\")"
   ]
  },
  {
   "cell_type": "code",
   "execution_count": 15,
   "id": "9ce6539f-124d-47d4-a532-9a7a24c74950",
   "metadata": {},
   "outputs": [],
   "source": [
    "layer = keras.layers.Dense(4, activation=\"relu\")\n",
    "inputs = tf.random.normal([1, 8])\n",
    "outputs = layer(inputs)"
   ]
  },
  {
   "cell_type": "code",
   "execution_count": 17,
   "id": "c08a59ab-d398-4b3e-b221-d92531c17443",
   "metadata": {},
   "outputs": [
    {
     "name": "stdout",
     "output_type": "stream",
     "text": [
      "입력 텐서 차원: 2, shape: (1, 8)\n",
      "출력 텐서 차원: 2, shape: (1, 4)\n"
     ]
    }
   ],
   "source": [
    "print(f\"입력 텐서 차원: {inputs.ndim}, shape: {inputs.shape}\")\n",
    "print(f\"출력 텐서 차원: {outputs.ndim}, shape: {outputs.shape}\")"
   ]
  }
 ],
 "metadata": {
  "kernelspec": {
   "display_name": "Python 3 (ipykernel)",
   "language": "python",
   "name": "python3"
  },
  "language_info": {
   "codemirror_mode": {
    "name": "ipython",
    "version": 3
   },
   "file_extension": ".py",
   "mimetype": "text/x-python",
   "name": "python",
   "nbconvert_exporter": "python",
   "pygments_lexer": "ipython3",
   "version": "3.12.4"
  }
 },
 "nbformat": 4,
 "nbformat_minor": 5
}
