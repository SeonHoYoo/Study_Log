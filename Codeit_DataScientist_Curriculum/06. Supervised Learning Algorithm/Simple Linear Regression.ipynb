{
 "cells": [
  {
   "cell_type": "code",
   "execution_count": 3,
   "id": "c21d5930-98d2-4041-bbdb-9a11642c044b",
   "metadata": {},
   "outputs": [],
   "source": [
    "from sklearn import datasets\n",
    "from sklearn.model_selection import train_test_split\n",
    "from sklearn.linear_model import LinearRegression\n",
    "from sklearn.metrics import mean_squared_error\n",
    "\n",
    "import pandas as pd"
   ]
  },
  {
   "cell_type": "code",
   "execution_count": null,
   "id": "69cf1108-4f3b-4907-9d95-0516020a8de9",
   "metadata": {},
   "outputs": [],
   "source": [
    "# 보스턴 집 데이터 갖고 오기\n",
    "boston_house_dataset = datasets.load_boston()"
   ]
  },
  {
   "cell_type": "code",
   "execution_count": null,
   "id": "36eb25cd-1e01-4553-96f8-2aaa2973d0a9",
   "metadata": {},
   "outputs": [],
   "source": [
    "# 입력 변수를 사용하기 편하게 pandas dataframe으로 변환\n",
    "X = pd.DataFrame(boston_house_dataset.data, columns=boston_house_dataset.feature_names)\n",
    "\n",
    "# 목표 변수를 사용하기 편하게 pandas dataframe으로 변환\n",
    "y = pd.DataFrame(boston_house_dataset.target, columns=['MEDV'])"
   ]
  },
  {
   "cell_type": "code",
   "execution_count": null,
   "id": "9c333f1a-2b62-49a0-9e2e-2215443dd202",
   "metadata": {},
   "outputs": [],
   "source": [
    "X = X[['CRIM']]  # 범죄율 열만 사용\n",
    "\n",
    "# train_test_split를 사용해서 주어진 데이터를 학습, 테스트 데이터로 나눈다\n",
    "X_train, X_test, y_train, y_test = train_test_split(X, y, test_size = 0.2, random_state=5)"
   ]
  },
  {
   "cell_type": "code",
   "execution_count": null,
   "id": "93d7b2eb-b4d4-4f9f-a3ff-207cef3f10d4",
   "metadata": {},
   "outputs": [],
   "source": [
    "linear_regression_model = LinearRegression()  # 선형 회귀 모델을 가지고 오고 \n",
    "linear_regression_model.fit(X_train, y_train)  # 학습 데이터를 이용해서 모델을 학습 시킨다"
   ]
  },
  {
   "cell_type": "code",
   "execution_count": null,
   "id": "309f92c1-db4f-414b-ac14-e28bfe8ea47d",
   "metadata": {},
   "outputs": [],
   "source": [
    "y_test_predict = linear_regression_model.predict(X_test)  # 학습시킨 모델로 예측"
   ]
  },
  {
   "cell_type": "code",
   "execution_count": null,
   "id": "ac2478ae-7f38-4e45-b5c6-bea7b3f51c28",
   "metadata": {},
   "outputs": [],
   "source": [
    "# 평균 제곱 오차의 루트를 통해서 테스트 데이터에서의 모델 성능 판단\n",
    "mse = mean_squared_error(y_test, y_test_predict)\n",
    "\n",
    "mse ** 0.5"
   ]
  }
 ],
 "metadata": {
  "kernelspec": {
   "display_name": "Python 3 (ipykernel)",
   "language": "python",
   "name": "python3"
  },
  "language_info": {
   "codemirror_mode": {
    "name": "ipython",
    "version": 3
   },
   "file_extension": ".py",
   "mimetype": "text/x-python",
   "name": "python",
   "nbconvert_exporter": "python",
   "pygments_lexer": "ipython3",
   "version": "3.12.4"
  }
 },
 "nbformat": 4,
 "nbformat_minor": 5
}
