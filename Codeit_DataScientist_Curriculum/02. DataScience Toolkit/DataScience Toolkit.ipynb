{
 "cells": [
  {
   "cell_type": "markdown",
   "id": "5bf416ad-bd0d-4779-8142-d10cf9607832",
   "metadata": {},
   "source": [
    "### Numpy"
   ]
  },
  {
   "cell_type": "code",
   "execution_count": 1,
   "id": "8298f6d0-d7e0-4604-a5a5-27a8f9e59d01",
   "metadata": {},
   "outputs": [],
   "source": [
    "import numpy as np"
   ]
  },
  {
   "cell_type": "code",
   "execution_count": 3,
   "id": "d0d52426-e071-45ab-b637-6a2c5da58f1f",
   "metadata": {},
   "outputs": [
    {
     "data": {
      "text/plain": [
       "array([1, 3, 5, 6, 7, 9])"
      ]
     },
     "execution_count": 3,
     "metadata": {},
     "output_type": "execute_result"
    }
   ],
   "source": [
    "array1 = np.array([1,3,5,6,7,9])\n",
    "array1"
   ]
  },
  {
   "cell_type": "code",
   "execution_count": 5,
   "id": "486260b4-9fd9-4114-b377-58045eb346d9",
   "metadata": {},
   "outputs": [
    {
     "data": {
      "text/plain": [
       "array([0., 0., 0., 0., 0.])"
      ]
     },
     "execution_count": 5,
     "metadata": {},
     "output_type": "execute_result"
    }
   ],
   "source": [
    "np.zeros(5)"
   ]
  },
  {
   "cell_type": "code",
   "execution_count": 7,
   "id": "fc10341c-4e05-4366-92c3-c46b1f25042a",
   "metadata": {},
   "outputs": [
    {
     "data": {
      "text/plain": [
       "array([0, 1, 2, 3, 4, 5, 6, 7, 8, 9])"
      ]
     },
     "execution_count": 7,
     "metadata": {},
     "output_type": "execute_result"
    }
   ],
   "source": [
    "np.arange(10)"
   ]
  },
  {
   "cell_type": "code",
   "execution_count": 9,
   "id": "f9770601-235d-49ee-a7b4-9d069d319d80",
   "metadata": {},
   "outputs": [
    {
     "data": {
      "text/plain": [
       "array([2, 3, 4, 5, 6, 7, 8, 9])"
      ]
     },
     "execution_count": 9,
     "metadata": {},
     "output_type": "execute_result"
    }
   ],
   "source": [
    "np.arange(2,10)"
   ]
  },
  {
   "cell_type": "code",
   "execution_count": 11,
   "id": "fe8c6901-86e5-487d-bbd9-0aefa169f2d9",
   "metadata": {},
   "outputs": [
    {
     "data": {
      "text/plain": [
       "array([ 4,  7, 10, 13, 16])"
      ]
     },
     "execution_count": 11,
     "metadata": {},
     "output_type": "execute_result"
    }
   ],
   "source": [
    "np.arange(4,17,3)"
   ]
  },
  {
   "cell_type": "code",
   "execution_count": 13,
   "id": "47fe2d70-8f1c-4785-b36a-fc458a293ba3",
   "metadata": {},
   "outputs": [
    {
     "data": {
      "text/plain": [
       "numpy.ndarray"
      ]
     },
     "execution_count": 13,
     "metadata": {},
     "output_type": "execute_result"
    }
   ],
   "source": [
    "type(array1)"
   ]
  },
  {
   "cell_type": "code",
   "execution_count": 23,
   "id": "0a00b941-382b-4235-8041-84425549af34",
   "metadata": {},
   "outputs": [
    {
     "data": {
      "text/plain": [
       "array([[ 1,  2,  3,  4],\n",
       "       [ 5,  6,  7,  8],\n",
       "       [ 9, 10, 11, 12]])"
      ]
     },
     "execution_count": 23,
     "metadata": {},
     "output_type": "execute_result"
    }
   ],
   "source": [
    "array2 = np.array([[1,2,3,4],[5,6,7,8],[9,10,11,12]])\n",
    "array2"
   ]
  },
  {
   "cell_type": "code",
   "execution_count": 27,
   "id": "89166aa1-f58a-45a0-827d-5c78d60ccc5b",
   "metadata": {},
   "outputs": [
    {
     "data": {
      "text/plain": [
       "12"
      ]
     },
     "execution_count": 27,
     "metadata": {},
     "output_type": "execute_result"
    }
   ],
   "source": [
    "array2.size"
   ]
  },
  {
   "cell_type": "code",
   "execution_count": 81,
   "id": "0c988dad-8057-49f5-b06b-dc9a74f446bb",
   "metadata": {},
   "outputs": [
    {
     "data": {
      "text/plain": [
       "(3, 4)"
      ]
     },
     "execution_count": 81,
     "metadata": {},
     "output_type": "execute_result"
    }
   ],
   "source": [
    "array2.shape"
   ]
  },
  {
   "cell_type": "markdown",
   "id": "e874bf6d-452a-4fbf-aee0-ff908980a2ee",
   "metadata": {},
   "source": [
    "인덱싱과 슬라이싱 : 1차원 array"
   ]
  },
  {
   "cell_type": "code",
   "execution_count": 31,
   "id": "3fee312c-bc38-4232-9892-e5304342b702",
   "metadata": {},
   "outputs": [],
   "source": [
    "gdp_array = np.array([6610, 7637, 8127, 8885, 10385, 12565, 13403, 12398, 8282, 10672])"
   ]
  },
  {
   "cell_type": "code",
   "execution_count": 33,
   "id": "9767deb2-9c87-4bb4-87ea-d495d1c4942d",
   "metadata": {},
   "outputs": [
    {
     "data": {
      "text/plain": [
       "6610"
      ]
     },
     "execution_count": 33,
     "metadata": {},
     "output_type": "execute_result"
    }
   ],
   "source": [
    "gdp_array[0]"
   ]
  },
  {
   "cell_type": "code",
   "execution_count": 35,
   "id": "20bf0e2d-bdaf-4fad-9e9c-1fcb8e4d9532",
   "metadata": {},
   "outputs": [
    {
     "data": {
      "text/plain": [
       "8127"
      ]
     },
     "execution_count": 35,
     "metadata": {},
     "output_type": "execute_result"
    }
   ],
   "source": [
    "gdp_array[2]"
   ]
  },
  {
   "cell_type": "code",
   "execution_count": 37,
   "id": "a301a767-5db6-47f2-830e-8e8b75844f66",
   "metadata": {},
   "outputs": [
    {
     "data": {
      "text/plain": [
       "10672"
      ]
     },
     "execution_count": 37,
     "metadata": {},
     "output_type": "execute_result"
    }
   ],
   "source": [
    "gdp_array[-1]"
   ]
  },
  {
   "cell_type": "code",
   "execution_count": 39,
   "id": "923093f8-5698-463d-be02-d514bcecb689",
   "metadata": {},
   "outputs": [
    {
     "data": {
      "text/plain": [
       "array([ 7637,  8885, 10385])"
      ]
     },
     "execution_count": 39,
     "metadata": {},
     "output_type": "execute_result"
    }
   ],
   "source": [
    "gdp_array[[1,3,4]]"
   ]
  },
  {
   "cell_type": "code",
   "execution_count": 43,
   "id": "c63df440-97f6-4454-88df-87a767cd3d96",
   "metadata": {},
   "outputs": [
    {
     "data": {
      "text/plain": [
       "array([ 8127,  7637,  8885, 12565])"
      ]
     },
     "execution_count": 43,
     "metadata": {},
     "output_type": "execute_result"
    }
   ],
   "source": [
    "array1 = np.array([2,1,3,5])\n",
    "gdp_array[array1]"
   ]
  },
  {
   "cell_type": "code",
   "execution_count": 45,
   "id": "fac996de-d591-4f6f-85d2-9c8514dd4255",
   "metadata": {},
   "outputs": [
    {
     "data": {
      "text/plain": [
       "array([ 8127,  8885, 10385, 12565])"
      ]
     },
     "execution_count": 45,
     "metadata": {},
     "output_type": "execute_result"
    }
   ],
   "source": [
    "gdp_array[2:6]"
   ]
  },
  {
   "cell_type": "code",
   "execution_count": 47,
   "id": "32ea96fe-2ab6-4b0f-9f56-12deac75595d",
   "metadata": {},
   "outputs": [
    {
     "data": {
      "text/plain": [
       "array([ 7637, 10385, 12398])"
      ]
     },
     "execution_count": 47,
     "metadata": {},
     "output_type": "execute_result"
    }
   ],
   "source": [
    "gdp_array[1:8:3]"
   ]
  },
  {
   "cell_type": "markdown",
   "id": "166e24c4-d1d9-4b5d-94d8-d112b44cf136",
   "metadata": {},
   "source": [
    "인덱싱과 슬라이싱 : 2차원 array"
   ]
  },
  {
   "cell_type": "code",
   "execution_count": 49,
   "id": "cada4bf9-fdad-4945-aec5-f1ec0a37687e",
   "metadata": {},
   "outputs": [
    {
     "data": {
      "text/plain": [
       "array([[12257, 11561, 13165, 14673, 16496, 19403],\n",
       "       [39169, 34406, 32821, 35387, 38299, 37813],\n",
       "       [  959,  1053,  1149,  1289,  1509,  1753],\n",
       "       [36335, 37133, 38023, 39496, 41713, 44115]])"
      ]
     },
     "execution_count": 49,
     "metadata": {},
     "output_type": "execute_result"
    }
   ],
   "source": [
    "gdp_array = np. array([\n",
    "    [12257,11561,13165,14673,16496,19403],\n",
    "    [39169,34406,32821,35387,38299,37813],\n",
    "    [959,1053,1149,1289,1509,1753],\n",
    "    [36335,37133,38023,39496,41713,44115]\n",
    "])\n",
    "gdp_array"
   ]
  },
  {
   "cell_type": "code",
   "execution_count": 51,
   "id": "d4f6a66c-b456-44dc-b4ca-5eb87d106190",
   "metadata": {},
   "outputs": [
    {
     "data": {
      "text/plain": [
       "array([39169, 34406, 32821, 35387, 38299, 37813])"
      ]
     },
     "execution_count": 51,
     "metadata": {},
     "output_type": "execute_result"
    }
   ],
   "source": [
    "gdp_array[1]"
   ]
  },
  {
   "cell_type": "code",
   "execution_count": 53,
   "id": "a81e127f-0e91-4c70-9bd7-662b5866b749",
   "metadata": {},
   "outputs": [
    {
     "data": {
      "text/plain": [
       "35387"
      ]
     },
     "execution_count": 53,
     "metadata": {},
     "output_type": "execute_result"
    }
   ],
   "source": [
    "gdp_array[1][3]"
   ]
  },
  {
   "cell_type": "code",
   "execution_count": 55,
   "id": "4212c116-c6d3-42c3-915f-00f555491996",
   "metadata": {},
   "outputs": [
    {
     "data": {
      "text/plain": [
       "35387"
      ]
     },
     "execution_count": 55,
     "metadata": {},
     "output_type": "execute_result"
    }
   ],
   "source": [
    "gdp_array[1,3]"
   ]
  },
  {
   "cell_type": "code",
   "execution_count": 57,
   "id": "54d7d53d-4c87-4d70-a0e6-b47a70306414",
   "metadata": {},
   "outputs": [
    {
     "data": {
      "text/plain": [
       "array([[32821, 35387, 38299],\n",
       "       [ 1149,  1289,  1509]])"
      ]
     },
     "execution_count": 57,
     "metadata": {},
     "output_type": "execute_result"
    }
   ],
   "source": [
    "gdp_array[1:3, 2:5]"
   ]
  },
  {
   "cell_type": "code",
   "execution_count": 59,
   "id": "17185641-a5b1-49a0-8594-32380c6d8a32",
   "metadata": {},
   "outputs": [
    {
     "data": {
      "text/plain": [
       "array([[32821, 35387, 38299, 37813],\n",
       "       [ 1149,  1289,  1509,  1753]])"
      ]
     },
     "execution_count": 59,
     "metadata": {},
     "output_type": "execute_result"
    }
   ],
   "source": [
    "gdp_array[1:3, 2:]"
   ]
  },
  {
   "cell_type": "code",
   "execution_count": 61,
   "id": "ecfccc47-6765-4dc2-9077-cf48d204a8ea",
   "metadata": {},
   "outputs": [
    {
     "data": {
      "text/plain": [
       "array([[13165, 14673, 16496],\n",
       "       [32821, 35387, 38299],\n",
       "       [ 1149,  1289,  1509],\n",
       "       [38023, 39496, 41713]])"
      ]
     },
     "execution_count": 61,
     "metadata": {},
     "output_type": "execute_result"
    }
   ],
   "source": [
    "gdp_array[:, 2:5]"
   ]
  },
  {
   "cell_type": "markdown",
   "id": "966f402b-31cd-46b4-af90-e5fe2dce1e25",
   "metadata": {},
   "source": [
    "불린 인덱싱"
   ]
  },
  {
   "cell_type": "code",
   "execution_count": 63,
   "id": "2bd2ace0-2e76-449d-8091-5b7a9168c353",
   "metadata": {},
   "outputs": [],
   "source": [
    "gdp_array = np.array([6610, 7637, 8127, 8885, 10385, 12565, 13403, 12398, 8282, 10672])"
   ]
  },
  {
   "cell_type": "code",
   "execution_count": 65,
   "id": "9442cce1-3df5-41ad-85a2-de0ab2b47475",
   "metadata": {},
   "outputs": [
    {
     "data": {
      "text/plain": [
       "array([False, False, False, False,  True,  True,  True,  True, False,\n",
       "        True])"
      ]
     },
     "execution_count": 65,
     "metadata": {},
     "output_type": "execute_result"
    }
   ],
   "source": [
    "gdp_array > 10000"
   ]
  },
  {
   "cell_type": "code",
   "execution_count": 67,
   "id": "b5adc000-5be2-4331-8786-f206acca933a",
   "metadata": {},
   "outputs": [
    {
     "data": {
      "text/plain": [
       "array([10385, 12565, 13403, 12398, 10672])"
      ]
     },
     "execution_count": 67,
     "metadata": {},
     "output_type": "execute_result"
    }
   ],
   "source": [
    "mask = gdp_array > 10000\n",
    "gdp_array[mask]"
   ]
  },
  {
   "cell_type": "code",
   "execution_count": 71,
   "id": "3215213b-d9e9-4e59-a782-e06eab78a212",
   "metadata": {},
   "outputs": [
    {
     "data": {
      "text/plain": [
       "array([10385, 12565, 13403, 12398, 10672])"
      ]
     },
     "execution_count": 71,
     "metadata": {},
     "output_type": "execute_result"
    }
   ],
   "source": [
    "gdp_array[gdp_array > 10000]"
   ]
  },
  {
   "cell_type": "code",
   "execution_count": 73,
   "id": "90457439-9560-4df7-8a51-a27436d4c325",
   "metadata": {},
   "outputs": [
    {
     "data": {
      "text/plain": [
       "array([ True,  True, False, False,  True,  True,  True,  True, False,\n",
       "        True])"
      ]
     },
     "execution_count": 73,
     "metadata": {},
     "output_type": "execute_result"
    }
   ],
   "source": [
    "(gdp_array > 10000) | (gdp_array < 8000) "
   ]
  },
  {
   "cell_type": "code",
   "execution_count": 75,
   "id": "2c26fe6f-08bf-4a06-9741-c6be2eb8bcd9",
   "metadata": {},
   "outputs": [
    {
     "data": {
      "text/plain": [
       "array([ 6610,  7637, 10385, 12565, 13403, 12398, 10672])"
      ]
     },
     "execution_count": 75,
     "metadata": {},
     "output_type": "execute_result"
    }
   ],
   "source": [
    "gdp_array[(gdp_array > 10000) | (gdp_array < 8000) ]"
   ]
  },
  {
   "cell_type": "markdown",
   "id": "824ec226-0624-4ff7-85c2-80722adabea0",
   "metadata": {},
   "source": [
    "Numpy 기본 연산"
   ]
  },
  {
   "cell_type": "code",
   "execution_count": 84,
   "id": "8ab08457-aaa6-4fb0-802d-7e4da51d9715",
   "metadata": {},
   "outputs": [],
   "source": [
    "gdp_korea_array = np.array([12257, 11561, 13165, 14673, 16496, 19403])"
   ]
  },
  {
   "cell_type": "code",
   "execution_count": 86,
   "id": "3f10f58e-07ed-4935-b333-7a1d8477af2b",
   "metadata": {},
   "outputs": [
    {
     "data": {
      "text/plain": [
       "14592.5"
      ]
     },
     "execution_count": 86,
     "metadata": {},
     "output_type": "execute_result"
    }
   ],
   "source": [
    "gdp_korea_array.mean()"
   ]
  },
  {
   "cell_type": "code",
   "execution_count": 88,
   "id": "7c93bc8b-0139-4c07-985d-e212aba2e274",
   "metadata": {},
   "outputs": [
    {
     "data": {
      "text/plain": [
       "87555"
      ]
     },
     "execution_count": 88,
     "metadata": {},
     "output_type": "execute_result"
    }
   ],
   "source": [
    "gdp_korea_array.sum()"
   ]
  },
  {
   "cell_type": "code",
   "execution_count": 92,
   "id": "f65c4d4b-fd79-4fde-9b5a-1fb7c5fc95b6",
   "metadata": {},
   "outputs": [
    {
     "data": {
      "text/plain": [
       "11561"
      ]
     },
     "execution_count": 92,
     "metadata": {},
     "output_type": "execute_result"
    }
   ],
   "source": [
    "gdp_korea_array.min()"
   ]
  },
  {
   "cell_type": "code",
   "execution_count": 94,
   "id": "aa50ae5d-5a48-4a0e-805c-b9ab92d05525",
   "metadata": {},
   "outputs": [
    {
     "data": {
      "text/plain": [
       "array([14708400, 13873200, 15798000, 17607600, 19795200, 23283600])"
      ]
     },
     "execution_count": 94,
     "metadata": {},
     "output_type": "execute_result"
    }
   ],
   "source": [
    "gdp_korea_array * 1200"
   ]
  },
  {
   "cell_type": "code",
   "execution_count": 96,
   "id": "7389b5fd-69c4-4405-a1fc-d0d530dd0005",
   "metadata": {},
   "outputs": [
    {
     "data": {
      "text/plain": [
       "array([12257, 11561, 13165, 14673, 16496, 19403])"
      ]
     },
     "execution_count": 96,
     "metadata": {},
     "output_type": "execute_result"
    }
   ],
   "source": [
    "gdp_korea_array"
   ]
  },
  {
   "cell_type": "code",
   "execution_count": 98,
   "id": "407f9285-3206-4dff-95ed-5f67c34711e1",
   "metadata": {},
   "outputs": [
    {
     "data": {
      "text/plain": [
       "array([14708400, 13873200, 15798000, 17607600, 19795200, 23283600])"
      ]
     },
     "execution_count": 98,
     "metadata": {},
     "output_type": "execute_result"
    }
   ],
   "source": [
    "gdp_korea_array = gdp_korea_array * 1200\n",
    "gdp_korea_array"
   ]
  },
  {
   "cell_type": "code",
   "execution_count": 104,
   "id": "69ef29da-3346-420b-847b-e92028e0d78e",
   "metadata": {},
   "outputs": [
    {
     "data": {
      "text/plain": [
       "array([12257., 11561., 13165., 14673., 16496., 19403.])"
      ]
     },
     "execution_count": 104,
     "metadata": {},
     "output_type": "execute_result"
    }
   ],
   "source": [
    "gdp_korea_array = gdp_korea_array / 1200\n",
    "gdp_korea_array"
   ]
  },
  {
   "cell_type": "code",
   "execution_count": 106,
   "id": "645b4f51-44ac-4e09-bbcf-9b3a21183c26",
   "metadata": {},
   "outputs": [],
   "source": [
    "gdp_us_array = np.array([36335, 371333, 38023, 39496, 41713, 44115])"
   ]
  },
  {
   "cell_type": "code",
   "execution_count": 108,
   "id": "f851b35d-0899-4a8c-8363-634af3c06483",
   "metadata": {},
   "outputs": [
    {
     "data": {
      "text/plain": [
       "array([ 24078., 359772.,  24858.,  24823.,  25217.,  24712.])"
      ]
     },
     "execution_count": 108,
     "metadata": {},
     "output_type": "execute_result"
    }
   ],
   "source": [
    "gdp_us_array - gdp_korea_array"
   ]
  },
  {
   "cell_type": "markdown",
   "id": "50a52a3b-379e-4d95-92a5-51190276e0a6",
   "metadata": {},
   "source": [
    "### Matplotlib"
   ]
  },
  {
   "cell_type": "code",
   "execution_count": 116,
   "id": "065ca50f-5b48-4610-bc59-1876761a2647",
   "metadata": {},
   "outputs": [],
   "source": [
    "import numpy as np\n",
    "import matplotlib.pyplot as plt"
   ]
  },
  {
   "cell_type": "code",
   "execution_count": 118,
   "id": "eb32fae9-0eca-4287-9126-6e7ab3770b60",
   "metadata": {},
   "outputs": [],
   "source": [
    "year_array = np.array([2011, 2012, 2013, 2014, 2015, 2016, 2017, 2018, 2019, 2020])\n",
    "\n",
    "stock_array = np.array([14.46, 19.01, 20.04, 27.59, 26.32, 28.96, 42.31, 39.44, 73.41, 132.69])"
   ]
  },
  {
   "cell_type": "code",
   "execution_count": 120,
   "id": "9155d236-8779-47eb-adf1-8ae83bf5f3f6",
   "metadata": {},
   "outputs": [
    {
     "data": {
      "image/png": "[encoded data removed]",
      "text/plain": [
       "<Figure size 640x480 with 1 Axes>"
      ]
     },
     "metadata": {},
     "output_type": "display_data"
    }
   ],
   "source": [
    "plt.plot(year_array, stock_array)\n",
    "plt.show()"
   ]
  },
  {
   "cell_type": "code",
   "execution_count": 122,
   "id": "d3cdb77c-8521-455d-bb82-f5642b3601fe",
   "metadata": {},
   "outputs": [],
   "source": [
    "name_array = np.array(['mark', ' dongwook', 'hyojune', 'sowon', 'taeho'])\n",
    "votes_array = np.array([5, 10, 6, 8, 3])"
   ]
  },
  {
   "cell_type": "code",
   "execution_count": 124,
   "id": "3bab7f63-3368-481b-b77d-b198e4de5f94",
   "metadata": {},
   "outputs": [
    {
     "data": {
      "image/png": "[encoded data removed]",
      "text/plain": [
       "<Figure size 640x480 with 1 Axes>"
      ]
     },
     "metadata": {},
     "output_type": "display_data"
    }
   ],
   "source": [
    "plt.bar(name_array, votes_array)\n",
    "plt.show()"
   ]
  },
  {
   "cell_type": "code",
   "execution_count": 126,
   "id": "1cdecfe9-2ec8-4615-8420-552c31638c1d",
   "metadata": {},
   "outputs": [],
   "source": [
    "height_array = np.array([\n",
    "    165,164,155,151,157,162,155,157,165,162,\n",
    "    165,167,167,183,180,184,177,178,175,181,\n",
    "    172,173,169,172,177,178,185,186,190,187\n",
    "])\n",
    "\n",
    "weight_array = np.array([\n",
    "    62,59,57,55,60,58,51,56,68,64,\n",
    "    57,58,64,79,73,76,61,65,83,80,\n",
    "    67,82,88,62,61,79,81,68,83,80\n",
    "])"
   ]
  },
  {
   "cell_type": "code",
   "execution_count": 128,
   "id": "025abb50-98fb-4264-83e6-2f4cc6b19404",
   "metadata": {},
   "outputs": [
    {
     "data": {
      "image/png": "[encoded data removed]",
      "text/plain": [
       "<Figure size 640x480 with 1 Axes>"
      ]
     },
     "metadata": {},
     "output_type": "display_data"
    }
   ],
   "source": [
    "plt.scatter(height_array, weight_array)\n",
    "plt.show()"
   ]
  },
  {
   "cell_type": "code",
   "execution_count": 130,
   "id": "be8bac33-1b69-45a0-8592-727d98fded86",
   "metadata": {},
   "outputs": [
    {
     "data": {
      "image/png": "[encoded data removed]",
      "text/plain": [
       "<Figure size 640x480 with 1 Axes>"
      ]
     },
     "metadata": {},
     "output_type": "display_data"
    }
   ],
   "source": [
    "plt.scatter(height_array, weight_array)\n",
    "plt.title('Height and Weight')\n",
    "plt.show()"
   ]
  },
  {
   "cell_type": "code",
   "execution_count": 132,
   "id": "fb933710-7c21-4b70-b7f1-7e468316191e",
   "metadata": {},
   "outputs": [
    {
     "data": {
      "image/png": "[encoded data removed]",
      "text/plain": [
       "<Figure size 640x480 with 1 Axes>"
      ]
     },
     "metadata": {},
     "output_type": "display_data"
    }
   ],
   "source": [
    "plt.scatter(height_array, weight_array)\n",
    "plt.title('Height and Weight')\n",
    "plt.xlabel('Height (cm)')\n",
    "plt.ylabel('Weight (kg)')\n",
    "plt.show()"
   ]
  },
  {
   "cell_type": "code",
   "execution_count": 136,
   "id": "28b4014f-9113-4b1f-88f0-617bb08b9922",
   "metadata": {},
   "outputs": [
    {
     "data": {
      "image/png": "[encoded data removed]",
      "text/plain": [
       "<Figure size 640x480 with 1 Axes>"
      ]
     },
     "metadata": {},
     "output_type": "display_data"
    }
   ],
   "source": [
    "plt.scatter(height_array, weight_array, c = '#6500C3')\n",
    "plt.title('Height and Weight')\n",
    "plt.xlabel('Height (cm)')\n",
    "plt.ylabel('Weight (kg)')\n",
    "plt.show()"
   ]
  },
  {
   "cell_type": "code",
   "execution_count": 138,
   "id": "0c16387c-8d10-40d1-a03a-1b20898106cb",
   "metadata": {},
   "outputs": [
    {
     "data": {
      "image/png": "[encoded data removed]",
      "text/plain": [
       "<Figure size 640x480 with 1 Axes>"
      ]
     },
     "metadata": {},
     "output_type": "display_data"
    }
   ],
   "source": [
    "plt.scatter(height_array, weight_array, c = '#6500C3', marker = '+')\n",
    "plt.title('Height and Weight')\n",
    "plt.xlabel('Height (cm)')\n",
    "plt.ylabel('Weight (kg)')\n",
    "plt.show()"
   ]
  },
  {
   "cell_type": "code",
   "execution_count": 140,
   "id": "2bfb25d7-502a-4241-aacc-a0920125749c",
   "metadata": {},
   "outputs": [
    {
     "data": {
      "image/png": "[encoded data removed]",
      "text/plain": [
       "<Figure size 1000x400 with 1 Axes>"
      ]
     },
     "metadata": {},
     "output_type": "display_data"
    }
   ],
   "source": [
    "plt.figure(figsize=(10, 4)) \n",
    "plt.scatter(height_array, weight_array)\n",
    "plt.title('Height and Weight')\n",
    "plt.xlabel('Height (cm)')\n",
    "plt.ylabel('Weight (kg)')\n",
    "plt.show()"
   ]
  },
  {
   "cell_type": "code",
   "execution_count": 142,
   "id": "48818737-3d8f-4769-bb45-160186efe8e1",
   "metadata": {},
   "outputs": [
    {
     "data": {
      "image/png": "[encoded data removed]",
      "text/plain": [
       "<Figure size 500x500 with 1 Axes>"
      ]
     },
     "metadata": {},
     "output_type": "display_data"
    }
   ],
   "source": [
    "plt.rcParams['figure.figsize'] = (5, 5)\n",
    "plt.scatter(height_array, weight_array)\n",
    "plt.title('Scatter Plot')\n",
    "plt.xlabel('X Label')\n",
    "plt.ylabel('Y Label')\n",
    "plt.show()"
   ]
  },
  {
   "cell_type": "markdown",
   "id": "fb153073-6b1f-4415-9bb3-8db88b80c64e",
   "metadata": {},
   "source": [
    "### Pandas"
   ]
  },
  {
   "cell_type": "code",
   "execution_count": 147,
   "id": "1ae16aeb-739b-45eb-a9e1-d063ee2b112d",
   "metadata": {},
   "outputs": [],
   "source": [
    "import pandas as pd"
   ]
  },
  {
   "cell_type": "code",
   "execution_count": 149,
   "id": "0843b954-4802-4dfd-96f8-8a646d17959a",
   "metadata": {},
   "outputs": [
    {
     "data": {
      "text/html": [
       "<div>\n",
       "<style scoped>\n",
       "    .dataframe tbody tr th:only-of-type {\n",
       "        vertical-align: middle;\n",
       "    }\n",
       "\n",
       "    .dataframe tbody tr th {\n",
       "        vertical-align: top;\n",
       "    }\n",
       "\n",
       "    .dataframe thead th {\n",
       "        text-align: right;\n",
       "    }\n",
       "</style>\n",
       "<table border=\"1\" class=\"dataframe\">\n",
       "  <thead>\n",
       "    <tr style=\"text-align: right;\">\n",
       "      <th></th>\n",
       "      <th>category</th>\n",
       "      <th>quantity</th>\n",
       "      <th>price</th>\n",
       "    </tr>\n",
       "  </thead>\n",
       "  <tbody>\n",
       "    <tr>\n",
       "      <th>0</th>\n",
       "      <td>skirt</td>\n",
       "      <td>10</td>\n",
       "      <td>30000</td>\n",
       "    </tr>\n",
       "    <tr>\n",
       "      <th>1</th>\n",
       "      <td>sweater</td>\n",
       "      <td>15</td>\n",
       "      <td>60000</td>\n",
       "    </tr>\n",
       "    <tr>\n",
       "      <th>2</th>\n",
       "      <td>coat</td>\n",
       "      <td>6</td>\n",
       "      <td>95000</td>\n",
       "    </tr>\n",
       "    <tr>\n",
       "      <th>3</th>\n",
       "      <td>jeans</td>\n",
       "      <td>11</td>\n",
       "      <td>35000</td>\n",
       "    </tr>\n",
       "  </tbody>\n",
       "</table>\n",
       "</div>"
      ],
      "text/plain": [
       "  category  quantity  price\n",
       "0    skirt        10  30000\n",
       "1  sweater        15  60000\n",
       "2     coat         6  95000\n",
       "3    jeans        11  35000"
      ]
     },
     "execution_count": 149,
     "metadata": {},
     "output_type": "execute_result"
    }
   ],
   "source": [
    "df = pd.DataFrame({\n",
    "    'category': ['skirt', 'sweater', 'coat', 'jeans'],\n",
    "    'quantity': [10, 15, 6, 11],\n",
    "    'price': [30000, 60000, 95000, 35000]\n",
    "})\n",
    "df"
   ]
  },
  {
   "cell_type": "code",
   "execution_count": 151,
   "id": "75f9814b-7806-483d-9362-a28a24e95c30",
   "metadata": {},
   "outputs": [
    {
     "data": {
      "text/plain": [
       "0    10\n",
       "1    15\n",
       "2     6\n",
       "3    11\n",
       "Name: quantity, dtype: int64"
      ]
     },
     "execution_count": 151,
     "metadata": {},
     "output_type": "execute_result"
    }
   ],
   "source": [
    "df['quantity']"
   ]
  },
  {
   "cell_type": "code",
   "execution_count": 153,
   "id": "f679f2d0-d619-497c-bbe6-c0722070d74d",
   "metadata": {},
   "outputs": [
    {
     "data": {
      "text/plain": [
       "pandas.core.series.Series"
      ]
     },
     "execution_count": 153,
     "metadata": {},
     "output_type": "execute_result"
    }
   ],
   "source": [
    "type(df['quantity'])"
   ]
  },
  {
   "cell_type": "code",
   "execution_count": 155,
   "id": "9b0bc19d-b694-40d8-9082-22252db436a5",
   "metadata": {},
   "outputs": [
    {
     "data": {
      "text/plain": [
       "10.5"
      ]
     },
     "execution_count": 155,
     "metadata": {},
     "output_type": "execute_result"
    }
   ],
   "source": [
    "df['quantity'].mean()"
   ]
  },
  {
   "cell_type": "code",
   "execution_count": 157,
   "id": "995e33ee-7e57-4d06-9163-052d4317f922",
   "metadata": {},
   "outputs": [
    {
     "data": {
      "text/plain": [
       "42"
      ]
     },
     "execution_count": 157,
     "metadata": {},
     "output_type": "execute_result"
    }
   ],
   "source": [
    "df['quantity'].sum()"
   ]
  },
  {
   "cell_type": "code",
   "execution_count": 159,
   "id": "44c2b86d-2bab-4076-a903-c9d614837150",
   "metadata": {},
   "outputs": [
    {
     "data": {
      "text/plain": [
       "0    300000\n",
       "1    900000\n",
       "2    570000\n",
       "3    385000\n",
       "dtype: int64"
      ]
     },
     "execution_count": 159,
     "metadata": {},
     "output_type": "execute_result"
    }
   ],
   "source": [
    "df['quantity'] * df['price']"
   ]
  },
  {
   "cell_type": "code",
   "execution_count": 161,
   "id": "e4fc5260-2f5b-4f9d-98d8-348934696223",
   "metadata": {},
   "outputs": [],
   "source": [
    "two_dimensional_list = [\n",
    "    ['skirt', 10, 30000],\n",
    "    ['sweater', 15, 60000],\n",
    "    ['coat', 6, 95000],\n",
    "    ['jeans', 11, 35000]\n",
    "]\n",
    "two_dimensional_array = np.array(two_dimensional_list)\n",
    "\n",
    "list_df = pd.DataFrame(two_dimensional_list)\n",
    "array_df = pd.DataFrame(two_dimensional_array)"
   ]
  },
  {
   "cell_type": "code",
   "execution_count": 163,
   "id": "50af6e87-be55-4064-b548-3b5550134c80",
   "metadata": {},
   "outputs": [
    {
     "data": {
      "text/html": [
       "<div>\n",
       "<style scoped>\n",
       "    .dataframe tbody tr th:only-of-type {\n",
       "        vertical-align: middle;\n",
       "    }\n",
       "\n",
       "    .dataframe tbody tr th {\n",
       "        vertical-align: top;\n",
       "    }\n",
       "\n",
       "    .dataframe thead th {\n",
       "        text-align: right;\n",
       "    }\n",
       "</style>\n",
       "<table border=\"1\" class=\"dataframe\">\n",
       "  <thead>\n",
       "    <tr style=\"text-align: right;\">\n",
       "      <th></th>\n",
       "      <th>0</th>\n",
       "      <th>1</th>\n",
       "      <th>2</th>\n",
       "    </tr>\n",
       "  </thead>\n",
       "  <tbody>\n",
       "    <tr>\n",
       "      <th>0</th>\n",
       "      <td>skirt</td>\n",
       "      <td>10</td>\n",
       "      <td>30000</td>\n",
       "    </tr>\n",
       "    <tr>\n",
       "      <th>1</th>\n",
       "      <td>sweater</td>\n",
       "      <td>15</td>\n",
       "      <td>60000</td>\n",
       "    </tr>\n",
       "    <tr>\n",
       "      <th>2</th>\n",
       "      <td>coat</td>\n",
       "      <td>6</td>\n",
       "      <td>95000</td>\n",
       "    </tr>\n",
       "    <tr>\n",
       "      <th>3</th>\n",
       "      <td>jeans</td>\n",
       "      <td>11</td>\n",
       "      <td>35000</td>\n",
       "    </tr>\n",
       "  </tbody>\n",
       "</table>\n",
       "</div>"
      ],
      "text/plain": [
       "         0   1      2\n",
       "0    skirt  10  30000\n",
       "1  sweater  15  60000\n",
       "2     coat   6  95000\n",
       "3    jeans  11  35000"
      ]
     },
     "execution_count": 163,
     "metadata": {},
     "output_type": "execute_result"
    }
   ],
   "source": [
    "list_df"
   ]
  },
  {
   "cell_type": "code",
   "execution_count": 165,
   "id": "3521ce88-221a-4a14-b67c-2a42da55a0f5",
   "metadata": {},
   "outputs": [
    {
     "data": {
      "text/html": [
       "<div>\n",
       "<style scoped>\n",
       "    .dataframe tbody tr th:only-of-type {\n",
       "        vertical-align: middle;\n",
       "    }\n",
       "\n",
       "    .dataframe tbody tr th {\n",
       "        vertical-align: top;\n",
       "    }\n",
       "\n",
       "    .dataframe thead th {\n",
       "        text-align: right;\n",
       "    }\n",
       "</style>\n",
       "<table border=\"1\" class=\"dataframe\">\n",
       "  <thead>\n",
       "    <tr style=\"text-align: right;\">\n",
       "      <th></th>\n",
       "      <th>0</th>\n",
       "      <th>1</th>\n",
       "      <th>2</th>\n",
       "    </tr>\n",
       "  </thead>\n",
       "  <tbody>\n",
       "    <tr>\n",
       "      <th>0</th>\n",
       "      <td>skirt</td>\n",
       "      <td>10</td>\n",
       "      <td>30000</td>\n",
       "    </tr>\n",
       "    <tr>\n",
       "      <th>1</th>\n",
       "      <td>sweater</td>\n",
       "      <td>15</td>\n",
       "      <td>60000</td>\n",
       "    </tr>\n",
       "    <tr>\n",
       "      <th>2</th>\n",
       "      <td>coat</td>\n",
       "      <td>6</td>\n",
       "      <td>95000</td>\n",
       "    </tr>\n",
       "    <tr>\n",
       "      <th>3</th>\n",
       "      <td>jeans</td>\n",
       "      <td>11</td>\n",
       "      <td>35000</td>\n",
       "    </tr>\n",
       "  </tbody>\n",
       "</table>\n",
       "</div>"
      ],
      "text/plain": [
       "         0   1      2\n",
       "0    skirt  10  30000\n",
       "1  sweater  15  60000\n",
       "2     coat   6  95000\n",
       "3    jeans  11  35000"
      ]
     },
     "execution_count": 165,
     "metadata": {},
     "output_type": "execute_result"
    }
   ],
   "source": [
    "array_df"
   ]
  },
  {
   "cell_type": "code",
   "execution_count": 167,
   "id": "e5f648f7-4e7f-4e85-acf7-8c42d78868ad",
   "metadata": {},
   "outputs": [],
   "source": [
    "list_df = pd.DataFrame(two_dimensional_list, columns=['category', 'quantity', 'price'])\n",
    "array_df = pd.DataFrame(two_dimensional_array, columns=['category', 'quantity', 'price'])"
   ]
  },
  {
   "cell_type": "code",
   "execution_count": 169,
   "id": "77d1a40b-2f14-42b6-837a-634bf1916b9f",
   "metadata": {},
   "outputs": [
    {
     "data": {
      "text/html": [
       "<div>\n",
       "<style scoped>\n",
       "    .dataframe tbody tr th:only-of-type {\n",
       "        vertical-align: middle;\n",
       "    }\n",
       "\n",
       "    .dataframe tbody tr th {\n",
       "        vertical-align: top;\n",
       "    }\n",
       "\n",
       "    .dataframe thead th {\n",
       "        text-align: right;\n",
       "    }\n",
       "</style>\n",
       "<table border=\"1\" class=\"dataframe\">\n",
       "  <thead>\n",
       "    <tr style=\"text-align: right;\">\n",
       "      <th></th>\n",
       "      <th>category</th>\n",
       "      <th>quantity</th>\n",
       "      <th>price</th>\n",
       "    </tr>\n",
       "  </thead>\n",
       "  <tbody>\n",
       "    <tr>\n",
       "      <th>0</th>\n",
       "      <td>skirt</td>\n",
       "      <td>10</td>\n",
       "      <td>30000</td>\n",
       "    </tr>\n",
       "    <tr>\n",
       "      <th>1</th>\n",
       "      <td>sweater</td>\n",
       "      <td>15</td>\n",
       "      <td>60000</td>\n",
       "    </tr>\n",
       "    <tr>\n",
       "      <th>2</th>\n",
       "      <td>coat</td>\n",
       "      <td>6</td>\n",
       "      <td>95000</td>\n",
       "    </tr>\n",
       "    <tr>\n",
       "      <th>3</th>\n",
       "      <td>jeans</td>\n",
       "      <td>11</td>\n",
       "      <td>35000</td>\n",
       "    </tr>\n",
       "  </tbody>\n",
       "</table>\n",
       "</div>"
      ],
      "text/plain": [
       "  category  quantity  price\n",
       "0    skirt        10  30000\n",
       "1  sweater        15  60000\n",
       "2     coat         6  95000\n",
       "3    jeans        11  35000"
      ]
     },
     "execution_count": 169,
     "metadata": {},
     "output_type": "execute_result"
    }
   ],
   "source": [
    "list_df"
   ]
  },
  {
   "cell_type": "code",
   "execution_count": 171,
   "id": "35cbcde7-a225-4bc1-9383-a870aa36edb2",
   "metadata": {},
   "outputs": [
    {
     "data": {
      "text/html": [
       "<div>\n",
       "<style scoped>\n",
       "    .dataframe tbody tr th:only-of-type {\n",
       "        vertical-align: middle;\n",
       "    }\n",
       "\n",
       "    .dataframe tbody tr th {\n",
       "        vertical-align: top;\n",
       "    }\n",
       "\n",
       "    .dataframe thead th {\n",
       "        text-align: right;\n",
       "    }\n",
       "</style>\n",
       "<table border=\"1\" class=\"dataframe\">\n",
       "  <thead>\n",
       "    <tr style=\"text-align: right;\">\n",
       "      <th></th>\n",
       "      <th>category</th>\n",
       "      <th>quantity</th>\n",
       "      <th>price</th>\n",
       "    </tr>\n",
       "  </thead>\n",
       "  <tbody>\n",
       "    <tr>\n",
       "      <th>0</th>\n",
       "      <td>skirt</td>\n",
       "      <td>10</td>\n",
       "      <td>30000</td>\n",
       "    </tr>\n",
       "    <tr>\n",
       "      <th>1</th>\n",
       "      <td>sweater</td>\n",
       "      <td>15</td>\n",
       "      <td>60000</td>\n",
       "    </tr>\n",
       "    <tr>\n",
       "      <th>2</th>\n",
       "      <td>coat</td>\n",
       "      <td>6</td>\n",
       "      <td>95000</td>\n",
       "    </tr>\n",
       "    <tr>\n",
       "      <th>3</th>\n",
       "      <td>jeans</td>\n",
       "      <td>11</td>\n",
       "      <td>35000</td>\n",
       "    </tr>\n",
       "  </tbody>\n",
       "</table>\n",
       "</div>"
      ],
      "text/plain": [
       "  category quantity  price\n",
       "0    skirt       10  30000\n",
       "1  sweater       15  60000\n",
       "2     coat        6  95000\n",
       "3    jeans       11  35000"
      ]
     },
     "execution_count": 171,
     "metadata": {},
     "output_type": "execute_result"
    }
   ],
   "source": [
    "array_df"
   ]
  },
  {
   "cell_type": "code",
   "execution_count": 175,
   "id": "56be63ae-1e08-4378-82a3-a5fef4e3463b",
   "metadata": {},
   "outputs": [
    {
     "data": {
      "text/html": [
       "<div>\n",
       "<style scoped>\n",
       "    .dataframe tbody tr th:only-of-type {\n",
       "        vertical-align: middle;\n",
       "    }\n",
       "\n",
       "    .dataframe tbody tr th {\n",
       "        vertical-align: top;\n",
       "    }\n",
       "\n",
       "    .dataframe thead th {\n",
       "        text-align: right;\n",
       "    }\n",
       "</style>\n",
       "<table border=\"1\" class=\"dataframe\">\n",
       "  <thead>\n",
       "    <tr style=\"text-align: right;\">\n",
       "      <th></th>\n",
       "      <th>category</th>\n",
       "      <th>quantity</th>\n",
       "      <th>price</th>\n",
       "    </tr>\n",
       "  </thead>\n",
       "  <tbody>\n",
       "    <tr>\n",
       "      <th>0</th>\n",
       "      <td>skirt</td>\n",
       "      <td>10</td>\n",
       "      <td>30000</td>\n",
       "    </tr>\n",
       "    <tr>\n",
       "      <th>1</th>\n",
       "      <td>sweater</td>\n",
       "      <td>15</td>\n",
       "      <td>60000</td>\n",
       "    </tr>\n",
       "    <tr>\n",
       "      <th>2</th>\n",
       "      <td>coat</td>\n",
       "      <td>6</td>\n",
       "      <td>95000</td>\n",
       "    </tr>\n",
       "    <tr>\n",
       "      <th>3</th>\n",
       "      <td>jeans</td>\n",
       "      <td>11</td>\n",
       "      <td>35000</td>\n",
       "    </tr>\n",
       "  </tbody>\n",
       "</table>\n",
       "</div>"
      ],
      "text/plain": [
       "  category  quantity  price\n",
       "0    skirt        10  30000\n",
       "1  sweater        15  60000\n",
       "2     coat         6  95000\n",
       "3    jeans        11  35000"
      ]
     },
     "execution_count": 175,
     "metadata": {},
     "output_type": "execute_result"
    }
   ],
   "source": [
    "dict_list = [\n",
    "    {'category': 'skirt', 'quantity': 10, 'price': 30000},\n",
    "    {'category': 'sweater', 'quantity': 15, 'price': 60000},\n",
    "    {'category': 'coat', 'quantity': 6, 'price': 95000},\n",
    "    {'category': 'jeans', 'quantity': 11, 'price': 35000}\n",
    "]\n",
    "\n",
    "df4 = pd.DataFrame(dict_list)\n",
    "df4"
   ]
  },
  {
   "cell_type": "code",
   "execution_count": 9,
   "id": "746dacd2-5abe-4dd4-ab5a-9c2b8169e703",
   "metadata": {},
   "outputs": [
    {
     "data": {
      "text/html": [
       "<div>\n",
       "<style scoped>\n",
       "    .dataframe tbody tr th:only-of-type {\n",
       "        vertical-align: middle;\n",
       "    }\n",
       "\n",
       "    .dataframe tbody tr th {\n",
       "        vertical-align: top;\n",
       "    }\n",
       "\n",
       "    .dataframe thead th {\n",
       "        text-align: right;\n",
       "    }\n",
       "</style>\n",
       "<table border=\"1\" class=\"dataframe\">\n",
       "  <thead>\n",
       "    <tr style=\"text-align: right;\">\n",
       "      <th></th>\n",
       "      <th>product_name</th>\n",
       "      <th>calories</th>\n",
       "      <th>carb</th>\n",
       "      <th>protein</th>\n",
       "      <th>fat</th>\n",
       "      <th>sodium</th>\n",
       "      <th>category</th>\n",
       "    </tr>\n",
       "  </thead>\n",
       "  <tbody>\n",
       "    <tr>\n",
       "      <th>0</th>\n",
       "      <td>Whopper</td>\n",
       "      <td>660</td>\n",
       "      <td>49</td>\n",
       "      <td>28</td>\n",
       "      <td>40</td>\n",
       "      <td>1.0</td>\n",
       "      <td>Burgers</td>\n",
       "    </tr>\n",
       "    <tr>\n",
       "      <th>1</th>\n",
       "      <td>Cheese Whopper</td>\n",
       "      <td>740</td>\n",
       "      <td>50</td>\n",
       "      <td>32</td>\n",
       "      <td>46</td>\n",
       "      <td>1.3</td>\n",
       "      <td>Burgers</td>\n",
       "    </tr>\n",
       "    <tr>\n",
       "      <th>2</th>\n",
       "      <td>Double Whopper</td>\n",
       "      <td>900</td>\n",
       "      <td>49</td>\n",
       "      <td>48</td>\n",
       "      <td>58</td>\n",
       "      <td>1.0</td>\n",
       "      <td>Burgers</td>\n",
       "    </tr>\n",
       "    <tr>\n",
       "      <th>3</th>\n",
       "      <td>Double Cheese Whopper</td>\n",
       "      <td>980</td>\n",
       "      <td>50</td>\n",
       "      <td>52</td>\n",
       "      <td>64</td>\n",
       "      <td>1.4</td>\n",
       "      <td>Burgers</td>\n",
       "    </tr>\n",
       "    <tr>\n",
       "      <th>4</th>\n",
       "      <td>Whopper Junior</td>\n",
       "      <td>310</td>\n",
       "      <td>27</td>\n",
       "      <td>13</td>\n",
       "      <td>18</td>\n",
       "      <td>0.4</td>\n",
       "      <td>Burgers</td>\n",
       "    </tr>\n",
       "    <tr>\n",
       "      <th>5</th>\n",
       "      <td>Bacon King</td>\n",
       "      <td>1150</td>\n",
       "      <td>49</td>\n",
       "      <td>61</td>\n",
       "      <td>79</td>\n",
       "      <td>2.2</td>\n",
       "      <td>Burgers</td>\n",
       "    </tr>\n",
       "    <tr>\n",
       "      <th>6</th>\n",
       "      <td>Single Stacker King</td>\n",
       "      <td>700</td>\n",
       "      <td>48</td>\n",
       "      <td>35</td>\n",
       "      <td>42</td>\n",
       "      <td>1.4</td>\n",
       "      <td>Burgers</td>\n",
       "    </tr>\n",
       "    <tr>\n",
       "      <th>7</th>\n",
       "      <td>Double Stacker King</td>\n",
       "      <td>1050</td>\n",
       "      <td>49</td>\n",
       "      <td>61</td>\n",
       "      <td>68</td>\n",
       "      <td>NaN</td>\n",
       "      <td>Burgers</td>\n",
       "    </tr>\n",
       "    <tr>\n",
       "      <th>8</th>\n",
       "      <td>Hamburger</td>\n",
       "      <td>240</td>\n",
       "      <td>26</td>\n",
       "      <td>13</td>\n",
       "      <td>10</td>\n",
       "      <td>0.4</td>\n",
       "      <td>Burgers</td>\n",
       "    </tr>\n",
       "    <tr>\n",
       "      <th>9</th>\n",
       "      <td>Cheeseburger</td>\n",
       "      <td>280</td>\n",
       "      <td>27</td>\n",
       "      <td>15</td>\n",
       "      <td>13</td>\n",
       "      <td>0.6</td>\n",
       "      <td>Burgers</td>\n",
       "    </tr>\n",
       "    <tr>\n",
       "      <th>10</th>\n",
       "      <td>Double Hamburger</td>\n",
       "      <td>350</td>\n",
       "      <td>26</td>\n",
       "      <td>21</td>\n",
       "      <td>18</td>\n",
       "      <td>0.4</td>\n",
       "      <td>Burgers</td>\n",
       "    </tr>\n",
       "    <tr>\n",
       "      <th>11</th>\n",
       "      <td>Double Cheeseburger</td>\n",
       "      <td>390</td>\n",
       "      <td>27</td>\n",
       "      <td>23</td>\n",
       "      <td>21</td>\n",
       "      <td>0.6</td>\n",
       "      <td>Burgers</td>\n",
       "    </tr>\n",
       "    <tr>\n",
       "      <th>12</th>\n",
       "      <td>Crispy Chicken</td>\n",
       "      <td>670</td>\n",
       "      <td>54</td>\n",
       "      <td>23</td>\n",
       "      <td>41</td>\n",
       "      <td>1.1</td>\n",
       "      <td>Chicken</td>\n",
       "    </tr>\n",
       "    <tr>\n",
       "      <th>13</th>\n",
       "      <td>Chicken Nuggets</td>\n",
       "      <td>170</td>\n",
       "      <td>11</td>\n",
       "      <td>8</td>\n",
       "      <td>11</td>\n",
       "      <td>0.3</td>\n",
       "      <td>Chicken</td>\n",
       "    </tr>\n",
       "    <tr>\n",
       "      <th>14</th>\n",
       "      <td>Spicy Chicken Nuggets</td>\n",
       "      <td>210</td>\n",
       "      <td>11</td>\n",
       "      <td>8</td>\n",
       "      <td>15</td>\n",
       "      <td>0.6</td>\n",
       "      <td>Chicken</td>\n",
       "    </tr>\n",
       "  </tbody>\n",
       "</table>\n",
       "</div>"
      ],
      "text/plain": [
       "             product_name  calories  carb  protein  fat  sodium category\n",
       "0                 Whopper       660    49       28   40     1.0  Burgers\n",
       "1          Cheese Whopper       740    50       32   46     1.3  Burgers\n",
       "2          Double Whopper       900    49       48   58     1.0  Burgers\n",
       "3   Double Cheese Whopper       980    50       52   64     1.4  Burgers\n",
       "4          Whopper Junior       310    27       13   18     0.4  Burgers\n",
       "5              Bacon King      1150    49       61   79     2.2  Burgers\n",
       "6     Single Stacker King       700    48       35   42     1.4  Burgers\n",
       "7     Double Stacker King      1050    49       61   68     NaN  Burgers\n",
       "8               Hamburger       240    26       13   10     0.4  Burgers\n",
       "9            Cheeseburger       280    27       15   13     0.6  Burgers\n",
       "10       Double Hamburger       350    26       21   18     0.4  Burgers\n",
       "11    Double Cheeseburger       390    27       23   21     0.6  Burgers\n",
       "12         Crispy Chicken       670    54       23   41     1.1  Chicken\n",
       "13        Chicken Nuggets       170    11        8   11     0.3  Chicken\n",
       "14  Spicy Chicken Nuggets       210    11        8   15     0.6  Chicken"
      ]
     },
     "execution_count": 9,
     "metadata": {},
     "output_type": "execute_result"
    }
   ],
   "source": [
    "import pandas as pd\n",
    "burger_df = pd.read_csv('data\\\\burger.csv')\n",
    "burger_df"
   ]
  },
  {
   "cell_type": "code",
   "execution_count": 193,
   "id": "25964b9d-3251-4f27-be53-6fac7a24ea31",
   "metadata": {},
   "outputs": [
    {
     "data": {
      "text/html": [
       "<div>\n",
       "<style scoped>\n",
       "    .dataframe tbody tr th:only-of-type {\n",
       "        vertical-align: middle;\n",
       "    }\n",
       "\n",
       "    .dataframe tbody tr th {\n",
       "        vertical-align: top;\n",
       "    }\n",
       "\n",
       "    .dataframe thead th {\n",
       "        text-align: right;\n",
       "    }\n",
       "</style>\n",
       "<table border=\"1\" class=\"dataframe\">\n",
       "  <thead>\n",
       "    <tr style=\"text-align: right;\">\n",
       "      <th></th>\n",
       "      <th>calories</th>\n",
       "      <th>carb</th>\n",
       "      <th>protein</th>\n",
       "      <th>fat</th>\n",
       "      <th>sodium</th>\n",
       "      <th>category</th>\n",
       "    </tr>\n",
       "    <tr>\n",
       "      <th>product_name</th>\n",
       "      <th></th>\n",
       "      <th></th>\n",
       "      <th></th>\n",
       "      <th></th>\n",
       "      <th></th>\n",
       "      <th></th>\n",
       "    </tr>\n",
       "  </thead>\n",
       "  <tbody>\n",
       "    <tr>\n",
       "      <th>Whopper</th>\n",
       "      <td>660</td>\n",
       "      <td>49</td>\n",
       "      <td>28</td>\n",
       "      <td>40</td>\n",
       "      <td>1.0</td>\n",
       "      <td>Burgers</td>\n",
       "    </tr>\n",
       "    <tr>\n",
       "      <th>Cheese Whopper</th>\n",
       "      <td>740</td>\n",
       "      <td>50</td>\n",
       "      <td>32</td>\n",
       "      <td>46</td>\n",
       "      <td>1.3</td>\n",
       "      <td>Burgers</td>\n",
       "    </tr>\n",
       "    <tr>\n",
       "      <th>Double Whopper</th>\n",
       "      <td>900</td>\n",
       "      <td>49</td>\n",
       "      <td>48</td>\n",
       "      <td>58</td>\n",
       "      <td>1.0</td>\n",
       "      <td>Burgers</td>\n",
       "    </tr>\n",
       "    <tr>\n",
       "      <th>Double Cheese Whopper</th>\n",
       "      <td>980</td>\n",
       "      <td>50</td>\n",
       "      <td>52</td>\n",
       "      <td>64</td>\n",
       "      <td>1.4</td>\n",
       "      <td>Burgers</td>\n",
       "    </tr>\n",
       "    <tr>\n",
       "      <th>Whopper Junior</th>\n",
       "      <td>310</td>\n",
       "      <td>27</td>\n",
       "      <td>13</td>\n",
       "      <td>18</td>\n",
       "      <td>0.4</td>\n",
       "      <td>Burgers</td>\n",
       "    </tr>\n",
       "    <tr>\n",
       "      <th>Bacon King</th>\n",
       "      <td>1150</td>\n",
       "      <td>49</td>\n",
       "      <td>61</td>\n",
       "      <td>79</td>\n",
       "      <td>2.2</td>\n",
       "      <td>Burgers</td>\n",
       "    </tr>\n",
       "    <tr>\n",
       "      <th>Single Stacker King</th>\n",
       "      <td>700</td>\n",
       "      <td>48</td>\n",
       "      <td>35</td>\n",
       "      <td>42</td>\n",
       "      <td>1.4</td>\n",
       "      <td>Burgers</td>\n",
       "    </tr>\n",
       "    <tr>\n",
       "      <th>Double Stacker King</th>\n",
       "      <td>1050</td>\n",
       "      <td>49</td>\n",
       "      <td>61</td>\n",
       "      <td>68</td>\n",
       "      <td>NaN</td>\n",
       "      <td>Burgers</td>\n",
       "    </tr>\n",
       "    <tr>\n",
       "      <th>Hamburger</th>\n",
       "      <td>240</td>\n",
       "      <td>26</td>\n",
       "      <td>13</td>\n",
       "      <td>10</td>\n",
       "      <td>0.4</td>\n",
       "      <td>Burgers</td>\n",
       "    </tr>\n",
       "    <tr>\n",
       "      <th>Cheeseburger</th>\n",
       "      <td>280</td>\n",
       "      <td>27</td>\n",
       "      <td>15</td>\n",
       "      <td>13</td>\n",
       "      <td>0.6</td>\n",
       "      <td>Burgers</td>\n",
       "    </tr>\n",
       "    <tr>\n",
       "      <th>Double Hamburger</th>\n",
       "      <td>350</td>\n",
       "      <td>26</td>\n",
       "      <td>21</td>\n",
       "      <td>18</td>\n",
       "      <td>0.4</td>\n",
       "      <td>Burgers</td>\n",
       "    </tr>\n",
       "    <tr>\n",
       "      <th>Double Cheeseburger</th>\n",
       "      <td>390</td>\n",
       "      <td>27</td>\n",
       "      <td>23</td>\n",
       "      <td>21</td>\n",
       "      <td>0.6</td>\n",
       "      <td>Burgers</td>\n",
       "    </tr>\n",
       "    <tr>\n",
       "      <th>Crispy Chicken</th>\n",
       "      <td>670</td>\n",
       "      <td>54</td>\n",
       "      <td>23</td>\n",
       "      <td>41</td>\n",
       "      <td>1.1</td>\n",
       "      <td>Chicken</td>\n",
       "    </tr>\n",
       "    <tr>\n",
       "      <th>Chicken Nuggets</th>\n",
       "      <td>170</td>\n",
       "      <td>11</td>\n",
       "      <td>8</td>\n",
       "      <td>11</td>\n",
       "      <td>0.3</td>\n",
       "      <td>Chicken</td>\n",
       "    </tr>\n",
       "    <tr>\n",
       "      <th>Spicy Chicken Nuggets</th>\n",
       "      <td>210</td>\n",
       "      <td>11</td>\n",
       "      <td>8</td>\n",
       "      <td>15</td>\n",
       "      <td>0.6</td>\n",
       "      <td>Chicken</td>\n",
       "    </tr>\n",
       "  </tbody>\n",
       "</table>\n",
       "</div>"
      ],
      "text/plain": [
       "                       calories  carb  protein  fat  sodium category\n",
       "product_name                                                        \n",
       "Whopper                     660    49       28   40     1.0  Burgers\n",
       "Cheese Whopper              740    50       32   46     1.3  Burgers\n",
       "Double Whopper              900    49       48   58     1.0  Burgers\n",
       "Double Cheese Whopper       980    50       52   64     1.4  Burgers\n",
       "Whopper Junior              310    27       13   18     0.4  Burgers\n",
       "Bacon King                 1150    49       61   79     2.2  Burgers\n",
       "Single Stacker King         700    48       35   42     1.4  Burgers\n",
       "Double Stacker King        1050    49       61   68     NaN  Burgers\n",
       "Hamburger                   240    26       13   10     0.4  Burgers\n",
       "Cheeseburger                280    27       15   13     0.6  Burgers\n",
       "Double Hamburger            350    26       21   18     0.4  Burgers\n",
       "Double Cheeseburger         390    27       23   21     0.6  Burgers\n",
       "Crispy Chicken              670    54       23   41     1.1  Chicken\n",
       "Chicken Nuggets             170    11        8   11     0.3  Chicken\n",
       "Spicy Chicken Nuggets       210    11        8   15     0.6  Chicken"
      ]
     },
     "execution_count": 193,
     "metadata": {},
     "output_type": "execute_result"
    }
   ],
   "source": [
    "burger_df = pd.read_csv('burger.csv', index_col = 'product_name')\n",
    "burger_df"
   ]
  },
  {
   "cell_type": "code",
   "execution_count": 195,
   "id": "8fd09d06-a94b-4ca3-9249-beb6eba53df7",
   "metadata": {},
   "outputs": [
    {
     "data": {
      "text/html": [
       "<div>\n",
       "<style scoped>\n",
       "    .dataframe tbody tr th:only-of-type {\n",
       "        vertical-align: middle;\n",
       "    }\n",
       "\n",
       "    .dataframe tbody tr th {\n",
       "        vertical-align: top;\n",
       "    }\n",
       "\n",
       "    .dataframe thead th {\n",
       "        text-align: right;\n",
       "    }\n",
       "</style>\n",
       "<table border=\"1\" class=\"dataframe\">\n",
       "  <thead>\n",
       "    <tr style=\"text-align: right;\">\n",
       "      <th></th>\n",
       "      <th>calories</th>\n",
       "      <th>carb</th>\n",
       "      <th>protein</th>\n",
       "      <th>fat</th>\n",
       "      <th>sodium</th>\n",
       "      <th>category</th>\n",
       "    </tr>\n",
       "    <tr>\n",
       "      <th>product_name</th>\n",
       "      <th></th>\n",
       "      <th></th>\n",
       "      <th></th>\n",
       "      <th></th>\n",
       "      <th></th>\n",
       "      <th></th>\n",
       "    </tr>\n",
       "  </thead>\n",
       "  <tbody>\n",
       "    <tr>\n",
       "      <th>Whopper</th>\n",
       "      <td>660</td>\n",
       "      <td>49</td>\n",
       "      <td>28</td>\n",
       "      <td>40</td>\n",
       "      <td>1.0</td>\n",
       "      <td>Burgers</td>\n",
       "    </tr>\n",
       "    <tr>\n",
       "      <th>Cheese Whopper</th>\n",
       "      <td>740</td>\n",
       "      <td>50</td>\n",
       "      <td>32</td>\n",
       "      <td>46</td>\n",
       "      <td>1.3</td>\n",
       "      <td>Burgers</td>\n",
       "    </tr>\n",
       "    <tr>\n",
       "      <th>Double Whopper</th>\n",
       "      <td>900</td>\n",
       "      <td>49</td>\n",
       "      <td>48</td>\n",
       "      <td>58</td>\n",
       "      <td>1.0</td>\n",
       "      <td>Burgers</td>\n",
       "    </tr>\n",
       "    <tr>\n",
       "      <th>Double Cheese Whopper</th>\n",
       "      <td>980</td>\n",
       "      <td>50</td>\n",
       "      <td>52</td>\n",
       "      <td>64</td>\n",
       "      <td>1.4</td>\n",
       "      <td>Burgers</td>\n",
       "    </tr>\n",
       "    <tr>\n",
       "      <th>Whopper Junior</th>\n",
       "      <td>310</td>\n",
       "      <td>27</td>\n",
       "      <td>13</td>\n",
       "      <td>18</td>\n",
       "      <td>0.4</td>\n",
       "      <td>Burgers</td>\n",
       "    </tr>\n",
       "    <tr>\n",
       "      <th>Bacon King</th>\n",
       "      <td>1150</td>\n",
       "      <td>49</td>\n",
       "      <td>61</td>\n",
       "      <td>79</td>\n",
       "      <td>2.2</td>\n",
       "      <td>Burgers</td>\n",
       "    </tr>\n",
       "    <tr>\n",
       "      <th>Single Stacker King</th>\n",
       "      <td>700</td>\n",
       "      <td>48</td>\n",
       "      <td>35</td>\n",
       "      <td>42</td>\n",
       "      <td>1.4</td>\n",
       "      <td>Burgers</td>\n",
       "    </tr>\n",
       "    <tr>\n",
       "      <th>Double Stacker King</th>\n",
       "      <td>1050</td>\n",
       "      <td>49</td>\n",
       "      <td>61</td>\n",
       "      <td>68</td>\n",
       "      <td>NaN</td>\n",
       "      <td>Burgers</td>\n",
       "    </tr>\n",
       "    <tr>\n",
       "      <th>Hamburger</th>\n",
       "      <td>240</td>\n",
       "      <td>26</td>\n",
       "      <td>13</td>\n",
       "      <td>10</td>\n",
       "      <td>0.4</td>\n",
       "      <td>Burgers</td>\n",
       "    </tr>\n",
       "    <tr>\n",
       "      <th>Cheeseburger</th>\n",
       "      <td>280</td>\n",
       "      <td>27</td>\n",
       "      <td>15</td>\n",
       "      <td>13</td>\n",
       "      <td>0.6</td>\n",
       "      <td>Burgers</td>\n",
       "    </tr>\n",
       "    <tr>\n",
       "      <th>Double Hamburger</th>\n",
       "      <td>350</td>\n",
       "      <td>26</td>\n",
       "      <td>21</td>\n",
       "      <td>18</td>\n",
       "      <td>0.4</td>\n",
       "      <td>Burgers</td>\n",
       "    </tr>\n",
       "    <tr>\n",
       "      <th>Double Cheeseburger</th>\n",
       "      <td>390</td>\n",
       "      <td>27</td>\n",
       "      <td>23</td>\n",
       "      <td>21</td>\n",
       "      <td>0.6</td>\n",
       "      <td>Burgers</td>\n",
       "    </tr>\n",
       "    <tr>\n",
       "      <th>Crispy Chicken</th>\n",
       "      <td>670</td>\n",
       "      <td>54</td>\n",
       "      <td>23</td>\n",
       "      <td>41</td>\n",
       "      <td>1.1</td>\n",
       "      <td>Chicken</td>\n",
       "    </tr>\n",
       "    <tr>\n",
       "      <th>Chicken Nuggets</th>\n",
       "      <td>170</td>\n",
       "      <td>11</td>\n",
       "      <td>8</td>\n",
       "      <td>11</td>\n",
       "      <td>0.3</td>\n",
       "      <td>Chicken</td>\n",
       "    </tr>\n",
       "    <tr>\n",
       "      <th>Spicy Chicken Nuggets</th>\n",
       "      <td>210</td>\n",
       "      <td>11</td>\n",
       "      <td>8</td>\n",
       "      <td>15</td>\n",
       "      <td>0.6</td>\n",
       "      <td>Chicken</td>\n",
       "    </tr>\n",
       "  </tbody>\n",
       "</table>\n",
       "</div>"
      ],
      "text/plain": [
       "                       calories  carb  protein  fat  sodium category\n",
       "product_name                                                        \n",
       "Whopper                     660    49       28   40     1.0  Burgers\n",
       "Cheese Whopper              740    50       32   46     1.3  Burgers\n",
       "Double Whopper              900    49       48   58     1.0  Burgers\n",
       "Double Cheese Whopper       980    50       52   64     1.4  Burgers\n",
       "Whopper Junior              310    27       13   18     0.4  Burgers\n",
       "Bacon King                 1150    49       61   79     2.2  Burgers\n",
       "Single Stacker King         700    48       35   42     1.4  Burgers\n",
       "Double Stacker King        1050    49       61   68     NaN  Burgers\n",
       "Hamburger                   240    26       13   10     0.4  Burgers\n",
       "Cheeseburger                280    27       15   13     0.6  Burgers\n",
       "Double Hamburger            350    26       21   18     0.4  Burgers\n",
       "Double Cheeseburger         390    27       23   21     0.6  Burgers\n",
       "Crispy Chicken              670    54       23   41     1.1  Chicken\n",
       "Chicken Nuggets             170    11        8   11     0.3  Chicken\n",
       "Spicy Chicken Nuggets       210    11        8   15     0.6  Chicken"
      ]
     },
     "execution_count": 195,
     "metadata": {},
     "output_type": "execute_result"
    }
   ],
   "source": [
    "burger_df = pd.read_csv('burger.csv', index_col = 0)\n",
    "burger_df"
   ]
  },
  {
   "cell_type": "code",
   "execution_count": 11,
   "id": "6150161c-c353-47e2-a83e-7021b5838cac",
   "metadata": {},
   "outputs": [
    {
     "data": {
      "text/html": [
       "<div>\n",
       "<style scoped>\n",
       "    .dataframe tbody tr th:only-of-type {\n",
       "        vertical-align: middle;\n",
       "    }\n",
       "\n",
       "    .dataframe tbody tr th {\n",
       "        vertical-align: top;\n",
       "    }\n",
       "\n",
       "    .dataframe thead th {\n",
       "        text-align: right;\n",
       "    }\n",
       "</style>\n",
       "<table border=\"1\" class=\"dataframe\">\n",
       "  <thead>\n",
       "    <tr style=\"text-align: right;\">\n",
       "      <th></th>\n",
       "      <th>product_name</th>\n",
       "      <th>calories</th>\n",
       "      <th>carb</th>\n",
       "      <th>protein</th>\n",
       "      <th>fat</th>\n",
       "      <th>sodium</th>\n",
       "      <th>category</th>\n",
       "    </tr>\n",
       "  </thead>\n",
       "  <tbody>\n",
       "    <tr>\n",
       "      <th>0</th>\n",
       "      <td>Whopper</td>\n",
       "      <td>660</td>\n",
       "      <td>49</td>\n",
       "      <td>28</td>\n",
       "      <td>40</td>\n",
       "      <td>1.0</td>\n",
       "      <td>Burgers</td>\n",
       "    </tr>\n",
       "    <tr>\n",
       "      <th>1</th>\n",
       "      <td>Cheese Whopper</td>\n",
       "      <td>740</td>\n",
       "      <td>50</td>\n",
       "      <td>32</td>\n",
       "      <td>46</td>\n",
       "      <td>1.3</td>\n",
       "      <td>Burgers</td>\n",
       "    </tr>\n",
       "    <tr>\n",
       "      <th>2</th>\n",
       "      <td>Double Whopper</td>\n",
       "      <td>900</td>\n",
       "      <td>49</td>\n",
       "      <td>48</td>\n",
       "      <td>58</td>\n",
       "      <td>1.0</td>\n",
       "      <td>Burgers</td>\n",
       "    </tr>\n",
       "    <tr>\n",
       "      <th>3</th>\n",
       "      <td>Double Cheese Whopper</td>\n",
       "      <td>980</td>\n",
       "      <td>50</td>\n",
       "      <td>52</td>\n",
       "      <td>64</td>\n",
       "      <td>1.4</td>\n",
       "      <td>Burgers</td>\n",
       "    </tr>\n",
       "    <tr>\n",
       "      <th>4</th>\n",
       "      <td>Whopper Junior</td>\n",
       "      <td>310</td>\n",
       "      <td>27</td>\n",
       "      <td>13</td>\n",
       "      <td>18</td>\n",
       "      <td>0.4</td>\n",
       "      <td>Burgers</td>\n",
       "    </tr>\n",
       "    <tr>\n",
       "      <th>5</th>\n",
       "      <td>Bacon King</td>\n",
       "      <td>1150</td>\n",
       "      <td>49</td>\n",
       "      <td>61</td>\n",
       "      <td>79</td>\n",
       "      <td>2.2</td>\n",
       "      <td>Burgers</td>\n",
       "    </tr>\n",
       "    <tr>\n",
       "      <th>6</th>\n",
       "      <td>Single Stacker King</td>\n",
       "      <td>700</td>\n",
       "      <td>48</td>\n",
       "      <td>35</td>\n",
       "      <td>42</td>\n",
       "      <td>1.4</td>\n",
       "      <td>Burgers</td>\n",
       "    </tr>\n",
       "    <tr>\n",
       "      <th>7</th>\n",
       "      <td>Double Stacker King</td>\n",
       "      <td>1050</td>\n",
       "      <td>49</td>\n",
       "      <td>61</td>\n",
       "      <td>68</td>\n",
       "      <td>NaN</td>\n",
       "      <td>Burgers</td>\n",
       "    </tr>\n",
       "    <tr>\n",
       "      <th>8</th>\n",
       "      <td>Hamburger</td>\n",
       "      <td>240</td>\n",
       "      <td>26</td>\n",
       "      <td>13</td>\n",
       "      <td>10</td>\n",
       "      <td>0.4</td>\n",
       "      <td>Burgers</td>\n",
       "    </tr>\n",
       "    <tr>\n",
       "      <th>9</th>\n",
       "      <td>Cheeseburger</td>\n",
       "      <td>280</td>\n",
       "      <td>27</td>\n",
       "      <td>15</td>\n",
       "      <td>13</td>\n",
       "      <td>0.6</td>\n",
       "      <td>Burgers</td>\n",
       "    </tr>\n",
       "    <tr>\n",
       "      <th>10</th>\n",
       "      <td>Double Hamburger</td>\n",
       "      <td>350</td>\n",
       "      <td>26</td>\n",
       "      <td>21</td>\n",
       "      <td>18</td>\n",
       "      <td>0.4</td>\n",
       "      <td>Burgers</td>\n",
       "    </tr>\n",
       "    <tr>\n",
       "      <th>11</th>\n",
       "      <td>Double Cheeseburger</td>\n",
       "      <td>390</td>\n",
       "      <td>27</td>\n",
       "      <td>23</td>\n",
       "      <td>21</td>\n",
       "      <td>0.6</td>\n",
       "      <td>Burgers</td>\n",
       "    </tr>\n",
       "    <tr>\n",
       "      <th>12</th>\n",
       "      <td>Crispy Chicken</td>\n",
       "      <td>670</td>\n",
       "      <td>54</td>\n",
       "      <td>23</td>\n",
       "      <td>41</td>\n",
       "      <td>1.1</td>\n",
       "      <td>Chicken</td>\n",
       "    </tr>\n",
       "    <tr>\n",
       "      <th>13</th>\n",
       "      <td>Chicken Nuggets</td>\n",
       "      <td>170</td>\n",
       "      <td>11</td>\n",
       "      <td>8</td>\n",
       "      <td>11</td>\n",
       "      <td>0.3</td>\n",
       "      <td>Chicken</td>\n",
       "    </tr>\n",
       "    <tr>\n",
       "      <th>14</th>\n",
       "      <td>Spicy Chicken Nuggets</td>\n",
       "      <td>210</td>\n",
       "      <td>11</td>\n",
       "      <td>8</td>\n",
       "      <td>15</td>\n",
       "      <td>0.6</td>\n",
       "      <td>Chicken</td>\n",
       "    </tr>\n",
       "  </tbody>\n",
       "</table>\n",
       "</div>"
      ],
      "text/plain": [
       "             product_name  calories  carb  protein  fat  sodium category\n",
       "0                 Whopper       660    49       28   40     1.0  Burgers\n",
       "1          Cheese Whopper       740    50       32   46     1.3  Burgers\n",
       "2          Double Whopper       900    49       48   58     1.0  Burgers\n",
       "3   Double Cheese Whopper       980    50       52   64     1.4  Burgers\n",
       "4          Whopper Junior       310    27       13   18     0.4  Burgers\n",
       "5              Bacon King      1150    49       61   79     2.2  Burgers\n",
       "6     Single Stacker King       700    48       35   42     1.4  Burgers\n",
       "7     Double Stacker King      1050    49       61   68     NaN  Burgers\n",
       "8               Hamburger       240    26       13   10     0.4  Burgers\n",
       "9            Cheeseburger       280    27       15   13     0.6  Burgers\n",
       "10       Double Hamburger       350    26       21   18     0.4  Burgers\n",
       "11    Double Cheeseburger       390    27       23   21     0.6  Burgers\n",
       "12         Crispy Chicken       670    54       23   41     1.1  Chicken\n",
       "13        Chicken Nuggets       170    11        8   11     0.3  Chicken\n",
       "14  Spicy Chicken Nuggets       210    11        8   15     0.6  Chicken"
      ]
     },
     "execution_count": 11,
     "metadata": {},
     "output_type": "execute_result"
    }
   ],
   "source": [
    "burger_df_2 = pd.read_csv('data\\\\burger2.csv', header = None,\n",
    "                       names = ['product_name', 'calories','carb','protein','fat','sodium','category'])\n",
    "burger_df_2"
   ]
  },
  {
   "cell_type": "code",
   "execution_count": 207,
   "id": "148e0990-8f03-487b-9dad-763cb222d853",
   "metadata": {},
   "outputs": [
    {
     "data": {
      "text/plain": [
       "50"
      ]
     },
     "execution_count": 207,
     "metadata": {},
     "output_type": "execute_result"
    }
   ],
   "source": [
    "#iloc, loc\n",
    "burger_df.iloc[3,1]"
   ]
  },
  {
   "cell_type": "code",
   "execution_count": 209,
   "id": "f6bfce89-231a-4e43-9584-59e82c6581df",
   "metadata": {},
   "outputs": [
    {
     "data": {
      "text/html": [
       "<div>\n",
       "<style scoped>\n",
       "    .dataframe tbody tr th:only-of-type {\n",
       "        vertical-align: middle;\n",
       "    }\n",
       "\n",
       "    .dataframe tbody tr th {\n",
       "        vertical-align: top;\n",
       "    }\n",
       "\n",
       "    .dataframe thead th {\n",
       "        text-align: right;\n",
       "    }\n",
       "</style>\n",
       "<table border=\"1\" class=\"dataframe\">\n",
       "  <thead>\n",
       "    <tr style=\"text-align: right;\">\n",
       "      <th></th>\n",
       "      <th>carb</th>\n",
       "      <th>protein</th>\n",
       "    </tr>\n",
       "    <tr>\n",
       "      <th>product_name</th>\n",
       "      <th></th>\n",
       "      <th></th>\n",
       "    </tr>\n",
       "  </thead>\n",
       "  <tbody>\n",
       "    <tr>\n",
       "      <th>Double Whopper</th>\n",
       "      <td>49</td>\n",
       "      <td>48</td>\n",
       "    </tr>\n",
       "    <tr>\n",
       "      <th>Double Cheese Whopper</th>\n",
       "      <td>50</td>\n",
       "      <td>52</td>\n",
       "    </tr>\n",
       "  </tbody>\n",
       "</table>\n",
       "</div>"
      ],
      "text/plain": [
       "                       carb  protein\n",
       "product_name                        \n",
       "Double Whopper           49       48\n",
       "Double Cheese Whopper    50       52"
      ]
     },
     "execution_count": 209,
     "metadata": {},
     "output_type": "execute_result"
    }
   ],
   "source": [
    "burger_df.iloc[[2,3], [1,2]]"
   ]
  },
  {
   "cell_type": "code",
   "execution_count": 211,
   "id": "f85f1999-fccc-47b5-b9cb-e88df4e3d50b",
   "metadata": {},
   "outputs": [
    {
     "data": {
      "text/html": [
       "<div>\n",
       "<style scoped>\n",
       "    .dataframe tbody tr th:only-of-type {\n",
       "        vertical-align: middle;\n",
       "    }\n",
       "\n",
       "    .dataframe tbody tr th {\n",
       "        vertical-align: top;\n",
       "    }\n",
       "\n",
       "    .dataframe thead th {\n",
       "        text-align: right;\n",
       "    }\n",
       "</style>\n",
       "<table border=\"1\" class=\"dataframe\">\n",
       "  <thead>\n",
       "    <tr style=\"text-align: right;\">\n",
       "      <th></th>\n",
       "      <th>calories</th>\n",
       "      <th>carb</th>\n",
       "      <th>protein</th>\n",
       "    </tr>\n",
       "    <tr>\n",
       "      <th>product_name</th>\n",
       "      <th></th>\n",
       "      <th></th>\n",
       "      <th></th>\n",
       "    </tr>\n",
       "  </thead>\n",
       "  <tbody>\n",
       "    <tr>\n",
       "      <th>Cheese Whopper</th>\n",
       "      <td>740</td>\n",
       "      <td>50</td>\n",
       "      <td>32</td>\n",
       "    </tr>\n",
       "    <tr>\n",
       "      <th>Double Whopper</th>\n",
       "      <td>900</td>\n",
       "      <td>49</td>\n",
       "      <td>48</td>\n",
       "    </tr>\n",
       "    <tr>\n",
       "      <th>Double Cheese Whopper</th>\n",
       "      <td>980</td>\n",
       "      <td>50</td>\n",
       "      <td>52</td>\n",
       "    </tr>\n",
       "  </tbody>\n",
       "</table>\n",
       "</div>"
      ],
      "text/plain": [
       "                       calories  carb  protein\n",
       "product_name                                  \n",
       "Cheese Whopper              740    50       32\n",
       "Double Whopper              900    49       48\n",
       "Double Cheese Whopper       980    50       52"
      ]
     },
     "execution_count": 211,
     "metadata": {},
     "output_type": "execute_result"
    }
   ],
   "source": [
    "burger_df.iloc[1:4, :3]"
   ]
  },
  {
   "cell_type": "code",
   "execution_count": 215,
   "id": "f35da09e-035b-4f7e-bbf1-b94e325249a5",
   "metadata": {},
   "outputs": [
    {
     "data": {
      "text/plain": [
       "48"
      ]
     },
     "execution_count": 215,
     "metadata": {},
     "output_type": "execute_result"
    }
   ],
   "source": [
    "burger_df.loc['Double Whopper', 'protein']"
   ]
  },
  {
   "cell_type": "code",
   "execution_count": 219,
   "id": "5fc362f2-d563-4e9e-bfb3-564ebb89d685",
   "metadata": {},
   "outputs": [
    {
     "data": {
      "text/html": [
       "<div>\n",
       "<style scoped>\n",
       "    .dataframe tbody tr th:only-of-type {\n",
       "        vertical-align: middle;\n",
       "    }\n",
       "\n",
       "    .dataframe tbody tr th {\n",
       "        vertical-align: top;\n",
       "    }\n",
       "\n",
       "    .dataframe thead th {\n",
       "        text-align: right;\n",
       "    }\n",
       "</style>\n",
       "<table border=\"1\" class=\"dataframe\">\n",
       "  <thead>\n",
       "    <tr style=\"text-align: right;\">\n",
       "      <th></th>\n",
       "      <th>carb</th>\n",
       "      <th>protein</th>\n",
       "      <th>fat</th>\n",
       "    </tr>\n",
       "    <tr>\n",
       "      <th>product_name</th>\n",
       "      <th></th>\n",
       "      <th></th>\n",
       "      <th></th>\n",
       "    </tr>\n",
       "  </thead>\n",
       "  <tbody>\n",
       "    <tr>\n",
       "      <th>Whopper</th>\n",
       "      <td>49</td>\n",
       "      <td>28</td>\n",
       "      <td>40</td>\n",
       "    </tr>\n",
       "    <tr>\n",
       "      <th>Double Whopper</th>\n",
       "      <td>49</td>\n",
       "      <td>48</td>\n",
       "      <td>58</td>\n",
       "    </tr>\n",
       "  </tbody>\n",
       "</table>\n",
       "</div>"
      ],
      "text/plain": [
       "                carb  protein  fat\n",
       "product_name                      \n",
       "Whopper           49       28   40\n",
       "Double Whopper    49       48   58"
      ]
     },
     "execution_count": 219,
     "metadata": {},
     "output_type": "execute_result"
    }
   ],
   "source": [
    "burger_df.loc[['Whopper', 'Double Whopper'], ['carb', 'protein', 'fat']]"
   ]
  },
  {
   "cell_type": "code",
   "execution_count": 221,
   "id": "b1e920e2-e06d-4fe3-b60d-dc65ccfc950a",
   "metadata": {},
   "outputs": [
    {
     "data": {
      "text/html": [
       "<div>\n",
       "<style scoped>\n",
       "    .dataframe tbody tr th:only-of-type {\n",
       "        vertical-align: middle;\n",
       "    }\n",
       "\n",
       "    .dataframe tbody tr th {\n",
       "        vertical-align: top;\n",
       "    }\n",
       "\n",
       "    .dataframe thead th {\n",
       "        text-align: right;\n",
       "    }\n",
       "</style>\n",
       "<table border=\"1\" class=\"dataframe\">\n",
       "  <thead>\n",
       "    <tr style=\"text-align: right;\">\n",
       "      <th></th>\n",
       "      <th>calories</th>\n",
       "      <th>carb</th>\n",
       "      <th>protein</th>\n",
       "      <th>fat</th>\n",
       "    </tr>\n",
       "    <tr>\n",
       "      <th>product_name</th>\n",
       "      <th></th>\n",
       "      <th></th>\n",
       "      <th></th>\n",
       "      <th></th>\n",
       "    </tr>\n",
       "  </thead>\n",
       "  <tbody>\n",
       "    <tr>\n",
       "      <th>Double Whopper</th>\n",
       "      <td>900</td>\n",
       "      <td>49</td>\n",
       "      <td>48</td>\n",
       "      <td>58</td>\n",
       "    </tr>\n",
       "    <tr>\n",
       "      <th>Double Cheese Whopper</th>\n",
       "      <td>980</td>\n",
       "      <td>50</td>\n",
       "      <td>52</td>\n",
       "      <td>64</td>\n",
       "    </tr>\n",
       "    <tr>\n",
       "      <th>Whopper Junior</th>\n",
       "      <td>310</td>\n",
       "      <td>27</td>\n",
       "      <td>13</td>\n",
       "      <td>18</td>\n",
       "    </tr>\n",
       "    <tr>\n",
       "      <th>Bacon King</th>\n",
       "      <td>1150</td>\n",
       "      <td>49</td>\n",
       "      <td>61</td>\n",
       "      <td>79</td>\n",
       "    </tr>\n",
       "  </tbody>\n",
       "</table>\n",
       "</div>"
      ],
      "text/plain": [
       "                       calories  carb  protein  fat\n",
       "product_name                                       \n",
       "Double Whopper              900    49       48   58\n",
       "Double Cheese Whopper       980    50       52   64\n",
       "Whopper Junior              310    27       13   18\n",
       "Bacon King                 1150    49       61   79"
      ]
     },
     "execution_count": 221,
     "metadata": {},
     "output_type": "execute_result"
    }
   ],
   "source": [
    "burger_df.loc['Double Whopper':'Bacon King', 'calories':'fat']"
   ]
  },
  {
   "cell_type": "code",
   "execution_count": 223,
   "id": "91199ae8-85a9-45b0-9041-5501a9f4b1ae",
   "metadata": {},
   "outputs": [
    {
     "data": {
      "text/plain": [
       "product_name\n",
       "Whopper                   660\n",
       "Cheese Whopper            740\n",
       "Double Whopper            900\n",
       "Double Cheese Whopper     980\n",
       "Whopper Junior            310\n",
       "Bacon King               1150\n",
       "Single Stacker King       700\n",
       "Double Stacker King      1050\n",
       "Hamburger                 240\n",
       "Cheeseburger              280\n",
       "Double Hamburger          350\n",
       "Double Cheeseburger       390\n",
       "Crispy Chicken            670\n",
       "Chicken Nuggets           170\n",
       "Spicy Chicken Nuggets     210\n",
       "Name: calories, dtype: int64"
      ]
     },
     "execution_count": 223,
     "metadata": {},
     "output_type": "execute_result"
    }
   ],
   "source": [
    "burger_df['calories']"
   ]
  },
  {
   "cell_type": "code",
   "execution_count": 225,
   "id": "78fd7655-8acf-431a-9d11-bcd7c7cc3966",
   "metadata": {},
   "outputs": [
    {
     "data": {
      "text/html": [
       "<div>\n",
       "<style scoped>\n",
       "    .dataframe tbody tr th:only-of-type {\n",
       "        vertical-align: middle;\n",
       "    }\n",
       "\n",
       "    .dataframe tbody tr th {\n",
       "        vertical-align: top;\n",
       "    }\n",
       "\n",
       "    .dataframe thead th {\n",
       "        text-align: right;\n",
       "    }\n",
       "</style>\n",
       "<table border=\"1\" class=\"dataframe\">\n",
       "  <thead>\n",
       "    <tr style=\"text-align: right;\">\n",
       "      <th></th>\n",
       "      <th>calories</th>\n",
       "      <th>fat</th>\n",
       "    </tr>\n",
       "    <tr>\n",
       "      <th>product_name</th>\n",
       "      <th></th>\n",
       "      <th></th>\n",
       "    </tr>\n",
       "  </thead>\n",
       "  <tbody>\n",
       "    <tr>\n",
       "      <th>Whopper</th>\n",
       "      <td>660</td>\n",
       "      <td>40</td>\n",
       "    </tr>\n",
       "    <tr>\n",
       "      <th>Cheese Whopper</th>\n",
       "      <td>740</td>\n",
       "      <td>46</td>\n",
       "    </tr>\n",
       "    <tr>\n",
       "      <th>Double Whopper</th>\n",
       "      <td>900</td>\n",
       "      <td>58</td>\n",
       "    </tr>\n",
       "    <tr>\n",
       "      <th>Double Cheese Whopper</th>\n",
       "      <td>980</td>\n",
       "      <td>64</td>\n",
       "    </tr>\n",
       "    <tr>\n",
       "      <th>Whopper Junior</th>\n",
       "      <td>310</td>\n",
       "      <td>18</td>\n",
       "    </tr>\n",
       "    <tr>\n",
       "      <th>Bacon King</th>\n",
       "      <td>1150</td>\n",
       "      <td>79</td>\n",
       "    </tr>\n",
       "    <tr>\n",
       "      <th>Single Stacker King</th>\n",
       "      <td>700</td>\n",
       "      <td>42</td>\n",
       "    </tr>\n",
       "    <tr>\n",
       "      <th>Double Stacker King</th>\n",
       "      <td>1050</td>\n",
       "      <td>68</td>\n",
       "    </tr>\n",
       "    <tr>\n",
       "      <th>Hamburger</th>\n",
       "      <td>240</td>\n",
       "      <td>10</td>\n",
       "    </tr>\n",
       "    <tr>\n",
       "      <th>Cheeseburger</th>\n",
       "      <td>280</td>\n",
       "      <td>13</td>\n",
       "    </tr>\n",
       "    <tr>\n",
       "      <th>Double Hamburger</th>\n",
       "      <td>350</td>\n",
       "      <td>18</td>\n",
       "    </tr>\n",
       "    <tr>\n",
       "      <th>Double Cheeseburger</th>\n",
       "      <td>390</td>\n",
       "      <td>21</td>\n",
       "    </tr>\n",
       "    <tr>\n",
       "      <th>Crispy Chicken</th>\n",
       "      <td>670</td>\n",
       "      <td>41</td>\n",
       "    </tr>\n",
       "    <tr>\n",
       "      <th>Chicken Nuggets</th>\n",
       "      <td>170</td>\n",
       "      <td>11</td>\n",
       "    </tr>\n",
       "    <tr>\n",
       "      <th>Spicy Chicken Nuggets</th>\n",
       "      <td>210</td>\n",
       "      <td>15</td>\n",
       "    </tr>\n",
       "  </tbody>\n",
       "</table>\n",
       "</div>"
      ],
      "text/plain": [
       "                       calories  fat\n",
       "product_name                        \n",
       "Whopper                     660   40\n",
       "Cheese Whopper              740   46\n",
       "Double Whopper              900   58\n",
       "Double Cheese Whopper       980   64\n",
       "Whopper Junior              310   18\n",
       "Bacon King                 1150   79\n",
       "Single Stacker King         700   42\n",
       "Double Stacker King        1050   68\n",
       "Hamburger                   240   10\n",
       "Cheeseburger                280   13\n",
       "Double Hamburger            350   18\n",
       "Double Cheeseburger         390   21\n",
       "Crispy Chicken              670   41\n",
       "Chicken Nuggets             170   11\n",
       "Spicy Chicken Nuggets       210   15"
      ]
     },
     "execution_count": 225,
     "metadata": {},
     "output_type": "execute_result"
    }
   ],
   "source": [
    "burger_df[['calories', 'fat']]"
   ]
  },
  {
   "cell_type": "code",
   "execution_count": 227,
   "id": "368b298c-6c59-4195-b56b-bebdb7336fc8",
   "metadata": {},
   "outputs": [
    {
     "data": {
      "text/html": [
       "<div>\n",
       "<style scoped>\n",
       "    .dataframe tbody tr th:only-of-type {\n",
       "        vertical-align: middle;\n",
       "    }\n",
       "\n",
       "    .dataframe tbody tr th {\n",
       "        vertical-align: top;\n",
       "    }\n",
       "\n",
       "    .dataframe thead th {\n",
       "        text-align: right;\n",
       "    }\n",
       "</style>\n",
       "<table border=\"1\" class=\"dataframe\">\n",
       "  <thead>\n",
       "    <tr style=\"text-align: right;\">\n",
       "      <th></th>\n",
       "      <th>calories</th>\n",
       "      <th>carb</th>\n",
       "      <th>protein</th>\n",
       "      <th>fat</th>\n",
       "      <th>sodium</th>\n",
       "      <th>category</th>\n",
       "    </tr>\n",
       "    <tr>\n",
       "      <th>product_name</th>\n",
       "      <th></th>\n",
       "      <th></th>\n",
       "      <th></th>\n",
       "      <th></th>\n",
       "      <th></th>\n",
       "      <th></th>\n",
       "    </tr>\n",
       "  </thead>\n",
       "  <tbody>\n",
       "    <tr>\n",
       "      <th>Double Whopper</th>\n",
       "      <td>900</td>\n",
       "      <td>49</td>\n",
       "      <td>48</td>\n",
       "      <td>58</td>\n",
       "      <td>1.0</td>\n",
       "      <td>Burgers</td>\n",
       "    </tr>\n",
       "    <tr>\n",
       "      <th>Double Cheese Whopper</th>\n",
       "      <td>980</td>\n",
       "      <td>50</td>\n",
       "      <td>52</td>\n",
       "      <td>64</td>\n",
       "      <td>1.4</td>\n",
       "      <td>Burgers</td>\n",
       "    </tr>\n",
       "    <tr>\n",
       "      <th>Whopper Junior</th>\n",
       "      <td>310</td>\n",
       "      <td>27</td>\n",
       "      <td>13</td>\n",
       "      <td>18</td>\n",
       "      <td>0.4</td>\n",
       "      <td>Burgers</td>\n",
       "    </tr>\n",
       "    <tr>\n",
       "      <th>Bacon King</th>\n",
       "      <td>1150</td>\n",
       "      <td>49</td>\n",
       "      <td>61</td>\n",
       "      <td>79</td>\n",
       "      <td>2.2</td>\n",
       "      <td>Burgers</td>\n",
       "    </tr>\n",
       "  </tbody>\n",
       "</table>\n",
       "</div>"
      ],
      "text/plain": [
       "                       calories  carb  protein  fat  sodium category\n",
       "product_name                                                        \n",
       "Double Whopper              900    49       48   58     1.0  Burgers\n",
       "Double Cheese Whopper       980    50       52   64     1.4  Burgers\n",
       "Whopper Junior              310    27       13   18     0.4  Burgers\n",
       "Bacon King                 1150    49       61   79     2.2  Burgers"
      ]
     },
     "execution_count": 227,
     "metadata": {},
     "output_type": "execute_result"
    }
   ],
   "source": [
    "burger_df['Double Whopper':'Bacon King']"
   ]
  },
  {
   "cell_type": "code",
   "execution_count": 231,
   "id": "202ba5ac-8d3a-4de7-9edc-f88114db94dc",
   "metadata": {},
   "outputs": [
    {
     "data": {
      "text/plain": [
       "product_name\n",
       "Whopper                  False\n",
       "Cheese Whopper           False\n",
       "Double Whopper           False\n",
       "Double Cheese Whopper    False\n",
       "Whopper Junior            True\n",
       "Bacon King               False\n",
       "Single Stacker King      False\n",
       "Double Stacker King      False\n",
       "Hamburger                 True\n",
       "Cheeseburger              True\n",
       "Double Hamburger          True\n",
       "Double Cheeseburger       True\n",
       "Crispy Chicken           False\n",
       "Chicken Nuggets           True\n",
       "Spicy Chicken Nuggets     True\n",
       "Name: calories, dtype: bool"
      ]
     },
     "execution_count": 231,
     "metadata": {},
     "output_type": "execute_result"
    }
   ],
   "source": [
    "burger_df['calories'] < 500"
   ]
  },
  {
   "cell_type": "code",
   "execution_count": 233,
   "id": "94d79166-6f4d-48cc-80b9-8e7aad3bc1b5",
   "metadata": {},
   "outputs": [
    {
     "data": {
      "text/html": [
       "<div>\n",
       "<style scoped>\n",
       "    .dataframe tbody tr th:only-of-type {\n",
       "        vertical-align: middle;\n",
       "    }\n",
       "\n",
       "    .dataframe tbody tr th {\n",
       "        vertical-align: top;\n",
       "    }\n",
       "\n",
       "    .dataframe thead th {\n",
       "        text-align: right;\n",
       "    }\n",
       "</style>\n",
       "<table border=\"1\" class=\"dataframe\">\n",
       "  <thead>\n",
       "    <tr style=\"text-align: right;\">\n",
       "      <th></th>\n",
       "      <th>calories</th>\n",
       "      <th>carb</th>\n",
       "      <th>protein</th>\n",
       "      <th>fat</th>\n",
       "      <th>sodium</th>\n",
       "      <th>category</th>\n",
       "    </tr>\n",
       "    <tr>\n",
       "      <th>product_name</th>\n",
       "      <th></th>\n",
       "      <th></th>\n",
       "      <th></th>\n",
       "      <th></th>\n",
       "      <th></th>\n",
       "      <th></th>\n",
       "    </tr>\n",
       "  </thead>\n",
       "  <tbody>\n",
       "    <tr>\n",
       "      <th>Whopper Junior</th>\n",
       "      <td>310</td>\n",
       "      <td>27</td>\n",
       "      <td>13</td>\n",
       "      <td>18</td>\n",
       "      <td>0.4</td>\n",
       "      <td>Burgers</td>\n",
       "    </tr>\n",
       "    <tr>\n",
       "      <th>Hamburger</th>\n",
       "      <td>240</td>\n",
       "      <td>26</td>\n",
       "      <td>13</td>\n",
       "      <td>10</td>\n",
       "      <td>0.4</td>\n",
       "      <td>Burgers</td>\n",
       "    </tr>\n",
       "    <tr>\n",
       "      <th>Cheeseburger</th>\n",
       "      <td>280</td>\n",
       "      <td>27</td>\n",
       "      <td>15</td>\n",
       "      <td>13</td>\n",
       "      <td>0.6</td>\n",
       "      <td>Burgers</td>\n",
       "    </tr>\n",
       "    <tr>\n",
       "      <th>Double Hamburger</th>\n",
       "      <td>350</td>\n",
       "      <td>26</td>\n",
       "      <td>21</td>\n",
       "      <td>18</td>\n",
       "      <td>0.4</td>\n",
       "      <td>Burgers</td>\n",
       "    </tr>\n",
       "    <tr>\n",
       "      <th>Double Cheeseburger</th>\n",
       "      <td>390</td>\n",
       "      <td>27</td>\n",
       "      <td>23</td>\n",
       "      <td>21</td>\n",
       "      <td>0.6</td>\n",
       "      <td>Burgers</td>\n",
       "    </tr>\n",
       "    <tr>\n",
       "      <th>Chicken Nuggets</th>\n",
       "      <td>170</td>\n",
       "      <td>11</td>\n",
       "      <td>8</td>\n",
       "      <td>11</td>\n",
       "      <td>0.3</td>\n",
       "      <td>Chicken</td>\n",
       "    </tr>\n",
       "    <tr>\n",
       "      <th>Spicy Chicken Nuggets</th>\n",
       "      <td>210</td>\n",
       "      <td>11</td>\n",
       "      <td>8</td>\n",
       "      <td>15</td>\n",
       "      <td>0.6</td>\n",
       "      <td>Chicken</td>\n",
       "    </tr>\n",
       "  </tbody>\n",
       "</table>\n",
       "</div>"
      ],
      "text/plain": [
       "                       calories  carb  protein  fat  sodium category\n",
       "product_name                                                        \n",
       "Whopper Junior              310    27       13   18     0.4  Burgers\n",
       "Hamburger                   240    26       13   10     0.4  Burgers\n",
       "Cheeseburger                280    27       15   13     0.6  Burgers\n",
       "Double Hamburger            350    26       21   18     0.4  Burgers\n",
       "Double Cheeseburger         390    27       23   21     0.6  Burgers\n",
       "Chicken Nuggets             170    11        8   11     0.3  Chicken\n",
       "Spicy Chicken Nuggets       210    11        8   15     0.6  Chicken"
      ]
     },
     "execution_count": 233,
     "metadata": {},
     "output_type": "execute_result"
    }
   ],
   "source": [
    "burger_df.loc[burger_df['calories'] < 500]"
   ]
  },
  {
   "cell_type": "code",
   "execution_count": 235,
   "id": "1477b2c9-0ae2-4879-a4d8-9a475af53384",
   "metadata": {},
   "outputs": [
    {
     "data": {
      "text/plain": [
       "product_name\n",
       "Whopper Junior           13\n",
       "Hamburger                13\n",
       "Cheeseburger             15\n",
       "Double Hamburger         21\n",
       "Double Cheeseburger      23\n",
       "Chicken Nuggets           8\n",
       "Spicy Chicken Nuggets     8\n",
       "Name: protein, dtype: int64"
      ]
     },
     "execution_count": 235,
     "metadata": {},
     "output_type": "execute_result"
    }
   ],
   "source": [
    "burger_df.loc[burger_df['calories'] < 500, 'protein']"
   ]
  },
  {
   "cell_type": "code",
   "execution_count": 237,
   "id": "dcd2a9f8-19b9-431f-8af5-47a677529451",
   "metadata": {},
   "outputs": [
    {
     "data": {
      "text/html": [
       "<div>\n",
       "<style scoped>\n",
       "    .dataframe tbody tr th:only-of-type {\n",
       "        vertical-align: middle;\n",
       "    }\n",
       "\n",
       "    .dataframe tbody tr th {\n",
       "        vertical-align: top;\n",
       "    }\n",
       "\n",
       "    .dataframe thead th {\n",
       "        text-align: right;\n",
       "    }\n",
       "</style>\n",
       "<table border=\"1\" class=\"dataframe\">\n",
       "  <thead>\n",
       "    <tr style=\"text-align: right;\">\n",
       "      <th></th>\n",
       "      <th>carb</th>\n",
       "      <th>protein</th>\n",
       "    </tr>\n",
       "    <tr>\n",
       "      <th>product_name</th>\n",
       "      <th></th>\n",
       "      <th></th>\n",
       "    </tr>\n",
       "  </thead>\n",
       "  <tbody>\n",
       "    <tr>\n",
       "      <th>Whopper Junior</th>\n",
       "      <td>27</td>\n",
       "      <td>13</td>\n",
       "    </tr>\n",
       "    <tr>\n",
       "      <th>Hamburger</th>\n",
       "      <td>26</td>\n",
       "      <td>13</td>\n",
       "    </tr>\n",
       "    <tr>\n",
       "      <th>Cheeseburger</th>\n",
       "      <td>27</td>\n",
       "      <td>15</td>\n",
       "    </tr>\n",
       "    <tr>\n",
       "      <th>Double Hamburger</th>\n",
       "      <td>26</td>\n",
       "      <td>21</td>\n",
       "    </tr>\n",
       "    <tr>\n",
       "      <th>Double Cheeseburger</th>\n",
       "      <td>27</td>\n",
       "      <td>23</td>\n",
       "    </tr>\n",
       "    <tr>\n",
       "      <th>Chicken Nuggets</th>\n",
       "      <td>11</td>\n",
       "      <td>8</td>\n",
       "    </tr>\n",
       "    <tr>\n",
       "      <th>Spicy Chicken Nuggets</th>\n",
       "      <td>11</td>\n",
       "      <td>8</td>\n",
       "    </tr>\n",
       "  </tbody>\n",
       "</table>\n",
       "</div>"
      ],
      "text/plain": [
       "                       carb  protein\n",
       "product_name                        \n",
       "Whopper Junior           27       13\n",
       "Hamburger                26       13\n",
       "Cheeseburger             27       15\n",
       "Double Hamburger         26       21\n",
       "Double Cheeseburger      27       23\n",
       "Chicken Nuggets          11        8\n",
       "Spicy Chicken Nuggets    11        8"
      ]
     },
     "execution_count": 237,
     "metadata": {},
     "output_type": "execute_result"
    }
   ],
   "source": [
    "burger_df.loc[burger_df['calories'] < 500, ['carb','protein']]"
   ]
  },
  {
   "cell_type": "code",
   "execution_count": 239,
   "id": "f855c510-8f62-4f59-a09d-2f850aa4d5d4",
   "metadata": {},
   "outputs": [
    {
     "data": {
      "text/html": [
       "<div>\n",
       "<style scoped>\n",
       "    .dataframe tbody tr th:only-of-type {\n",
       "        vertical-align: middle;\n",
       "    }\n",
       "\n",
       "    .dataframe tbody tr th {\n",
       "        vertical-align: top;\n",
       "    }\n",
       "\n",
       "    .dataframe thead th {\n",
       "        text-align: right;\n",
       "    }\n",
       "</style>\n",
       "<table border=\"1\" class=\"dataframe\">\n",
       "  <thead>\n",
       "    <tr style=\"text-align: right;\">\n",
       "      <th></th>\n",
       "      <th>calories</th>\n",
       "      <th>carb</th>\n",
       "      <th>protein</th>\n",
       "      <th>fat</th>\n",
       "    </tr>\n",
       "    <tr>\n",
       "      <th>product_name</th>\n",
       "      <th></th>\n",
       "      <th></th>\n",
       "      <th></th>\n",
       "      <th></th>\n",
       "    </tr>\n",
       "  </thead>\n",
       "  <tbody>\n",
       "    <tr>\n",
       "      <th>Whopper Junior</th>\n",
       "      <td>310</td>\n",
       "      <td>27</td>\n",
       "      <td>13</td>\n",
       "      <td>18</td>\n",
       "    </tr>\n",
       "    <tr>\n",
       "      <th>Hamburger</th>\n",
       "      <td>240</td>\n",
       "      <td>26</td>\n",
       "      <td>13</td>\n",
       "      <td>10</td>\n",
       "    </tr>\n",
       "    <tr>\n",
       "      <th>Cheeseburger</th>\n",
       "      <td>280</td>\n",
       "      <td>27</td>\n",
       "      <td>15</td>\n",
       "      <td>13</td>\n",
       "    </tr>\n",
       "    <tr>\n",
       "      <th>Double Hamburger</th>\n",
       "      <td>350</td>\n",
       "      <td>26</td>\n",
       "      <td>21</td>\n",
       "      <td>18</td>\n",
       "    </tr>\n",
       "    <tr>\n",
       "      <th>Double Cheeseburger</th>\n",
       "      <td>390</td>\n",
       "      <td>27</td>\n",
       "      <td>23</td>\n",
       "      <td>21</td>\n",
       "    </tr>\n",
       "    <tr>\n",
       "      <th>Chicken Nuggets</th>\n",
       "      <td>170</td>\n",
       "      <td>11</td>\n",
       "      <td>8</td>\n",
       "      <td>11</td>\n",
       "    </tr>\n",
       "    <tr>\n",
       "      <th>Spicy Chicken Nuggets</th>\n",
       "      <td>210</td>\n",
       "      <td>11</td>\n",
       "      <td>8</td>\n",
       "      <td>15</td>\n",
       "    </tr>\n",
       "  </tbody>\n",
       "</table>\n",
       "</div>"
      ],
      "text/plain": [
       "                       calories  carb  protein  fat\n",
       "product_name                                       \n",
       "Whopper Junior              310    27       13   18\n",
       "Hamburger                   240    26       13   10\n",
       "Cheeseburger                280    27       15   13\n",
       "Double Hamburger            350    26       21   18\n",
       "Double Cheeseburger         390    27       23   21\n",
       "Chicken Nuggets             170    11        8   11\n",
       "Spicy Chicken Nuggets       210    11        8   15"
      ]
     },
     "execution_count": 239,
     "metadata": {},
     "output_type": "execute_result"
    }
   ],
   "source": [
    "burger_df.loc[burger_df['calories'] < 500, 'calories':'fat']"
   ]
  },
  {
   "cell_type": "code",
   "execution_count": 241,
   "id": "6815f3d4-0987-435f-b171-aee990d6ce9d",
   "metadata": {},
   "outputs": [],
   "source": [
    "burger_df.loc['Double Stacker King', 'sodium'] = 1.9"
   ]
  },
  {
   "cell_type": "code",
   "execution_count": 243,
   "id": "9798bda3-92a0-4a6c-8e8e-14d0b6cf2921",
   "metadata": {},
   "outputs": [
    {
     "data": {
      "text/html": [
       "<div>\n",
       "<style scoped>\n",
       "    .dataframe tbody tr th:only-of-type {\n",
       "        vertical-align: middle;\n",
       "    }\n",
       "\n",
       "    .dataframe tbody tr th {\n",
       "        vertical-align: top;\n",
       "    }\n",
       "\n",
       "    .dataframe thead th {\n",
       "        text-align: right;\n",
       "    }\n",
       "</style>\n",
       "<table border=\"1\" class=\"dataframe\">\n",
       "  <thead>\n",
       "    <tr style=\"text-align: right;\">\n",
       "      <th></th>\n",
       "      <th>calories</th>\n",
       "      <th>carb</th>\n",
       "      <th>protein</th>\n",
       "      <th>fat</th>\n",
       "      <th>sodium</th>\n",
       "      <th>category</th>\n",
       "    </tr>\n",
       "    <tr>\n",
       "      <th>product_name</th>\n",
       "      <th></th>\n",
       "      <th></th>\n",
       "      <th></th>\n",
       "      <th></th>\n",
       "      <th></th>\n",
       "      <th></th>\n",
       "    </tr>\n",
       "  </thead>\n",
       "  <tbody>\n",
       "    <tr>\n",
       "      <th>Whopper</th>\n",
       "      <td>660</td>\n",
       "      <td>49</td>\n",
       "      <td>28</td>\n",
       "      <td>40</td>\n",
       "      <td>1.0</td>\n",
       "      <td>Burgers</td>\n",
       "    </tr>\n",
       "    <tr>\n",
       "      <th>Cheese Whopper</th>\n",
       "      <td>740</td>\n",
       "      <td>50</td>\n",
       "      <td>32</td>\n",
       "      <td>46</td>\n",
       "      <td>1.3</td>\n",
       "      <td>Burgers</td>\n",
       "    </tr>\n",
       "    <tr>\n",
       "      <th>Double Whopper</th>\n",
       "      <td>900</td>\n",
       "      <td>49</td>\n",
       "      <td>48</td>\n",
       "      <td>58</td>\n",
       "      <td>1.0</td>\n",
       "      <td>Burgers</td>\n",
       "    </tr>\n",
       "    <tr>\n",
       "      <th>Double Cheese Whopper</th>\n",
       "      <td>980</td>\n",
       "      <td>50</td>\n",
       "      <td>52</td>\n",
       "      <td>64</td>\n",
       "      <td>1.4</td>\n",
       "      <td>Burgers</td>\n",
       "    </tr>\n",
       "    <tr>\n",
       "      <th>Whopper Junior</th>\n",
       "      <td>310</td>\n",
       "      <td>27</td>\n",
       "      <td>13</td>\n",
       "      <td>18</td>\n",
       "      <td>0.4</td>\n",
       "      <td>Burgers</td>\n",
       "    </tr>\n",
       "    <tr>\n",
       "      <th>Bacon King</th>\n",
       "      <td>1150</td>\n",
       "      <td>49</td>\n",
       "      <td>61</td>\n",
       "      <td>79</td>\n",
       "      <td>2.2</td>\n",
       "      <td>Burgers</td>\n",
       "    </tr>\n",
       "    <tr>\n",
       "      <th>Single Stacker King</th>\n",
       "      <td>700</td>\n",
       "      <td>48</td>\n",
       "      <td>35</td>\n",
       "      <td>42</td>\n",
       "      <td>1.4</td>\n",
       "      <td>Burgers</td>\n",
       "    </tr>\n",
       "    <tr>\n",
       "      <th>Double Stacker King</th>\n",
       "      <td>1050</td>\n",
       "      <td>49</td>\n",
       "      <td>61</td>\n",
       "      <td>68</td>\n",
       "      <td>1.9</td>\n",
       "      <td>Burgers</td>\n",
       "    </tr>\n",
       "    <tr>\n",
       "      <th>Hamburger</th>\n",
       "      <td>240</td>\n",
       "      <td>26</td>\n",
       "      <td>13</td>\n",
       "      <td>10</td>\n",
       "      <td>0.4</td>\n",
       "      <td>Burgers</td>\n",
       "    </tr>\n",
       "    <tr>\n",
       "      <th>Cheeseburger</th>\n",
       "      <td>280</td>\n",
       "      <td>27</td>\n",
       "      <td>15</td>\n",
       "      <td>13</td>\n",
       "      <td>0.6</td>\n",
       "      <td>Burgers</td>\n",
       "    </tr>\n",
       "    <tr>\n",
       "      <th>Double Hamburger</th>\n",
       "      <td>350</td>\n",
       "      <td>26</td>\n",
       "      <td>21</td>\n",
       "      <td>18</td>\n",
       "      <td>0.4</td>\n",
       "      <td>Burgers</td>\n",
       "    </tr>\n",
       "    <tr>\n",
       "      <th>Double Cheeseburger</th>\n",
       "      <td>390</td>\n",
       "      <td>27</td>\n",
       "      <td>23</td>\n",
       "      <td>21</td>\n",
       "      <td>0.6</td>\n",
       "      <td>Burgers</td>\n",
       "    </tr>\n",
       "    <tr>\n",
       "      <th>Crispy Chicken</th>\n",
       "      <td>670</td>\n",
       "      <td>54</td>\n",
       "      <td>23</td>\n",
       "      <td>41</td>\n",
       "      <td>1.1</td>\n",
       "      <td>Chicken</td>\n",
       "    </tr>\n",
       "    <tr>\n",
       "      <th>Chicken Nuggets</th>\n",
       "      <td>170</td>\n",
       "      <td>11</td>\n",
       "      <td>8</td>\n",
       "      <td>11</td>\n",
       "      <td>0.3</td>\n",
       "      <td>Chicken</td>\n",
       "    </tr>\n",
       "    <tr>\n",
       "      <th>Spicy Chicken Nuggets</th>\n",
       "      <td>210</td>\n",
       "      <td>11</td>\n",
       "      <td>8</td>\n",
       "      <td>15</td>\n",
       "      <td>0.6</td>\n",
       "      <td>Chicken</td>\n",
       "    </tr>\n",
       "  </tbody>\n",
       "</table>\n",
       "</div>"
      ],
      "text/plain": [
       "                       calories  carb  protein  fat  sodium category\n",
       "product_name                                                        \n",
       "Whopper                     660    49       28   40     1.0  Burgers\n",
       "Cheese Whopper              740    50       32   46     1.3  Burgers\n",
       "Double Whopper              900    49       48   58     1.0  Burgers\n",
       "Double Cheese Whopper       980    50       52   64     1.4  Burgers\n",
       "Whopper Junior              310    27       13   18     0.4  Burgers\n",
       "Bacon King                 1150    49       61   79     2.2  Burgers\n",
       "Single Stacker King         700    48       35   42     1.4  Burgers\n",
       "Double Stacker King        1050    49       61   68     1.9  Burgers\n",
       "Hamburger                   240    26       13   10     0.4  Burgers\n",
       "Cheeseburger                280    27       15   13     0.6  Burgers\n",
       "Double Hamburger            350    26       21   18     0.4  Burgers\n",
       "Double Cheeseburger         390    27       23   21     0.6  Burgers\n",
       "Crispy Chicken              670    54       23   41     1.1  Chicken\n",
       "Chicken Nuggets             170    11        8   11     0.3  Chicken\n",
       "Spicy Chicken Nuggets       210    11        8   15     0.6  Chicken"
      ]
     },
     "execution_count": 243,
     "metadata": {},
     "output_type": "execute_result"
    }
   ],
   "source": [
    "burger_df"
   ]
  },
  {
   "cell_type": "code",
   "execution_count": 245,
   "id": "dd95171c-594c-42de-98bb-3b21f05d99a8",
   "metadata": {},
   "outputs": [
    {
     "data": {
      "text/plain": [
       "calories        280\n",
       "carb             27\n",
       "protein          15\n",
       "fat              13\n",
       "sodium          0.6\n",
       "category    Burgers\n",
       "Name: Cheeseburger, dtype: object"
      ]
     },
     "execution_count": 245,
     "metadata": {},
     "output_type": "execute_result"
    }
   ],
   "source": [
    "burger_df.loc['Cheeseburger']"
   ]
  },
  {
   "cell_type": "code",
   "execution_count": 247,
   "id": "d84b0461-32b9-4174-8337-223ae3e86f41",
   "metadata": {},
   "outputs": [],
   "source": [
    "burger_df.loc['Cheeseburger'] = [360, 24, 18, 21, 0.7, 'Burger']"
   ]
  },
  {
   "cell_type": "code",
   "execution_count": 249,
   "id": "5d5bcb5e-1774-47a4-b4ba-787226e917a5",
   "metadata": {},
   "outputs": [
    {
     "data": {
      "text/html": [
       "<div>\n",
       "<style scoped>\n",
       "    .dataframe tbody tr th:only-of-type {\n",
       "        vertical-align: middle;\n",
       "    }\n",
       "\n",
       "    .dataframe tbody tr th {\n",
       "        vertical-align: top;\n",
       "    }\n",
       "\n",
       "    .dataframe thead th {\n",
       "        text-align: right;\n",
       "    }\n",
       "</style>\n",
       "<table border=\"1\" class=\"dataframe\">\n",
       "  <thead>\n",
       "    <tr style=\"text-align: right;\">\n",
       "      <th></th>\n",
       "      <th>calories</th>\n",
       "      <th>carb</th>\n",
       "      <th>protein</th>\n",
       "      <th>fat</th>\n",
       "      <th>sodium</th>\n",
       "      <th>category</th>\n",
       "    </tr>\n",
       "    <tr>\n",
       "      <th>product_name</th>\n",
       "      <th></th>\n",
       "      <th></th>\n",
       "      <th></th>\n",
       "      <th></th>\n",
       "      <th></th>\n",
       "      <th></th>\n",
       "    </tr>\n",
       "  </thead>\n",
       "  <tbody>\n",
       "    <tr>\n",
       "      <th>Whopper</th>\n",
       "      <td>660</td>\n",
       "      <td>49</td>\n",
       "      <td>28</td>\n",
       "      <td>40</td>\n",
       "      <td>1.0</td>\n",
       "      <td>Burgers</td>\n",
       "    </tr>\n",
       "    <tr>\n",
       "      <th>Cheese Whopper</th>\n",
       "      <td>740</td>\n",
       "      <td>50</td>\n",
       "      <td>32</td>\n",
       "      <td>46</td>\n",
       "      <td>1.3</td>\n",
       "      <td>Burgers</td>\n",
       "    </tr>\n",
       "    <tr>\n",
       "      <th>Double Whopper</th>\n",
       "      <td>900</td>\n",
       "      <td>49</td>\n",
       "      <td>48</td>\n",
       "      <td>58</td>\n",
       "      <td>1.0</td>\n",
       "      <td>Burgers</td>\n",
       "    </tr>\n",
       "    <tr>\n",
       "      <th>Double Cheese Whopper</th>\n",
       "      <td>980</td>\n",
       "      <td>50</td>\n",
       "      <td>52</td>\n",
       "      <td>64</td>\n",
       "      <td>1.4</td>\n",
       "      <td>Burgers</td>\n",
       "    </tr>\n",
       "    <tr>\n",
       "      <th>Whopper Junior</th>\n",
       "      <td>310</td>\n",
       "      <td>27</td>\n",
       "      <td>13</td>\n",
       "      <td>18</td>\n",
       "      <td>0.4</td>\n",
       "      <td>Burgers</td>\n",
       "    </tr>\n",
       "    <tr>\n",
       "      <th>Bacon King</th>\n",
       "      <td>1150</td>\n",
       "      <td>49</td>\n",
       "      <td>61</td>\n",
       "      <td>79</td>\n",
       "      <td>2.2</td>\n",
       "      <td>Burgers</td>\n",
       "    </tr>\n",
       "    <tr>\n",
       "      <th>Single Stacker King</th>\n",
       "      <td>700</td>\n",
       "      <td>48</td>\n",
       "      <td>35</td>\n",
       "      <td>42</td>\n",
       "      <td>1.4</td>\n",
       "      <td>Burgers</td>\n",
       "    </tr>\n",
       "    <tr>\n",
       "      <th>Double Stacker King</th>\n",
       "      <td>1050</td>\n",
       "      <td>49</td>\n",
       "      <td>61</td>\n",
       "      <td>68</td>\n",
       "      <td>1.9</td>\n",
       "      <td>Burgers</td>\n",
       "    </tr>\n",
       "    <tr>\n",
       "      <th>Hamburger</th>\n",
       "      <td>240</td>\n",
       "      <td>26</td>\n",
       "      <td>13</td>\n",
       "      <td>10</td>\n",
       "      <td>0.4</td>\n",
       "      <td>Burgers</td>\n",
       "    </tr>\n",
       "    <tr>\n",
       "      <th>Cheeseburger</th>\n",
       "      <td>360</td>\n",
       "      <td>24</td>\n",
       "      <td>18</td>\n",
       "      <td>21</td>\n",
       "      <td>0.7</td>\n",
       "      <td>Burger</td>\n",
       "    </tr>\n",
       "    <tr>\n",
       "      <th>Double Hamburger</th>\n",
       "      <td>350</td>\n",
       "      <td>26</td>\n",
       "      <td>21</td>\n",
       "      <td>18</td>\n",
       "      <td>0.4</td>\n",
       "      <td>Burgers</td>\n",
       "    </tr>\n",
       "    <tr>\n",
       "      <th>Double Cheeseburger</th>\n",
       "      <td>390</td>\n",
       "      <td>27</td>\n",
       "      <td>23</td>\n",
       "      <td>21</td>\n",
       "      <td>0.6</td>\n",
       "      <td>Burgers</td>\n",
       "    </tr>\n",
       "    <tr>\n",
       "      <th>Crispy Chicken</th>\n",
       "      <td>670</td>\n",
       "      <td>54</td>\n",
       "      <td>23</td>\n",
       "      <td>41</td>\n",
       "      <td>1.1</td>\n",
       "      <td>Chicken</td>\n",
       "    </tr>\n",
       "    <tr>\n",
       "      <th>Chicken Nuggets</th>\n",
       "      <td>170</td>\n",
       "      <td>11</td>\n",
       "      <td>8</td>\n",
       "      <td>11</td>\n",
       "      <td>0.3</td>\n",
       "      <td>Chicken</td>\n",
       "    </tr>\n",
       "    <tr>\n",
       "      <th>Spicy Chicken Nuggets</th>\n",
       "      <td>210</td>\n",
       "      <td>11</td>\n",
       "      <td>8</td>\n",
       "      <td>15</td>\n",
       "      <td>0.6</td>\n",
       "      <td>Chicken</td>\n",
       "    </tr>\n",
       "  </tbody>\n",
       "</table>\n",
       "</div>"
      ],
      "text/plain": [
       "                       calories  carb  protein  fat  sodium category\n",
       "product_name                                                        \n",
       "Whopper                     660    49       28   40     1.0  Burgers\n",
       "Cheese Whopper              740    50       32   46     1.3  Burgers\n",
       "Double Whopper              900    49       48   58     1.0  Burgers\n",
       "Double Cheese Whopper       980    50       52   64     1.4  Burgers\n",
       "Whopper Junior              310    27       13   18     0.4  Burgers\n",
       "Bacon King                 1150    49       61   79     2.2  Burgers\n",
       "Single Stacker King         700    48       35   42     1.4  Burgers\n",
       "Double Stacker King        1050    49       61   68     1.9  Burgers\n",
       "Hamburger                   240    26       13   10     0.4  Burgers\n",
       "Cheeseburger                360    24       18   21     0.7   Burger\n",
       "Double Hamburger            350    26       21   18     0.4  Burgers\n",
       "Double Cheeseburger         390    27       23   21     0.6  Burgers\n",
       "Crispy Chicken              670    54       23   41     1.1  Chicken\n",
       "Chicken Nuggets             170    11        8   11     0.3  Chicken\n",
       "Spicy Chicken Nuggets       210    11        8   15     0.6  Chicken"
      ]
     },
     "execution_count": 249,
     "metadata": {},
     "output_type": "execute_result"
    }
   ],
   "source": [
    "burger_df"
   ]
  },
  {
   "cell_type": "code",
   "execution_count": 255,
   "id": "266fabff-be89-4cbc-a615-4bd090f58578",
   "metadata": {},
   "outputs": [
    {
     "data": {
      "text/html": [
       "<div>\n",
       "<style scoped>\n",
       "    .dataframe tbody tr th:only-of-type {\n",
       "        vertical-align: middle;\n",
       "    }\n",
       "\n",
       "    .dataframe tbody tr th {\n",
       "        vertical-align: top;\n",
       "    }\n",
       "\n",
       "    .dataframe thead th {\n",
       "        text-align: right;\n",
       "    }\n",
       "</style>\n",
       "<table border=\"1\" class=\"dataframe\">\n",
       "  <thead>\n",
       "    <tr style=\"text-align: right;\">\n",
       "      <th></th>\n",
       "      <th>calories</th>\n",
       "      <th>carb</th>\n",
       "      <th>protein</th>\n",
       "      <th>fat</th>\n",
       "      <th>sodium</th>\n",
       "      <th>category</th>\n",
       "    </tr>\n",
       "    <tr>\n",
       "      <th>product_name</th>\n",
       "      <th></th>\n",
       "      <th></th>\n",
       "      <th></th>\n",
       "      <th></th>\n",
       "      <th></th>\n",
       "      <th></th>\n",
       "    </tr>\n",
       "  </thead>\n",
       "  <tbody>\n",
       "    <tr>\n",
       "      <th>Whopper</th>\n",
       "      <td>660</td>\n",
       "      <td>49</td>\n",
       "      <td>28</td>\n",
       "      <td>40</td>\n",
       "      <td>1.0</td>\n",
       "      <td>Burgers</td>\n",
       "    </tr>\n",
       "    <tr>\n",
       "      <th>Cheese Whopper</th>\n",
       "      <td>740</td>\n",
       "      <td>50</td>\n",
       "      <td>32</td>\n",
       "      <td>46</td>\n",
       "      <td>1.3</td>\n",
       "      <td>Burgers</td>\n",
       "    </tr>\n",
       "    <tr>\n",
       "      <th>Double Whopper</th>\n",
       "      <td>900</td>\n",
       "      <td>49</td>\n",
       "      <td>48</td>\n",
       "      <td>58</td>\n",
       "      <td>1.0</td>\n",
       "      <td>Burgers</td>\n",
       "    </tr>\n",
       "    <tr>\n",
       "      <th>Double Cheese Whopper</th>\n",
       "      <td>980</td>\n",
       "      <td>50</td>\n",
       "      <td>52</td>\n",
       "      <td>64</td>\n",
       "      <td>1.4</td>\n",
       "      <td>Burgers</td>\n",
       "    </tr>\n",
       "    <tr>\n",
       "      <th>Whopper Junior</th>\n",
       "      <td>310</td>\n",
       "      <td>27</td>\n",
       "      <td>13</td>\n",
       "      <td>18</td>\n",
       "      <td>0.4</td>\n",
       "      <td>Burgers</td>\n",
       "    </tr>\n",
       "    <tr>\n",
       "      <th>Bacon King</th>\n",
       "      <td>1150</td>\n",
       "      <td>49</td>\n",
       "      <td>61</td>\n",
       "      <td>79</td>\n",
       "      <td>2.2</td>\n",
       "      <td>Burgers</td>\n",
       "    </tr>\n",
       "    <tr>\n",
       "      <th>Single Stacker King</th>\n",
       "      <td>700</td>\n",
       "      <td>48</td>\n",
       "      <td>35</td>\n",
       "      <td>42</td>\n",
       "      <td>1.4</td>\n",
       "      <td>Burgers</td>\n",
       "    </tr>\n",
       "    <tr>\n",
       "      <th>Double Stacker King</th>\n",
       "      <td>1050</td>\n",
       "      <td>49</td>\n",
       "      <td>61</td>\n",
       "      <td>68</td>\n",
       "      <td>1.9</td>\n",
       "      <td>Burgers</td>\n",
       "    </tr>\n",
       "    <tr>\n",
       "      <th>Hamburger</th>\n",
       "      <td>240</td>\n",
       "      <td>26</td>\n",
       "      <td>13</td>\n",
       "      <td>10</td>\n",
       "      <td>0.4</td>\n",
       "      <td>Burgers</td>\n",
       "    </tr>\n",
       "    <tr>\n",
       "      <th>Cheeseburger</th>\n",
       "      <td>360</td>\n",
       "      <td>24</td>\n",
       "      <td>18</td>\n",
       "      <td>21</td>\n",
       "      <td>0.7</td>\n",
       "      <td>Burger</td>\n",
       "    </tr>\n",
       "    <tr>\n",
       "      <th>Double Hamburger</th>\n",
       "      <td>350</td>\n",
       "      <td>26</td>\n",
       "      <td>21</td>\n",
       "      <td>18</td>\n",
       "      <td>0.4</td>\n",
       "      <td>Burgers</td>\n",
       "    </tr>\n",
       "    <tr>\n",
       "      <th>Double Cheeseburger</th>\n",
       "      <td>390</td>\n",
       "      <td>27</td>\n",
       "      <td>23</td>\n",
       "      <td>21</td>\n",
       "      <td>0.6</td>\n",
       "      <td>Burgers</td>\n",
       "    </tr>\n",
       "    <tr>\n",
       "      <th>Crispy Chicken</th>\n",
       "      <td>670</td>\n",
       "      <td>54</td>\n",
       "      <td>23</td>\n",
       "      <td>41</td>\n",
       "      <td>1.1</td>\n",
       "      <td>Chicken</td>\n",
       "    </tr>\n",
       "    <tr>\n",
       "      <th>Chicken Nuggets</th>\n",
       "      <td>170</td>\n",
       "      <td>11</td>\n",
       "      <td>8</td>\n",
       "      <td>11</td>\n",
       "      <td>0.3</td>\n",
       "      <td>Chicken</td>\n",
       "    </tr>\n",
       "    <tr>\n",
       "      <th>Spicy Chicken Nuggets</th>\n",
       "      <td>210</td>\n",
       "      <td>11</td>\n",
       "      <td>8</td>\n",
       "      <td>15</td>\n",
       "      <td>0.6</td>\n",
       "      <td>Chicken</td>\n",
       "    </tr>\n",
       "    <tr>\n",
       "      <th>Tripple Whopper</th>\n",
       "      <td>1130</td>\n",
       "      <td>49</td>\n",
       "      <td>67</td>\n",
       "      <td>75</td>\n",
       "      <td>1.1</td>\n",
       "      <td>Burger</td>\n",
       "    </tr>\n",
       "  </tbody>\n",
       "</table>\n",
       "</div>"
      ],
      "text/plain": [
       "                       calories  carb  protein  fat  sodium category\n",
       "product_name                                                        \n",
       "Whopper                     660    49       28   40     1.0  Burgers\n",
       "Cheese Whopper              740    50       32   46     1.3  Burgers\n",
       "Double Whopper              900    49       48   58     1.0  Burgers\n",
       "Double Cheese Whopper       980    50       52   64     1.4  Burgers\n",
       "Whopper Junior              310    27       13   18     0.4  Burgers\n",
       "Bacon King                 1150    49       61   79     2.2  Burgers\n",
       "Single Stacker King         700    48       35   42     1.4  Burgers\n",
       "Double Stacker King        1050    49       61   68     1.9  Burgers\n",
       "Hamburger                   240    26       13   10     0.4  Burgers\n",
       "Cheeseburger                360    24       18   21     0.7   Burger\n",
       "Double Hamburger            350    26       21   18     0.4  Burgers\n",
       "Double Cheeseburger         390    27       23   21     0.6  Burgers\n",
       "Crispy Chicken              670    54       23   41     1.1  Chicken\n",
       "Chicken Nuggets             170    11        8   11     0.3  Chicken\n",
       "Spicy Chicken Nuggets       210    11        8   15     0.6  Chicken\n",
       "Tripple Whopper            1130    49       67   75     1.1   Burger"
      ]
     },
     "execution_count": 255,
     "metadata": {},
     "output_type": "execute_result"
    }
   ],
   "source": [
    "burger_df.loc['Tripple Whopper'] = [1130, 49, 67, 75, 1.1, 'Burger']\n",
    "burger_df"
   ]
  },
  {
   "cell_type": "code",
   "execution_count": 259,
   "id": "945dfd05-37e8-4dd8-9288-eb024b8f8255",
   "metadata": {},
   "outputs": [
    {
     "data": {
      "text/html": [
       "<div>\n",
       "<style scoped>\n",
       "    .dataframe tbody tr th:only-of-type {\n",
       "        vertical-align: middle;\n",
       "    }\n",
       "\n",
       "    .dataframe tbody tr th {\n",
       "        vertical-align: top;\n",
       "    }\n",
       "\n",
       "    .dataframe thead th {\n",
       "        text-align: right;\n",
       "    }\n",
       "</style>\n",
       "<table border=\"1\" class=\"dataframe\">\n",
       "  <thead>\n",
       "    <tr style=\"text-align: right;\">\n",
       "      <th></th>\n",
       "      <th>calories</th>\n",
       "      <th>carb</th>\n",
       "      <th>protein</th>\n",
       "      <th>fat</th>\n",
       "      <th>sodium</th>\n",
       "      <th>category</th>\n",
       "      <th>brand</th>\n",
       "    </tr>\n",
       "    <tr>\n",
       "      <th>product_name</th>\n",
       "      <th></th>\n",
       "      <th></th>\n",
       "      <th></th>\n",
       "      <th></th>\n",
       "      <th></th>\n",
       "      <th></th>\n",
       "      <th></th>\n",
       "    </tr>\n",
       "  </thead>\n",
       "  <tbody>\n",
       "    <tr>\n",
       "      <th>Whopper</th>\n",
       "      <td>660</td>\n",
       "      <td>49</td>\n",
       "      <td>28</td>\n",
       "      <td>40</td>\n",
       "      <td>1.0</td>\n",
       "      <td>Burgers</td>\n",
       "      <td>Burger King</td>\n",
       "    </tr>\n",
       "    <tr>\n",
       "      <th>Cheese Whopper</th>\n",
       "      <td>740</td>\n",
       "      <td>50</td>\n",
       "      <td>32</td>\n",
       "      <td>46</td>\n",
       "      <td>1.3</td>\n",
       "      <td>Burgers</td>\n",
       "      <td>Burger King</td>\n",
       "    </tr>\n",
       "    <tr>\n",
       "      <th>Double Whopper</th>\n",
       "      <td>900</td>\n",
       "      <td>49</td>\n",
       "      <td>48</td>\n",
       "      <td>58</td>\n",
       "      <td>1.0</td>\n",
       "      <td>Burgers</td>\n",
       "      <td>Burger King</td>\n",
       "    </tr>\n",
       "    <tr>\n",
       "      <th>Double Cheese Whopper</th>\n",
       "      <td>980</td>\n",
       "      <td>50</td>\n",
       "      <td>52</td>\n",
       "      <td>64</td>\n",
       "      <td>1.4</td>\n",
       "      <td>Burgers</td>\n",
       "      <td>Burger King</td>\n",
       "    </tr>\n",
       "    <tr>\n",
       "      <th>Whopper Junior</th>\n",
       "      <td>310</td>\n",
       "      <td>27</td>\n",
       "      <td>13</td>\n",
       "      <td>18</td>\n",
       "      <td>0.4</td>\n",
       "      <td>Burgers</td>\n",
       "      <td>Burger King</td>\n",
       "    </tr>\n",
       "    <tr>\n",
       "      <th>Bacon King</th>\n",
       "      <td>1150</td>\n",
       "      <td>49</td>\n",
       "      <td>61</td>\n",
       "      <td>79</td>\n",
       "      <td>2.2</td>\n",
       "      <td>Burgers</td>\n",
       "      <td>Burger King</td>\n",
       "    </tr>\n",
       "    <tr>\n",
       "      <th>Single Stacker King</th>\n",
       "      <td>700</td>\n",
       "      <td>48</td>\n",
       "      <td>35</td>\n",
       "      <td>42</td>\n",
       "      <td>1.4</td>\n",
       "      <td>Burgers</td>\n",
       "      <td>Burger King</td>\n",
       "    </tr>\n",
       "    <tr>\n",
       "      <th>Double Stacker King</th>\n",
       "      <td>1050</td>\n",
       "      <td>49</td>\n",
       "      <td>61</td>\n",
       "      <td>68</td>\n",
       "      <td>1.9</td>\n",
       "      <td>Burgers</td>\n",
       "      <td>Burger King</td>\n",
       "    </tr>\n",
       "    <tr>\n",
       "      <th>Hamburger</th>\n",
       "      <td>240</td>\n",
       "      <td>26</td>\n",
       "      <td>13</td>\n",
       "      <td>10</td>\n",
       "      <td>0.4</td>\n",
       "      <td>Burgers</td>\n",
       "      <td>Burger King</td>\n",
       "    </tr>\n",
       "    <tr>\n",
       "      <th>Cheeseburger</th>\n",
       "      <td>360</td>\n",
       "      <td>24</td>\n",
       "      <td>18</td>\n",
       "      <td>21</td>\n",
       "      <td>0.7</td>\n",
       "      <td>Burger</td>\n",
       "      <td>Burger King</td>\n",
       "    </tr>\n",
       "    <tr>\n",
       "      <th>Double Hamburger</th>\n",
       "      <td>350</td>\n",
       "      <td>26</td>\n",
       "      <td>21</td>\n",
       "      <td>18</td>\n",
       "      <td>0.4</td>\n",
       "      <td>Burgers</td>\n",
       "      <td>Burger King</td>\n",
       "    </tr>\n",
       "    <tr>\n",
       "      <th>Double Cheeseburger</th>\n",
       "      <td>390</td>\n",
       "      <td>27</td>\n",
       "      <td>23</td>\n",
       "      <td>21</td>\n",
       "      <td>0.6</td>\n",
       "      <td>Burgers</td>\n",
       "      <td>Burger King</td>\n",
       "    </tr>\n",
       "    <tr>\n",
       "      <th>Crispy Chicken</th>\n",
       "      <td>670</td>\n",
       "      <td>54</td>\n",
       "      <td>23</td>\n",
       "      <td>41</td>\n",
       "      <td>1.1</td>\n",
       "      <td>Chicken</td>\n",
       "      <td>Burger King</td>\n",
       "    </tr>\n",
       "    <tr>\n",
       "      <th>Chicken Nuggets</th>\n",
       "      <td>170</td>\n",
       "      <td>11</td>\n",
       "      <td>8</td>\n",
       "      <td>11</td>\n",
       "      <td>0.3</td>\n",
       "      <td>Chicken</td>\n",
       "      <td>Burger King</td>\n",
       "    </tr>\n",
       "    <tr>\n",
       "      <th>Spicy Chicken Nuggets</th>\n",
       "      <td>210</td>\n",
       "      <td>11</td>\n",
       "      <td>8</td>\n",
       "      <td>15</td>\n",
       "      <td>0.6</td>\n",
       "      <td>Chicken</td>\n",
       "      <td>Burger King</td>\n",
       "    </tr>\n",
       "    <tr>\n",
       "      <th>Tripple Whopper</th>\n",
       "      <td>1130</td>\n",
       "      <td>49</td>\n",
       "      <td>67</td>\n",
       "      <td>75</td>\n",
       "      <td>1.1</td>\n",
       "      <td>Burger</td>\n",
       "      <td>Burger King</td>\n",
       "    </tr>\n",
       "  </tbody>\n",
       "</table>\n",
       "</div>"
      ],
      "text/plain": [
       "                       calories  carb  protein  fat  sodium category  \\\n",
       "product_name                                                           \n",
       "Whopper                     660    49       28   40     1.0  Burgers   \n",
       "Cheese Whopper              740    50       32   46     1.3  Burgers   \n",
       "Double Whopper              900    49       48   58     1.0  Burgers   \n",
       "Double Cheese Whopper       980    50       52   64     1.4  Burgers   \n",
       "Whopper Junior              310    27       13   18     0.4  Burgers   \n",
       "Bacon King                 1150    49       61   79     2.2  Burgers   \n",
       "Single Stacker King         700    48       35   42     1.4  Burgers   \n",
       "Double Stacker King        1050    49       61   68     1.9  Burgers   \n",
       "Hamburger                   240    26       13   10     0.4  Burgers   \n",
       "Cheeseburger                360    24       18   21     0.7   Burger   \n",
       "Double Hamburger            350    26       21   18     0.4  Burgers   \n",
       "Double Cheeseburger         390    27       23   21     0.6  Burgers   \n",
       "Crispy Chicken              670    54       23   41     1.1  Chicken   \n",
       "Chicken Nuggets             170    11        8   11     0.3  Chicken   \n",
       "Spicy Chicken Nuggets       210    11        8   15     0.6  Chicken   \n",
       "Tripple Whopper            1130    49       67   75     1.1   Burger   \n",
       "\n",
       "                             brand  \n",
       "product_name                        \n",
       "Whopper                Burger King  \n",
       "Cheese Whopper         Burger King  \n",
       "Double Whopper         Burger King  \n",
       "Double Cheese Whopper  Burger King  \n",
       "Whopper Junior         Burger King  \n",
       "Bacon King             Burger King  \n",
       "Single Stacker King    Burger King  \n",
       "Double Stacker King    Burger King  \n",
       "Hamburger              Burger King  \n",
       "Cheeseburger           Burger King  \n",
       "Double Hamburger       Burger King  \n",
       "Double Cheeseburger    Burger King  \n",
       "Crispy Chicken         Burger King  \n",
       "Chicken Nuggets        Burger King  \n",
       "Spicy Chicken Nuggets  Burger King  \n",
       "Tripple Whopper        Burger King  "
      ]
     },
     "execution_count": 259,
     "metadata": {},
     "output_type": "execute_result"
    }
   ],
   "source": [
    "burger_df['brand'] = 'Burger King'\n",
    "burger_df"
   ]
  },
  {
   "cell_type": "code",
   "execution_count": 265,
   "id": "f9084dcb-4995-4d93-acd0-82183a949180",
   "metadata": {},
   "outputs": [
    {
     "data": {
      "text/html": [
       "<div>\n",
       "<style scoped>\n",
       "    .dataframe tbody tr th:only-of-type {\n",
       "        vertical-align: middle;\n",
       "    }\n",
       "\n",
       "    .dataframe tbody tr th {\n",
       "        vertical-align: top;\n",
       "    }\n",
       "\n",
       "    .dataframe thead th {\n",
       "        text-align: right;\n",
       "    }\n",
       "</style>\n",
       "<table border=\"1\" class=\"dataframe\">\n",
       "  <thead>\n",
       "    <tr style=\"text-align: right;\">\n",
       "      <th></th>\n",
       "      <th>calories</th>\n",
       "      <th>carb</th>\n",
       "      <th>protein</th>\n",
       "      <th>fat</th>\n",
       "      <th>sodium</th>\n",
       "      <th>category</th>\n",
       "      <th>brand</th>\n",
       "      <th>high_calorie</th>\n",
       "    </tr>\n",
       "    <tr>\n",
       "      <th>product_name</th>\n",
       "      <th></th>\n",
       "      <th></th>\n",
       "      <th></th>\n",
       "      <th></th>\n",
       "      <th></th>\n",
       "      <th></th>\n",
       "      <th></th>\n",
       "      <th></th>\n",
       "    </tr>\n",
       "  </thead>\n",
       "  <tbody>\n",
       "    <tr>\n",
       "      <th>Whopper</th>\n",
       "      <td>660</td>\n",
       "      <td>49</td>\n",
       "      <td>28</td>\n",
       "      <td>40</td>\n",
       "      <td>1.0</td>\n",
       "      <td>Burgers</td>\n",
       "      <td>Burger King</td>\n",
       "      <td>True</td>\n",
       "    </tr>\n",
       "    <tr>\n",
       "      <th>Cheese Whopper</th>\n",
       "      <td>740</td>\n",
       "      <td>50</td>\n",
       "      <td>32</td>\n",
       "      <td>46</td>\n",
       "      <td>1.3</td>\n",
       "      <td>Burgers</td>\n",
       "      <td>Burger King</td>\n",
       "      <td>True</td>\n",
       "    </tr>\n",
       "    <tr>\n",
       "      <th>Double Whopper</th>\n",
       "      <td>900</td>\n",
       "      <td>49</td>\n",
       "      <td>48</td>\n",
       "      <td>58</td>\n",
       "      <td>1.0</td>\n",
       "      <td>Burgers</td>\n",
       "      <td>Burger King</td>\n",
       "      <td>True</td>\n",
       "    </tr>\n",
       "    <tr>\n",
       "      <th>Double Cheese Whopper</th>\n",
       "      <td>980</td>\n",
       "      <td>50</td>\n",
       "      <td>52</td>\n",
       "      <td>64</td>\n",
       "      <td>1.4</td>\n",
       "      <td>Burgers</td>\n",
       "      <td>Burger King</td>\n",
       "      <td>True</td>\n",
       "    </tr>\n",
       "    <tr>\n",
       "      <th>Whopper Junior</th>\n",
       "      <td>310</td>\n",
       "      <td>27</td>\n",
       "      <td>13</td>\n",
       "      <td>18</td>\n",
       "      <td>0.4</td>\n",
       "      <td>Burgers</td>\n",
       "      <td>Burger King</td>\n",
       "      <td>False</td>\n",
       "    </tr>\n",
       "    <tr>\n",
       "      <th>Bacon King</th>\n",
       "      <td>1150</td>\n",
       "      <td>49</td>\n",
       "      <td>61</td>\n",
       "      <td>79</td>\n",
       "      <td>2.2</td>\n",
       "      <td>Burgers</td>\n",
       "      <td>Burger King</td>\n",
       "      <td>True</td>\n",
       "    </tr>\n",
       "    <tr>\n",
       "      <th>Single Stacker King</th>\n",
       "      <td>700</td>\n",
       "      <td>48</td>\n",
       "      <td>35</td>\n",
       "      <td>42</td>\n",
       "      <td>1.4</td>\n",
       "      <td>Burgers</td>\n",
       "      <td>Burger King</td>\n",
       "      <td>True</td>\n",
       "    </tr>\n",
       "    <tr>\n",
       "      <th>Double Stacker King</th>\n",
       "      <td>1050</td>\n",
       "      <td>49</td>\n",
       "      <td>61</td>\n",
       "      <td>68</td>\n",
       "      <td>1.9</td>\n",
       "      <td>Burgers</td>\n",
       "      <td>Burger King</td>\n",
       "      <td>True</td>\n",
       "    </tr>\n",
       "    <tr>\n",
       "      <th>Hamburger</th>\n",
       "      <td>240</td>\n",
       "      <td>26</td>\n",
       "      <td>13</td>\n",
       "      <td>10</td>\n",
       "      <td>0.4</td>\n",
       "      <td>Burgers</td>\n",
       "      <td>Burger King</td>\n",
       "      <td>False</td>\n",
       "    </tr>\n",
       "    <tr>\n",
       "      <th>Cheeseburger</th>\n",
       "      <td>360</td>\n",
       "      <td>24</td>\n",
       "      <td>18</td>\n",
       "      <td>21</td>\n",
       "      <td>0.7</td>\n",
       "      <td>Burger</td>\n",
       "      <td>Burger King</td>\n",
       "      <td>False</td>\n",
       "    </tr>\n",
       "    <tr>\n",
       "      <th>Double Hamburger</th>\n",
       "      <td>350</td>\n",
       "      <td>26</td>\n",
       "      <td>21</td>\n",
       "      <td>18</td>\n",
       "      <td>0.4</td>\n",
       "      <td>Burgers</td>\n",
       "      <td>Burger King</td>\n",
       "      <td>False</td>\n",
       "    </tr>\n",
       "    <tr>\n",
       "      <th>Double Cheeseburger</th>\n",
       "      <td>390</td>\n",
       "      <td>27</td>\n",
       "      <td>23</td>\n",
       "      <td>21</td>\n",
       "      <td>0.6</td>\n",
       "      <td>Burgers</td>\n",
       "      <td>Burger King</td>\n",
       "      <td>False</td>\n",
       "    </tr>\n",
       "    <tr>\n",
       "      <th>Crispy Chicken</th>\n",
       "      <td>670</td>\n",
       "      <td>54</td>\n",
       "      <td>23</td>\n",
       "      <td>41</td>\n",
       "      <td>1.1</td>\n",
       "      <td>Chicken</td>\n",
       "      <td>Burger King</td>\n",
       "      <td>True</td>\n",
       "    </tr>\n",
       "    <tr>\n",
       "      <th>Chicken Nuggets</th>\n",
       "      <td>170</td>\n",
       "      <td>11</td>\n",
       "      <td>8</td>\n",
       "      <td>11</td>\n",
       "      <td>0.3</td>\n",
       "      <td>Chicken</td>\n",
       "      <td>Burger King</td>\n",
       "      <td>False</td>\n",
       "    </tr>\n",
       "    <tr>\n",
       "      <th>Spicy Chicken Nuggets</th>\n",
       "      <td>210</td>\n",
       "      <td>11</td>\n",
       "      <td>8</td>\n",
       "      <td>15</td>\n",
       "      <td>0.6</td>\n",
       "      <td>Chicken</td>\n",
       "      <td>Burger King</td>\n",
       "      <td>False</td>\n",
       "    </tr>\n",
       "    <tr>\n",
       "      <th>Tripple Whopper</th>\n",
       "      <td>1130</td>\n",
       "      <td>49</td>\n",
       "      <td>67</td>\n",
       "      <td>75</td>\n",
       "      <td>1.1</td>\n",
       "      <td>Burger</td>\n",
       "      <td>Burger King</td>\n",
       "      <td>True</td>\n",
       "    </tr>\n",
       "  </tbody>\n",
       "</table>\n",
       "</div>"
      ],
      "text/plain": [
       "                       calories  carb  protein  fat  sodium category  \\\n",
       "product_name                                                           \n",
       "Whopper                     660    49       28   40     1.0  Burgers   \n",
       "Cheese Whopper              740    50       32   46     1.3  Burgers   \n",
       "Double Whopper              900    49       48   58     1.0  Burgers   \n",
       "Double Cheese Whopper       980    50       52   64     1.4  Burgers   \n",
       "Whopper Junior              310    27       13   18     0.4  Burgers   \n",
       "Bacon King                 1150    49       61   79     2.2  Burgers   \n",
       "Single Stacker King         700    48       35   42     1.4  Burgers   \n",
       "Double Stacker King        1050    49       61   68     1.9  Burgers   \n",
       "Hamburger                   240    26       13   10     0.4  Burgers   \n",
       "Cheeseburger                360    24       18   21     0.7   Burger   \n",
       "Double Hamburger            350    26       21   18     0.4  Burgers   \n",
       "Double Cheeseburger         390    27       23   21     0.6  Burgers   \n",
       "Crispy Chicken              670    54       23   41     1.1  Chicken   \n",
       "Chicken Nuggets             170    11        8   11     0.3  Chicken   \n",
       "Spicy Chicken Nuggets       210    11        8   15     0.6  Chicken   \n",
       "Tripple Whopper            1130    49       67   75     1.1   Burger   \n",
       "\n",
       "                             brand high_calorie  \n",
       "product_name                                     \n",
       "Whopper                Burger King         True  \n",
       "Cheese Whopper         Burger King         True  \n",
       "Double Whopper         Burger King         True  \n",
       "Double Cheese Whopper  Burger King         True  \n",
       "Whopper Junior         Burger King        False  \n",
       "Bacon King             Burger King         True  \n",
       "Single Stacker King    Burger King         True  \n",
       "Double Stacker King    Burger King         True  \n",
       "Hamburger              Burger King        False  \n",
       "Cheeseburger           Burger King        False  \n",
       "Double Hamburger       Burger King        False  \n",
       "Double Cheeseburger    Burger King        False  \n",
       "Crispy Chicken         Burger King         True  \n",
       "Chicken Nuggets        Burger King        False  \n",
       "Spicy Chicken Nuggets  Burger King        False  \n",
       "Tripple Whopper        Burger King         True  "
      ]
     },
     "execution_count": 265,
     "metadata": {},
     "output_type": "execute_result"
    }
   ],
   "source": [
    "burger_df.loc[burger_df['calories'] >= 500, 'high_calorie'] = True\n",
    "burger_df.loc[burger_df['calories'] < 500, 'high_calorie'] = False\n",
    "burger_df"
   ]
  },
  {
   "cell_type": "code",
   "execution_count": 267,
   "id": "085fd9e8-973e-4c96-baae-f6773c9dbc24",
   "metadata": {},
   "outputs": [
    {
     "data": {
      "text/html": [
       "<div>\n",
       "<style scoped>\n",
       "    .dataframe tbody tr th:only-of-type {\n",
       "        vertical-align: middle;\n",
       "    }\n",
       "\n",
       "    .dataframe tbody tr th {\n",
       "        vertical-align: top;\n",
       "    }\n",
       "\n",
       "    .dataframe thead th {\n",
       "        text-align: right;\n",
       "    }\n",
       "</style>\n",
       "<table border=\"1\" class=\"dataframe\">\n",
       "  <thead>\n",
       "    <tr style=\"text-align: right;\">\n",
       "      <th></th>\n",
       "      <th>quarter</th>\n",
       "      <th>revenue</th>\n",
       "      <th>cost</th>\n",
       "    </tr>\n",
       "  </thead>\n",
       "  <tbody>\n",
       "    <tr>\n",
       "      <th>0</th>\n",
       "      <td>1Q</td>\n",
       "      <td>1360</td>\n",
       "      <td>1240</td>\n",
       "    </tr>\n",
       "    <tr>\n",
       "      <th>1</th>\n",
       "      <td>2Q</td>\n",
       "      <td>2650</td>\n",
       "      <td>1970</td>\n",
       "    </tr>\n",
       "    <tr>\n",
       "      <th>2</th>\n",
       "      <td>3Q</td>\n",
       "      <td>2070</td>\n",
       "      <td>1750</td>\n",
       "    </tr>\n",
       "    <tr>\n",
       "      <th>3</th>\n",
       "      <td>4Q</td>\n",
       "      <td>4150</td>\n",
       "      <td>2760</td>\n",
       "    </tr>\n",
       "  </tbody>\n",
       "</table>\n",
       "</div>"
      ],
      "text/plain": [
       "  quarter  revenue  cost\n",
       "0      1Q     1360  1240\n",
       "1      2Q     2650  1970\n",
       "2      3Q     2070  1750\n",
       "3      4Q     4150  2760"
      ]
     },
     "execution_count": 267,
     "metadata": {},
     "output_type": "execute_result"
    }
   ],
   "source": [
    "sales_df = pd.DataFrame({\n",
    "    'quarter': ['1Q', '2Q', '3Q', '4Q'],\n",
    "    'revenue': [1360, 2650, 2070, 4150],\n",
    "    'cost': [1240, 1970, 1750, 2760]\n",
    "})\n",
    "sales_df"
   ]
  },
  {
   "cell_type": "code",
   "execution_count": 269,
   "id": "4ad7a7c8-1c4b-4bb9-9807-1166e371ac72",
   "metadata": {},
   "outputs": [
    {
     "data": {
      "image/png": "[encoded data removed]",
      "text/plain": [
       "<Figure size 500x500 with 1 Axes>"
      ]
     },
     "metadata": {},
     "output_type": "display_data"
    }
   ],
   "source": [
    "plt.plot(sales_df['quarter'], sales_df['revenue'])\n",
    "plt.show()"
   ]
  },
  {
   "cell_type": "code",
   "execution_count": 273,
   "id": "c545939b-a301-441f-b415-95e27d3734d7",
   "metadata": {},
   "outputs": [
    {
     "data": {
      "image/png": "[encoded data removed]",
      "text/plain": [
       "<Figure size 500x500 with 1 Axes>"
      ]
     },
     "metadata": {},
     "output_type": "display_data"
    }
   ],
   "source": [
    "sales_df.plot()\n",
    "plt.show()"
   ]
  },
  {
   "cell_type": "code",
   "execution_count": 275,
   "id": "a54da0ff-d8ca-41d9-b3b4-84101327f030",
   "metadata": {},
   "outputs": [
    {
     "data": {
      "image/png": "[encoded data removed]",
      "text/plain": [
       "<Figure size 500x500 with 1 Axes>"
      ]
     },
     "metadata": {},
     "output_type": "display_data"
    }
   ],
   "source": [
    "sales_df.plot(x = 'quarter', y = 'revenue')\n",
    "plt.show()"
   ]
  },
  {
   "cell_type": "code",
   "execution_count": 279,
   "id": "2b220775-a125-4187-b430-f5eea908c136",
   "metadata": {},
   "outputs": [
    {
     "data": {
      "image/png": "[encoded data removed]",
      "text/plain": [
       "<Figure size 500x500 with 1 Axes>"
      ]
     },
     "metadata": {},
     "output_type": "display_data"
    }
   ],
   "source": [
    "sales_df.plot(x='quarter', y='revenue', kind='bar')\n",
    "plt.show()"
   ]
  },
  {
   "cell_type": "code",
   "execution_count": 283,
   "id": "d2a0d127-f465-46a1-9953-ace98bcd2cde",
   "metadata": {},
   "outputs": [
    {
     "data": {
      "image/png": "[encoded data removed]",
      "text/plain": [
       "<Figure size 500x500 with 1 Axes>"
      ]
     },
     "metadata": {},
     "output_type": "display_data"
    }
   ],
   "source": [
    "sales_df.plot(y='revenue', kind='pie', labels=['1Q','2Q','3Q','4Q'])\n",
    "plt.show()"
   ]
  },
  {
   "cell_type": "code",
   "execution_count": 285,
   "id": "9f3ff19c-e827-41ad-862b-0ad09ca0e98e",
   "metadata": {},
   "outputs": [
    {
     "data": {
      "text/html": [
       "<div>\n",
       "<style scoped>\n",
       "    .dataframe tbody tr th:only-of-type {\n",
       "        vertical-align: middle;\n",
       "    }\n",
       "\n",
       "    .dataframe tbody tr th {\n",
       "        vertical-align: top;\n",
       "    }\n",
       "\n",
       "    .dataframe thead th {\n",
       "        text-align: right;\n",
       "    }\n",
       "</style>\n",
       "<table border=\"1\" class=\"dataframe\">\n",
       "  <thead>\n",
       "    <tr style=\"text-align: right;\">\n",
       "      <th></th>\n",
       "      <th>product_name</th>\n",
       "      <th>calories</th>\n",
       "      <th>carb</th>\n",
       "      <th>protein</th>\n",
       "      <th>fat</th>\n",
       "      <th>sodium</th>\n",
       "      <th>category</th>\n",
       "    </tr>\n",
       "  </thead>\n",
       "  <tbody>\n",
       "    <tr>\n",
       "      <th>0</th>\n",
       "      <td>Whopper</td>\n",
       "      <td>660</td>\n",
       "      <td>49</td>\n",
       "      <td>28</td>\n",
       "      <td>40</td>\n",
       "      <td>1.0</td>\n",
       "      <td>Burgers</td>\n",
       "    </tr>\n",
       "    <tr>\n",
       "      <th>1</th>\n",
       "      <td>Cheese Whopper</td>\n",
       "      <td>740</td>\n",
       "      <td>50</td>\n",
       "      <td>32</td>\n",
       "      <td>46</td>\n",
       "      <td>1.3</td>\n",
       "      <td>Burgers</td>\n",
       "    </tr>\n",
       "    <tr>\n",
       "      <th>2</th>\n",
       "      <td>Double Whopper</td>\n",
       "      <td>900</td>\n",
       "      <td>49</td>\n",
       "      <td>48</td>\n",
       "      <td>58</td>\n",
       "      <td>1.0</td>\n",
       "      <td>Burgers</td>\n",
       "    </tr>\n",
       "    <tr>\n",
       "      <th>3</th>\n",
       "      <td>Double Cheese Whopper</td>\n",
       "      <td>980</td>\n",
       "      <td>50</td>\n",
       "      <td>52</td>\n",
       "      <td>64</td>\n",
       "      <td>1.4</td>\n",
       "      <td>Burgers</td>\n",
       "    </tr>\n",
       "    <tr>\n",
       "      <th>4</th>\n",
       "      <td>Whopper Junior</td>\n",
       "      <td>310</td>\n",
       "      <td>27</td>\n",
       "      <td>13</td>\n",
       "      <td>18</td>\n",
       "      <td>0.4</td>\n",
       "      <td>Burgers</td>\n",
       "    </tr>\n",
       "    <tr>\n",
       "      <th>5</th>\n",
       "      <td>Bacon King</td>\n",
       "      <td>1150</td>\n",
       "      <td>49</td>\n",
       "      <td>61</td>\n",
       "      <td>79</td>\n",
       "      <td>2.2</td>\n",
       "      <td>Burgers</td>\n",
       "    </tr>\n",
       "    <tr>\n",
       "      <th>6</th>\n",
       "      <td>Single Stacker King</td>\n",
       "      <td>700</td>\n",
       "      <td>48</td>\n",
       "      <td>35</td>\n",
       "      <td>42</td>\n",
       "      <td>1.4</td>\n",
       "      <td>Burgers</td>\n",
       "    </tr>\n",
       "    <tr>\n",
       "      <th>7</th>\n",
       "      <td>Double Stacker King</td>\n",
       "      <td>1050</td>\n",
       "      <td>49</td>\n",
       "      <td>61</td>\n",
       "      <td>68</td>\n",
       "      <td>NaN</td>\n",
       "      <td>Burgers</td>\n",
       "    </tr>\n",
       "    <tr>\n",
       "      <th>8</th>\n",
       "      <td>Hamburger</td>\n",
       "      <td>240</td>\n",
       "      <td>26</td>\n",
       "      <td>13</td>\n",
       "      <td>10</td>\n",
       "      <td>0.4</td>\n",
       "      <td>Burgers</td>\n",
       "    </tr>\n",
       "    <tr>\n",
       "      <th>9</th>\n",
       "      <td>Cheeseburger</td>\n",
       "      <td>280</td>\n",
       "      <td>27</td>\n",
       "      <td>15</td>\n",
       "      <td>13</td>\n",
       "      <td>0.6</td>\n",
       "      <td>Burgers</td>\n",
       "    </tr>\n",
       "    <tr>\n",
       "      <th>10</th>\n",
       "      <td>Double Hamburger</td>\n",
       "      <td>350</td>\n",
       "      <td>26</td>\n",
       "      <td>21</td>\n",
       "      <td>18</td>\n",
       "      <td>0.4</td>\n",
       "      <td>Burgers</td>\n",
       "    </tr>\n",
       "    <tr>\n",
       "      <th>11</th>\n",
       "      <td>Double Cheeseburger</td>\n",
       "      <td>390</td>\n",
       "      <td>27</td>\n",
       "      <td>23</td>\n",
       "      <td>21</td>\n",
       "      <td>0.6</td>\n",
       "      <td>Burgers</td>\n",
       "    </tr>\n",
       "    <tr>\n",
       "      <th>12</th>\n",
       "      <td>Crispy Chicken</td>\n",
       "      <td>670</td>\n",
       "      <td>54</td>\n",
       "      <td>23</td>\n",
       "      <td>41</td>\n",
       "      <td>1.1</td>\n",
       "      <td>Chicken</td>\n",
       "    </tr>\n",
       "    <tr>\n",
       "      <th>13</th>\n",
       "      <td>Chicken Nuggets</td>\n",
       "      <td>170</td>\n",
       "      <td>11</td>\n",
       "      <td>8</td>\n",
       "      <td>11</td>\n",
       "      <td>0.3</td>\n",
       "      <td>Chicken</td>\n",
       "    </tr>\n",
       "    <tr>\n",
       "      <th>14</th>\n",
       "      <td>Spicy Chicken Nuggets</td>\n",
       "      <td>210</td>\n",
       "      <td>11</td>\n",
       "      <td>8</td>\n",
       "      <td>15</td>\n",
       "      <td>0.6</td>\n",
       "      <td>Chicken</td>\n",
       "    </tr>\n",
       "  </tbody>\n",
       "</table>\n",
       "</div>"
      ],
      "text/plain": [
       "             product_name  calories  carb  protein  fat  sodium category\n",
       "0                 Whopper       660    49       28   40     1.0  Burgers\n",
       "1          Cheese Whopper       740    50       32   46     1.3  Burgers\n",
       "2          Double Whopper       900    49       48   58     1.0  Burgers\n",
       "3   Double Cheese Whopper       980    50       52   64     1.4  Burgers\n",
       "4          Whopper Junior       310    27       13   18     0.4  Burgers\n",
       "5              Bacon King      1150    49       61   79     2.2  Burgers\n",
       "6     Single Stacker King       700    48       35   42     1.4  Burgers\n",
       "7     Double Stacker King      1050    49       61   68     NaN  Burgers\n",
       "8               Hamburger       240    26       13   10     0.4  Burgers\n",
       "9            Cheeseburger       280    27       15   13     0.6  Burgers\n",
       "10       Double Hamburger       350    26       21   18     0.4  Burgers\n",
       "11    Double Cheeseburger       390    27       23   21     0.6  Burgers\n",
       "12         Crispy Chicken       670    54       23   41     1.1  Chicken\n",
       "13        Chicken Nuggets       170    11        8   11     0.3  Chicken\n",
       "14  Spicy Chicken Nuggets       210    11        8   15     0.6  Chicken"
      ]
     },
     "execution_count": 285,
     "metadata": {},
     "output_type": "execute_result"
    }
   ],
   "source": [
    "burger_df = pd.read_csv('burger.csv')\n",
    "burger_df"
   ]
  },
  {
   "cell_type": "code",
   "execution_count": 289,
   "id": "a60b9009-f135-4a42-8dc2-a36f6e1afd7c",
   "metadata": {},
   "outputs": [
    {
     "data": {
      "image/png": "[encoded data removed]",
      "text/plain": [
       "<Figure size 500x500 with 1 Axes>"
      ]
     },
     "metadata": {},
     "output_type": "display_data"
    }
   ],
   "source": [
    "burger_df.plot(x='fat', y='calories', kind='scatter')\n",
    "plt.show()"
   ]
  },
  {
   "cell_type": "code",
   "execution_count": null,
   "id": "5d00cba6-76b8-4ba4-aa80-23667a8eae42",
   "metadata": {},
   "outputs": [],
   "source": []
  }
 ],
 "metadata": {
  "kernelspec": {
   "display_name": "Python 3 (ipykernel)",
   "language": "python",
   "name": "python3"
  },
  "language_info": {
   "codemirror_mode": {
    "name": "ipython",
    "version": 3
   },
   "file_extension": ".py",
   "mimetype": "text/x-python",
   "name": "python",
   "nbconvert_exporter": "python",
   "pygments_lexer": "ipython3",
   "version": "3.12.4"
  }
 },
 "nbformat": 4,
 "nbformat_minor": 5
}
