{
  "cells": [
    {
      "cell_type": "code",
      "execution_count": null,
      "id": "cc1ad9ed",
      "metadata": {
        "id": "cc1ad9ed"
      },
      "outputs": [],
      "source": [
        "import numpy as np\n",
        "import matplotlib.pyplot as plt\n",
        "import pandas as pd\n",
        "import numpy as np\n",
        "from sklearn.preprocessing import RobustScaler\n",
        "from sklearn.linear_model import LogisticRegression\n",
        "from sklearn.model_selection import train_test_split\n",
        "from imblearn.under_sampling import *\n",
        "import statsmodels.api as sm\n",
        "import seaborn as sns\n",
        "import matplotlib.pyplot as plt\n",
        "\n",
        "import numpy as np\n",
        "import pandas as pd\n",
        "import seaborn as sns\n",
        "from sklearn.model_selection import train_test_split\n",
        "from sklearn.preprocessing import StandardScaler"
      ]
    },
    {
      "cell_type": "code",
      "execution_count": null,
      "id": "1bfeac6b",
      "metadata": {
        "id": "1bfeac6b"
      },
      "outputs": [],
      "source": [
        "#타이타닉 데이터 추출\n",
        "df=sns.load_dataset('titanic').dropna(subset=['age','embarked'])"
      ]
    },
    {
      "cell_type": "code",
      "execution_count": null,
      "id": "2e0fb514",
      "metadata": {
        "id": "2e0fb514"
      },
      "outputs": [],
      "source": [
        "df['sex']= df['sex'].map({'male':0, 'female':1})\n",
        "df=pd.get_dummies(df, columns=['embarked'],drop_first=True)"
      ]
    },
    {
      "cell_type": "code",
      "execution_count": null,
      "id": "c7f3cb28",
      "metadata": {
        "id": "c7f3cb28",
        "outputId": "d1bac99f-cea8-4ec7-a7df-f8b4730aac90"
      },
      "outputs": [
        {
          "data": {
            "text/plain": [
              "Index(['survived', 'pclass', 'sex', 'age', 'sibsp', 'parch', 'fare', 'class',\n",
              "       'who', 'adult_male', 'deck', 'embark_town', 'alive', 'alone',\n",
              "       'embarked_Q', 'embarked_S'],\n",
              "      dtype='object')"
            ]
          },
          "execution_count": 13,
          "metadata": {},
          "output_type": "execute_result"
        }
      ],
      "source": [
        "#피처 추출\n",
        "df.columns"
      ]
    },
    {
      "cell_type": "code",
      "execution_count": null,
      "id": "5ada970f",
      "metadata": {
        "id": "5ada970f"
      },
      "outputs": [],
      "source": [
        "X = df[['sex','age','fare','embarked_Q','embarked_S']]\n",
        "y = df['survived']"
      ]
    },
    {
      "cell_type": "markdown",
      "id": "7dc3fd0e",
      "metadata": {
        "id": "7dc3fd0e"
      },
      "source": [
        "### 로지스틱을 코드로 구현해 보자!"
      ]
    },
    {
      "cell_type": "code",
      "execution_count": null,
      "id": "97ecec09",
      "metadata": {
        "id": "97ecec09"
      },
      "outputs": [],
      "source": [
        "#데이터 분할\n",
        "X_train, X_test,y_train,y_test= train_test_split(X,y, test_size=0.2, random_state=111)"
      ]
    },
    {
      "cell_type": "code",
      "execution_count": null,
      "id": "9d69c9a3",
      "metadata": {
        "id": "9d69c9a3"
      },
      "outputs": [],
      "source": [
        "#스케일링 진행\n",
        "scaler= StandardScaler()\n",
        "X_train = scaler.fit_transform(X_train)\n",
        "X_test = scaler.transform(X_test)"
      ]
    },
    {
      "cell_type": "code",
      "execution_count": null,
      "id": "edee414f",
      "metadata": {
        "id": "edee414f"
      },
      "outputs": [],
      "source": [
        "# 넘파이 배열로 변환\n",
        "y_train = y_train.values\n",
        "y_test  = y_test.values"
      ]
    },
    {
      "cell_type": "code",
      "execution_count": null,
      "id": "c84721b6",
      "metadata": {
        "id": "c84721b6"
      },
      "outputs": [],
      "source": [
        "## 시그모이드 함수\n",
        "def sigmoid(z):\n",
        "    return 1 / (1+np.exp(-z))\n",
        "\n",
        "## 비용함수 정의 : 로지스틱 회귀의 손실함수\n",
        "## X : 피처,y : 예측값, w : 가중치, b : 절편\n",
        "def compute_cost(X,y,w,b):\n",
        "    m =len(y) #데이터 전체 포인트 수\n",
        "    cost = 0\n",
        "    for i in range(m):\n",
        "        z = np.dot(X[i],w)+b#선형의 조합\n",
        "        h = sigmoid(z) #예측 확률\n",
        "        cost += -y[i] * np.log(h) - (1 - y[i]) * np.log(1 - h)\n",
        "    cost = cost/m #평균비용으로 계산\n",
        "    return cost\n",
        "\n",
        "#초기 가중치와 절편을 최적화\n",
        "w = np.zeros(X_train.shape[1]) # 0으로 초기화\n",
        "b = 0 #0으로 초기화\n",
        "\n",
        "## 경사 하강법을 최적화 함수 정의\n",
        "## X : 피처,y : 예측값, w : 가중치, b : 절편 , learning_rate, num_iterations\n",
        "## gradient_descent -> w,b, 최적을 찾는 것 return 값은 w,b 반환값\n",
        "def gradient_descent(X, y, w, b, learning_rate, num_iterations):\n",
        "    m = len(y)\n",
        "    for _ in range(num_iterations):\n",
        "        dw = np.zeros(X.shape[1]) #가중치 그레디언트 0 초기화\n",
        "        db = 0 #가중치의 절편 0 초기화\n",
        "        for i in range(m):\n",
        "            z = np.dot(X[i], w)+b # 선형 조합\n",
        "            h = sigmoid(z) #예측확률\n",
        "            #가중치를 계산\n",
        "            dw += (h - y[i]) * X[i] #가중치 계산\n",
        "            db += (h - y[i]) #절편 계산\n",
        "        dw = dw/m #평균에 대한 그레디언트\n",
        "        db = db/m #평균에 대한 그레디언트\n",
        "        w = w - learning_rate * dw #가중치 업데이트\n",
        "        b = b - learning_rate * db #절편 업데이트\n",
        "    return w, b\n",
        "\n",
        "# 하이퍼파라미터 설정\n",
        "learning_rate = 0.01 # 학습률\n",
        "num_iterations = 1000 # 반복 횟수\n",
        "\n",
        "## 경사하강법으로 최적의 가중치와 절편을 찾아야 한다.\n",
        "w_opt, b_opt = gradient_descent(X_train, y_train, w, b, learning_rate, num_iterations)\n",
        "\n",
        "# 모델 평가\n",
        "def predict(X, w, b):\n",
        "    m = X.shape[0] # 데이터의 전체 수\n",
        "    y_pred = np.zeros(m) #0값으로 배열 만들기\n",
        "    for i in range(m):\n",
        "        z = np.dot(X[i],w) +b\n",
        "        h = sigmoid(z)\n",
        "        y_pred[i] = 1 if h >= 0.5 else 0 # 임계값 기준으로 0.5 기준 1로 바라보고 , 0.49 0으로 보는 것 # 임계값은 조정이 가능하다.\n",
        "    return y_pred\n",
        "\n",
        "\n",
        "#타이타닉 생존예측값 출력\n",
        "y_pred_lr =predict(X_test, w_opt, b_opt)"
      ]
    },
    {
      "cell_type": "code",
      "execution_count": null,
      "id": "24a1c805",
      "metadata": {
        "id": "24a1c805"
      },
      "outputs": [],
      "source": [
        "#예측값과 실제 값을 비교함\n",
        "accuracy = np.mean(y_pred_lr == y_test)"
      ]
    },
    {
      "cell_type": "code",
      "execution_count": null,
      "id": "75d1d132",
      "metadata": {
        "id": "75d1d132",
        "outputId": "2cb91aa2-e164-4e20-e0e4-6c3dd31666aa"
      },
      "outputs": [
        {
          "name": "stdout",
          "output_type": "stream",
          "text": [
            "0.7902097902097902\n"
          ]
        }
      ],
      "source": [
        "print(accuracy)"
      ]
    },
    {
      "cell_type": "code",
      "execution_count": null,
      "id": "f6ecb2cb",
      "metadata": {
        "scrolled": true,
        "id": "f6ecb2cb",
        "outputId": "9a891235-ec53-4c79-c06e-065aafb314e7"
      },
      "outputs": [
        {
          "data": {
            "text/plain": [
              "array([0., 0., 1., 0., 1., 1., 0., 0., 0., 0., 1., 0., 0., 1., 0., 0., 1.,\n",
              "       1., 0., 1., 0., 0., 0., 0., 0., 0., 0., 1., 0., 0., 1., 1., 0., 0.,\n",
              "       0., 1., 0., 1., 1., 0., 0., 0., 0., 1., 0., 0., 1., 0., 1., 1., 1.,\n",
              "       0., 0., 0., 0., 1., 0., 0., 0., 1., 1., 1., 1., 0., 0., 0., 1., 0.,\n",
              "       1., 0., 0., 0., 0., 1., 0., 1., 1., 0., 1., 1., 1., 0., 1., 0., 0.,\n",
              "       1., 1., 1., 0., 0., 0., 0., 1., 1., 0., 1., 1., 0., 1., 0., 1., 1.,\n",
              "       0., 1., 0., 0., 0., 0., 0., 0., 1., 0., 0., 1., 0., 0., 0., 0., 1.,\n",
              "       1., 0., 0., 1., 0., 0., 1., 0., 1., 0., 1., 0., 0., 1., 0., 0., 1.,\n",
              "       1., 0., 0., 0., 1., 1., 0.])"
            ]
          },
          "execution_count": 36,
          "metadata": {},
          "output_type": "execute_result"
        }
      ],
      "source": [
        "y_pred_lr"
      ]
    },
    {
      "cell_type": "code",
      "execution_count": null,
      "id": "b9c35257",
      "metadata": {
        "id": "b9c35257",
        "outputId": "87bc95c8-a30b-473d-99ee-1ebc1ff8a4e2"
      },
      "outputs": [
        {
          "data": {
            "text/plain": [
              "array([0, 0, 1, 0, 1, 1, 0, 0, 0, 0, 0, 0, 1, 1, 1, 0, 1, 1, 0, 1, 0, 0,\n",
              "       0, 0, 0, 0, 0, 1, 0, 0, 1, 1, 0, 0, 1, 0, 1, 1, 1, 0, 1, 1, 1, 1,\n",
              "       0, 1, 0, 1, 1, 1, 1, 1, 0, 0, 0, 1, 0, 0, 0, 1, 0, 0, 1, 0, 0, 0,\n",
              "       1, 1, 1, 0, 0, 0, 0, 1, 1, 1, 1, 0, 1, 1, 1, 1, 1, 1, 0, 0, 1, 1,\n",
              "       0, 0, 1, 0, 1, 1, 0, 1, 0, 1, 1, 0, 1, 1, 1, 1, 0, 0, 0, 0, 0, 0,\n",
              "       1, 0, 0, 1, 0, 0, 0, 0, 1, 1, 0, 0, 0, 0, 1, 1, 0, 1, 0, 1, 0, 0,\n",
              "       1, 0, 0, 0, 0, 0, 0, 1, 0, 1, 0])"
            ]
          },
          "execution_count": 38,
          "metadata": {},
          "output_type": "execute_result"
        }
      ],
      "source": [
        "y_test"
      ]
    }
  ],
  "metadata": {
    "kernelspec": {
      "display_name": "Python 3 (ipykernel)",
      "language": "python",
      "name": "python3"
    },
    "language_info": {
      "codemirror_mode": {
        "name": "ipython",
        "version": 3
      },
      "file_extension": ".py",
      "mimetype": "text/x-python",
      "name": "python",
      "nbconvert_exporter": "python",
      "pygments_lexer": "ipython3",
      "version": "3.8.16"
    },
    "colab": {
      "provenance": []
    }
  },
  "nbformat": 4,
  "nbformat_minor": 5
}