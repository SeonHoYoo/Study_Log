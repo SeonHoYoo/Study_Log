{
  "cells": [
    {
      "cell_type": "markdown",
      "id": "5aa82daa",
      "metadata": {
        "id": "5aa82daa"
      },
      "source": [
        "### 주요 하이퍼파라미터\n",
        "\n",
        "1. **penalty**: 사용될 규제(regularization) 유형을 지정합니다. 기본값은 'l2'이며, 'l1', 'l2', 'elasticnet', 'none' 중 하나를 선택할 수 있습니다.\n",
        "   - `'l1'`: L1 규제(Lasso)\n",
        "   - `'l2'`: L2 규제(Ridge)\n",
        "   - `'elasticnet'`: L1과 L2의 결합\n",
        "   - `'none'`: 규제 없음\n",
        "\n",
        "2. **dual**: 듀얼 형식을 사용할지 여부를 지정합니다. 기본값은 `False`입니다. 주로 샘플 수가 특성 수보다 많은 경우에 `False`로 설정합니다.\n",
        "\n",
        "3. **tol**: 종료 기준을 설정하는 데 사용되는 허용 오차입니다. 기본값은 `1e-4`입니다.\n",
        "\n",
        "4. **C**: 규제 강도를 설정합니다. 값이 작을수록 강한 규제를 의미합니다. 기본값은 `1.0`입니다.\n",
        "\n",
        "5. **fit_intercept**: 절편을 추가할지 여부를 지정합니다. 기본값은 `True`입니다.\n",
        "\n",
        "6. **intercept_scaling**: `fit_intercept=True`일 때 절편 항에 대한 스케일링 값입니다. 기본값은 `1`입니다.\n",
        "\n",
        "7. **class_weight**: 클래스 가중치를 지정합니다. 기본값은 `None`이며, `balanced`로 설정할 수 있습니다.\n",
        "\n",
        "8. **random_state**: 난수 생성기를 설정합니다. 결과의 재현성을 위해 사용됩니다.\n",
        "\n",
        "9. **solver**: 최적화 알고리즘을 지정합니다. 기본값은 `'lbfgs'`입니다. 가능한 값으로는 `'newton-cg'`, `'lbfgs'`, `'liblinear'`, `'sag'`, `'saga'`가 있습니다.\n",
        "   - `'newton-cg'`: Newton의 방법 변형\n",
        "   - `'lbfgs'`: Broyden-Fletcher-Goldfarb-Shanno (BFGS) 알고리즘 변형\n",
        "   - `'liblinear'`: 작은 데이터셋에 적합\n",
        "   - `'sag'`: 대규모 데이터셋에 적합\n",
        "   - `'saga'`: 매우 대규모 데이터셋에 적합\n",
        "\n",
        "10. **max_iter**: 최대 반복 횟수입니다. 기본값은 `100`입니다.\n",
        "\n",
        "11. **multi_class**: 다중 클래스 설정 방법을 지정합니다. 기본값은 `'auto'`입니다.\n",
        "    - `'auto'`: 이진 분류에서는 이진 로지스틱 회귀를 사용하고, 다중 분류에서는 OvR을 사용합니다.\n",
        "    - `'ovr'`: 일대다(One-vs-Rest) 전략\n",
        "    - `'multinomial'`: 다항 로지스틱 회귀\n",
        "\n",
        "12. **verbose**: 출력할 로깅 정보의 양을 설정합니다. 기본값은 `0`입니다.\n",
        "\n",
        "13. **warm_start**: 이전 학습의 결과를 초기화에 사용할지 여부를 지정합니다. 기본값은 `False`입니다.\n",
        "\n",
        "14. **n_jobs**: 병렬 작업에 사용할 CPU 코어 수를 지정합니다. 기본값은 `None`입니다."
      ]
    },
    {
      "cell_type": "code",
      "execution_count": null,
      "id": "b8e7b230",
      "metadata": {
        "id": "b8e7b230"
      },
      "outputs": [],
      "source": [
        "import numpy as np\n",
        "import pandas as pd\n",
        "import seaborn as sns\n",
        "from sklearn.model_selection import train_test_split\n",
        "from sklearn.preprocessing import StandardScaler\n",
        "from sklearn.linear_model import LogisticRegression\n",
        "from sklearn.metrics import accuracy_score, precision_score, recall_score, f1_score, roc_auc_score, confusion_matrix, classification_report\n"
      ]
    },
    {
      "cell_type": "markdown",
      "id": "02d92e88",
      "metadata": {
        "id": "02d92e88"
      },
      "source": [
        "- 타이타닉 데이터셋으로 1차로 성능 평가\n",
        "- 위에 있는 하이퍼파라미터를 조금 조정해서 성능을 올려보는 것"
      ]
    },
    {
      "cell_type": "code",
      "execution_count": null,
      "id": "703aacd9",
      "metadata": {
        "id": "703aacd9"
      },
      "outputs": [],
      "source": [
        "#타이타닉 불러오기\n",
        "df=sns.load_dataset('titanic')"
      ]
    },
    {
      "cell_type": "code",
      "execution_count": null,
      "id": "daadebd6",
      "metadata": {
        "id": "daadebd6"
      },
      "outputs": [],
      "source": [
        "#결측치 정리\n",
        "\n",
        "df=df.dropna(subset=['age','embarked'])\n",
        "\n",
        "#데이터 전처리\n",
        "df['sex'] = df['sex'].map({'male':0, 'female':1})\n",
        "df =pd.get_dummies(df, columns = ['embarked'],drop_first=True)\n"
      ]
    },
    {
      "cell_type": "code",
      "execution_count": null,
      "id": "444d6252",
      "metadata": {
        "id": "444d6252"
      },
      "outputs": [],
      "source": [
        "# 특성 x, y 분리\n",
        "X= df[['sex','age','fare','embarked_Q','embarked_S']]\n",
        "y = df['survived']"
      ]
    },
    {
      "cell_type": "code",
      "execution_count": null,
      "id": "c62f0fad",
      "metadata": {
        "id": "c62f0fad"
      },
      "outputs": [],
      "source": [
        "# 데이터 분할\n",
        "X_train, X_test, y_train, y_test = train_test_split(X,y, test_size=0.2, random_state=111)\n"
      ]
    },
    {
      "cell_type": "code",
      "execution_count": null,
      "id": "140c923b",
      "metadata": {
        "id": "140c923b"
      },
      "outputs": [],
      "source": [
        "#특성 스케일링\n",
        "scaler=StandardScaler()\n",
        "X_train = scaler.fit_transform(X_train)\n",
        "X_test = scaler.fit_transform(X_test)\n"
      ]
    },
    {
      "cell_type": "code",
      "execution_count": null,
      "id": "4daaccb5",
      "metadata": {
        "id": "4daaccb5"
      },
      "outputs": [],
      "source": [
        "#로지스틱 회귀 모델 실습\n",
        "#Base Model\n",
        "model=LogisticRegression()\n",
        "model.fit(X_train, y_train)\n",
        "\n",
        "# 예측\n",
        "y_pred = model.predict(X_test)\n",
        "y_pred_prob=model.predict_proba(X_test)[:,1]"
      ]
    },
    {
      "cell_type": "code",
      "execution_count": null,
      "id": "f9b3ff0c",
      "metadata": {
        "id": "f9b3ff0c"
      },
      "outputs": [],
      "source": [
        "##성능평가\n",
        "accuracy = accuracy_score(y_test, y_pred)\n",
        "precision = precision_score(y_test, y_pred)\n",
        "recall = recall_score(y_test, y_pred)\n",
        "f1 = f1_score(y_test, y_pred)\n",
        "roc_auc =roc_auc_score(y_test, y_pred)"
      ]
    },
    {
      "cell_type": "code",
      "execution_count": null,
      "id": "506123d2",
      "metadata": {
        "id": "506123d2"
      },
      "outputs": [],
      "source": [
        "## 혼동행렬, 분류 보고서 출력\n",
        "conf_matrix = confusion_matrix(y_test, y_pred)\n",
        "class_report = classification_report(y_test, y_pred)"
      ]
    },
    {
      "cell_type": "code",
      "execution_count": null,
      "id": "ce500e63",
      "metadata": {
        "id": "ce500e63",
        "outputId": "9025c2d6-6df6-4d1f-ce6c-049106ed8152"
      },
      "outputs": [
        {
          "name": "stdout",
          "output_type": "stream",
          "text": [
            "[[67 11]\n",
            " [20 45]]\n",
            "              precision    recall  f1-score   support\n",
            "\n",
            "           0       0.77      0.86      0.81        78\n",
            "           1       0.80      0.69      0.74        65\n",
            "\n",
            "    accuracy                           0.78       143\n",
            "   macro avg       0.79      0.78      0.78       143\n",
            "weighted avg       0.79      0.78      0.78       143\n",
            "\n",
            "0.7832167832167832\n"
          ]
        }
      ],
      "source": [
        "print(conf_matrix)\n",
        "print(class_report)\n",
        "print(accuracy_score(y_test, y_pred))"
      ]
    },
    {
      "cell_type": "markdown",
      "id": "ee224e42",
      "metadata": {
        "id": "ee224e42"
      },
      "source": [
        "### 하이퍼파라미터 튜닝을 통해 성능 조금 개선해 보자!"
      ]
    },
    {
      "cell_type": "code",
      "execution_count": null,
      "id": "a8628ba8",
      "metadata": {
        "id": "a8628ba8"
      },
      "outputs": [],
      "source": [
        "#로지스틱 회귀 모델 실습\n",
        "#Base Model\n",
        "model_t1=LogisticRegression(\n",
        "            penalty='l2',\n",
        "            solver='liblinear',\n",
        "            class_weight = 'balanced',\n",
        "            max_iter = 100)\n",
        "model_t1.fit(X_train, y_train)\n",
        "\n",
        "# 예측\n",
        "y_pred = model_t1.predict(X_test)\n",
        "y_pred_prob=model_t1.predict_proba(X_test)[:,1]"
      ]
    },
    {
      "cell_type": "code",
      "execution_count": null,
      "id": "f8ba90b0",
      "metadata": {
        "id": "f8ba90b0"
      },
      "outputs": [],
      "source": [
        "##하이퍼파라미터 튜닝 한 성능평가\n",
        "accuracy = accuracy_score(y_test, y_pred)\n",
        "precision = precision_score(y_test, y_pred)\n",
        "recall = recall_score(y_test, y_pred)\n",
        "f1 = f1_score(y_test, y_pred)\n",
        "roc_auc =roc_auc_score(y_test, y_pred)"
      ]
    },
    {
      "cell_type": "code",
      "execution_count": null,
      "id": "83c63c26",
      "metadata": {
        "id": "83c63c26"
      },
      "outputs": [],
      "source": [
        "## 혼동행렬, 분류 보고서 출력\n",
        "conf_matrix = confusion_matrix(y_test, y_pred)\n",
        "class_report = classification_report(y_test, y_pred)"
      ]
    },
    {
      "cell_type": "code",
      "execution_count": null,
      "id": "8dc1a5cb",
      "metadata": {
        "id": "8dc1a5cb",
        "outputId": "fb2d7a8d-c50e-4b11-eca8-2b5b3eb5fe6b"
      },
      "outputs": [
        {
          "name": "stdout",
          "output_type": "stream",
          "text": [
            "[[67 11]\n",
            " [19 46]]\n",
            "              precision    recall  f1-score   support\n",
            "\n",
            "           0       0.78      0.86      0.82        78\n",
            "           1       0.81      0.71      0.75        65\n",
            "\n",
            "    accuracy                           0.79       143\n",
            "   macro avg       0.79      0.78      0.79       143\n",
            "weighted avg       0.79      0.79      0.79       143\n",
            "\n",
            "0.7902097902097902\n"
          ]
        }
      ],
      "source": [
        "print(conf_matrix)\n",
        "print(class_report)\n",
        "print(accuracy_score(y_test, y_pred))"
      ]
    },
    {
      "cell_type": "code",
      "execution_count": null,
      "id": "bed922cb",
      "metadata": {
        "id": "bed922cb",
        "outputId": "db3a0731-cfe1-4152-d913-9a23e1502397"
      },
      "outputs": [
        {
          "data": {
            "text/html": [
              "<div>\n",
              "<style scoped>\n",
              "    .dataframe tbody tr th:only-of-type {\n",
              "        vertical-align: middle;\n",
              "    }\n",
              "\n",
              "    .dataframe tbody tr th {\n",
              "        vertical-align: top;\n",
              "    }\n",
              "\n",
              "    .dataframe thead th {\n",
              "        text-align: right;\n",
              "    }\n",
              "</style>\n",
              "<table border=\"1\" class=\"dataframe\">\n",
              "  <thead>\n",
              "    <tr style=\"text-align: right;\">\n",
              "      <th></th>\n",
              "      <th>survived</th>\n",
              "      <th>pclass</th>\n",
              "      <th>sex</th>\n",
              "      <th>age</th>\n",
              "      <th>sibsp</th>\n",
              "      <th>parch</th>\n",
              "      <th>fare</th>\n",
              "      <th>class</th>\n",
              "      <th>who</th>\n",
              "      <th>adult_male</th>\n",
              "      <th>deck</th>\n",
              "      <th>embark_town</th>\n",
              "      <th>alive</th>\n",
              "      <th>alone</th>\n",
              "      <th>embarked_Q</th>\n",
              "      <th>embarked_S</th>\n",
              "    </tr>\n",
              "  </thead>\n",
              "  <tbody>\n",
              "    <tr>\n",
              "      <th>0</th>\n",
              "      <td>0</td>\n",
              "      <td>3</td>\n",
              "      <td>0</td>\n",
              "      <td>22.0</td>\n",
              "      <td>1</td>\n",
              "      <td>0</td>\n",
              "      <td>7.2500</td>\n",
              "      <td>Third</td>\n",
              "      <td>man</td>\n",
              "      <td>True</td>\n",
              "      <td>NaN</td>\n",
              "      <td>Southampton</td>\n",
              "      <td>no</td>\n",
              "      <td>False</td>\n",
              "      <td>0</td>\n",
              "      <td>1</td>\n",
              "    </tr>\n",
              "    <tr>\n",
              "      <th>1</th>\n",
              "      <td>1</td>\n",
              "      <td>1</td>\n",
              "      <td>1</td>\n",
              "      <td>38.0</td>\n",
              "      <td>1</td>\n",
              "      <td>0</td>\n",
              "      <td>71.2833</td>\n",
              "      <td>First</td>\n",
              "      <td>woman</td>\n",
              "      <td>False</td>\n",
              "      <td>C</td>\n",
              "      <td>Cherbourg</td>\n",
              "      <td>yes</td>\n",
              "      <td>False</td>\n",
              "      <td>0</td>\n",
              "      <td>0</td>\n",
              "    </tr>\n",
              "    <tr>\n",
              "      <th>2</th>\n",
              "      <td>1</td>\n",
              "      <td>3</td>\n",
              "      <td>1</td>\n",
              "      <td>26.0</td>\n",
              "      <td>0</td>\n",
              "      <td>0</td>\n",
              "      <td>7.9250</td>\n",
              "      <td>Third</td>\n",
              "      <td>woman</td>\n",
              "      <td>False</td>\n",
              "      <td>NaN</td>\n",
              "      <td>Southampton</td>\n",
              "      <td>yes</td>\n",
              "      <td>True</td>\n",
              "      <td>0</td>\n",
              "      <td>1</td>\n",
              "    </tr>\n",
              "    <tr>\n",
              "      <th>3</th>\n",
              "      <td>1</td>\n",
              "      <td>1</td>\n",
              "      <td>1</td>\n",
              "      <td>35.0</td>\n",
              "      <td>1</td>\n",
              "      <td>0</td>\n",
              "      <td>53.1000</td>\n",
              "      <td>First</td>\n",
              "      <td>woman</td>\n",
              "      <td>False</td>\n",
              "      <td>C</td>\n",
              "      <td>Southampton</td>\n",
              "      <td>yes</td>\n",
              "      <td>False</td>\n",
              "      <td>0</td>\n",
              "      <td>1</td>\n",
              "    </tr>\n",
              "    <tr>\n",
              "      <th>4</th>\n",
              "      <td>0</td>\n",
              "      <td>3</td>\n",
              "      <td>0</td>\n",
              "      <td>35.0</td>\n",
              "      <td>0</td>\n",
              "      <td>0</td>\n",
              "      <td>8.0500</td>\n",
              "      <td>Third</td>\n",
              "      <td>man</td>\n",
              "      <td>True</td>\n",
              "      <td>NaN</td>\n",
              "      <td>Southampton</td>\n",
              "      <td>no</td>\n",
              "      <td>True</td>\n",
              "      <td>0</td>\n",
              "      <td>1</td>\n",
              "    </tr>\n",
              "    <tr>\n",
              "      <th>...</th>\n",
              "      <td>...</td>\n",
              "      <td>...</td>\n",
              "      <td>...</td>\n",
              "      <td>...</td>\n",
              "      <td>...</td>\n",
              "      <td>...</td>\n",
              "      <td>...</td>\n",
              "      <td>...</td>\n",
              "      <td>...</td>\n",
              "      <td>...</td>\n",
              "      <td>...</td>\n",
              "      <td>...</td>\n",
              "      <td>...</td>\n",
              "      <td>...</td>\n",
              "      <td>...</td>\n",
              "      <td>...</td>\n",
              "    </tr>\n",
              "    <tr>\n",
              "      <th>885</th>\n",
              "      <td>0</td>\n",
              "      <td>3</td>\n",
              "      <td>1</td>\n",
              "      <td>39.0</td>\n",
              "      <td>0</td>\n",
              "      <td>5</td>\n",
              "      <td>29.1250</td>\n",
              "      <td>Third</td>\n",
              "      <td>woman</td>\n",
              "      <td>False</td>\n",
              "      <td>NaN</td>\n",
              "      <td>Queenstown</td>\n",
              "      <td>no</td>\n",
              "      <td>False</td>\n",
              "      <td>1</td>\n",
              "      <td>0</td>\n",
              "    </tr>\n",
              "    <tr>\n",
              "      <th>886</th>\n",
              "      <td>0</td>\n",
              "      <td>2</td>\n",
              "      <td>0</td>\n",
              "      <td>27.0</td>\n",
              "      <td>0</td>\n",
              "      <td>0</td>\n",
              "      <td>13.0000</td>\n",
              "      <td>Second</td>\n",
              "      <td>man</td>\n",
              "      <td>True</td>\n",
              "      <td>NaN</td>\n",
              "      <td>Southampton</td>\n",
              "      <td>no</td>\n",
              "      <td>True</td>\n",
              "      <td>0</td>\n",
              "      <td>1</td>\n",
              "    </tr>\n",
              "    <tr>\n",
              "      <th>887</th>\n",
              "      <td>1</td>\n",
              "      <td>1</td>\n",
              "      <td>1</td>\n",
              "      <td>19.0</td>\n",
              "      <td>0</td>\n",
              "      <td>0</td>\n",
              "      <td>30.0000</td>\n",
              "      <td>First</td>\n",
              "      <td>woman</td>\n",
              "      <td>False</td>\n",
              "      <td>B</td>\n",
              "      <td>Southampton</td>\n",
              "      <td>yes</td>\n",
              "      <td>True</td>\n",
              "      <td>0</td>\n",
              "      <td>1</td>\n",
              "    </tr>\n",
              "    <tr>\n",
              "      <th>889</th>\n",
              "      <td>1</td>\n",
              "      <td>1</td>\n",
              "      <td>0</td>\n",
              "      <td>26.0</td>\n",
              "      <td>0</td>\n",
              "      <td>0</td>\n",
              "      <td>30.0000</td>\n",
              "      <td>First</td>\n",
              "      <td>man</td>\n",
              "      <td>True</td>\n",
              "      <td>C</td>\n",
              "      <td>Cherbourg</td>\n",
              "      <td>yes</td>\n",
              "      <td>True</td>\n",
              "      <td>0</td>\n",
              "      <td>0</td>\n",
              "    </tr>\n",
              "    <tr>\n",
              "      <th>890</th>\n",
              "      <td>0</td>\n",
              "      <td>3</td>\n",
              "      <td>0</td>\n",
              "      <td>32.0</td>\n",
              "      <td>0</td>\n",
              "      <td>0</td>\n",
              "      <td>7.7500</td>\n",
              "      <td>Third</td>\n",
              "      <td>man</td>\n",
              "      <td>True</td>\n",
              "      <td>NaN</td>\n",
              "      <td>Queenstown</td>\n",
              "      <td>no</td>\n",
              "      <td>True</td>\n",
              "      <td>1</td>\n",
              "      <td>0</td>\n",
              "    </tr>\n",
              "  </tbody>\n",
              "</table>\n",
              "<p>712 rows × 16 columns</p>\n",
              "</div>"
            ],
            "text/plain": [
              "     survived  pclass  sex   age  sibsp  parch     fare   class    who  \\\n",
              "0           0       3    0  22.0      1      0   7.2500   Third    man   \n",
              "1           1       1    1  38.0      1      0  71.2833   First  woman   \n",
              "2           1       3    1  26.0      0      0   7.9250   Third  woman   \n",
              "3           1       1    1  35.0      1      0  53.1000   First  woman   \n",
              "4           0       3    0  35.0      0      0   8.0500   Third    man   \n",
              "..        ...     ...  ...   ...    ...    ...      ...     ...    ...   \n",
              "885         0       3    1  39.0      0      5  29.1250   Third  woman   \n",
              "886         0       2    0  27.0      0      0  13.0000  Second    man   \n",
              "887         1       1    1  19.0      0      0  30.0000   First  woman   \n",
              "889         1       1    0  26.0      0      0  30.0000   First    man   \n",
              "890         0       3    0  32.0      0      0   7.7500   Third    man   \n",
              "\n",
              "     adult_male deck  embark_town alive  alone  embarked_Q  embarked_S  \n",
              "0          True  NaN  Southampton    no  False           0           1  \n",
              "1         False    C    Cherbourg   yes  False           0           0  \n",
              "2         False  NaN  Southampton   yes   True           0           1  \n",
              "3         False    C  Southampton   yes  False           0           1  \n",
              "4          True  NaN  Southampton    no   True           0           1  \n",
              "..          ...  ...          ...   ...    ...         ...         ...  \n",
              "885       False  NaN   Queenstown    no  False           1           0  \n",
              "886        True  NaN  Southampton    no   True           0           1  \n",
              "887       False    B  Southampton   yes   True           0           1  \n",
              "889        True    C    Cherbourg   yes   True           0           0  \n",
              "890        True  NaN   Queenstown    no   True           1           0  \n",
              "\n",
              "[712 rows x 16 columns]"
            ]
          },
          "execution_count": 37,
          "metadata": {},
          "output_type": "execute_result"
        }
      ],
      "source": [
        "df"
      ]
    },
    {
      "cell_type": "markdown",
      "id": "818fee8e",
      "metadata": {
        "id": "818fee8e"
      },
      "source": [
        "## BMI 예측을 해보자!"
      ]
    },
    {
      "cell_type": "code",
      "execution_count": null,
      "id": "ee30c36c",
      "metadata": {
        "id": "ee30c36c"
      },
      "outputs": [],
      "source": [
        "#BMI 데이터로 분석!\n",
        "df=pd.read_csv('heart_2020_cleaned.csv')"
      ]
    },
    {
      "cell_type": "code",
      "execution_count": null,
      "id": "17ec67d5",
      "metadata": {
        "id": "17ec67d5"
      },
      "outputs": [],
      "source": [
        "# 사용할 컬럼 정리\n",
        "df2 =pd.get_dummies(df, columns = ['HeartDisease','Smoking','AlcoholDrinking','Stroke','DiffWalking','Sex','AgeCategory','Race','Diabetic','PhysicalActivity','GenHealth','Asthma','KidneyDisease','SkinCancer'], drop_first=True)"
      ]
    },
    {
      "cell_type": "code",
      "execution_count": null,
      "id": "f473bbb2",
      "metadata": {
        "id": "f473bbb2",
        "outputId": "cab06257-88d6-428e-91b7-e072788f25a1"
      },
      "outputs": [
        {
          "data": {
            "text/plain": [
              "Index(['BMI', 'PhysicalHealth', 'MentalHealth', 'SleepTime',\n",
              "       'HeartDisease_Yes', 'Smoking_Yes', 'AlcoholDrinking_Yes', 'Stroke_Yes',\n",
              "       'DiffWalking_Yes', 'Sex_Male', 'AgeCategory_25-29', 'AgeCategory_30-34',\n",
              "       'AgeCategory_35-39', 'AgeCategory_40-44', 'AgeCategory_45-49',\n",
              "       'AgeCategory_50-54', 'AgeCategory_55-59', 'AgeCategory_60-64',\n",
              "       'AgeCategory_65-69', 'AgeCategory_70-74', 'AgeCategory_75-79',\n",
              "       'AgeCategory_80 or older', 'Race_Asian', 'Race_Black', 'Race_Hispanic',\n",
              "       'Race_Other', 'Race_White', 'Diabetic_No, borderline diabetes',\n",
              "       'Diabetic_Yes', 'Diabetic_Yes (during pregnancy)',\n",
              "       'PhysicalActivity_Yes', 'GenHealth_Fair', 'GenHealth_Good',\n",
              "       'GenHealth_Poor', 'GenHealth_Very good', 'Asthma_Yes',\n",
              "       'KidneyDisease_Yes', 'SkinCancer_Yes'],\n",
              "      dtype='object')"
            ]
          },
          "execution_count": 49,
          "metadata": {},
          "output_type": "execute_result"
        }
      ],
      "source": [
        "df2.columns"
      ]
    },
    {
      "cell_type": "code",
      "execution_count": null,
      "id": "e1084cde",
      "metadata": {
        "id": "e1084cde"
      },
      "outputs": [],
      "source": [
        "##스케일링 작업\n",
        "df_num = df2[['BMI','PhysicalHealth','MentalHealth','SleepTime']]\n",
        "df_nom = df2.drop(['BMI','PhysicalHealth','MentalHealth','SleepTime'],axis=1)"
      ]
    },
    {
      "cell_type": "code",
      "execution_count": null,
      "id": "00b2f808",
      "metadata": {
        "id": "00b2f808"
      },
      "outputs": [],
      "source": [
        "## Standard 스케일링\n",
        "scaler=StandardScaler()\n",
        "df_scaler=scaler.fit_transform(df_num)"
      ]
    },
    {
      "cell_type": "code",
      "execution_count": null,
      "id": "65fe09ee",
      "metadata": {
        "id": "65fe09ee"
      },
      "outputs": [],
      "source": [
        "df_num2 =pd.DataFrame(data= df_scaler, columns= df_num.columns)"
      ]
    },
    {
      "cell_type": "code",
      "execution_count": null,
      "id": "9f8825d4",
      "metadata": {
        "id": "9f8825d4"
      },
      "outputs": [],
      "source": [
        "df_new=pd.concat([df_num2, df_nom], axis=1)"
      ]
    },
    {
      "cell_type": "code",
      "execution_count": null,
      "id": "60895beb",
      "metadata": {
        "id": "60895beb",
        "outputId": "0cac2f2e-a4f9-4aaf-d9c2-fc19dc3b05b7"
      },
      "outputs": [
        {
          "data": {
            "text/html": [
              "<div>\n",
              "<style scoped>\n",
              "    .dataframe tbody tr th:only-of-type {\n",
              "        vertical-align: middle;\n",
              "    }\n",
              "\n",
              "    .dataframe tbody tr th {\n",
              "        vertical-align: top;\n",
              "    }\n",
              "\n",
              "    .dataframe thead th {\n",
              "        text-align: right;\n",
              "    }\n",
              "</style>\n",
              "<table border=\"1\" class=\"dataframe\">\n",
              "  <thead>\n",
              "    <tr style=\"text-align: right;\">\n",
              "      <th></th>\n",
              "      <th>BMI</th>\n",
              "      <th>PhysicalHealth</th>\n",
              "      <th>MentalHealth</th>\n",
              "      <th>SleepTime</th>\n",
              "      <th>HeartDisease_Yes</th>\n",
              "      <th>Smoking_Yes</th>\n",
              "      <th>AlcoholDrinking_Yes</th>\n",
              "      <th>Stroke_Yes</th>\n",
              "      <th>DiffWalking_Yes</th>\n",
              "      <th>Sex_Male</th>\n",
              "      <th>...</th>\n",
              "      <th>Diabetic_Yes</th>\n",
              "      <th>Diabetic_Yes (during pregnancy)</th>\n",
              "      <th>PhysicalActivity_Yes</th>\n",
              "      <th>GenHealth_Fair</th>\n",
              "      <th>GenHealth_Good</th>\n",
              "      <th>GenHealth_Poor</th>\n",
              "      <th>GenHealth_Very good</th>\n",
              "      <th>Asthma_Yes</th>\n",
              "      <th>KidneyDisease_Yes</th>\n",
              "      <th>SkinCancer_Yes</th>\n",
              "    </tr>\n",
              "  </thead>\n",
              "  <tbody>\n",
              "    <tr>\n",
              "      <th>0</th>\n",
              "      <td>-1.844750</td>\n",
              "      <td>-0.046751</td>\n",
              "      <td>3.281069</td>\n",
              "      <td>-1.460354</td>\n",
              "      <td>0</td>\n",
              "      <td>1</td>\n",
              "      <td>0</td>\n",
              "      <td>0</td>\n",
              "      <td>0</td>\n",
              "      <td>0</td>\n",
              "      <td>...</td>\n",
              "      <td>1</td>\n",
              "      <td>0</td>\n",
              "      <td>1</td>\n",
              "      <td>0</td>\n",
              "      <td>0</td>\n",
              "      <td>0</td>\n",
              "      <td>1</td>\n",
              "      <td>1</td>\n",
              "      <td>0</td>\n",
              "      <td>1</td>\n",
              "    </tr>\n",
              "    <tr>\n",
              "      <th>1</th>\n",
              "      <td>-1.256338</td>\n",
              "      <td>-0.424070</td>\n",
              "      <td>-0.490039</td>\n",
              "      <td>-0.067601</td>\n",
              "      <td>0</td>\n",
              "      <td>0</td>\n",
              "      <td>0</td>\n",
              "      <td>1</td>\n",
              "      <td>0</td>\n",
              "      <td>0</td>\n",
              "      <td>...</td>\n",
              "      <td>0</td>\n",
              "      <td>0</td>\n",
              "      <td>1</td>\n",
              "      <td>0</td>\n",
              "      <td>0</td>\n",
              "      <td>0</td>\n",
              "      <td>1</td>\n",
              "      <td>0</td>\n",
              "      <td>0</td>\n",
              "      <td>0</td>\n",
              "    </tr>\n",
              "    <tr>\n",
              "      <th>2</th>\n",
              "      <td>-0.274603</td>\n",
              "      <td>2.091388</td>\n",
              "      <td>3.281069</td>\n",
              "      <td>0.628776</td>\n",
              "      <td>0</td>\n",
              "      <td>1</td>\n",
              "      <td>0</td>\n",
              "      <td>0</td>\n",
              "      <td>0</td>\n",
              "      <td>1</td>\n",
              "      <td>...</td>\n",
              "      <td>1</td>\n",
              "      <td>0</td>\n",
              "      <td>1</td>\n",
              "      <td>1</td>\n",
              "      <td>0</td>\n",
              "      <td>0</td>\n",
              "      <td>0</td>\n",
              "      <td>1</td>\n",
              "      <td>0</td>\n",
              "      <td>0</td>\n",
              "    </tr>\n",
              "    <tr>\n",
              "      <th>3</th>\n",
              "      <td>-0.647473</td>\n",
              "      <td>-0.424070</td>\n",
              "      <td>-0.490039</td>\n",
              "      <td>-0.763977</td>\n",
              "      <td>0</td>\n",
              "      <td>0</td>\n",
              "      <td>0</td>\n",
              "      <td>0</td>\n",
              "      <td>0</td>\n",
              "      <td>0</td>\n",
              "      <td>...</td>\n",
              "      <td>0</td>\n",
              "      <td>0</td>\n",
              "      <td>0</td>\n",
              "      <td>0</td>\n",
              "      <td>1</td>\n",
              "      <td>0</td>\n",
              "      <td>0</td>\n",
              "      <td>0</td>\n",
              "      <td>0</td>\n",
              "      <td>1</td>\n",
              "    </tr>\n",
              "    <tr>\n",
              "      <th>4</th>\n",
              "      <td>-0.726138</td>\n",
              "      <td>3.097572</td>\n",
              "      <td>-0.490039</td>\n",
              "      <td>0.628776</td>\n",
              "      <td>0</td>\n",
              "      <td>0</td>\n",
              "      <td>0</td>\n",
              "      <td>0</td>\n",
              "      <td>1</td>\n",
              "      <td>0</td>\n",
              "      <td>...</td>\n",
              "      <td>0</td>\n",
              "      <td>0</td>\n",
              "      <td>1</td>\n",
              "      <td>0</td>\n",
              "      <td>0</td>\n",
              "      <td>0</td>\n",
              "      <td>1</td>\n",
              "      <td>0</td>\n",
              "      <td>0</td>\n",
              "      <td>0</td>\n",
              "    </tr>\n",
              "    <tr>\n",
              "      <th>...</th>\n",
              "      <td>...</td>\n",
              "      <td>...</td>\n",
              "      <td>...</td>\n",
              "      <td>...</td>\n",
              "      <td>...</td>\n",
              "      <td>...</td>\n",
              "      <td>...</td>\n",
              "      <td>...</td>\n",
              "      <td>...</td>\n",
              "      <td>...</td>\n",
              "      <td>...</td>\n",
              "      <td>...</td>\n",
              "      <td>...</td>\n",
              "      <td>...</td>\n",
              "      <td>...</td>\n",
              "      <td>...</td>\n",
              "      <td>...</td>\n",
              "      <td>...</td>\n",
              "      <td>...</td>\n",
              "      <td>...</td>\n",
              "      <td>...</td>\n",
              "    </tr>\n",
              "    <tr>\n",
              "      <th>319790</th>\n",
              "      <td>-0.144019</td>\n",
              "      <td>0.456341</td>\n",
              "      <td>-0.490039</td>\n",
              "      <td>-0.763977</td>\n",
              "      <td>1</td>\n",
              "      <td>1</td>\n",
              "      <td>0</td>\n",
              "      <td>0</td>\n",
              "      <td>1</td>\n",
              "      <td>1</td>\n",
              "      <td>...</td>\n",
              "      <td>1</td>\n",
              "      <td>0</td>\n",
              "      <td>0</td>\n",
              "      <td>1</td>\n",
              "      <td>0</td>\n",
              "      <td>0</td>\n",
              "      <td>0</td>\n",
              "      <td>1</td>\n",
              "      <td>0</td>\n",
              "      <td>0</td>\n",
              "    </tr>\n",
              "    <tr>\n",
              "      <th>319791</th>\n",
              "      <td>0.238291</td>\n",
              "      <td>-0.424070</td>\n",
              "      <td>-0.490039</td>\n",
              "      <td>-1.460354</td>\n",
              "      <td>0</td>\n",
              "      <td>1</td>\n",
              "      <td>0</td>\n",
              "      <td>0</td>\n",
              "      <td>0</td>\n",
              "      <td>1</td>\n",
              "      <td>...</td>\n",
              "      <td>0</td>\n",
              "      <td>0</td>\n",
              "      <td>1</td>\n",
              "      <td>0</td>\n",
              "      <td>0</td>\n",
              "      <td>0</td>\n",
              "      <td>1</td>\n",
              "      <td>1</td>\n",
              "      <td>0</td>\n",
              "      <td>0</td>\n",
              "    </tr>\n",
              "    <tr>\n",
              "      <th>319792</th>\n",
              "      <td>-0.642753</td>\n",
              "      <td>-0.424070</td>\n",
              "      <td>-0.490039</td>\n",
              "      <td>-0.763977</td>\n",
              "      <td>0</td>\n",
              "      <td>0</td>\n",
              "      <td>0</td>\n",
              "      <td>0</td>\n",
              "      <td>0</td>\n",
              "      <td>0</td>\n",
              "      <td>...</td>\n",
              "      <td>0</td>\n",
              "      <td>0</td>\n",
              "      <td>1</td>\n",
              "      <td>0</td>\n",
              "      <td>1</td>\n",
              "      <td>0</td>\n",
              "      <td>0</td>\n",
              "      <td>0</td>\n",
              "      <td>0</td>\n",
              "      <td>0</td>\n",
              "    </tr>\n",
              "    <tr>\n",
              "      <th>319793</th>\n",
              "      <td>0.705560</td>\n",
              "      <td>-0.424070</td>\n",
              "      <td>-0.490039</td>\n",
              "      <td>3.414282</td>\n",
              "      <td>0</td>\n",
              "      <td>0</td>\n",
              "      <td>0</td>\n",
              "      <td>0</td>\n",
              "      <td>0</td>\n",
              "      <td>0</td>\n",
              "      <td>...</td>\n",
              "      <td>0</td>\n",
              "      <td>0</td>\n",
              "      <td>0</td>\n",
              "      <td>0</td>\n",
              "      <td>1</td>\n",
              "      <td>0</td>\n",
              "      <td>0</td>\n",
              "      <td>0</td>\n",
              "      <td>0</td>\n",
              "      <td>0</td>\n",
              "    </tr>\n",
              "    <tr>\n",
              "      <th>319794</th>\n",
              "      <td>2.868839</td>\n",
              "      <td>-0.424070</td>\n",
              "      <td>-0.490039</td>\n",
              "      <td>0.628776</td>\n",
              "      <td>0</td>\n",
              "      <td>0</td>\n",
              "      <td>0</td>\n",
              "      <td>0</td>\n",
              "      <td>0</td>\n",
              "      <td>0</td>\n",
              "      <td>...</td>\n",
              "      <td>0</td>\n",
              "      <td>0</td>\n",
              "      <td>1</td>\n",
              "      <td>0</td>\n",
              "      <td>1</td>\n",
              "      <td>0</td>\n",
              "      <td>0</td>\n",
              "      <td>0</td>\n",
              "      <td>0</td>\n",
              "      <td>0</td>\n",
              "    </tr>\n",
              "  </tbody>\n",
              "</table>\n",
              "<p>319795 rows × 38 columns</p>\n",
              "</div>"
            ],
            "text/plain": [
              "             BMI  PhysicalHealth  MentalHealth  SleepTime  HeartDisease_Yes  \\\n",
              "0      -1.844750       -0.046751      3.281069  -1.460354                 0   \n",
              "1      -1.256338       -0.424070     -0.490039  -0.067601                 0   \n",
              "2      -0.274603        2.091388      3.281069   0.628776                 0   \n",
              "3      -0.647473       -0.424070     -0.490039  -0.763977                 0   \n",
              "4      -0.726138        3.097572     -0.490039   0.628776                 0   \n",
              "...          ...             ...           ...        ...               ...   \n",
              "319790 -0.144019        0.456341     -0.490039  -0.763977                 1   \n",
              "319791  0.238291       -0.424070     -0.490039  -1.460354                 0   \n",
              "319792 -0.642753       -0.424070     -0.490039  -0.763977                 0   \n",
              "319793  0.705560       -0.424070     -0.490039   3.414282                 0   \n",
              "319794  2.868839       -0.424070     -0.490039   0.628776                 0   \n",
              "\n",
              "        Smoking_Yes  AlcoholDrinking_Yes  Stroke_Yes  DiffWalking_Yes  \\\n",
              "0                 1                    0           0                0   \n",
              "1                 0                    0           1                0   \n",
              "2                 1                    0           0                0   \n",
              "3                 0                    0           0                0   \n",
              "4                 0                    0           0                1   \n",
              "...             ...                  ...         ...              ...   \n",
              "319790            1                    0           0                1   \n",
              "319791            1                    0           0                0   \n",
              "319792            0                    0           0                0   \n",
              "319793            0                    0           0                0   \n",
              "319794            0                    0           0                0   \n",
              "\n",
              "        Sex_Male  ...  Diabetic_Yes  Diabetic_Yes (during pregnancy)  \\\n",
              "0              0  ...             1                                0   \n",
              "1              0  ...             0                                0   \n",
              "2              1  ...             1                                0   \n",
              "3              0  ...             0                                0   \n",
              "4              0  ...             0                                0   \n",
              "...          ...  ...           ...                              ...   \n",
              "319790         1  ...             1                                0   \n",
              "319791         1  ...             0                                0   \n",
              "319792         0  ...             0                                0   \n",
              "319793         0  ...             0                                0   \n",
              "319794         0  ...             0                                0   \n",
              "\n",
              "        PhysicalActivity_Yes  GenHealth_Fair  GenHealth_Good  GenHealth_Poor  \\\n",
              "0                          1               0               0               0   \n",
              "1                          1               0               0               0   \n",
              "2                          1               1               0               0   \n",
              "3                          0               0               1               0   \n",
              "4                          1               0               0               0   \n",
              "...                      ...             ...             ...             ...   \n",
              "319790                     0               1               0               0   \n",
              "319791                     1               0               0               0   \n",
              "319792                     1               0               1               0   \n",
              "319793                     0               0               1               0   \n",
              "319794                     1               0               1               0   \n",
              "\n",
              "        GenHealth_Very good  Asthma_Yes  KidneyDisease_Yes  SkinCancer_Yes  \n",
              "0                         1           1                  0               1  \n",
              "1                         1           0                  0               0  \n",
              "2                         0           1                  0               0  \n",
              "3                         0           0                  0               1  \n",
              "4                         1           0                  0               0  \n",
              "...                     ...         ...                ...             ...  \n",
              "319790                    0           1                  0               0  \n",
              "319791                    1           1                  0               0  \n",
              "319792                    0           0                  0               0  \n",
              "319793                    0           0                  0               0  \n",
              "319794                    0           0                  0               0  \n",
              "\n",
              "[319795 rows x 38 columns]"
            ]
          },
          "execution_count": 62,
          "metadata": {},
          "output_type": "execute_result"
        }
      ],
      "source": [
        "df_new"
      ]
    },
    {
      "cell_type": "code",
      "execution_count": null,
      "id": "166eb43a",
      "metadata": {
        "id": "166eb43a"
      },
      "outputs": [],
      "source": [
        "X = df_new.drop(['HeartDisease_Yes'], axis=1)\n",
        "y = df_new[['HeartDisease_Yes']]"
      ]
    },
    {
      "cell_type": "code",
      "execution_count": null,
      "id": "2cbd414c",
      "metadata": {
        "id": "2cbd414c"
      },
      "outputs": [],
      "source": [
        "## train,test 분리\n",
        "X_train, X_test, y_train, y_test =train_test_split(X,y, test_size=0.3, random_state=111)"
      ]
    },
    {
      "cell_type": "code",
      "execution_count": null,
      "id": "c012bcc3",
      "metadata": {
        "id": "c012bcc3",
        "outputId": "95ed2c0a-65d3-4f7e-dd50-32250d56873d"
      },
      "outputs": [
        {
          "name": "stdout",
          "output_type": "stream",
          "text": [
            "223856 train 수\n",
            "95939 test 수\n"
          ]
        }
      ],
      "source": [
        "print(len(X_train), 'train 수')\n",
        "print(len(X_test), 'test 수')"
      ]
    },
    {
      "cell_type": "code",
      "execution_count": null,
      "id": "b5fb0f7b",
      "metadata": {
        "id": "b5fb0f7b",
        "outputId": "5866a9f3-fe34-4825-97aa-7e782a4340f2"
      },
      "outputs": [
        {
          "name": "stderr",
          "output_type": "stream",
          "text": [
            "/opt/anaconda3/envs/bda/lib/python3.8/site-packages/sklearn/utils/validation.py:1183: DataConversionWarning: A column-vector y was passed when a 1d array was expected. Please change the shape of y to (n_samples, ), for example using ravel().\n",
            "  y = column_or_1d(y, warn=True)\n",
            "/opt/anaconda3/envs/bda/lib/python3.8/site-packages/sklearn/linear_model/_logistic.py:460: ConvergenceWarning: lbfgs failed to converge (status=1):\n",
            "STOP: TOTAL NO. of ITERATIONS REACHED LIMIT.\n",
            "\n",
            "Increase the number of iterations (max_iter) or scale the data as shown in:\n",
            "    https://scikit-learn.org/stable/modules/preprocessing.html\n",
            "Please also refer to the documentation for alternative solver options:\n",
            "    https://scikit-learn.org/stable/modules/linear_model.html#logistic-regression\n",
            "  n_iter_i = _check_optimize_result(\n"
          ]
        },
        {
          "data": {
            "text/html": [
              "<style>#sk-container-id-1 {color: black;}#sk-container-id-1 pre{padding: 0;}#sk-container-id-1 div.sk-toggleable {background-color: white;}#sk-container-id-1 label.sk-toggleable__label {cursor: pointer;display: block;width: 100%;margin-bottom: 0;padding: 0.3em;box-sizing: border-box;text-align: center;}#sk-container-id-1 label.sk-toggleable__label-arrow:before {content: \"▸\";float: left;margin-right: 0.25em;color: #696969;}#sk-container-id-1 label.sk-toggleable__label-arrow:hover:before {color: black;}#sk-container-id-1 div.sk-estimator:hover label.sk-toggleable__label-arrow:before {color: black;}#sk-container-id-1 div.sk-toggleable__content {max-height: 0;max-width: 0;overflow: hidden;text-align: left;background-color: #f0f8ff;}#sk-container-id-1 div.sk-toggleable__content pre {margin: 0.2em;color: black;border-radius: 0.25em;background-color: #f0f8ff;}#sk-container-id-1 input.sk-toggleable__control:checked~div.sk-toggleable__content {max-height: 200px;max-width: 100%;overflow: auto;}#sk-container-id-1 input.sk-toggleable__control:checked~label.sk-toggleable__label-arrow:before {content: \"▾\";}#sk-container-id-1 div.sk-estimator input.sk-toggleable__control:checked~label.sk-toggleable__label {background-color: #d4ebff;}#sk-container-id-1 div.sk-label input.sk-toggleable__control:checked~label.sk-toggleable__label {background-color: #d4ebff;}#sk-container-id-1 input.sk-hidden--visually {border: 0;clip: rect(1px 1px 1px 1px);clip: rect(1px, 1px, 1px, 1px);height: 1px;margin: -1px;overflow: hidden;padding: 0;position: absolute;width: 1px;}#sk-container-id-1 div.sk-estimator {font-family: monospace;background-color: #f0f8ff;border: 1px dotted black;border-radius: 0.25em;box-sizing: border-box;margin-bottom: 0.5em;}#sk-container-id-1 div.sk-estimator:hover {background-color: #d4ebff;}#sk-container-id-1 div.sk-parallel-item::after {content: \"\";width: 100%;border-bottom: 1px solid gray;flex-grow: 1;}#sk-container-id-1 div.sk-label:hover label.sk-toggleable__label {background-color: #d4ebff;}#sk-container-id-1 div.sk-serial::before {content: \"\";position: absolute;border-left: 1px solid gray;box-sizing: border-box;top: 0;bottom: 0;left: 50%;z-index: 0;}#sk-container-id-1 div.sk-serial {display: flex;flex-direction: column;align-items: center;background-color: white;padding-right: 0.2em;padding-left: 0.2em;position: relative;}#sk-container-id-1 div.sk-item {position: relative;z-index: 1;}#sk-container-id-1 div.sk-parallel {display: flex;align-items: stretch;justify-content: center;background-color: white;position: relative;}#sk-container-id-1 div.sk-item::before, #sk-container-id-1 div.sk-parallel-item::before {content: \"\";position: absolute;border-left: 1px solid gray;box-sizing: border-box;top: 0;bottom: 0;left: 50%;z-index: -1;}#sk-container-id-1 div.sk-parallel-item {display: flex;flex-direction: column;z-index: 1;position: relative;background-color: white;}#sk-container-id-1 div.sk-parallel-item:first-child::after {align-self: flex-end;width: 50%;}#sk-container-id-1 div.sk-parallel-item:last-child::after {align-self: flex-start;width: 50%;}#sk-container-id-1 div.sk-parallel-item:only-child::after {width: 0;}#sk-container-id-1 div.sk-dashed-wrapped {border: 1px dashed gray;margin: 0 0.4em 0.5em 0.4em;box-sizing: border-box;padding-bottom: 0.4em;background-color: white;}#sk-container-id-1 div.sk-label label {font-family: monospace;font-weight: bold;display: inline-block;line-height: 1.2em;}#sk-container-id-1 div.sk-label-container {text-align: center;}#sk-container-id-1 div.sk-container {/* jupyter's `normalize.less` sets `[hidden] { display: none; }` but bootstrap.min.css set `[hidden] { display: none !important; }` so we also need the `!important` here to be able to override the default hidden behavior on the sphinx rendered scikit-learn.org. See: https://github.com/scikit-learn/scikit-learn/issues/21755 */display: inline-block !important;position: relative;}#sk-container-id-1 div.sk-text-repr-fallback {display: none;}</style><div id=\"sk-container-id-1\" class=\"sk-top-container\"><div class=\"sk-text-repr-fallback\"><pre>LogisticRegression()</pre><b>In a Jupyter environment, please rerun this cell to show the HTML representation or trust the notebook. <br />On GitHub, the HTML representation is unable to render, please try loading this page with nbviewer.org.</b></div><div class=\"sk-container\" hidden><div class=\"sk-item\"><div class=\"sk-estimator sk-toggleable\"><input class=\"sk-toggleable__control sk-hidden--visually\" id=\"sk-estimator-id-1\" type=\"checkbox\" checked><label for=\"sk-estimator-id-1\" class=\"sk-toggleable__label sk-toggleable__label-arrow\">LogisticRegression</label><div class=\"sk-toggleable__content\"><pre>LogisticRegression()</pre></div></div></div></div></div>"
            ],
            "text/plain": [
              "LogisticRegression()"
            ]
          },
          "execution_count": 69,
          "metadata": {},
          "output_type": "execute_result"
        }
      ],
      "source": [
        "#Base Model\n",
        "#심장병에대한 예측\n",
        "model=LogisticRegression()\n",
        "model.fit(X_train, y_train)"
      ]
    },
    {
      "cell_type": "code",
      "execution_count": null,
      "id": "aa2e0b52",
      "metadata": {
        "id": "aa2e0b52",
        "outputId": "3f70e47f-4e76-44c6-8fec-6b3d9311d225"
      },
      "outputs": [
        {
          "name": "stdout",
          "output_type": "stream",
          "text": [
            "[[87019   729]\n",
            " [ 7355   836]]\n",
            "              precision    recall  f1-score   support\n",
            "\n",
            "           0       0.92      0.99      0.96     87748\n",
            "           1       0.53      0.10      0.17      8191\n",
            "\n",
            "    accuracy                           0.92     95939\n",
            "   macro avg       0.73      0.55      0.56     95939\n",
            "weighted avg       0.89      0.92      0.89     95939\n",
            "\n",
            "0.9157381252670967\n"
          ]
        }
      ],
      "source": [
        "# 예측\n",
        "y_pred = model.predict(X_test)\n",
        "y_pred_prob=model.predict_proba(X_test)[:,1]\n",
        "\n",
        "##성능평가\n",
        "accuracy = accuracy_score(y_test, y_pred)\n",
        "precision = precision_score(y_test, y_pred)\n",
        "recall = recall_score(y_test, y_pred)\n",
        "f1 = f1_score(y_test, y_pred)\n",
        "roc_auc =roc_auc_score(y_test, y_pred)\n",
        "\n",
        "## 혼동행렬, 분류 보고서 출력\n",
        "conf_matrix = confusion_matrix(y_test, y_pred)\n",
        "class_report = classification_report(y_test, y_pred)\n",
        "\n",
        "print(conf_matrix)\n",
        "print(class_report)\n",
        "print(accuracy_score(y_test, y_pred))"
      ]
    },
    {
      "cell_type": "markdown",
      "id": "9c2e241e",
      "metadata": {
        "id": "9c2e241e"
      },
      "source": [
        "- 조금 더 확인해야 하는 부분은 무엇이 있을까?"
      ]
    },
    {
      "cell_type": "code",
      "execution_count": null,
      "id": "c0d67df5",
      "metadata": {
        "id": "c0d67df5",
        "outputId": "08a3992c-217f-4c34-bbb8-d0382b9d59ed"
      },
      "outputs": [
        {
          "name": "stdout",
          "output_type": "stream",
          "text": [
            "학습셋 모델 정확도 0.9159593667357587\n",
            "테스트셋 모델 정확도 0.9157381252670967\n"
          ]
        }
      ],
      "source": [
        "# 두 개의 성능 차이를 보고\n",
        "print('학습셋 모델 정확도', model.score(X_train, y_train))\n",
        "print('테스트셋 모델 정확도', model.score(X_test, y_test))"
      ]
    },
    {
      "cell_type": "markdown",
      "id": "60c7f4e0",
      "metadata": {
        "id": "60c7f4e0"
      },
      "source": [
        "- recall, f1-score\n",
        "- 0.1 0.17"
      ]
    },
    {
      "cell_type": "markdown",
      "id": "e41a2534",
      "metadata": {
        "id": "e41a2534"
      },
      "source": [
        "- accuracy 높은데, recall, precision, f1 은 상대적으로 낮다."
      ]
    },
    {
      "cell_type": "markdown",
      "id": "dde55cf6",
      "metadata": {
        "id": "dde55cf6"
      },
      "source": [
        "### 클래스이 대한 불균형으로 인해서 성능이 정확도는 높게 나오더라도 다른 지표들이 같이 보고 확인해야 한다."
      ]
    },
    {
      "cell_type": "code",
      "execution_count": null,
      "id": "8303f6f0",
      "metadata": {
        "id": "8303f6f0",
        "outputId": "7de18401-7fad-4b09-bdb8-45a96f313c9e"
      },
      "outputs": [
        {
          "data": {
            "text/plain": [
              "HeartDisease_Yes\n",
              "0                   292422\n",
              "1                    27373\n",
              "dtype: int64"
            ]
          },
          "execution_count": 73,
          "metadata": {},
          "output_type": "execute_result"
        }
      ],
      "source": [
        "y.value_counts()"
      ]
    },
    {
      "cell_type": "markdown",
      "id": "fa3dae03",
      "metadata": {
        "id": "fa3dae03"
      },
      "source": [
        "## 필수과제 1\n",
        "- 교차검증을 통해서 불균형에 대한 데이터셋을 균형으로 맞추고 학습해서 class 확인 후 모델링"
      ]
    },
    {
      "cell_type": "code",
      "execution_count": null,
      "id": "2f2b4f6b",
      "metadata": {
        "id": "2f2b4f6b"
      },
      "outputs": [],
      "source": [
        "from imblearn.under_sampling import *"
      ]
    },
    {
      "cell_type": "code",
      "execution_count": null,
      "id": "22f503c2",
      "metadata": {
        "id": "22f503c2"
      },
      "outputs": [],
      "source": [
        "X_train_re =X_train.copy()\n",
        "y_train_re =y_train.copy()"
      ]
    },
    {
      "cell_type": "code",
      "execution_count": null,
      "id": "9533480b",
      "metadata": {
        "id": "9533480b",
        "outputId": "d38cc48c-8230-4646-bb15-802ff27b8766"
      },
      "outputs": [
        {
          "data": {
            "text/html": [
              "<div>\n",
              "<style scoped>\n",
              "    .dataframe tbody tr th:only-of-type {\n",
              "        vertical-align: middle;\n",
              "    }\n",
              "\n",
              "    .dataframe tbody tr th {\n",
              "        vertical-align: top;\n",
              "    }\n",
              "\n",
              "    .dataframe thead th {\n",
              "        text-align: right;\n",
              "    }\n",
              "</style>\n",
              "<table border=\"1\" class=\"dataframe\">\n",
              "  <thead>\n",
              "    <tr style=\"text-align: right;\">\n",
              "      <th></th>\n",
              "      <th>X1</th>\n",
              "      <th>X2</th>\n",
              "      <th>X3</th>\n",
              "      <th>X4</th>\n",
              "      <th>X5</th>\n",
              "      <th>X6</th>\n",
              "      <th>X7</th>\n",
              "      <th>X8</th>\n",
              "      <th>X9</th>\n",
              "      <th>X10</th>\n",
              "      <th>...</th>\n",
              "      <th>X28</th>\n",
              "      <th>X29</th>\n",
              "      <th>X30</th>\n",
              "      <th>X31</th>\n",
              "      <th>X32</th>\n",
              "      <th>X33</th>\n",
              "      <th>X34</th>\n",
              "      <th>X35</th>\n",
              "      <th>X36</th>\n",
              "      <th>X37</th>\n",
              "    </tr>\n",
              "  </thead>\n",
              "  <tbody>\n",
              "    <tr>\n",
              "      <th>221542</th>\n",
              "      <td>-0.166045</td>\n",
              "      <td>0.833659</td>\n",
              "      <td>-0.490039</td>\n",
              "      <td>-0.067601</td>\n",
              "      <td>0</td>\n",
              "      <td>1</td>\n",
              "      <td>0</td>\n",
              "      <td>0</td>\n",
              "      <td>0</td>\n",
              "      <td>0</td>\n",
              "      <td>...</td>\n",
              "      <td>0</td>\n",
              "      <td>0</td>\n",
              "      <td>1</td>\n",
              "      <td>0</td>\n",
              "      <td>0</td>\n",
              "      <td>0</td>\n",
              "      <td>1</td>\n",
              "      <td>0</td>\n",
              "      <td>0</td>\n",
              "      <td>0</td>\n",
              "    </tr>\n",
              "    <tr>\n",
              "      <th>144018</th>\n",
              "      <td>-0.391026</td>\n",
              "      <td>-0.424070</td>\n",
              "      <td>-0.490039</td>\n",
              "      <td>-0.067601</td>\n",
              "      <td>0</td>\n",
              "      <td>0</td>\n",
              "      <td>0</td>\n",
              "      <td>0</td>\n",
              "      <td>0</td>\n",
              "      <td>0</td>\n",
              "      <td>...</td>\n",
              "      <td>0</td>\n",
              "      <td>0</td>\n",
              "      <td>1</td>\n",
              "      <td>0</td>\n",
              "      <td>0</td>\n",
              "      <td>0</td>\n",
              "      <td>1</td>\n",
              "      <td>0</td>\n",
              "      <td>0</td>\n",
              "      <td>0</td>\n",
              "    </tr>\n",
              "    <tr>\n",
              "      <th>154685</th>\n",
              "      <td>-0.987305</td>\n",
              "      <td>-0.424070</td>\n",
              "      <td>-0.490039</td>\n",
              "      <td>-0.067601</td>\n",
              "      <td>1</td>\n",
              "      <td>0</td>\n",
              "      <td>0</td>\n",
              "      <td>0</td>\n",
              "      <td>1</td>\n",
              "      <td>0</td>\n",
              "      <td>...</td>\n",
              "      <td>0</td>\n",
              "      <td>0</td>\n",
              "      <td>1</td>\n",
              "      <td>0</td>\n",
              "      <td>0</td>\n",
              "      <td>0</td>\n",
              "      <td>1</td>\n",
              "      <td>0</td>\n",
              "      <td>0</td>\n",
              "      <td>0</td>\n",
              "    </tr>\n",
              "    <tr>\n",
              "      <th>96022</th>\n",
              "      <td>-0.553076</td>\n",
              "      <td>-0.424070</td>\n",
              "      <td>-0.490039</td>\n",
              "      <td>0.628776</td>\n",
              "      <td>0</td>\n",
              "      <td>0</td>\n",
              "      <td>0</td>\n",
              "      <td>0</td>\n",
              "      <td>1</td>\n",
              "      <td>0</td>\n",
              "      <td>...</td>\n",
              "      <td>0</td>\n",
              "      <td>0</td>\n",
              "      <td>1</td>\n",
              "      <td>0</td>\n",
              "      <td>0</td>\n",
              "      <td>0</td>\n",
              "      <td>0</td>\n",
              "      <td>0</td>\n",
              "      <td>0</td>\n",
              "      <td>0</td>\n",
              "    </tr>\n",
              "    <tr>\n",
              "      <th>256866</th>\n",
              "      <td>-0.855148</td>\n",
              "      <td>3.349118</td>\n",
              "      <td>-0.490039</td>\n",
              "      <td>-0.763977</td>\n",
              "      <td>1</td>\n",
              "      <td>0</td>\n",
              "      <td>0</td>\n",
              "      <td>1</td>\n",
              "      <td>1</td>\n",
              "      <td>0</td>\n",
              "      <td>...</td>\n",
              "      <td>0</td>\n",
              "      <td>0</td>\n",
              "      <td>0</td>\n",
              "      <td>0</td>\n",
              "      <td>0</td>\n",
              "      <td>1</td>\n",
              "      <td>0</td>\n",
              "      <td>0</td>\n",
              "      <td>0</td>\n",
              "      <td>0</td>\n",
              "    </tr>\n",
              "  </tbody>\n",
              "</table>\n",
              "<p>5 rows × 37 columns</p>\n",
              "</div>"
            ],
            "text/plain": [
              "              X1        X2        X3        X4  X5  X6  X7  X8  X9  X10  ...  \\\n",
              "221542 -0.166045  0.833659 -0.490039 -0.067601   0   1   0   0   0    0  ...   \n",
              "144018 -0.391026 -0.424070 -0.490039 -0.067601   0   0   0   0   0    0  ...   \n",
              "154685 -0.987305 -0.424070 -0.490039 -0.067601   1   0   0   0   1    0  ...   \n",
              "96022  -0.553076 -0.424070 -0.490039  0.628776   0   0   0   0   1    0  ...   \n",
              "256866 -0.855148  3.349118 -0.490039 -0.763977   1   0   0   1   1    0  ...   \n",
              "\n",
              "        X28  X29  X30  X31  X32  X33  X34  X35  X36  X37  \n",
              "221542    0    0    1    0    0    0    1    0    0    0  \n",
              "144018    0    0    1    0    0    0    1    0    0    0  \n",
              "154685    0    0    1    0    0    0    1    0    0    0  \n",
              "96022     0    0    1    0    0    0    0    0    0    0  \n",
              "256866    0    0    0    0    0    1    0    0    0    0  \n",
              "\n",
              "[5 rows x 37 columns]"
            ]
          },
          "execution_count": 81,
          "metadata": {},
          "output_type": "execute_result"
        }
      ],
      "source": [
        "## 임시로 데이터셋 name\n",
        "\n",
        "X_temp_name = ['X1','X2','X3','X4','X5','X6','X7','X8','X9','X10',\n",
        "            'X11','X12','X13','X14','X15','X16','X17','X18','X19','X20',\n",
        "            'X21','X22','X23','X24','X25','X26','X27','X28','X29','X30',\n",
        "            'X31','X32','X33','X34','X35','X36','X37']\n",
        "y_temp_name = ['y1']\n",
        "\n",
        "\n",
        "X_train_re.columns = X_temp_name\n",
        "y_train_re.columns = y_temp_name\n",
        "\n",
        "X_train_re.head()\n"
      ]
    },
    {
      "cell_type": "code",
      "execution_count": null,
      "id": "adfaa7dd",
      "metadata": {
        "id": "adfaa7dd"
      },
      "outputs": [],
      "source": [
        "# 언더샘플링\n",
        "X_train_under, y_train_under =RandomUnderSampler(random_state=111).fit_resample(X_train_re, y_train_re)"
      ]
    },
    {
      "cell_type": "code",
      "execution_count": null,
      "id": "4cca98bd",
      "metadata": {
        "id": "4cca98bd",
        "outputId": "8880adbb-0312-476e-cb32-b94c0049332f"
      },
      "outputs": [
        {
          "name": "stdout",
          "output_type": "stream",
          "text": [
            "(223856, 37) (223856, 1)\n"
          ]
        }
      ],
      "source": [
        "print(X_train_re.shape, y_train_re.shape)"
      ]
    },
    {
      "cell_type": "code",
      "execution_count": null,
      "id": "77d7c807",
      "metadata": {
        "id": "77d7c807",
        "outputId": "f3eea3cb-690d-48a6-d60c-8886d679d00a"
      },
      "outputs": [
        {
          "name": "stdout",
          "output_type": "stream",
          "text": [
            "(38364, 37) (38364, 1)\n"
          ]
        }
      ],
      "source": [
        "print(X_train_under.shape, y_train_under.shape)"
      ]
    },
    {
      "cell_type": "code",
      "execution_count": null,
      "id": "987ac8c5",
      "metadata": {
        "id": "987ac8c5",
        "outputId": "0627d823-54ea-46d4-a731-ff9c430b0447"
      },
      "outputs": [
        {
          "data": {
            "text/plain": [
              "0    204674\n",
              "1     19182\n",
              "Name: y1, dtype: int64"
            ]
          },
          "execution_count": 91,
          "metadata": {},
          "output_type": "execute_result"
        }
      ],
      "source": [
        "## 언더샘플링 전\n",
        "y_train_re['y1'].value_counts()"
      ]
    },
    {
      "cell_type": "code",
      "execution_count": null,
      "id": "f78f3a6f",
      "metadata": {
        "id": "f78f3a6f",
        "outputId": "1877f9f3-7958-4fa1-9379-03c0a8c209c4"
      },
      "outputs": [
        {
          "data": {
            "text/plain": [
              "0    19182\n",
              "1    19182\n",
              "Name: y1, dtype: int64"
            ]
          },
          "execution_count": 89,
          "metadata": {},
          "output_type": "execute_result"
        }
      ],
      "source": [
        "## 언더샘플링 후\n",
        "## y값의 분포 확인\n",
        "\n",
        "y_train_under['y1'].value_counts()"
      ]
    },
    {
      "cell_type": "code",
      "execution_count": null,
      "id": "71fe1f17",
      "metadata": {
        "id": "71fe1f17"
      },
      "outputs": [],
      "source": [
        "## 컬럼명 복구\n",
        "X_train_under.columns = list(X_train)"
      ]
    },
    {
      "cell_type": "code",
      "execution_count": null,
      "id": "15aec698",
      "metadata": {
        "id": "15aec698"
      },
      "outputs": [],
      "source": [
        "## 컬럼명 복구\n",
        "y_train_under.columns = list(y_train)"
      ]
    },
    {
      "cell_type": "code",
      "execution_count": null,
      "id": "3330af9f",
      "metadata": {
        "id": "3330af9f",
        "outputId": "1e710c77-2eed-466e-f79a-63245dea222e"
      },
      "outputs": [
        {
          "name": "stderr",
          "output_type": "stream",
          "text": [
            "/opt/anaconda3/envs/bda/lib/python3.8/site-packages/sklearn/utils/validation.py:1183: DataConversionWarning: A column-vector y was passed when a 1d array was expected. Please change the shape of y to (n_samples, ), for example using ravel().\n",
            "  y = column_or_1d(y, warn=True)\n"
          ]
        },
        {
          "data": {
            "text/html": [
              "<style>#sk-container-id-2 {color: black;}#sk-container-id-2 pre{padding: 0;}#sk-container-id-2 div.sk-toggleable {background-color: white;}#sk-container-id-2 label.sk-toggleable__label {cursor: pointer;display: block;width: 100%;margin-bottom: 0;padding: 0.3em;box-sizing: border-box;text-align: center;}#sk-container-id-2 label.sk-toggleable__label-arrow:before {content: \"▸\";float: left;margin-right: 0.25em;color: #696969;}#sk-container-id-2 label.sk-toggleable__label-arrow:hover:before {color: black;}#sk-container-id-2 div.sk-estimator:hover label.sk-toggleable__label-arrow:before {color: black;}#sk-container-id-2 div.sk-toggleable__content {max-height: 0;max-width: 0;overflow: hidden;text-align: left;background-color: #f0f8ff;}#sk-container-id-2 div.sk-toggleable__content pre {margin: 0.2em;color: black;border-radius: 0.25em;background-color: #f0f8ff;}#sk-container-id-2 input.sk-toggleable__control:checked~div.sk-toggleable__content {max-height: 200px;max-width: 100%;overflow: auto;}#sk-container-id-2 input.sk-toggleable__control:checked~label.sk-toggleable__label-arrow:before {content: \"▾\";}#sk-container-id-2 div.sk-estimator input.sk-toggleable__control:checked~label.sk-toggleable__label {background-color: #d4ebff;}#sk-container-id-2 div.sk-label input.sk-toggleable__control:checked~label.sk-toggleable__label {background-color: #d4ebff;}#sk-container-id-2 input.sk-hidden--visually {border: 0;clip: rect(1px 1px 1px 1px);clip: rect(1px, 1px, 1px, 1px);height: 1px;margin: -1px;overflow: hidden;padding: 0;position: absolute;width: 1px;}#sk-container-id-2 div.sk-estimator {font-family: monospace;background-color: #f0f8ff;border: 1px dotted black;border-radius: 0.25em;box-sizing: border-box;margin-bottom: 0.5em;}#sk-container-id-2 div.sk-estimator:hover {background-color: #d4ebff;}#sk-container-id-2 div.sk-parallel-item::after {content: \"\";width: 100%;border-bottom: 1px solid gray;flex-grow: 1;}#sk-container-id-2 div.sk-label:hover label.sk-toggleable__label {background-color: #d4ebff;}#sk-container-id-2 div.sk-serial::before {content: \"\";position: absolute;border-left: 1px solid gray;box-sizing: border-box;top: 0;bottom: 0;left: 50%;z-index: 0;}#sk-container-id-2 div.sk-serial {display: flex;flex-direction: column;align-items: center;background-color: white;padding-right: 0.2em;padding-left: 0.2em;position: relative;}#sk-container-id-2 div.sk-item {position: relative;z-index: 1;}#sk-container-id-2 div.sk-parallel {display: flex;align-items: stretch;justify-content: center;background-color: white;position: relative;}#sk-container-id-2 div.sk-item::before, #sk-container-id-2 div.sk-parallel-item::before {content: \"\";position: absolute;border-left: 1px solid gray;box-sizing: border-box;top: 0;bottom: 0;left: 50%;z-index: -1;}#sk-container-id-2 div.sk-parallel-item {display: flex;flex-direction: column;z-index: 1;position: relative;background-color: white;}#sk-container-id-2 div.sk-parallel-item:first-child::after {align-self: flex-end;width: 50%;}#sk-container-id-2 div.sk-parallel-item:last-child::after {align-self: flex-start;width: 50%;}#sk-container-id-2 div.sk-parallel-item:only-child::after {width: 0;}#sk-container-id-2 div.sk-dashed-wrapped {border: 1px dashed gray;margin: 0 0.4em 0.5em 0.4em;box-sizing: border-box;padding-bottom: 0.4em;background-color: white;}#sk-container-id-2 div.sk-label label {font-family: monospace;font-weight: bold;display: inline-block;line-height: 1.2em;}#sk-container-id-2 div.sk-label-container {text-align: center;}#sk-container-id-2 div.sk-container {/* jupyter's `normalize.less` sets `[hidden] { display: none; }` but bootstrap.min.css set `[hidden] { display: none !important; }` so we also need the `!important` here to be able to override the default hidden behavior on the sphinx rendered scikit-learn.org. See: https://github.com/scikit-learn/scikit-learn/issues/21755 */display: inline-block !important;position: relative;}#sk-container-id-2 div.sk-text-repr-fallback {display: none;}</style><div id=\"sk-container-id-2\" class=\"sk-top-container\"><div class=\"sk-text-repr-fallback\"><pre>LogisticRegression()</pre><b>In a Jupyter environment, please rerun this cell to show the HTML representation or trust the notebook. <br />On GitHub, the HTML representation is unable to render, please try loading this page with nbviewer.org.</b></div><div class=\"sk-container\" hidden><div class=\"sk-item\"><div class=\"sk-estimator sk-toggleable\"><input class=\"sk-toggleable__control sk-hidden--visually\" id=\"sk-estimator-id-2\" type=\"checkbox\" checked><label for=\"sk-estimator-id-2\" class=\"sk-toggleable__label sk-toggleable__label-arrow\">LogisticRegression</label><div class=\"sk-toggleable__content\"><pre>LogisticRegression()</pre></div></div></div></div></div>"
            ],
            "text/plain": [
              "LogisticRegression()"
            ]
          },
          "execution_count": 96,
          "metadata": {},
          "output_type": "execute_result"
        }
      ],
      "source": [
        "#Base Model\n",
        "#심장병에대한 예측\n",
        "model=LogisticRegression()\n",
        "model.fit(X_train_under, y_train_under)"
      ]
    },
    {
      "cell_type": "code",
      "execution_count": null,
      "id": "64aba362",
      "metadata": {
        "id": "64aba362",
        "outputId": "57a41a61-cc7c-4426-d3e1-5fb44b34e2d4"
      },
      "outputs": [
        {
          "name": "stdout",
          "output_type": "stream",
          "text": [
            "[[65791 21957]\n",
            " [ 1798  6393]]\n",
            "              precision    recall  f1-score   support\n",
            "\n",
            "           0       0.97      0.75      0.85     87748\n",
            "           1       0.23      0.78      0.35      8191\n",
            "\n",
            "    accuracy                           0.75     95939\n",
            "   macro avg       0.60      0.77      0.60     95939\n",
            "weighted avg       0.91      0.75      0.80     95939\n",
            "\n",
            "0.7523947508312574\n"
          ]
        }
      ],
      "source": [
        "# 예측\n",
        "y_pred = model.predict(X_test)\n",
        "y_pred_prob=model.predict_proba(X_test)[:,1]\n",
        "\n",
        "##성능평가\n",
        "accuracy = accuracy_score(y_test, y_pred)\n",
        "precision = precision_score(y_test, y_pred)\n",
        "recall = recall_score(y_test, y_pred)\n",
        "f1 = f1_score(y_test, y_pred)\n",
        "roc_auc =roc_auc_score(y_test, y_pred)\n",
        "\n",
        "## 혼동행렬, 분류 보고서 출력\n",
        "conf_matrix = confusion_matrix(y_test, y_pred)\n",
        "class_report = classification_report(y_test, y_pred)\n",
        "\n",
        "print(conf_matrix)\n",
        "print(class_report)\n",
        "print(accuracy_score(y_test, y_pred))"
      ]
    },
    {
      "cell_type": "markdown",
      "id": "fdaf7267",
      "metadata": {
        "id": "fdaf7267"
      },
      "source": [
        "- [87019   729]\n",
        "-  [ 7355   836]]\n",
        ">               precision    recall  f1-score   support\n",
        "\n",
        "               0       0.92      0.99      0.96     87748\n",
        "               1       0.53      0.10      0.17      8191\n",
        "\n",
        "        accuracy                           0.92     95939\n",
        "       macro avg       0.73      0.55      0.56     95939\n",
        "    weighted avg       0.89      0.92      0.89     95939\n",
        "\n",
        "- 0.9157381252670967"
      ]
    },
    {
      "cell_type": "code",
      "execution_count": null,
      "id": "88c11255",
      "metadata": {
        "id": "88c11255",
        "outputId": "b84cd931-d133-4dea-fbfd-0ef1a2556064"
      },
      "outputs": [
        {
          "data": {
            "text/plain": [
              "array([[ 0.05310434,  0.05842839,  0.03792645, -0.0486531 ,  0.40062257,\n",
              "        -0.17273742,  1.17313848,  0.30436587,  0.76681625, -0.14052093,\n",
              "         0.19637981,  0.27247658,  0.55821924,  0.96732469,  1.35401136,\n",
              "         1.57749221,  1.85838576,  2.11117723,  2.46025383,  2.62036867,\n",
              "         2.9947237 , -0.48368556, -0.2226682 , -0.16899102,  0.00402574,\n",
              "        -0.10152964,  0.11505285,  0.5751128 ,  0.51934522, -0.02971066,\n",
              "         1.48480405,  1.01488413,  1.70796971,  0.44860344,  0.35862837,\n",
              "         0.61367308,  0.13715028]])"
            ]
          },
          "execution_count": 98,
          "metadata": {},
          "output_type": "execute_result"
        }
      ],
      "source": [
        "# 계수 값도 확인 가능\n",
        "\n",
        "model.coef_"
      ]
    },
    {
      "cell_type": "code",
      "execution_count": null,
      "id": "af473252",
      "metadata": {
        "id": "af473252"
      },
      "outputs": [],
      "source": [
        "## 로지스틱회귀도 stats 모델에서 Logit 사용해서 summary를 확인할 수 있다.\n",
        "## 공식적으로 정해진 건 없어서\n",
        "\n",
        "import statsmodels.api as sm"
      ]
    },
    {
      "cell_type": "code",
      "execution_count": null,
      "id": "a75bdb6b",
      "metadata": {
        "id": "a75bdb6b"
      },
      "outputs": [],
      "source": [
        "ml1=sm.Logit(y_train_under, X_train_under)"
      ]
    },
    {
      "cell_type": "code",
      "execution_count": null,
      "id": "029d8e9a",
      "metadata": {
        "id": "029d8e9a",
        "outputId": "84ec210e-23cc-4b60-a7d2-aa5befb3ff70"
      },
      "outputs": [
        {
          "name": "stdout",
          "output_type": "stream",
          "text": [
            "Optimization terminated successfully.\n",
            "         Current function value: inf\n",
            "         Iterations 7\n"
          ]
        },
        {
          "name": "stderr",
          "output_type": "stream",
          "text": [
            "/opt/anaconda3/envs/bda/lib/python3.8/site-packages/statsmodels/discrete/discrete_model.py:2383: RuntimeWarning: overflow encountered in exp\n",
            "  return 1/(1+np.exp(-X))\n",
            "/opt/anaconda3/envs/bda/lib/python3.8/site-packages/statsmodels/discrete/discrete_model.py:2441: RuntimeWarning: divide by zero encountered in log\n",
            "  return np.sum(np.log(self.cdf(q * linpred)))\n"
          ]
        }
      ],
      "source": [
        "res=ml1.fit(method='newton') # 최적화 방법론"
      ]
    },
    {
      "cell_type": "code",
      "execution_count": null,
      "id": "fb63d2f3",
      "metadata": {
        "scrolled": true,
        "id": "fb63d2f3",
        "outputId": "838438c5-169c-4a22-be52-1f29e1cd72fe"
      },
      "outputs": [
        {
          "name": "stderr",
          "output_type": "stream",
          "text": [
            "/opt/anaconda3/envs/bda/lib/python3.8/site-packages/statsmodels/base/model.py:595: HessianInversionWarning: Inverting hessian failed, no bse or cov_params available\n",
            "  warnings.warn('Inverting hessian failed, no bse or cov_params '\n",
            "/opt/anaconda3/envs/bda/lib/python3.8/site-packages/statsmodels/base/model.py:595: HessianInversionWarning: Inverting hessian failed, no bse or cov_params available\n",
            "  warnings.warn('Inverting hessian failed, no bse or cov_params '\n"
          ]
        },
        {
          "data": {
            "text/html": [
              "<table class=\"simpletable\">\n",
              "<caption>Logit Regression Results</caption>\n",
              "<tr>\n",
              "  <th>Dep. Variable:</th>   <td>HeartDisease_Yes</td> <th>  No. Observations:  </th>  <td> 38364</td> \n",
              "</tr>\n",
              "<tr>\n",
              "  <th>Model:</th>                 <td>Logit</td>      <th>  Df Residuals:      </th>  <td> 38327</td> \n",
              "</tr>\n",
              "<tr>\n",
              "  <th>Method:</th>                 <td>MLE</td>       <th>  Df Model:          </th>  <td>    36</td> \n",
              "</tr>\n",
              "<tr>\n",
              "  <th>Date:</th>            <td>Sun, 21 Jul 2024</td> <th>  Pseudo R-squ.:     </th>  <td>   inf</td> \n",
              "</tr>\n",
              "<tr>\n",
              "  <th>Time:</th>                <td>18:47:18</td>     <th>  Log-Likelihood:    </th> <td>    -inf</td>\n",
              "</tr>\n",
              "<tr>\n",
              "  <th>converged:</th>             <td>True</td>       <th>  LL-Null:           </th> <td>  0.0000</td>\n",
              "</tr>\n",
              "<tr>\n",
              "  <th>Covariance Type:</th>     <td>nonrobust</td>    <th>  LLR p-value:       </th>  <td> 1.000</td> \n",
              "</tr>\n",
              "</table>\n",
              "<table class=\"simpletable\">\n",
              "<tr>\n",
              "                  <td></td>                    <th>coef</th>     <th>std err</th>      <th>z</th>      <th>P>|z|</th>  <th>[0.025</th>    <th>0.975]</th>  \n",
              "</tr>\n",
              "<tr>\n",
              "  <th>BMI</th>                              <td>    0.0691</td> <td>    0.013</td> <td>    5.123</td> <td> 0.000</td> <td>    0.043</td> <td>    0.096</td>\n",
              "</tr>\n",
              "<tr>\n",
              "  <th>PhysicalHealth</th>                   <td>    0.0687</td> <td>    0.014</td> <td>    4.862</td> <td> 0.000</td> <td>    0.041</td> <td>    0.096</td>\n",
              "</tr>\n",
              "<tr>\n",
              "  <th>MentalHealth</th>                     <td>    0.0249</td> <td>    0.013</td> <td>    1.864</td> <td> 0.062</td> <td>   -0.001</td> <td>    0.051</td>\n",
              "</tr>\n",
              "<tr>\n",
              "  <th>SleepTime</th>                        <td>   -0.0555</td> <td>    0.012</td> <td>   -4.774</td> <td> 0.000</td> <td>   -0.078</td> <td>   -0.033</td>\n",
              "</tr>\n",
              "<tr>\n",
              "  <th>Smoking_Yes</th>                      <td>    0.3790</td> <td>    0.026</td> <td>   14.636</td> <td> 0.000</td> <td>    0.328</td> <td>    0.430</td>\n",
              "</tr>\n",
              "<tr>\n",
              "  <th>AlcoholDrinking_Yes</th>              <td>   -0.1987</td> <td>    0.055</td> <td>   -3.590</td> <td> 0.000</td> <td>   -0.307</td> <td>   -0.090</td>\n",
              "</tr>\n",
              "<tr>\n",
              "  <th>Stroke_Yes</th>                       <td>    1.1644</td> <td>    0.054</td> <td>   21.450</td> <td> 0.000</td> <td>    1.058</td> <td>    1.271</td>\n",
              "</tr>\n",
              "<tr>\n",
              "  <th>DiffWalking_Yes</th>                  <td>    0.2594</td> <td>    0.036</td> <td>    7.171</td> <td> 0.000</td> <td>    0.189</td> <td>    0.330</td>\n",
              "</tr>\n",
              "<tr>\n",
              "  <th>Sex_Male</th>                         <td>    0.6930</td> <td>    0.026</td> <td>   26.542</td> <td> 0.000</td> <td>    0.642</td> <td>    0.744</td>\n",
              "</tr>\n",
              "<tr>\n",
              "  <th>AgeCategory_25-29</th>                <td>   -1.2987</td> <td>    0.127</td> <td>  -10.265</td> <td> 0.000</td> <td>   -1.547</td> <td>   -1.051</td>\n",
              "</tr>\n",
              "<tr>\n",
              "  <th>AgeCategory_30-34</th>                <td>   -0.9725</td> <td>    0.107</td> <td>   -9.085</td> <td> 0.000</td> <td>   -1.182</td> <td>   -0.763</td>\n",
              "</tr>\n",
              "<tr>\n",
              "  <th>AgeCategory_35-39</th>                <td>   -0.8925</td> <td>    0.101</td> <td>   -8.857</td> <td> 0.000</td> <td>   -1.090</td> <td>   -0.695</td>\n",
              "</tr>\n",
              "<tr>\n",
              "  <th>AgeCategory_40-44</th>                <td>   -0.5667</td> <td>    0.093</td> <td>   -6.068</td> <td> 0.000</td> <td>   -0.750</td> <td>   -0.384</td>\n",
              "</tr>\n",
              "<tr>\n",
              "  <th>AgeCategory_45-49</th>                <td>   -0.1838</td> <td>    0.086</td> <td>   -2.141</td> <td> 0.032</td> <td>   -0.352</td> <td>   -0.016</td>\n",
              "</tr>\n",
              "<tr>\n",
              "  <th>AgeCategory_50-54</th>                <td>    0.2200</td> <td>    0.079</td> <td>    2.780</td> <td> 0.005</td> <td>    0.065</td> <td>    0.375</td>\n",
              "</tr>\n",
              "<tr>\n",
              "  <th>AgeCategory_55-59</th>                <td>    0.4576</td> <td>    0.075</td> <td>    6.068</td> <td> 0.000</td> <td>    0.310</td> <td>    0.605</td>\n",
              "</tr>\n",
              "<tr>\n",
              "  <th>AgeCategory_60-64</th>                <td>    0.7517</td> <td>    0.074</td> <td>   10.225</td> <td> 0.000</td> <td>    0.608</td> <td>    0.896</td>\n",
              "</tr>\n",
              "<tr>\n",
              "  <th>AgeCategory_65-69</th>                <td>    0.9992</td> <td>    0.073</td> <td>   13.734</td> <td> 0.000</td> <td>    0.857</td> <td>    1.142</td>\n",
              "</tr>\n",
              "<tr>\n",
              "  <th>AgeCategory_70-74</th>                <td>    1.3542</td> <td>    0.073</td> <td>   18.460</td> <td> 0.000</td> <td>    1.210</td> <td>    1.498</td>\n",
              "</tr>\n",
              "<tr>\n",
              "  <th>AgeCategory_75-79</th>                <td>    1.5147</td> <td>    0.076</td> <td>   19.852</td> <td> 0.000</td> <td>    1.365</td> <td>    1.664</td>\n",
              "</tr>\n",
              "<tr>\n",
              "  <th>AgeCategory_80 or older</th>          <td>    1.8784</td> <td>    0.076</td> <td>   24.870</td> <td> 0.000</td> <td>    1.730</td> <td>    2.026</td>\n",
              "</tr>\n",
              "<tr>\n",
              "  <th>Race_Asian</th>                       <td>   -2.5840</td> <td>    0.123</td> <td>  -20.935</td> <td> 0.000</td> <td>   -2.826</td> <td>   -2.342</td>\n",
              "</tr>\n",
              "<tr>\n",
              "  <th>Race_Black</th>                       <td>   -2.3095</td> <td>    0.085</td> <td>  -27.205</td> <td> 0.000</td> <td>   -2.476</td> <td>   -2.143</td>\n",
              "</tr>\n",
              "<tr>\n",
              "  <th>Race_Hispanic</th>                    <td>   -2.3008</td> <td>    0.083</td> <td>  -27.852</td> <td> 0.000</td> <td>   -2.463</td> <td>   -2.139</td>\n",
              "</tr>\n",
              "<tr>\n",
              "  <th>Race_Other</th>                       <td>   -2.0855</td> <td>    0.098</td> <td>  -21.218</td> <td> 0.000</td> <td>   -2.278</td> <td>   -1.893</td>\n",
              "</tr>\n",
              "<tr>\n",
              "  <th>Race_White</th>                       <td>   -2.1771</td> <td>    0.072</td> <td>  -30.327</td> <td> 0.000</td> <td>   -2.318</td> <td>   -2.036</td>\n",
              "</tr>\n",
              "<tr>\n",
              "  <th>Diabetic_No, borderline diabetes</th> <td>    0.1055</td> <td>    0.078</td> <td>    1.352</td> <td> 0.176</td> <td>   -0.047</td> <td>    0.258</td>\n",
              "</tr>\n",
              "<tr>\n",
              "  <th>Diabetic_Yes</th>                     <td>    0.5737</td> <td>    0.034</td> <td>   17.012</td> <td> 0.000</td> <td>    0.508</td> <td>    0.640</td>\n",
              "</tr>\n",
              "<tr>\n",
              "  <th>Diabetic_Yes (during pregnancy)</th>  <td>    0.4541</td> <td>    0.172</td> <td>    2.646</td> <td> 0.008</td> <td>    0.118</td> <td>    0.790</td>\n",
              "</tr>\n",
              "<tr>\n",
              "  <th>PhysicalActivity_Yes</th>             <td>   -0.1780</td> <td>    0.030</td> <td>   -6.024</td> <td> 0.000</td> <td>   -0.236</td> <td>   -0.120</td>\n",
              "</tr>\n",
              "<tr>\n",
              "  <th>GenHealth_Fair</th>                   <td>    1.2267</td> <td>    0.052</td> <td>   23.545</td> <td> 0.000</td> <td>    1.125</td> <td>    1.329</td>\n",
              "</tr>\n",
              "<tr>\n",
              "  <th>GenHealth_Good</th>                   <td>    0.7554</td> <td>    0.042</td> <td>   17.995</td> <td> 0.000</td> <td>    0.673</td> <td>    0.838</td>\n",
              "</tr>\n",
              "<tr>\n",
              "  <th>GenHealth_Poor</th>                   <td>    1.4452</td> <td>    0.076</td> <td>   19.000</td> <td> 0.000</td> <td>    1.296</td> <td>    1.594</td>\n",
              "</tr>\n",
              "<tr>\n",
              "  <th>GenHealth_Very good</th>              <td>    0.2053</td> <td>    0.042</td> <td>    4.870</td> <td> 0.000</td> <td>    0.123</td> <td>    0.288</td>\n",
              "</tr>\n",
              "<tr>\n",
              "  <th>Asthma_Yes</th>                       <td>    0.3014</td> <td>    0.036</td> <td>    8.268</td> <td> 0.000</td> <td>    0.230</td> <td>    0.373</td>\n",
              "</tr>\n",
              "<tr>\n",
              "  <th>KidneyDisease_Yes</th>                <td>    0.6126</td> <td>    0.056</td> <td>   10.960</td> <td> 0.000</td> <td>    0.503</td> <td>    0.722</td>\n",
              "</tr>\n",
              "<tr>\n",
              "  <th>SkinCancer_Yes</th>                   <td>    0.1587</td> <td>    0.038</td> <td>    4.156</td> <td> 0.000</td> <td>    0.084</td> <td>    0.234</td>\n",
              "</tr>\n",
              "</table>"
            ],
            "text/latex": [
              "\\begin{center}\n",
              "\\begin{tabular}{lclc}\n",
              "\\toprule\n",
              "\\textbf{Dep. Variable:}                    & HeartDisease\\_Yes & \\textbf{  No. Observations:  } &    38364    \\\\\n",
              "\\textbf{Model:}                            &       Logit       & \\textbf{  Df Residuals:      } &    38327    \\\\\n",
              "\\textbf{Method:}                           &        MLE        & \\textbf{  Df Model:          } &       36    \\\\\n",
              "\\textbf{Date:}                             &  Sun, 21 Jul 2024 & \\textbf{  Pseudo R-squ.:     } &      inf    \\\\\n",
              "\\textbf{Time:}                             &      18:47:18     & \\textbf{  Log-Likelihood:    } &      -inf   \\\\\n",
              "\\textbf{converged:}                        &        True       & \\textbf{  LL-Null:           } &    0.0000   \\\\\n",
              "\\textbf{Covariance Type:}                  &     nonrobust     & \\textbf{  LLR p-value:       } &    1.000    \\\\\n",
              "\\bottomrule\n",
              "\\end{tabular}\n",
              "\\begin{tabular}{lcccccc}\n",
              "                                           & \\textbf{coef} & \\textbf{std err} & \\textbf{z} & \\textbf{P$> |$z$|$} & \\textbf{[0.025} & \\textbf{0.975]}  \\\\\n",
              "\\midrule\n",
              "\\textbf{BMI}                               &       0.0691  &        0.013     &     5.123  &         0.000        &        0.043    &        0.096     \\\\\n",
              "\\textbf{PhysicalHealth}                    &       0.0687  &        0.014     &     4.862  &         0.000        &        0.041    &        0.096     \\\\\n",
              "\\textbf{MentalHealth}                      &       0.0249  &        0.013     &     1.864  &         0.062        &       -0.001    &        0.051     \\\\\n",
              "\\textbf{SleepTime}                         &      -0.0555  &        0.012     &    -4.774  &         0.000        &       -0.078    &       -0.033     \\\\\n",
              "\\textbf{Smoking\\_Yes}                      &       0.3790  &        0.026     &    14.636  &         0.000        &        0.328    &        0.430     \\\\\n",
              "\\textbf{AlcoholDrinking\\_Yes}              &      -0.1987  &        0.055     &    -3.590  &         0.000        &       -0.307    &       -0.090     \\\\\n",
              "\\textbf{Stroke\\_Yes}                       &       1.1644  &        0.054     &    21.450  &         0.000        &        1.058    &        1.271     \\\\\n",
              "\\textbf{DiffWalking\\_Yes}                  &       0.2594  &        0.036     &     7.171  &         0.000        &        0.189    &        0.330     \\\\\n",
              "\\textbf{Sex\\_Male}                         &       0.6930  &        0.026     &    26.542  &         0.000        &        0.642    &        0.744     \\\\\n",
              "\\textbf{AgeCategory\\_25-29}                &      -1.2987  &        0.127     &   -10.265  &         0.000        &       -1.547    &       -1.051     \\\\\n",
              "\\textbf{AgeCategory\\_30-34}                &      -0.9725  &        0.107     &    -9.085  &         0.000        &       -1.182    &       -0.763     \\\\\n",
              "\\textbf{AgeCategory\\_35-39}                &      -0.8925  &        0.101     &    -8.857  &         0.000        &       -1.090    &       -0.695     \\\\\n",
              "\\textbf{AgeCategory\\_40-44}                &      -0.5667  &        0.093     &    -6.068  &         0.000        &       -0.750    &       -0.384     \\\\\n",
              "\\textbf{AgeCategory\\_45-49}                &      -0.1838  &        0.086     &    -2.141  &         0.032        &       -0.352    &       -0.016     \\\\\n",
              "\\textbf{AgeCategory\\_50-54}                &       0.2200  &        0.079     &     2.780  &         0.005        &        0.065    &        0.375     \\\\\n",
              "\\textbf{AgeCategory\\_55-59}                &       0.4576  &        0.075     &     6.068  &         0.000        &        0.310    &        0.605     \\\\\n",
              "\\textbf{AgeCategory\\_60-64}                &       0.7517  &        0.074     &    10.225  &         0.000        &        0.608    &        0.896     \\\\\n",
              "\\textbf{AgeCategory\\_65-69}                &       0.9992  &        0.073     &    13.734  &         0.000        &        0.857    &        1.142     \\\\\n",
              "\\textbf{AgeCategory\\_70-74}                &       1.3542  &        0.073     &    18.460  &         0.000        &        1.210    &        1.498     \\\\\n",
              "\\textbf{AgeCategory\\_75-79}                &       1.5147  &        0.076     &    19.852  &         0.000        &        1.365    &        1.664     \\\\\n",
              "\\textbf{AgeCategory\\_80 or older}          &       1.8784  &        0.076     &    24.870  &         0.000        &        1.730    &        2.026     \\\\\n",
              "\\textbf{Race\\_Asian}                       &      -2.5840  &        0.123     &   -20.935  &         0.000        &       -2.826    &       -2.342     \\\\\n",
              "\\textbf{Race\\_Black}                       &      -2.3095  &        0.085     &   -27.205  &         0.000        &       -2.476    &       -2.143     \\\\\n",
              "\\textbf{Race\\_Hispanic}                    &      -2.3008  &        0.083     &   -27.852  &         0.000        &       -2.463    &       -2.139     \\\\\n",
              "\\textbf{Race\\_Other}                       &      -2.0855  &        0.098     &   -21.218  &         0.000        &       -2.278    &       -1.893     \\\\\n",
              "\\textbf{Race\\_White}                       &      -2.1771  &        0.072     &   -30.327  &         0.000        &       -2.318    &       -2.036     \\\\\n",
              "\\textbf{Diabetic\\_No, borderline diabetes} &       0.1055  &        0.078     &     1.352  &         0.176        &       -0.047    &        0.258     \\\\\n",
              "\\textbf{Diabetic\\_Yes}                     &       0.5737  &        0.034     &    17.012  &         0.000        &        0.508    &        0.640     \\\\\n",
              "\\textbf{Diabetic\\_Yes (during pregnancy)}  &       0.4541  &        0.172     &     2.646  &         0.008        &        0.118    &        0.790     \\\\\n",
              "\\textbf{PhysicalActivity\\_Yes}             &      -0.1780  &        0.030     &    -6.024  &         0.000        &       -0.236    &       -0.120     \\\\\n",
              "\\textbf{GenHealth\\_Fair}                   &       1.2267  &        0.052     &    23.545  &         0.000        &        1.125    &        1.329     \\\\\n",
              "\\textbf{GenHealth\\_Good}                   &       0.7554  &        0.042     &    17.995  &         0.000        &        0.673    &        0.838     \\\\\n",
              "\\textbf{GenHealth\\_Poor}                   &       1.4452  &        0.076     &    19.000  &         0.000        &        1.296    &        1.594     \\\\\n",
              "\\textbf{GenHealth\\_Very good}              &       0.2053  &        0.042     &     4.870  &         0.000        &        0.123    &        0.288     \\\\\n",
              "\\textbf{Asthma\\_Yes}                       &       0.3014  &        0.036     &     8.268  &         0.000        &        0.230    &        0.373     \\\\\n",
              "\\textbf{KidneyDisease\\_Yes}                &       0.6126  &        0.056     &    10.960  &         0.000        &        0.503    &        0.722     \\\\\n",
              "\\textbf{SkinCancer\\_Yes}                   &       0.1587  &        0.038     &     4.156  &         0.000        &        0.084    &        0.234     \\\\\n",
              "\\bottomrule\n",
              "\\end{tabular}\n",
              "%\\caption{Logit Regression Results}\n",
              "\\end{center}"
            ],
            "text/plain": [
              "<class 'statsmodels.iolib.summary.Summary'>\n",
              "\"\"\"\n",
              "                           Logit Regression Results                           \n",
              "==============================================================================\n",
              "Dep. Variable:       HeartDisease_Yes   No. Observations:                38364\n",
              "Model:                          Logit   Df Residuals:                    38327\n",
              "Method:                           MLE   Df Model:                           36\n",
              "Date:                Sun, 21 Jul 2024   Pseudo R-squ.:                     inf\n",
              "Time:                        18:47:18   Log-Likelihood:                   -inf\n",
              "converged:                       True   LL-Null:                        0.0000\n",
              "Covariance Type:            nonrobust   LLR p-value:                     1.000\n",
              "====================================================================================================\n",
              "                                       coef    std err          z      P>|z|      [0.025      0.975]\n",
              "----------------------------------------------------------------------------------------------------\n",
              "BMI                                  0.0691      0.013      5.123      0.000       0.043       0.096\n",
              "PhysicalHealth                       0.0687      0.014      4.862      0.000       0.041       0.096\n",
              "MentalHealth                         0.0249      0.013      1.864      0.062      -0.001       0.051\n",
              "SleepTime                           -0.0555      0.012     -4.774      0.000      -0.078      -0.033\n",
              "Smoking_Yes                          0.3790      0.026     14.636      0.000       0.328       0.430\n",
              "AlcoholDrinking_Yes                 -0.1987      0.055     -3.590      0.000      -0.307      -0.090\n",
              "Stroke_Yes                           1.1644      0.054     21.450      0.000       1.058       1.271\n",
              "DiffWalking_Yes                      0.2594      0.036      7.171      0.000       0.189       0.330\n",
              "Sex_Male                             0.6930      0.026     26.542      0.000       0.642       0.744\n",
              "AgeCategory_25-29                   -1.2987      0.127    -10.265      0.000      -1.547      -1.051\n",
              "AgeCategory_30-34                   -0.9725      0.107     -9.085      0.000      -1.182      -0.763\n",
              "AgeCategory_35-39                   -0.8925      0.101     -8.857      0.000      -1.090      -0.695\n",
              "AgeCategory_40-44                   -0.5667      0.093     -6.068      0.000      -0.750      -0.384\n",
              "AgeCategory_45-49                   -0.1838      0.086     -2.141      0.032      -0.352      -0.016\n",
              "AgeCategory_50-54                    0.2200      0.079      2.780      0.005       0.065       0.375\n",
              "AgeCategory_55-59                    0.4576      0.075      6.068      0.000       0.310       0.605\n",
              "AgeCategory_60-64                    0.7517      0.074     10.225      0.000       0.608       0.896\n",
              "AgeCategory_65-69                    0.9992      0.073     13.734      0.000       0.857       1.142\n",
              "AgeCategory_70-74                    1.3542      0.073     18.460      0.000       1.210       1.498\n",
              "AgeCategory_75-79                    1.5147      0.076     19.852      0.000       1.365       1.664\n",
              "AgeCategory_80 or older              1.8784      0.076     24.870      0.000       1.730       2.026\n",
              "Race_Asian                          -2.5840      0.123    -20.935      0.000      -2.826      -2.342\n",
              "Race_Black                          -2.3095      0.085    -27.205      0.000      -2.476      -2.143\n",
              "Race_Hispanic                       -2.3008      0.083    -27.852      0.000      -2.463      -2.139\n",
              "Race_Other                          -2.0855      0.098    -21.218      0.000      -2.278      -1.893\n",
              "Race_White                          -2.1771      0.072    -30.327      0.000      -2.318      -2.036\n",
              "Diabetic_No, borderline diabetes     0.1055      0.078      1.352      0.176      -0.047       0.258\n",
              "Diabetic_Yes                         0.5737      0.034     17.012      0.000       0.508       0.640\n",
              "Diabetic_Yes (during pregnancy)      0.4541      0.172      2.646      0.008       0.118       0.790\n",
              "PhysicalActivity_Yes                -0.1780      0.030     -6.024      0.000      -0.236      -0.120\n",
              "GenHealth_Fair                       1.2267      0.052     23.545      0.000       1.125       1.329\n",
              "GenHealth_Good                       0.7554      0.042     17.995      0.000       0.673       0.838\n",
              "GenHealth_Poor                       1.4452      0.076     19.000      0.000       1.296       1.594\n",
              "GenHealth_Very good                  0.2053      0.042      4.870      0.000       0.123       0.288\n",
              "Asthma_Yes                           0.3014      0.036      8.268      0.000       0.230       0.373\n",
              "KidneyDisease_Yes                    0.6126      0.056     10.960      0.000       0.503       0.722\n",
              "SkinCancer_Yes                       0.1587      0.038      4.156      0.000       0.084       0.234\n",
              "====================================================================================================\n",
              "\"\"\""
            ]
          },
          "execution_count": 103,
          "metadata": {},
          "output_type": "execute_result"
        }
      ],
      "source": [
        "res.summary()"
      ]
    },
    {
      "cell_type": "markdown",
      "id": "0d468d93",
      "metadata": {
        "id": "0d468d93"
      },
      "source": [
        "### 모델 요약 통계 항목 설명\n",
        "\n",
        "1. **Dep. Variable**: 종속 변수(타겟 변수)의 이름입니다. 여기서는 `HeartDisease_Yes`로, 심장 질환 여부를 나타냅니다.\n",
        "\n",
        "2. **No. Observations**: 모델에 사용된 관측치(데이터 포인트)의 총 개수입니다. 여기서는 223,856개입니다.\n",
        "\n",
        "3. **Model**: 사용된 모델의 유형입니다. 여기서는 로지스틱 회귀(`Logit`)입니다.\n",
        "\n",
        "4. **Df Residuals**: 잔차의 자유도입니다. 이는 총 관측치 수에서 모델에 사용된 파라미터 수를 뺀 값입니다. 여기서는 223,819입니다.\n",
        "\n",
        "5. **Method**: 모델 추정 방법입니다. 여기서는 최대 우도 추정(MLE, Maximum Likelihood Estimation) 방법을 사용했습니다.\n",
        "\n",
        "6. **Df Model**: 모델의 자유도입니다. 이는 사용된 독립 변수의 수입니다. 여기서는 36입니다.\n",
        "\n",
        "7. **Date**: 모델이 적합된 날짜입니다. 여기서는 2024년 1월 21일입니다.\n",
        "\n",
        "8. **Pseudo R-squ.**: 의사 R-제곱(Pseudo R-squared) 값입니다. 이는 모델의 설명력을 나타내는 지표입니다. 여기서는 0.1811입니다.\n",
        "\n",
        "9. **Time**: 모델이 적합된 시간입니다. 여기서는 20:50:12입니다.\n",
        "\n",
        "10. **Log-Likelihood**: 로그 우도(Log-Likelihood) 값입니다. 이는 모델이 데이터를 얼마나 잘 설명하는지 나타냅니다. 값이 클수록 모델이 데이터를 잘 설명합니다. 여기서는 -53,613입니다.\n",
        "\n",
        "11. **converged**: 모델이 수렴했는지 여부입니다. 여기서는 `True`로, 모델이 성공적으로 수렴했음을 나타냅니다.\n",
        "\n",
        "12. **LL-Null**: Null 모델의 로그 우도 값입니다. 여기서는 -65,466입니다.\n",
        "\n",
        "13. **Covariance Type**: 공분산 행렬의 유형입니다. 여기서는 `nonrobust`입니다.\n",
        "\n",
        "14. **LLR p-value**: 우도비 검정의 p-값입니다. 이는 모델의 유의성을 테스트합니다. p-값이 매우 낮을 경우(일반적으로 0.05보다 작으면), 모델이 통계적으로 유의함을 나타냅니다. 여기서는 p-값이 0.000으로, 모델이 통계적으로 유의합니다.\n",
        "\n",
        "### 회귀 계수 해석\n",
        "\n",
        "회귀 계수 표는 각 독립 변수에 대한 정보를 제공합니다. 여기서는 `BMI` 변수를 예로 들어 해석해보겠습니다.\n",
        "\n",
        "- **coef**: 회귀 계수 값입니다. `BMI` 변수의 회귀 계수는 0.0855입니다. 이는 `BMI`가 1 단위 증가할 때 심장 질환 발생 확률의 로그 오즈가 0.0855만큼 증가함을 의미합니다.\n",
        "- **std err**: 회귀 계수의 표준 오차입니다. `BMI` 변수의 표준 오차는 0.010입니다.\n",
        "- **z**: z-값입니다. 이는 회귀 계수를 표준 오차로 나눈 값입니다. `BMI` 변수의 z-값은 8.739입니다.\n",
        "- **P>|z|**: p-값입니다. 이는 해당 회귀 계수가 0이라는 귀무 가설을 검정합니다. `BMI` 변수의 p-값은 0.000으로, 매우 유의미하다는 것을 나타냅니다.\n",
        "- **[0.025 0.975]**: 회귀 계수의 95% 신뢰 구간입니다. `BMI` 변수의 신뢰 구간은 [0.066, 0.105]입니다.\n",
        "\n",
        "### 요약\n",
        "\n",
        "- `BMI` 변수는 심장 질환 발생 확률과 유의미한 양의 상관관계를 가집니다.\n",
        "- 모델이 통계적으로 유의하며, `BMI`를 포함한 여러 변수들이 심장 질환 발생에 영향을 미치는 것으로 보입니다.\n",
        "\n",
        "### 전체 해석\n",
        "\n",
        "- **모델의 설명력**: Pseudo R-squared 값이 0.1811로, 모델이 데이터의 약 18.11%를 설명합니다. 이는 로지스틱 회귀에서 흔히 낮게 나오는 값이며, 모델이 충분히 유의미한지 다른 지표와 함께 검토해야 합니다.\n",
        "- **변수의 유의성**: `BMI` 변수는 p-값이 0.000으로 매우 유의미하며, 심장 질환 발생에 긍정적인 영향을 미친다고 해석할 수 있습니다."
      ]
    },
    {
      "cell_type": "markdown",
      "id": "10d7871a",
      "metadata": {
        "id": "10d7871a"
      },
      "source": [
        "## 필수과제 2\n",
        "\n",
        "- 캐글의 광고데이셋\n",
        "- clicked_ on Ad y값\n",
        "- 나머지 변수들 사이트 체류시간, 인컴, 광고, 지역이나 기타 등등\n",
        "- 0,1 분류하는 코드\n",
        "- 데이터 시각화 하시고, 피처 정리하고, 왜 이 피처의 이런 전처리 작업을 했는지 정리하여서\n",
        "- 실제 성능을 모델링하여 공유해 주시면 됩니다.\n",
        "- 코드와 함께 주석으로 같이 과제 제출해 주시고, 교차검증 같이 진행하기, 클래스 불균형까지도 확인해서 성능 비교하는 것으로!\n",
        "\n",
        "- 전처리 후\n",
        "---\n",
        "- 하이퍼파라미터를 조금 더 개선해서 모델링의 성능이 올라가는지?\n",
        "- 이 부분까지도 같이 포함해 주세요.\n",
        "\n",
        "- **꼭 포함해야 하는 항목 : 데이터 전처리 시각화, 피처 엔지니어링, 교차검증( 클래스 불균형까지 확인해서 ), 하이퍼파라미터 튜닝을 통한 성능 개선 여부**"
      ]
    },
    {
      "cell_type": "code",
      "execution_count": null,
      "id": "447512de",
      "metadata": {
        "id": "447512de"
      },
      "outputs": [],
      "source": []
    }
  ],
  "metadata": {
    "kernelspec": {
      "display_name": "Python 3 (ipykernel)",
      "language": "python",
      "name": "python3"
    },
    "language_info": {
      "codemirror_mode": {
        "name": "ipython",
        "version": 3
      },
      "file_extension": ".py",
      "mimetype": "text/x-python",
      "name": "python",
      "nbconvert_exporter": "python",
      "pygments_lexer": "ipython3",
      "version": "3.8.16"
    },
    "colab": {
      "provenance": []
    }
  },
  "nbformat": 4,
  "nbformat_minor": 5
}