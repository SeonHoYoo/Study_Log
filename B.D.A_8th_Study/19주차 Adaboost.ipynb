{
  "cells": [
    {
      "cell_type": "code",
      "execution_count": null,
      "id": "3fcee546",
      "metadata": {
        "id": "3fcee546"
      },
      "outputs": [],
      "source": [
        "import numpy as np"
      ]
    },
    {
      "cell_type": "markdown",
      "id": "da3a693f",
      "metadata": {
        "id": "da3a693f"
      },
      "source": [
        "#### 1. **주요 메서드**\n",
        "\n",
        "- **`fit(X, y)`**:\n",
        "  - **설명**: 주어진 입력 데이터 `X`와 타겟 레이블 `y`를 사용하여 AdaBoost 모델을 학습\n",
        "  - **입력**:\n",
        "    - `X`: 학습 데이터(특성 행렬). 크기: `(n_samples, n_features)`.\n",
        "    - `y`: 타겟 레이블. 크기: `(n_samples,)`.\n",
        "  - **역할**: 지정된 약한 학습자(예: 결정 스텀프)를 반복적으로 학습시키고, 각 학습자의 가중치를 계산하여 최종 모델을 구성\n",
        "\n",
        "- **`predict(X)`**:\n",
        "  - **설명**: 학습된 AdaBoost 모델을 사용하여 새로운 데이터 `X`에 대한 예측을 수행\n",
        "  - **입력**:\n",
        "    - `X`: 예측할 데이터(특성 행렬). 크기: `(n_samples, n_features)`.\n",
        "  - **출력**:\n",
        "    - 각 샘플에 대한 예측된 클래스 레이블(예: 0 또는 1).\n",
        "\n",
        "- **`predict_proba(X)`**:\n",
        "  - **설명**: 각 클래스에 속할 확률을 반환\n",
        "  - **입력**:\n",
        "    - `X`: 예측할 데이터(특성 행렬). 크기: `(n_samples, n_features)`.\n",
        "  - **출력**:\n",
        "    - 각 샘플에 대한 클래스별 확률을 포함하는 배열. 크기: `(n_samples, n_classes)`.\n",
        "\n",
        "- **`score(X, y)`**:\n",
        "  - **설명**: 주어진 데이터 `X`와 타겟 `y`에 대해 모델의 정확도를 평가\n",
        "  - **입력**:\n",
        "    - `X`: 평가할 데이터(특성 행렬). 크기: `(n_samples, n_features)`.\n",
        "    - `y`: 실제 타겟 레이블. 크기: `(n_samples,)`.\n",
        "  - **출력**:\n",
        "    - 모델의 정확도(float). `accuracy = (예측이 맞은 샘플 수 / 전체 샘플 수)`로 계산\n",
        "\n",
        "#### 2. **주요 하이퍼파라미터**\n",
        "\n",
        "- **`base_estimator`**:\n",
        "  - **설명**: AdaBoost에서 사용할 기본 약한 학습자를 지정합니다. 기본값은 `DecisionTreeClassifier(max_depth=1)`\n",
        "  - **역할**: AdaBoost 알고리즘에서 반복적으로 학습시키는 모델을 정의. 예를 들어, 결정 트리, 로지스틱 회귀 등을 사용할 수 있음\n",
        "  \n",
        "- **`n_estimators`**:\n",
        "  - **설명**: 사용할 약한 학습자의 수를 지정. 기본값은 50\n",
        "  - **역할**: 더 많은 학습자를 사용할수록 모델이 더욱 복잡해지고 성능이 향상될 수 있지만, 과적합(overfitting) 위험이 증가\n",
        "\n",
        "- **`learning_rate`**:\n",
        "  - **설명**: 각 약한 학습자의 기여도를 조정하는 학습률을 지정. 기본값은 1.0\n",
        "  - **역할**: 학습률이 높으면 각 학습자의 가중치가 크게 적용되며, 낮으면 가중치가 작게 적용 이는 학습 과정의 속도와 정확도에 영향을 미침.\n",
        "\n",
        "- **`algorithm`**:\n",
        "  - **설명**: 사용할 AdaBoost 알고리즘을 지정. `\"SAMME\"` 또는 `\"SAMME.R\"` 중 선택할 수 있으며, 기본값은 `\"SAMME.R\"`\n",
        "  - **역할**:\n",
        "    - `\"SAMME\"`: 확률 추정값을 사용하지 않는 버전.\n",
        "    - `\"SAMME.R\"`: 확률 추정값을 사용하여 더 나은 성능을 보이는 버전.\n",
        "\n",
        "- **`random_state`**:\n",
        "  - **설명**: 난수 생성기의 시드를 지정하여 실행할 때마다 동일한 결과를 얻을 수 있도록 함. 기본값은 `None`\n",
        "  - **역할**: 모델의 재현성을 위해 사용됩니다."
      ]
    },
    {
      "cell_type": "code",
      "execution_count": null,
      "id": "70a32282",
      "metadata": {
        "id": "70a32282"
      },
      "outputs": [],
      "source": [
        "##구조화 Adaboost를 만들기 위한 구조화\n",
        "\n",
        "## 가중치\n",
        "## 약한 학습기\n",
        "## 오차율\n",
        "## 학습기의 가중치 계산\n",
        "## 각 샘플의 가중치 업데이트\n",
        "## 예측 (1, -1 변화)\n",
        "## 분류를 해서 나눠야 한다 스텀프의 대한 내용 추가\n",
        "\n",
        "import numpy as np\n",
        "\n",
        "## 결정 스텀프에 대한 클래스가 필요함\n",
        "\n",
        "class DecisionStump:\n",
        "    def __init__(self):\n",
        "        ## 초기값들을 설정해야 함\n",
        "        ##방향에 대한 변수 1, -1, 데이터를 분류할 특성과 임계값, AdaBoost의 약한 학습자의 가중치\n",
        "        self.polarity = 1 # 분류방향설정\n",
        "        self.feature_index = None\n",
        "        self.threshold = None\n",
        "        self.alpha= None\n",
        "\n",
        "    ## 실제 Decision Tree를 통해 예측 진행\n",
        "\n",
        "    def predict(self, X):\n",
        "        ## 예측함수를 만들어서 입력된 데이터 X에 대해 주어진 임계값과 특성을 기준으로 예측값 반환\n",
        "        n_samples= X.shape[0] #샘플의 수\n",
        "        X_column =X[:, self.feature_index] # 선택된 특성 값들만 추출\n",
        "        predictions = np.ones(n_samples) # 샘플에 대한 예측값 일단 만들어 두기!\n",
        "\n",
        "        # polarity가 1인 경우 -> 임계값보다 작은 경우 -1로 분류\n",
        "        if self.polarity ==1:\n",
        "            predictions[X_column < self.threshold] = -1\n",
        "\n",
        "        # polarity가 -1인 경우 -> 임계값보다 큰 경우 1로 분류\n",
        "        else:\n",
        "            predictions[X_column > self.threshold] = 1\n",
        "\n",
        "        return predictions\n",
        "\n",
        "## AdaBoost 클래스 만들기\n",
        "class AdaBoost:\n",
        "    def __init__(self, n_clf=5):\n",
        "        self.n_clf = n_clf #사용할 약한 학습자의 수\n",
        "\n",
        "    #fit 학습이 필요함\n",
        "    def fit(self, X,y):\n",
        "        n_samples, n_features =X.shape #샘플의 수, 특성의 수 가져오기 (행열)\n",
        "\n",
        "        #가중치 업데이트!!\n",
        "        w = np.full(n_samples, (1/n_samples)) # 모든 가중치를 동일하게 1/n으로 설정\n",
        "\n",
        "        #약한 학습기(결정 스텀프)저장을 진행\n",
        "        self.clfs= []\n",
        "\n",
        "        #약한 학습기를 반복하면서 학습을 해야 한다. n_clf만큼 진행 반복\n",
        "\n",
        "        for _ in range(self.n_clf):\n",
        "            #스텀프가 필요\n",
        "            clf = DecisionStump()\n",
        "            min_error = float('inf') #최소 오차들 무한대로 초기화\n",
        "\n",
        "            # 각 임계값들에 대해 DecisionStump 학습하고 오차를 계산\n",
        "            # 각 특성에 대해 최적읠 결정 스텀프를 찾기 위해 진행\n",
        "\n",
        "            for feature_i in range(n_features):\n",
        "                X_column = X[:, feature_i] #특성값들만 추출\n",
        "                thresholds =np.unique(X_column) #유일한 임계값 후보들 서치\n",
        "\n",
        "                #각 임계값에 대해서 서텀프로 학습하고 ->오차를 계산\n",
        "                for threshold in thresholds:\n",
        "                    #초기 분류 설정\n",
        "                    p = 1\n",
        "                    predictions = np.ones(n_samples)\n",
        "                    #임계값보다 작은 경우는 -1로 분류\n",
        "                    predictions[X_column < threshold] = -1\n",
        "\n",
        "                    #잘못된 예측에 대한 샘플의 가중치 합을 만들어야 한다.\n",
        "                    error = sum(w[y !=predictions])\n",
        "\n",
        "                    # 만약 오차가 0.5보다 크면 반대로 설정\n",
        "                    if error >0.5:\n",
        "                        error = 1- error\n",
        "                        p= -1\n",
        "\n",
        "                    # 최소 오차를 다시 갱신, 결정 스텀프 파라미터 설정\n",
        "                    if error < min_error:\n",
        "                        clf.polarity = p # 분류방향설정\n",
        "                        clf.feature_index = feature_i\n",
        "                        clf.threshold = threshold\n",
        "                        min_error = error\n",
        "\n",
        "                #가중치 계산 alpha계산\n",
        "                EPS = 1e-10\n",
        "                clf.alpha = 0.5 * np.log((1.0 - min_error)/ (min_error +EPS))\n",
        "\n",
        "                # 학습된 스텀프에 대해 샘플의 가중치를 업데이트\n",
        "                predictions =clf.predict(X) #현재 스텀프의 예측값 계산\n",
        "                w *= np.exp(-clf.alpha*y*predictions) #가중치 업데이트\n",
        "                w /= np.sum(w) #가중치의 정규화하여 합이 다시 1이 되도록\n",
        "\n",
        "                #학습된 스텀프를 리스트에 저장\n",
        "                self.clfs.append(clf)\n",
        "\n",
        "    def predict(self, X):\n",
        "        #약한 학습기의 예측값에 가중치를 곱해서 더함\n",
        "        clf_preds =[clf.alpha * clf.predict(X) for clf in self.clfs]\n",
        "        y_pred = np.sum(clf_preds, axis =0)\n",
        "        y_pred = np.sign(y_pred) #예측값에 대해서 -1 또는 1로 변환\n",
        "\n",
        "        return y_pred"
      ]
    },
    {
      "cell_type": "code",
      "execution_count": null,
      "id": "dc3fca95",
      "metadata": {
        "id": "dc3fca95"
      },
      "outputs": [],
      "source": [
        "# 예시 데이터 생성\n",
        "\n",
        "X = np.array([[1,2], [2,3], [3,4],[4,5],[5,6]])\n",
        "y = np.array([1,1,-1,1,-1])\n",
        "\n",
        "# AdaBoost 학습\n",
        "clf =AdaBoost(n_clf=5)\n",
        "\n",
        "#fit\n",
        "clf.fit(X,y)\n",
        "\n",
        "#예측 수행\n",
        "y_pred =clf.predict(X)"
      ]
    },
    {
      "cell_type": "code",
      "execution_count": null,
      "id": "6edc1cc0",
      "metadata": {
        "id": "6edc1cc0",
        "outputId": "d04e12d4-e163-4b0e-e86c-b2d95abf2c16"
      },
      "outputs": [
        {
          "name": "stdout",
          "output_type": "stream",
          "text": [
            "[1. 1. 1. 1. 1.]\n"
          ]
        }
      ],
      "source": [
        "print(y_pred)"
      ]
    },
    {
      "cell_type": "markdown",
      "id": "30ce2cae",
      "metadata": {
        "id": "30ce2cae"
      },
      "source": [
        "### 패키지 사용해 보자!"
      ]
    },
    {
      "cell_type": "code",
      "execution_count": null,
      "id": "00eb06b3",
      "metadata": {
        "id": "00eb06b3"
      },
      "outputs": [],
      "source": [
        "import seaborn as sns\n",
        "from sklearn.model_selection import train_test_split\n",
        "from sklearn.preprocessing import LabelEncoder\n",
        "from sklearn.metrics import accuracy_score\n",
        "from sklearn.ensemble import AdaBoostClassifier\n",
        "from sklearn.tree import DecisionTreeClassifier"
      ]
    },
    {
      "cell_type": "code",
      "execution_count": null,
      "id": "4ff95ebe",
      "metadata": {
        "id": "4ff95ebe"
      },
      "outputs": [],
      "source": [
        "data =sns.load_dataset('titanic')"
      ]
    },
    {
      "cell_type": "code",
      "execution_count": null,
      "id": "a8021d00",
      "metadata": {
        "id": "a8021d00"
      },
      "outputs": [],
      "source": [
        "data=data[['pclass','age','sibsp','parch','survived']]\n",
        "data=data.dropna()"
      ]
    },
    {
      "cell_type": "code",
      "execution_count": null,
      "id": "64364ae5",
      "metadata": {
        "id": "64364ae5"
      },
      "outputs": [],
      "source": [
        "X= data.drop('survived',axis=1)\n",
        "y = data['survived']"
      ]
    },
    {
      "cell_type": "code",
      "execution_count": null,
      "id": "b9571887",
      "metadata": {
        "id": "b9571887",
        "outputId": "bf773717-180e-49d5-b28d-b8828ecd10e0"
      },
      "outputs": [
        {
          "name": "stdout",
          "output_type": "stream",
          "text": [
            "accuracy: 0.6923076923076923\n"
          ]
        },
        {
          "name": "stderr",
          "output_type": "stream",
          "text": [
            "/opt/anaconda3/envs/bda/lib/python3.8/site-packages/sklearn/ensemble/_base.py:166: FutureWarning: `base_estimator` was renamed to `estimator` in version 1.2 and will be removed in 1.4.\n",
            "  warnings.warn(\n"
          ]
        }
      ],
      "source": [
        "#데이터 분리\n",
        "X_train, X_test, y_train,y_test=train_test_split(X, y ,test_size=0.2, random_state=111)\n",
        "\n",
        "#Ada 부르기!\n",
        "base_estimator =DecisionTreeClassifier(max_depth=1) #결정 스텀프 하나 사용!\n",
        "\n",
        "model=AdaBoostClassifier(base_estimator = base_estimator, n_estimators = 100, learning_rate=1.0, random_state=111)\n",
        "model.fit(X_train, y_train)\n",
        "\n",
        "#예측값  출력\n",
        "y_pred =model.predict(X_test)\n",
        "accuracy =accuracy_score(y_test, y_pred)\n",
        "print('accuracy:',accuracy)"
      ]
    },
    {
      "cell_type": "code",
      "execution_count": null,
      "id": "f30c177f",
      "metadata": {
        "scrolled": true,
        "id": "f30c177f",
        "outputId": "d2876205-9a58-4f04-f4eb-4740f4098ca6"
      },
      "outputs": [
        {
          "data": {
            "text/html": [
              "<style>#sk-container-id-2 {color: black;background-color: white;}#sk-container-id-2 pre{padding: 0;}#sk-container-id-2 div.sk-toggleable {background-color: white;}#sk-container-id-2 label.sk-toggleable__label {cursor: pointer;display: block;width: 100%;margin-bottom: 0;padding: 0.3em;box-sizing: border-box;text-align: center;}#sk-container-id-2 label.sk-toggleable__label-arrow:before {content: \"▸\";float: left;margin-right: 0.25em;color: #696969;}#sk-container-id-2 label.sk-toggleable__label-arrow:hover:before {color: black;}#sk-container-id-2 div.sk-estimator:hover label.sk-toggleable__label-arrow:before {color: black;}#sk-container-id-2 div.sk-toggleable__content {max-height: 0;max-width: 0;overflow: hidden;text-align: left;background-color: #f0f8ff;}#sk-container-id-2 div.sk-toggleable__content pre {margin: 0.2em;color: black;border-radius: 0.25em;background-color: #f0f8ff;}#sk-container-id-2 input.sk-toggleable__control:checked~div.sk-toggleable__content {max-height: 200px;max-width: 100%;overflow: auto;}#sk-container-id-2 input.sk-toggleable__control:checked~label.sk-toggleable__label-arrow:before {content: \"▾\";}#sk-container-id-2 div.sk-estimator input.sk-toggleable__control:checked~label.sk-toggleable__label {background-color: #d4ebff;}#sk-container-id-2 div.sk-label input.sk-toggleable__control:checked~label.sk-toggleable__label {background-color: #d4ebff;}#sk-container-id-2 input.sk-hidden--visually {border: 0;clip: rect(1px 1px 1px 1px);clip: rect(1px, 1px, 1px, 1px);height: 1px;margin: -1px;overflow: hidden;padding: 0;position: absolute;width: 1px;}#sk-container-id-2 div.sk-estimator {font-family: monospace;background-color: #f0f8ff;border: 1px dotted black;border-radius: 0.25em;box-sizing: border-box;margin-bottom: 0.5em;}#sk-container-id-2 div.sk-estimator:hover {background-color: #d4ebff;}#sk-container-id-2 div.sk-parallel-item::after {content: \"\";width: 100%;border-bottom: 1px solid gray;flex-grow: 1;}#sk-container-id-2 div.sk-label:hover label.sk-toggleable__label {background-color: #d4ebff;}#sk-container-id-2 div.sk-serial::before {content: \"\";position: absolute;border-left: 1px solid gray;box-sizing: border-box;top: 0;bottom: 0;left: 50%;z-index: 0;}#sk-container-id-2 div.sk-serial {display: flex;flex-direction: column;align-items: center;background-color: white;padding-right: 0.2em;padding-left: 0.2em;position: relative;}#sk-container-id-2 div.sk-item {position: relative;z-index: 1;}#sk-container-id-2 div.sk-parallel {display: flex;align-items: stretch;justify-content: center;background-color: white;position: relative;}#sk-container-id-2 div.sk-item::before, #sk-container-id-2 div.sk-parallel-item::before {content: \"\";position: absolute;border-left: 1px solid gray;box-sizing: border-box;top: 0;bottom: 0;left: 50%;z-index: -1;}#sk-container-id-2 div.sk-parallel-item {display: flex;flex-direction: column;z-index: 1;position: relative;background-color: white;}#sk-container-id-2 div.sk-parallel-item:first-child::after {align-self: flex-end;width: 50%;}#sk-container-id-2 div.sk-parallel-item:last-child::after {align-self: flex-start;width: 50%;}#sk-container-id-2 div.sk-parallel-item:only-child::after {width: 0;}#sk-container-id-2 div.sk-dashed-wrapped {border: 1px dashed gray;margin: 0 0.4em 0.5em 0.4em;box-sizing: border-box;padding-bottom: 0.4em;background-color: white;}#sk-container-id-2 div.sk-label label {font-family: monospace;font-weight: bold;display: inline-block;line-height: 1.2em;}#sk-container-id-2 div.sk-label-container {text-align: center;}#sk-container-id-2 div.sk-container {/* jupyter's `normalize.less` sets `[hidden] { display: none; }` but bootstrap.min.css set `[hidden] { display: none !important; }` so we also need the `!important` here to be able to override the default hidden behavior on the sphinx rendered scikit-learn.org. See: https://github.com/scikit-learn/scikit-learn/issues/21755 */display: inline-block !important;position: relative;}#sk-container-id-2 div.sk-text-repr-fallback {display: none;}</style><div id=\"sk-container-id-2\" class=\"sk-top-container\"><div class=\"sk-text-repr-fallback\"><pre>AdaBoostClassifier(base_estimator=DecisionTreeClassifier(max_depth=1),\n",
              "                   n_estimators=100, random_state=111)</pre><b>In a Jupyter environment, please rerun this cell to show the HTML representation or trust the notebook. <br />On GitHub, the HTML representation is unable to render, please try loading this page with nbviewer.org.</b></div><div class=\"sk-container\" hidden><div class=\"sk-item sk-dashed-wrapped\"><div class=\"sk-label-container\"><div class=\"sk-label sk-toggleable\"><input class=\"sk-toggleable__control sk-hidden--visually\" id=\"sk-estimator-id-2\" type=\"checkbox\" ><label for=\"sk-estimator-id-2\" class=\"sk-toggleable__label sk-toggleable__label-arrow\">AdaBoostClassifier</label><div class=\"sk-toggleable__content\"><pre>AdaBoostClassifier(base_estimator=DecisionTreeClassifier(max_depth=1),\n",
              "                   n_estimators=100, random_state=111)</pre></div></div></div><div class=\"sk-parallel\"><div class=\"sk-parallel-item\"><div class=\"sk-item\"><div class=\"sk-label-container\"><div class=\"sk-label sk-toggleable\"><input class=\"sk-toggleable__control sk-hidden--visually\" id=\"sk-estimator-id-3\" type=\"checkbox\" ><label for=\"sk-estimator-id-3\" class=\"sk-toggleable__label sk-toggleable__label-arrow\">base_estimator: DecisionTreeClassifier</label><div class=\"sk-toggleable__content\"><pre>DecisionTreeClassifier(max_depth=1)</pre></div></div></div><div class=\"sk-serial\"><div class=\"sk-item\"><div class=\"sk-estimator sk-toggleable\"><input class=\"sk-toggleable__control sk-hidden--visually\" id=\"sk-estimator-id-4\" type=\"checkbox\" ><label for=\"sk-estimator-id-4\" class=\"sk-toggleable__label sk-toggleable__label-arrow\">DecisionTreeClassifier</label><div class=\"sk-toggleable__content\"><pre>DecisionTreeClassifier(max_depth=1)</pre></div></div></div></div></div></div></div></div></div></div>"
            ],
            "text/plain": [
              "AdaBoostClassifier(base_estimator=DecisionTreeClassifier(max_depth=1),\n",
              "                   n_estimators=100, random_state=111)"
            ]
          },
          "execution_count": 37,
          "metadata": {},
          "output_type": "execute_result"
        }
      ],
      "source": [
        "model"
      ]
    },
    {
      "cell_type": "markdown",
      "id": "b9dfeb0b",
      "metadata": {
        "id": "b9dfeb0b"
      },
      "source": [
        "- Decision, Randomforest, logisticRegression, AdaBoost\n",
        "\n",
        "    - 어떤 식으로 모델이 작동하는지? -> 어떤 녀석이 더 성능이 좋을지?, 왜 이 녀석이 성능이 더 좋은지?\n",
        "    - 어떤 데이터에 좀 더 성능 자체에 좋아지는지?\n",
        "\n",
        "    - 복습하면서 이 부분이 차이를 한 번 정리해 보고, 모델을 비교해서 학습하면서 확인하면 더 좋은 학습방법이 되지 않을까?"
      ]
    }
  ],
  "metadata": {
    "kernelspec": {
      "display_name": "Python 3 (ipykernel)",
      "language": "python",
      "name": "python3"
    },
    "language_info": {
      "codemirror_mode": {
        "name": "ipython",
        "version": 3
      },
      "file_extension": ".py",
      "mimetype": "text/x-python",
      "name": "python",
      "nbconvert_exporter": "python",
      "pygments_lexer": "ipython3",
      "version": "3.8.16"
    },
    "colab": {
      "provenance": []
    }
  },
  "nbformat": 4,
  "nbformat_minor": 5
}