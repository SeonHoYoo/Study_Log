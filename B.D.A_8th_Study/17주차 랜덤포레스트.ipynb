{
  "cells": [
    {
      "cell_type": "markdown",
      "id": "b5b7f63c",
      "metadata": {
        "id": "b5b7f63c"
      },
      "source": [
        "## Randomforest 하이퍼파라미터 정리\n",
        "1. **n_estimators**:\n",
        "   - 결정 트리의 개수를 의미합니다.\n",
        "   - 기본값은 100입니다.\n",
        "   - 트리의 수를 늘릴수록 모델의 성능은 일반적으로 향상되지만, 계산 비용도 증가합니다.\n",
        "\n",
        "2. **criterion**:\n",
        "   - 분할의 품질을 측정하는 기능입니다.\n",
        "   - 분류에 사용되는 기준은 \"gini\" (지니 불순도) 또는 \"entropy\" (정보 이득)이 될 수 있습니다.\n",
        "   - 기본값은 \"gini\"입니다.\n",
        "\n",
        "3. **max_depth**:\n",
        "   - 트리의 최대 깊이입니다.\n",
        "   - 너무 깊은 트리는 과적합을 일으킬 수 있습니다.\n",
        "   - 기본값은 None으로, 모든 리프 노드가 순수하거나 min_samples_split보다 적은 수의 샘플을 가질 때까지 노드가 확장됩니다.\n",
        "\n",
        "4. **min_samples_split**:\n",
        "   - 노드를 분할하기 위해 필요한 최소 샘플 수입니다.\n",
        "   - 기본값은 2입니다.\n",
        "\n",
        "5. **min_samples_leaf**:\n",
        "   - 리프 노드가 가져야 하는 최소 샘플 수입니다.\n",
        "   - 기본값은 1입니다.\n",
        "\n",
        "6. **min_weight_fraction_leaf**:\n",
        "   - 리프 노드가 가지고 있어야 하는 샘플의 최소 가중치 합의 비율입니다.\n",
        "   - 기본값은 0입니다.\n",
        "\n",
        "7. **max_features**:\n",
        "   - 각 분할에서 고려할 특성의 수입니다.\n",
        "   - 옵션은 \"auto\", \"sqrt\", \"log2\" 또는 None 또는 정수입니다.\n",
        "   - 기본값은 \"auto\"로, 분류에서는 sqrt(n_features), 회귀에서는 n_features입니다.\n",
        "\n",
        "8. **max_leaf_nodes**:\n",
        "   - 리프 노드의 최대 수입니다.\n",
        "   - 기본값은 None으로, 리프 노드의 수에 제한이 없습니다.\n",
        "\n",
        "9. **min_impurity_decrease**:\n",
        "   - 분할로 인한 불순도 감소량의 최소값입니다.\n",
        "   - 기본값은 0입니다.\n",
        "\n",
        "10. **bootstrap**:\n",
        "    - 부트스트랩 샘플을 사용할지 여부입니다.\n",
        "    - 기본값은 True입니다.\n",
        "\n",
        "11. **oob_score**:\n",
        "    - 일반적으로 사용하지 않는 샘플을 사용하여 오류를 추정할지 여부입니다.\n",
        "    - 기본값은 False입니다.\n",
        "\n",
        "12. **n_jobs**:\n",
        "    - 핏(fit)과 예측(predict)을 위해 병렬로 실행할 작업 수입니다.\n",
        "    - 기본값은 None으로, 1개의 작업만 사용합니다. -1로 설정하면 모든 프로세서를 사용합니다.\n",
        "\n",
        "13. **random_state**:\n",
        "    - 난수 seed 설정입니다.\n",
        "    - 여러 번 실행해도 동일한 결과를 얻기 위해 사용됩니다.\n",
        "\n",
        "14. **verbose**:\n",
        "    - 실행 과정 중 메시지를 출력할지 여부를 설정합니다.\n",
        "    - 기본값은 0으로, 메시지를 출력하지 않습니다.\n",
        "\n",
        "15. **warm_start**:\n",
        "    - 이전 호출의 솔루션을 재사용하여 더 많은 추정기를 학습시킬지 여부입니다.\n",
        "    - 기본값은 False입니다.\n",
        "\n",
        "16. **class_weight**:\n",
        "    - 클래스 가중치입니다.\n",
        "    - 기본값은 None으로,"
      ]
    },
    {
      "cell_type": "markdown",
      "id": "3f4d8473",
      "metadata": {
        "id": "3f4d8473"
      },
      "source": [
        "### 1. **`VotingClassifier` 하이퍼파라미터 (분류)**\n",
        "\n",
        "```python\n",
        "from sklearn.ensemble import VotingClassifier\n",
        "```\n",
        "\n",
        "- **`estimators`**:\n",
        "  - 설명: 앙상블에 포함될 예측기(모델) 목록을 지정합니다. 이 목록은 (name, estimator) 쌍으로 구성된 리스트여야 합니다.\n",
        "  - 예: `[('decision_tree', dt), ('random_forest', rf)]`\n",
        "\n",
        "- **`voting`**:\n",
        "  - 설명: 보팅 유형을 지정합니다.\n",
        "    - `'hard'`: 다수결 투표를 사용하여 예측 결과를 결정합니다.\n",
        "    - `'soft'`: 예측 확률의 평균을 사용하여 예측 결과를 결정합니다.\n",
        "  - 기본값: `'hard'`\n",
        "  - 예: `'soft'`, `'hard'`\n",
        "\n",
        "- **`weights`**:\n",
        "  - 설명: 각 예측기에 대한 가중치를 지정합니다. 가중치는 `voting='soft'`일 때만 적용됩니다. 가중치가 높을수록 해당 모델의 예측이 더 중요한 역할을 합니다.\n",
        "  - 기본값: `None` (모든 모델에 동일한 가중치가 적용됨)\n",
        "  - 예: `[1, 2]` (첫 번째 모델에 1, 두 번째 모델에 2의 가중치를 부여)\n",
        "\n",
        "- **`n_jobs`**:\n",
        "  - 설명: 앙상블을 병렬로 학습할 때 사용할 CPU 코어 수를 지정합니다.\n",
        "  - 기본값: `None` (1개의 코어 사용)\n",
        "  - 예: `-1` (사용 가능한 모든 코어를 사용)\n",
        "\n",
        "- **`flatten_transform`**:\n",
        "  - 설명: 각 예측기의 `transform` 결과를 2D 배열로 변환할지 여부를 지정합니다. `voting='soft'`일 때만 적용됩니다.\n",
        "  - 기본값: `True`\n",
        "  - 예: `True`, `False`\n",
        "\n",
        "- **`verbose`**:\n",
        "  - 설명: 앙상블 학습 과정의 진행 상황을 출력할지 여부를 지정합니다.\n",
        "  - 기본값: `False`\n",
        "  - 예: `True`, `False`\n",
        "\n",
        "### 2. **`VotingRegressor` 하이퍼파라미터 (회귀)**\n",
        "\n",
        "```python\n",
        "from sklearn.ensemble import VotingRegressor\n",
        "```\n",
        "\n",
        "- **`estimators`**:\n",
        "  - 설명: 앙상블에 포함될 예측기(모델) 목록을 지정합니다. 이 목록은 (name, estimator) 쌍으로 구성된 리스트여야 합니다.\n",
        "  - 예: `[('linear', lr), ('rf', rf)]`\n",
        "\n",
        "- **`weights`**:\n",
        "  - 설명: 각 예측기에 대한 가중치를 지정합니다. 예측기의 예측 결과에 대한 가중 평균을 계산합니다.\n",
        "  - 기본값: `None` (모든 모델에 동일한 가중치가 적용됨)\n",
        "  - 예: `[1, 2]` (첫 번째 모델에 1, 두 번째 모델에 2의 가중치를 부여)\n",
        "\n",
        "- **`n_jobs`**:\n",
        "  - 설명: 앙상블을 병렬로 학습할 때 사용할 CPU 코어 수를 지정합니다.\n",
        "  - 기본값: `None` (1개의 코어 사용)\n",
        "  - 예: `-1` (사용 가능한 모든 코어를 사용)\n",
        "\n",
        "- **`verbose`**:\n",
        "  - 설명: 앙상블 학습 과정의 진행 상황을 출력할지 여부를 지정합니다.\n",
        "  - 기본값: `False`\n",
        "  - 예: `True`, `False`\n"
      ]
    },
    {
      "cell_type": "code",
      "execution_count": null,
      "id": "6ebe5cd7",
      "metadata": {
        "id": "6ebe5cd7"
      },
      "outputs": [],
      "source": [
        "import numpy as np\n",
        "import pandas as pd\n",
        "import seaborn as sns\n",
        "from sklearn.model_selection import train_test_split\n",
        "from sklearn.ensemble import RandomForestClassifier\n",
        "from sklearn.metrics import accuracy_score, classification_report, confusion_matrix\n",
        "from sklearn.model_selection import train_test_split, cross_val_score\n",
        "from sklearn.tree import DecisionTreeClassifier\n",
        "from sklearn.metrics import accuracy_score, classification_report, confusion_matrix\n",
        "from sklearn.pipeline import Pipeline\n",
        "from sklearn.preprocessing import StandardScaler, OneHotEncoder, PowerTransformer\n",
        "from sklearn.compose import ColumnTransformer\n",
        "from sklearn.impute import SimpleImputer\n",
        "from sklearn.feature_selection import RFECV, VarianceThreshold\n",
        "import matplotlib.pyplot as plt\n",
        "from bayes_opt import BayesianOptimization\n",
        "from sklearn.ensemble import VotingClassifier\n",
        "from sklearn.model_selection import train_test_split\n",
        "from sklearn.metrics import accuracy_score, classification_report, confusion_matrix\n",
        "\n",
        "# 타이타닉 데이터셋 로드\n",
        "titanic = sns.load_dataset('titanic')\n",
        "\n",
        "# 결측값 처리 (예: Age, Embarked의 결측값을 평균 또는 최빈값으로 대체)\n",
        "if 'embarked' in titanic.columns:\n",
        "    titanic['age'].fillna(titanic['age'].mean(), inplace=True)\n",
        "    titanic['embarked'].fillna(titanic['embarked'].mode()[0], inplace=True)\n",
        "    titanic['embark_town'].fillna(titanic['embark_town'].mode()[0], inplace=True)\n",
        "    titanic['fare'].fillna(titanic['fare'].mean(), inplace=True)\n",
        "else:\n",
        "    print(\"The 'embarked' column is not found in the dataset.\")\n",
        "\n",
        "# 범주형 변수 인코딩\n",
        "titanic = pd.get_dummies(titanic, columns=['sex', 'embarked', 'class', 'who', 'embark_town', 'deck', 'alone'], drop_first=True)\n",
        "\n",
        "# 불필요한 열 제거\n",
        "titanic.drop(['alive', 'adult_male', 'parch', 'sibsp'], axis=1, inplace=True)\n",
        "\n",
        "# 입력 변수(X)와 타겟 변수(y) 정의\n",
        "X = titanic.drop('survived', axis=1)\n",
        "y = titanic['survived']"
      ]
    },
    {
      "cell_type": "markdown",
      "id": "8a2c8bfb",
      "metadata": {
        "id": "8a2c8bfb"
      },
      "source": [
        "- base Rf 사용 코드"
      ]
    },
    {
      "cell_type": "code",
      "execution_count": null,
      "id": "37788f01",
      "metadata": {
        "id": "37788f01",
        "outputId": "1b07edc3-6ccf-4a72-8530-844956b5e67c"
      },
      "outputs": [
        {
          "data": {
            "text/html": [
              "<style>#sk-container-id-1 {color: black;}#sk-container-id-1 pre{padding: 0;}#sk-container-id-1 div.sk-toggleable {background-color: white;}#sk-container-id-1 label.sk-toggleable__label {cursor: pointer;display: block;width: 100%;margin-bottom: 0;padding: 0.3em;box-sizing: border-box;text-align: center;}#sk-container-id-1 label.sk-toggleable__label-arrow:before {content: \"▸\";float: left;margin-right: 0.25em;color: #696969;}#sk-container-id-1 label.sk-toggleable__label-arrow:hover:before {color: black;}#sk-container-id-1 div.sk-estimator:hover label.sk-toggleable__label-arrow:before {color: black;}#sk-container-id-1 div.sk-toggleable__content {max-height: 0;max-width: 0;overflow: hidden;text-align: left;background-color: #f0f8ff;}#sk-container-id-1 div.sk-toggleable__content pre {margin: 0.2em;color: black;border-radius: 0.25em;background-color: #f0f8ff;}#sk-container-id-1 input.sk-toggleable__control:checked~div.sk-toggleable__content {max-height: 200px;max-width: 100%;overflow: auto;}#sk-container-id-1 input.sk-toggleable__control:checked~label.sk-toggleable__label-arrow:before {content: \"▾\";}#sk-container-id-1 div.sk-estimator input.sk-toggleable__control:checked~label.sk-toggleable__label {background-color: #d4ebff;}#sk-container-id-1 div.sk-label input.sk-toggleable__control:checked~label.sk-toggleable__label {background-color: #d4ebff;}#sk-container-id-1 input.sk-hidden--visually {border: 0;clip: rect(1px 1px 1px 1px);clip: rect(1px, 1px, 1px, 1px);height: 1px;margin: -1px;overflow: hidden;padding: 0;position: absolute;width: 1px;}#sk-container-id-1 div.sk-estimator {font-family: monospace;background-color: #f0f8ff;border: 1px dotted black;border-radius: 0.25em;box-sizing: border-box;margin-bottom: 0.5em;}#sk-container-id-1 div.sk-estimator:hover {background-color: #d4ebff;}#sk-container-id-1 div.sk-parallel-item::after {content: \"\";width: 100%;border-bottom: 1px solid gray;flex-grow: 1;}#sk-container-id-1 div.sk-label:hover label.sk-toggleable__label {background-color: #d4ebff;}#sk-container-id-1 div.sk-serial::before {content: \"\";position: absolute;border-left: 1px solid gray;box-sizing: border-box;top: 0;bottom: 0;left: 50%;z-index: 0;}#sk-container-id-1 div.sk-serial {display: flex;flex-direction: column;align-items: center;background-color: white;padding-right: 0.2em;padding-left: 0.2em;position: relative;}#sk-container-id-1 div.sk-item {position: relative;z-index: 1;}#sk-container-id-1 div.sk-parallel {display: flex;align-items: stretch;justify-content: center;background-color: white;position: relative;}#sk-container-id-1 div.sk-item::before, #sk-container-id-1 div.sk-parallel-item::before {content: \"\";position: absolute;border-left: 1px solid gray;box-sizing: border-box;top: 0;bottom: 0;left: 50%;z-index: -1;}#sk-container-id-1 div.sk-parallel-item {display: flex;flex-direction: column;z-index: 1;position: relative;background-color: white;}#sk-container-id-1 div.sk-parallel-item:first-child::after {align-self: flex-end;width: 50%;}#sk-container-id-1 div.sk-parallel-item:last-child::after {align-self: flex-start;width: 50%;}#sk-container-id-1 div.sk-parallel-item:only-child::after {width: 0;}#sk-container-id-1 div.sk-dashed-wrapped {border: 1px dashed gray;margin: 0 0.4em 0.5em 0.4em;box-sizing: border-box;padding-bottom: 0.4em;background-color: white;}#sk-container-id-1 div.sk-label label {font-family: monospace;font-weight: bold;display: inline-block;line-height: 1.2em;}#sk-container-id-1 div.sk-label-container {text-align: center;}#sk-container-id-1 div.sk-container {/* jupyter's `normalize.less` sets `[hidden] { display: none; }` but bootstrap.min.css set `[hidden] { display: none !important; }` so we also need the `!important` here to be able to override the default hidden behavior on the sphinx rendered scikit-learn.org. See: https://github.com/scikit-learn/scikit-learn/issues/21755 */display: inline-block !important;position: relative;}#sk-container-id-1 div.sk-text-repr-fallback {display: none;}</style><div id=\"sk-container-id-1\" class=\"sk-top-container\"><div class=\"sk-text-repr-fallback\"><pre>RandomForestClassifier(random_state=111)</pre><b>In a Jupyter environment, please rerun this cell to show the HTML representation or trust the notebook. <br />On GitHub, the HTML representation is unable to render, please try loading this page with nbviewer.org.</b></div><div class=\"sk-container\" hidden><div class=\"sk-item\"><div class=\"sk-estimator sk-toggleable\"><input class=\"sk-toggleable__control sk-hidden--visually\" id=\"sk-estimator-id-1\" type=\"checkbox\" checked><label for=\"sk-estimator-id-1\" class=\"sk-toggleable__label sk-toggleable__label-arrow\">RandomForestClassifier</label><div class=\"sk-toggleable__content\"><pre>RandomForestClassifier(random_state=111)</pre></div></div></div></div></div>"
            ],
            "text/plain": [
              "RandomForestClassifier(random_state=111)"
            ]
          },
          "execution_count": 11,
          "metadata": {},
          "output_type": "execute_result"
        }
      ],
      "source": [
        "##train,test 나누기\n",
        "X_train, X_test, y_train, y_test = train_test_split(X,y, test_size=0.2,  random_state=111)\n",
        "\n",
        "\n",
        "# 랜덤포레스트 가지고 오기\n",
        "rf_model = RandomForestClassifier(n_estimators=100,random_state=111)\n",
        "\n",
        "# 모델학습\n",
        "rf_model.fit(X_train,y_train)"
      ]
    },
    {
      "cell_type": "code",
      "execution_count": null,
      "id": "2ece5cd4",
      "metadata": {
        "id": "2ece5cd4",
        "outputId": "a0469ca7-2a48-4124-a8e1-d23dbfc7d962"
      },
      "outputs": [
        {
          "name": "stdout",
          "output_type": "stream",
          "text": [
            "acc:0.7989\n",
            "              precision    recall  f1-score   support\n",
            "\n",
            "           0       0.82      0.87      0.84       113\n",
            "           1       0.75      0.68      0.71        66\n",
            "\n",
            "    accuracy                           0.80       179\n",
            "   macro avg       0.79      0.77      0.78       179\n",
            "weighted avg       0.80      0.80      0.80       179\n",
            "\n",
            "[[98 15]\n",
            " [21 45]]\n"
          ]
        }
      ],
      "source": [
        "## 예측\n",
        "y_pred = rf_model.predict(X_test)\n",
        "\n",
        "## 평가\n",
        "accuracy =accuracy_score(y_test, y_pred)\n",
        "print(f'acc:{accuracy:.4f}')\n",
        "\n",
        "print(classification_report(y_test, y_pred))\n",
        "\n",
        "print(confusion_matrix(y_test, y_pred))"
      ]
    },
    {
      "cell_type": "code",
      "execution_count": null,
      "id": "22d0f859",
      "metadata": {
        "id": "22d0f859",
        "outputId": "1ad2939b-21d0-4038-a260-bede674c8b5e"
      },
      "outputs": [
        {
          "name": "stdout",
          "output_type": "stream",
          "text": [
            "pclass:0.0504\n",
            "age:0.2527\n",
            "fare:0.2362\n",
            "sex_male:0.0958\n",
            "embarked_Q:0.0056\n",
            "embarked_S:0.0089\n",
            "class_Second:0.0108\n",
            "class_Third:0.0330\n",
            "who_man:0.1259\n",
            "who_woman:0.0929\n",
            "embark_town_Queenstown:0.0051\n",
            "embark_town_Southampton:0.0099\n",
            "deck_B:0.0069\n",
            "deck_C:0.0097\n",
            "deck_D:0.0115\n",
            "deck_E:0.0140\n",
            "deck_F:0.0030\n",
            "deck_G:0.0022\n",
            "alone_True:0.0256\n"
          ]
        }
      ],
      "source": [
        "## 피처의 중요도 출력\n",
        "f_im=rf_model.feature_importances_\n",
        "\n",
        "for i, feature in enumerate(X.columns):\n",
        "    print(f'{feature}:{f_im[i]:.4f}')"
      ]
    },
    {
      "cell_type": "markdown",
      "id": "690d181a",
      "metadata": {
        "id": "690d181a"
      },
      "source": [
        "## OOB score 도 확인하고, 좀 더 search를 통해 최적의 하이퍼 파라미터를 찾아보자!\n",
        "- 교차검증\n",
        "- search - BayesianOptimization\n",
        "- 기본적인 하이퍼파라미터 조정\n",
        "- OOB"
      ]
    },
    {
      "cell_type": "code",
      "execution_count": null,
      "id": "079590e7",
      "metadata": {
        "id": "079590e7",
        "outputId": "96c7ddac-688a-4943-aa9d-4a436b124b1f"
      },
      "outputs": [
        {
          "name": "stdout",
          "output_type": "stream",
          "text": [
            "|   iter    |  target   | max_depth | min_sa... | min_sa... | n_esti... |\n",
            "-------------------------------------------------------------------------\n",
            "| \u001b[0m1        \u001b[0m | \u001b[0m0.8188   \u001b[0m | \u001b[0m16.12    \u001b[0m | \u001b[0m4.212    \u001b[0m | \u001b[0m5.488    \u001b[0m | \u001b[0m330.8    \u001b[0m |\n",
            "| \u001b[0m2        \u001b[0m | \u001b[0m0.8118   \u001b[0m | \u001b[0m12.95    \u001b[0m | \u001b[0m3.834    \u001b[0m | \u001b[0m2.18     \u001b[0m | \u001b[0m226.1    \u001b[0m |\n",
            "| \u001b[0m3        \u001b[0m | \u001b[0m0.8174   \u001b[0m | \u001b[0m12.39    \u001b[0m | \u001b[0m7.415    \u001b[0m | \u001b[0m9.926    \u001b[0m | \u001b[0m171.3    \u001b[0m |\n",
            "| \u001b[95m4        \u001b[0m | \u001b[95m0.8203   \u001b[0m | \u001b[95m10.81    \u001b[0m | \u001b[95m13.72    \u001b[0m | \u001b[95m6.97     \u001b[0m | \u001b[95m182.3    \u001b[0m |\n",
            "| \u001b[0m5        \u001b[0m | \u001b[0m0.8118   \u001b[0m | \u001b[0m14.66    \u001b[0m | \u001b[0m3.249    \u001b[0m | \u001b[0m2.592    \u001b[0m | \u001b[0m370.2    \u001b[0m |\n",
            "| \u001b[0m6        \u001b[0m | \u001b[0m0.8062   \u001b[0m | \u001b[0m20.0     \u001b[0m | \u001b[0m20.0     \u001b[0m | \u001b[0m10.0     \u001b[0m | \u001b[0m190.7    \u001b[0m |\n",
            "| \u001b[0m7        \u001b[0m | \u001b[0m0.8189   \u001b[0m | \u001b[0m11.01    \u001b[0m | \u001b[0m13.78    \u001b[0m | \u001b[0m6.359    \u001b[0m | \u001b[0m180.7    \u001b[0m |\n",
            "| \u001b[95m8        \u001b[0m | \u001b[95m0.8217   \u001b[0m | \u001b[95m10.36    \u001b[0m | \u001b[95m8.13     \u001b[0m | \u001b[95m9.691    \u001b[0m | \u001b[95m184.1    \u001b[0m |\n",
            "| \u001b[0m9        \u001b[0m | \u001b[0m0.8202   \u001b[0m | \u001b[0m10.0     \u001b[0m | \u001b[0m7.814    \u001b[0m | \u001b[0m2.568    \u001b[0m | \u001b[0m187.6    \u001b[0m |\n",
            "| \u001b[0m10       \u001b[0m | \u001b[0m0.8076   \u001b[0m | \u001b[0m10.0     \u001b[0m | \u001b[0m1.0      \u001b[0m | \u001b[0m10.0     \u001b[0m | \u001b[0m191.7    \u001b[0m |\n",
            "| \u001b[0m11       \u001b[0m | \u001b[0m0.8174   \u001b[0m | \u001b[0m14.73    \u001b[0m | \u001b[0m6.518    \u001b[0m | \u001b[0m4.484    \u001b[0m | \u001b[0m181.7    \u001b[0m |\n",
            "| \u001b[0m12       \u001b[0m | \u001b[0m0.8203   \u001b[0m | \u001b[0m10.41    \u001b[0m | \u001b[0m13.3     \u001b[0m | \u001b[0m4.953    \u001b[0m | \u001b[0m189.3    \u001b[0m |\n",
            "| \u001b[0m13       \u001b[0m | \u001b[0m0.8146   \u001b[0m | \u001b[0m10.74    \u001b[0m | \u001b[0m2.067    \u001b[0m | \u001b[0m5.416    \u001b[0m | \u001b[0m320.8    \u001b[0m |\n",
            "| \u001b[0m14       \u001b[0m | \u001b[0m0.8104   \u001b[0m | \u001b[0m18.77    \u001b[0m | \u001b[0m3.493    \u001b[0m | \u001b[0m5.281    \u001b[0m | \u001b[0m341.0    \u001b[0m |\n",
            "| \u001b[0m15       \u001b[0m | \u001b[0m0.8189   \u001b[0m | \u001b[0m16.66    \u001b[0m | \u001b[0m12.18    \u001b[0m | \u001b[0m7.729    \u001b[0m | \u001b[0m326.7    \u001b[0m |\n",
            "| \u001b[0m16       \u001b[0m | \u001b[0m0.8203   \u001b[0m | \u001b[0m11.07    \u001b[0m | \u001b[0m14.16    \u001b[0m | \u001b[0m2.923    \u001b[0m | \u001b[0m333.0    \u001b[0m |\n",
            "| \u001b[0m17       \u001b[0m | \u001b[0m0.8146   \u001b[0m | \u001b[0m10.63    \u001b[0m | \u001b[0m19.63    \u001b[0m | \u001b[0m9.513    \u001b[0m | \u001b[0m331.6    \u001b[0m |\n",
            "| \u001b[0m18       \u001b[0m | \u001b[0m0.8203   \u001b[0m | \u001b[0m18.19    \u001b[0m | \u001b[0m14.26    \u001b[0m | \u001b[0m2.154    \u001b[0m | \u001b[0m331.3    \u001b[0m |\n",
            "| \u001b[0m19       \u001b[0m | \u001b[0m0.8189   \u001b[0m | \u001b[0m10.97    \u001b[0m | \u001b[0m11.4     \u001b[0m | \u001b[0m2.242    \u001b[0m | \u001b[0m326.9    \u001b[0m |\n",
            "| \u001b[0m20       \u001b[0m | \u001b[0m0.8174   \u001b[0m | \u001b[0m18.06    \u001b[0m | \u001b[0m19.86    \u001b[0m | \u001b[0m2.064    \u001b[0m | \u001b[0m323.8    \u001b[0m |\n",
            "| \u001b[0m21       \u001b[0m | \u001b[0m0.816    \u001b[0m | \u001b[0m11.22    \u001b[0m | \u001b[0m19.22    \u001b[0m | \u001b[0m2.0      \u001b[0m | \u001b[0m342.8    \u001b[0m |\n",
            "| \u001b[0m22       \u001b[0m | \u001b[0m0.8132   \u001b[0m | \u001b[0m11.66    \u001b[0m | \u001b[0m3.098    \u001b[0m | \u001b[0m9.33     \u001b[0m | \u001b[0m155.3    \u001b[0m |\n",
            "| \u001b[0m23       \u001b[0m | \u001b[0m0.8174   \u001b[0m | \u001b[0m19.09    \u001b[0m | \u001b[0m19.55    \u001b[0m | \u001b[0m4.186    \u001b[0m | \u001b[0m307.3    \u001b[0m |\n",
            "| \u001b[0m24       \u001b[0m | \u001b[0m0.8174   \u001b[0m | \u001b[0m18.94    \u001b[0m | \u001b[0m19.23    \u001b[0m | \u001b[0m8.086    \u001b[0m | \u001b[0m294.3    \u001b[0m |\n",
            "| \u001b[0m25       \u001b[0m | \u001b[0m0.8188   \u001b[0m | \u001b[0m19.7     \u001b[0m | \u001b[0m7.197    \u001b[0m | \u001b[0m2.293    \u001b[0m | \u001b[0m323.3    \u001b[0m |\n",
            "=========================================================================\n",
            "Best parameters:  {'max_depth': 10.355602803953097, 'min_samples_leaf': 8.13043203124824, 'min_samples_split': 9.690576415089538, 'n_estimators': 184.05919539312265}\n",
            "Best acuuracy:  0.8216501790589654\n",
            "acc:0.8268\n",
            "              precision    recall  f1-score   support\n",
            "\n",
            "           0       0.83      0.92      0.87       113\n",
            "           1       0.83      0.67      0.74        66\n",
            "\n",
            "    accuracy                           0.83       179\n",
            "   macro avg       0.83      0.79      0.80       179\n",
            "weighted avg       0.83      0.83      0.82       179\n",
            "\n",
            "[[104   9]\n",
            " [ 22  44]]\n"
          ]
        }
      ],
      "source": [
        "## 성능평가 함수 (추가한 내용들)\n",
        "def rf_eval(n_estimators, max_depth, min_samples_split, min_samples_leaf):\n",
        "    #랜덤포레스트르 정의\n",
        "    clf = RandomForestClassifier(\n",
        "        n_estimators = int(n_estimators),\n",
        "        max_depth = int(max_depth),\n",
        "        min_samples_split = int(min_samples_split),\n",
        "        min_samples_leaf = int(min_samples_leaf),\n",
        "        oob_score = True, ##OOB 계산\n",
        "        random_state=111\n",
        "    )\n",
        "\n",
        "    return cross_val_score(clf, X_train, y_train, scoring='accuracy',cv=3).mean()\n",
        "\n",
        "\n",
        "\n",
        "## 베이지안 최적화 설정\n",
        "optimizer =BayesianOptimization(\n",
        "    f = rf_eval,\n",
        "    pbounds={\n",
        "        'n_estimators':(100,400),\n",
        "        'max_depth':(10,20),\n",
        "        'min_samples_split':(2,10),\n",
        "        'min_samples_leaf':(1,20)\n",
        "    },\n",
        "    random_state =111\n",
        "    )\n",
        "\n",
        "## 베이지안 최적화 수행\n",
        "\n",
        "optimizer.maximize(\n",
        "    n_iter = 20, # 최적화 반복 횟수\n",
        "    init_points = 5 # 초기 랜덤 탐색 횟수\n",
        "    )\n",
        "\n",
        "## 최적의 하이퍼파라미터 성능 출력\n",
        "print('Best parameters: ', optimizer.max['params'])\n",
        "print('Best acuuracy: ', optimizer.max['target'])\n",
        "\n",
        "## 최적의 하이퍼파라미터로 랜덤포레스트를 다시 학습 (OOB 점수까지 같이 계산)\n",
        "best_params=optimizer.max['params']\n",
        "rf_best =RandomForestClassifier(\n",
        "        n_estimators = int(best_params['n_estimators']),\n",
        "        max_depth = int(best_params['max_depth']),\n",
        "        min_samples_split = int(best_params['min_samples_split']),\n",
        "        min_samples_leaf = int(best_params['min_samples_leaf']),\n",
        "        oob_score = True, ##OOB 계산\n",
        "        random_state=111\n",
        "        )\n",
        "\n",
        "# 모델학습\n",
        "rf_best.fit(X_train,y_train)\n",
        "\n",
        "## 예측\n",
        "y_pred = rf_best.predict(X_test)\n",
        "\n",
        "## 평가\n",
        "accuracy =accuracy_score(y_test, y_pred)\n",
        "print(f'acc:{accuracy:.4f}')\n",
        "\n",
        "print(classification_report(y_test, y_pred))\n",
        "\n",
        "print(confusion_matrix(y_test, y_pred))"
      ]
    },
    {
      "cell_type": "markdown",
      "id": "6a1a2c4b",
      "metadata": {
        "id": "6a1a2c4b"
      },
      "source": [
        "max_depth': 10.355602803953097, 'min_samples_leaf': 8.13043203124824, 'min_samples_split': 9.690576415089538, 'n_estimators': 184.05919539312265"
      ]
    },
    {
      "cell_type": "markdown",
      "id": "cdbfe4f4",
      "metadata": {
        "id": "cdbfe4f4"
      },
      "source": [
        "Best acuuracy:  0.8216501790589654\n"
      ]
    },
    {
      "cell_type": "code",
      "execution_count": null,
      "id": "eda09a11",
      "metadata": {
        "id": "eda09a11"
      },
      "outputs": [],
      "source": [
        "## 좀 더 시각적으로 잘 확인\n",
        "feature_importances =rf_best.feature_importances_\n",
        "sort_indices=np.argsort(feature_importances)[::-1]\n",
        "sort_feature = X.columns[sort_indices]\n",
        "sorted_imporatances =feature_importances[sort_indices]"
      ]
    },
    {
      "cell_type": "code",
      "execution_count": null,
      "id": "ccacf15b",
      "metadata": {
        "id": "ccacf15b",
        "outputId": "058bae2a-a73c-4121-d4cc-e5fe83658c9c"
      },
      "outputs": [
        {
          "data": {
            "text/plain": [
              "<BarContainer object of 19 artists>"
            ]
          },
          "execution_count": 43,
          "metadata": {},
          "output_type": "execute_result"
        },
        {
          "data": {
            "image/png": "[encoded data removed]",
            "text/plain": [
              "<Figure size 640x480 with 1 Axes>"
            ]
          },
          "metadata": {},
          "output_type": "display_data"
        }
      ],
      "source": [
        "plt.barh(sort_feature, sorted_imporatances, color='skyblue')"
      ]
    },
    {
      "cell_type": "code",
      "execution_count": null,
      "id": "15b32631",
      "metadata": {
        "id": "15b32631"
      },
      "outputs": [],
      "source": [
        "## learning_curve\n",
        "## train,test 학습에대한 곡선 그리는 것\n",
        "\n",
        "from sklearn.model_selection import learning_curve\n",
        "\n",
        "train_sizes, train_scores, test_scores = learning_curve(\n",
        "    RandomForestClassifier(n_estimators=100,random_state=111),\n",
        "    X_train, y_train, cv=3, n_jobs=-1, train_sizes = np.linspace(0.1, 1.0,5)\n",
        "    )\n",
        "\n"
      ]
    },
    {
      "cell_type": "code",
      "execution_count": null,
      "id": "5c55c94c",
      "metadata": {
        "id": "5c55c94c",
        "outputId": "da650da7-56dc-4eef-db11-bb6777d5bf8b"
      },
      "outputs": [
        {
          "data": {
            "image/png": "[encoded data removed]",
            "text/plain": [
              "<Figure size 640x480 with 1 Axes>"
            ]
          },
          "metadata": {},
          "output_type": "display_data"
        }
      ],
      "source": [
        "#학습곡선 그리기\n",
        "\n",
        "plt.plot(train_sizes, np.mean(train_scores, axis=1), label='Training Score')\n",
        "plt.plot(train_sizes, np.mean(test_scores, axis=1), label='Test(cross_val) Score')\n",
        "plt.legend()\n",
        "plt.show()"
      ]
    },
    {
      "cell_type": "code",
      "execution_count": null,
      "id": "f398e9e8",
      "metadata": {
        "id": "f398e9e8"
      },
      "outputs": [],
      "source": [
        "from sklearn.model_selection import learning_curve\n",
        "\n",
        "train_sizes, train_scores, test_scores = learning_curve(\n",
        "   RandomForestClassifier(\n",
        "        n_estimators = int(best_params['n_estimators']),\n",
        "        max_depth = int(best_params['max_depth']),\n",
        "        min_samples_split = int(best_params['min_samples_split']),\n",
        "        min_samples_leaf = int(best_params['min_samples_leaf']),\n",
        "        oob_score = True, ##OOB 계산\n",
        "        random_state=111),\n",
        "    X_train, y_train, cv=3, n_jobs=-1, train_sizes = np.linspace(0.1, 1.0,5)\n",
        "    )\n",
        "\n"
      ]
    },
    {
      "cell_type": "code",
      "execution_count": null,
      "id": "4317c91f",
      "metadata": {
        "id": "4317c91f",
        "outputId": "27138844-9bb2-4851-a2bd-69f9ab00d406"
      },
      "outputs": [
        {
          "data": {
            "image/png": "[encoded data removed]",
            "text/plain": [
              "<Figure size 640x480 with 1 Axes>"
            ]
          },
          "metadata": {},
          "output_type": "display_data"
        }
      ],
      "source": [
        "#학습곡선 그리기\n",
        "\n",
        "plt.plot(train_sizes, np.mean(train_scores, axis=1), label='Training Score')\n",
        "plt.plot(train_sizes, np.mean(test_scores, axis=1), label='Test(cross_val) Score')\n",
        "plt.legend()\n",
        "plt.show()"
      ]
    },
    {
      "cell_type": "markdown",
      "id": "e2997d4e",
      "metadata": {
        "id": "e2997d4e"
      },
      "source": [
        "## Decision_Tree 비교 진행\n",
        "- pipeline 모델성능을 비교\n",
        "- (코드로 공유하는 쪽으로)"
      ]
    },
    {
      "cell_type": "markdown",
      "id": "4f9a019e",
      "metadata": {
        "id": "4f9a019e"
      },
      "source": [
        "## Voting\n",
        "- from sklearn.ensemble import VotingClassifier"
      ]
    },
    {
      "cell_type": "code",
      "execution_count": null,
      "id": "ad0c19fe",
      "metadata": {
        "id": "ad0c19fe",
        "outputId": "43162b9c-9cbf-4c4a-87b0-6d71cbc4fa38"
      },
      "outputs": [
        {
          "data": {
            "text/html": [
              "<div>\n",
              "<style scoped>\n",
              "    .dataframe tbody tr th:only-of-type {\n",
              "        vertical-align: middle;\n",
              "    }\n",
              "\n",
              "    .dataframe tbody tr th {\n",
              "        vertical-align: top;\n",
              "    }\n",
              "\n",
              "    .dataframe thead th {\n",
              "        text-align: right;\n",
              "    }\n",
              "</style>\n",
              "<table border=\"1\" class=\"dataframe\">\n",
              "  <thead>\n",
              "    <tr style=\"text-align: right;\">\n",
              "      <th></th>\n",
              "      <th>pclass</th>\n",
              "      <th>age</th>\n",
              "      <th>fare</th>\n",
              "      <th>sex_male</th>\n",
              "      <th>embarked_Q</th>\n",
              "      <th>embarked_S</th>\n",
              "      <th>class_Second</th>\n",
              "      <th>class_Third</th>\n",
              "      <th>who_man</th>\n",
              "      <th>who_woman</th>\n",
              "      <th>embark_town_Queenstown</th>\n",
              "      <th>embark_town_Southampton</th>\n",
              "      <th>deck_B</th>\n",
              "      <th>deck_C</th>\n",
              "      <th>deck_D</th>\n",
              "      <th>deck_E</th>\n",
              "      <th>deck_F</th>\n",
              "      <th>deck_G</th>\n",
              "      <th>alone_True</th>\n",
              "    </tr>\n",
              "  </thead>\n",
              "  <tbody>\n",
              "    <tr>\n",
              "      <th>167</th>\n",
              "      <td>3</td>\n",
              "      <td>45.000000</td>\n",
              "      <td>27.9000</td>\n",
              "      <td>0</td>\n",
              "      <td>0</td>\n",
              "      <td>1</td>\n",
              "      <td>0</td>\n",
              "      <td>1</td>\n",
              "      <td>0</td>\n",
              "      <td>1</td>\n",
              "      <td>0</td>\n",
              "      <td>1</td>\n",
              "      <td>0</td>\n",
              "      <td>0</td>\n",
              "      <td>0</td>\n",
              "      <td>0</td>\n",
              "      <td>0</td>\n",
              "      <td>0</td>\n",
              "      <td>0</td>\n",
              "    </tr>\n",
              "    <tr>\n",
              "      <th>650</th>\n",
              "      <td>3</td>\n",
              "      <td>29.699118</td>\n",
              "      <td>7.8958</td>\n",
              "      <td>1</td>\n",
              "      <td>0</td>\n",
              "      <td>1</td>\n",
              "      <td>0</td>\n",
              "      <td>1</td>\n",
              "      <td>1</td>\n",
              "      <td>0</td>\n",
              "      <td>0</td>\n",
              "      <td>1</td>\n",
              "      <td>0</td>\n",
              "      <td>0</td>\n",
              "      <td>0</td>\n",
              "      <td>0</td>\n",
              "      <td>0</td>\n",
              "      <td>0</td>\n",
              "      <td>1</td>\n",
              "    </tr>\n",
              "    <tr>\n",
              "      <th>406</th>\n",
              "      <td>3</td>\n",
              "      <td>51.000000</td>\n",
              "      <td>7.7500</td>\n",
              "      <td>1</td>\n",
              "      <td>0</td>\n",
              "      <td>1</td>\n",
              "      <td>0</td>\n",
              "      <td>1</td>\n",
              "      <td>1</td>\n",
              "      <td>0</td>\n",
              "      <td>0</td>\n",
              "      <td>1</td>\n",
              "      <td>0</td>\n",
              "      <td>0</td>\n",
              "      <td>0</td>\n",
              "      <td>0</td>\n",
              "      <td>0</td>\n",
              "      <td>0</td>\n",
              "      <td>1</td>\n",
              "    </tr>\n",
              "    <tr>\n",
              "      <th>145</th>\n",
              "      <td>2</td>\n",
              "      <td>19.000000</td>\n",
              "      <td>36.7500</td>\n",
              "      <td>1</td>\n",
              "      <td>0</td>\n",
              "      <td>1</td>\n",
              "      <td>1</td>\n",
              "      <td>0</td>\n",
              "      <td>1</td>\n",
              "      <td>0</td>\n",
              "      <td>0</td>\n",
              "      <td>1</td>\n",
              "      <td>0</td>\n",
              "      <td>0</td>\n",
              "      <td>0</td>\n",
              "      <td>0</td>\n",
              "      <td>0</td>\n",
              "      <td>0</td>\n",
              "      <td>0</td>\n",
              "    </tr>\n",
              "    <tr>\n",
              "      <th>611</th>\n",
              "      <td>3</td>\n",
              "      <td>29.699118</td>\n",
              "      <td>7.0500</td>\n",
              "      <td>1</td>\n",
              "      <td>0</td>\n",
              "      <td>1</td>\n",
              "      <td>0</td>\n",
              "      <td>1</td>\n",
              "      <td>1</td>\n",
              "      <td>0</td>\n",
              "      <td>0</td>\n",
              "      <td>1</td>\n",
              "      <td>0</td>\n",
              "      <td>0</td>\n",
              "      <td>0</td>\n",
              "      <td>0</td>\n",
              "      <td>0</td>\n",
              "      <td>0</td>\n",
              "      <td>1</td>\n",
              "    </tr>\n",
              "    <tr>\n",
              "      <th>...</th>\n",
              "      <td>...</td>\n",
              "      <td>...</td>\n",
              "      <td>...</td>\n",
              "      <td>...</td>\n",
              "      <td>...</td>\n",
              "      <td>...</td>\n",
              "      <td>...</td>\n",
              "      <td>...</td>\n",
              "      <td>...</td>\n",
              "      <td>...</td>\n",
              "      <td>...</td>\n",
              "      <td>...</td>\n",
              "      <td>...</td>\n",
              "      <td>...</td>\n",
              "      <td>...</td>\n",
              "      <td>...</td>\n",
              "      <td>...</td>\n",
              "      <td>...</td>\n",
              "      <td>...</td>\n",
              "    </tr>\n",
              "    <tr>\n",
              "      <th>275</th>\n",
              "      <td>1</td>\n",
              "      <td>63.000000</td>\n",
              "      <td>77.9583</td>\n",
              "      <td>0</td>\n",
              "      <td>0</td>\n",
              "      <td>1</td>\n",
              "      <td>0</td>\n",
              "      <td>0</td>\n",
              "      <td>0</td>\n",
              "      <td>1</td>\n",
              "      <td>0</td>\n",
              "      <td>1</td>\n",
              "      <td>0</td>\n",
              "      <td>0</td>\n",
              "      <td>1</td>\n",
              "      <td>0</td>\n",
              "      <td>0</td>\n",
              "      <td>0</td>\n",
              "      <td>0</td>\n",
              "    </tr>\n",
              "    <tr>\n",
              "      <th>86</th>\n",
              "      <td>3</td>\n",
              "      <td>16.000000</td>\n",
              "      <td>34.3750</td>\n",
              "      <td>1</td>\n",
              "      <td>0</td>\n",
              "      <td>1</td>\n",
              "      <td>0</td>\n",
              "      <td>1</td>\n",
              "      <td>1</td>\n",
              "      <td>0</td>\n",
              "      <td>0</td>\n",
              "      <td>1</td>\n",
              "      <td>0</td>\n",
              "      <td>0</td>\n",
              "      <td>0</td>\n",
              "      <td>0</td>\n",
              "      <td>0</td>\n",
              "      <td>0</td>\n",
              "      <td>0</td>\n",
              "    </tr>\n",
              "    <tr>\n",
              "      <th>724</th>\n",
              "      <td>1</td>\n",
              "      <td>27.000000</td>\n",
              "      <td>53.1000</td>\n",
              "      <td>1</td>\n",
              "      <td>0</td>\n",
              "      <td>1</td>\n",
              "      <td>0</td>\n",
              "      <td>0</td>\n",
              "      <td>1</td>\n",
              "      <td>0</td>\n",
              "      <td>0</td>\n",
              "      <td>1</td>\n",
              "      <td>0</td>\n",
              "      <td>0</td>\n",
              "      <td>0</td>\n",
              "      <td>1</td>\n",
              "      <td>0</td>\n",
              "      <td>0</td>\n",
              "      <td>0</td>\n",
              "    </tr>\n",
              "    <tr>\n",
              "      <th>876</th>\n",
              "      <td>3</td>\n",
              "      <td>20.000000</td>\n",
              "      <td>9.8458</td>\n",
              "      <td>1</td>\n",
              "      <td>0</td>\n",
              "      <td>1</td>\n",
              "      <td>0</td>\n",
              "      <td>1</td>\n",
              "      <td>1</td>\n",
              "      <td>0</td>\n",
              "      <td>0</td>\n",
              "      <td>1</td>\n",
              "      <td>0</td>\n",
              "      <td>0</td>\n",
              "      <td>0</td>\n",
              "      <td>0</td>\n",
              "      <td>0</td>\n",
              "      <td>0</td>\n",
              "      <td>1</td>\n",
              "    </tr>\n",
              "    <tr>\n",
              "      <th>852</th>\n",
              "      <td>3</td>\n",
              "      <td>9.000000</td>\n",
              "      <td>15.2458</td>\n",
              "      <td>0</td>\n",
              "      <td>0</td>\n",
              "      <td>0</td>\n",
              "      <td>0</td>\n",
              "      <td>1</td>\n",
              "      <td>0</td>\n",
              "      <td>0</td>\n",
              "      <td>0</td>\n",
              "      <td>0</td>\n",
              "      <td>0</td>\n",
              "      <td>0</td>\n",
              "      <td>0</td>\n",
              "      <td>0</td>\n",
              "      <td>0</td>\n",
              "      <td>0</td>\n",
              "      <td>0</td>\n",
              "    </tr>\n",
              "  </tbody>\n",
              "</table>\n",
              "<p>712 rows × 19 columns</p>\n",
              "</div>"
            ],
            "text/plain": [
              "     pclass        age     fare  sex_male  embarked_Q  embarked_S  \\\n",
              "167       3  45.000000  27.9000         0           0           1   \n",
              "650       3  29.699118   7.8958         1           0           1   \n",
              "406       3  51.000000   7.7500         1           0           1   \n",
              "145       2  19.000000  36.7500         1           0           1   \n",
              "611       3  29.699118   7.0500         1           0           1   \n",
              "..      ...        ...      ...       ...         ...         ...   \n",
              "275       1  63.000000  77.9583         0           0           1   \n",
              "86        3  16.000000  34.3750         1           0           1   \n",
              "724       1  27.000000  53.1000         1           0           1   \n",
              "876       3  20.000000   9.8458         1           0           1   \n",
              "852       3   9.000000  15.2458         0           0           0   \n",
              "\n",
              "     class_Second  class_Third  who_man  who_woman  embark_town_Queenstown  \\\n",
              "167             0            1        0          1                       0   \n",
              "650             0            1        1          0                       0   \n",
              "406             0            1        1          0                       0   \n",
              "145             1            0        1          0                       0   \n",
              "611             0            1        1          0                       0   \n",
              "..            ...          ...      ...        ...                     ...   \n",
              "275             0            0        0          1                       0   \n",
              "86              0            1        1          0                       0   \n",
              "724             0            0        1          0                       0   \n",
              "876             0            1        1          0                       0   \n",
              "852             0            1        0          0                       0   \n",
              "\n",
              "     embark_town_Southampton  deck_B  deck_C  deck_D  deck_E  deck_F  deck_G  \\\n",
              "167                        1       0       0       0       0       0       0   \n",
              "650                        1       0       0       0       0       0       0   \n",
              "406                        1       0       0       0       0       0       0   \n",
              "145                        1       0       0       0       0       0       0   \n",
              "611                        1       0       0       0       0       0       0   \n",
              "..                       ...     ...     ...     ...     ...     ...     ...   \n",
              "275                        1       0       0       1       0       0       0   \n",
              "86                         1       0       0       0       0       0       0   \n",
              "724                        1       0       0       0       1       0       0   \n",
              "876                        1       0       0       0       0       0       0   \n",
              "852                        0       0       0       0       0       0       0   \n",
              "\n",
              "     alone_True  \n",
              "167           0  \n",
              "650           1  \n",
              "406           1  \n",
              "145           0  \n",
              "611           1  \n",
              "..          ...  \n",
              "275           0  \n",
              "86            0  \n",
              "724           0  \n",
              "876           1  \n",
              "852           0  \n",
              "\n",
              "[712 rows x 19 columns]"
            ]
          },
          "execution_count": 53,
          "metadata": {},
          "output_type": "execute_result"
        }
      ],
      "source": [
        "## 데이터 분할은 위에 코드를 그대로 사용한다\n",
        "X_train"
      ]
    },
    {
      "cell_type": "markdown",
      "id": "5358b74c",
      "metadata": {
        "id": "5358b74c"
      },
      "source": [
        "- 두 개의 모델을 사용해서 voting\n",
        "    - RandomForestClassifier\n",
        "    - DecisionTreeClassifier\n",
        "    - voting에 사용할 2개 모델\n",
        "    - 여러분은 나중에 원하시면 여러 개 사용하면 된다.\n",
        "    - 방법만 알면 사용하는 건 하나도 어렵지 않다."
      ]
    },
    {
      "cell_type": "code",
      "execution_count": null,
      "id": "d81569e1",
      "metadata": {
        "id": "d81569e1"
      },
      "outputs": [],
      "source": [
        "## 모델 2개를 불러오자\n",
        "dt = DecisionTreeClassifier(random_state=111)\n",
        "rf = RandomForestClassifier(n_estimators=100,random_state=111)\n"
      ]
    },
    {
      "cell_type": "code",
      "execution_count": null,
      "id": "59f3ed46",
      "metadata": {
        "id": "59f3ed46",
        "outputId": "b4465601-becf-49ec-dc23-219a21382b1f"
      },
      "outputs": [
        {
          "data": {
            "text/html": [
              "<style>#sk-container-id-2 {color: black;}#sk-container-id-2 pre{padding: 0;}#sk-container-id-2 div.sk-toggleable {background-color: white;}#sk-container-id-2 label.sk-toggleable__label {cursor: pointer;display: block;width: 100%;margin-bottom: 0;padding: 0.3em;box-sizing: border-box;text-align: center;}#sk-container-id-2 label.sk-toggleable__label-arrow:before {content: \"▸\";float: left;margin-right: 0.25em;color: #696969;}#sk-container-id-2 label.sk-toggleable__label-arrow:hover:before {color: black;}#sk-container-id-2 div.sk-estimator:hover label.sk-toggleable__label-arrow:before {color: black;}#sk-container-id-2 div.sk-toggleable__content {max-height: 0;max-width: 0;overflow: hidden;text-align: left;background-color: #f0f8ff;}#sk-container-id-2 div.sk-toggleable__content pre {margin: 0.2em;color: black;border-radius: 0.25em;background-color: #f0f8ff;}#sk-container-id-2 input.sk-toggleable__control:checked~div.sk-toggleable__content {max-height: 200px;max-width: 100%;overflow: auto;}#sk-container-id-2 input.sk-toggleable__control:checked~label.sk-toggleable__label-arrow:before {content: \"▾\";}#sk-container-id-2 div.sk-estimator input.sk-toggleable__control:checked~label.sk-toggleable__label {background-color: #d4ebff;}#sk-container-id-2 div.sk-label input.sk-toggleable__control:checked~label.sk-toggleable__label {background-color: #d4ebff;}#sk-container-id-2 input.sk-hidden--visually {border: 0;clip: rect(1px 1px 1px 1px);clip: rect(1px, 1px, 1px, 1px);height: 1px;margin: -1px;overflow: hidden;padding: 0;position: absolute;width: 1px;}#sk-container-id-2 div.sk-estimator {font-family: monospace;background-color: #f0f8ff;border: 1px dotted black;border-radius: 0.25em;box-sizing: border-box;margin-bottom: 0.5em;}#sk-container-id-2 div.sk-estimator:hover {background-color: #d4ebff;}#sk-container-id-2 div.sk-parallel-item::after {content: \"\";width: 100%;border-bottom: 1px solid gray;flex-grow: 1;}#sk-container-id-2 div.sk-label:hover label.sk-toggleable__label {background-color: #d4ebff;}#sk-container-id-2 div.sk-serial::before {content: \"\";position: absolute;border-left: 1px solid gray;box-sizing: border-box;top: 0;bottom: 0;left: 50%;z-index: 0;}#sk-container-id-2 div.sk-serial {display: flex;flex-direction: column;align-items: center;background-color: white;padding-right: 0.2em;padding-left: 0.2em;position: relative;}#sk-container-id-2 div.sk-item {position: relative;z-index: 1;}#sk-container-id-2 div.sk-parallel {display: flex;align-items: stretch;justify-content: center;background-color: white;position: relative;}#sk-container-id-2 div.sk-item::before, #sk-container-id-2 div.sk-parallel-item::before {content: \"\";position: absolute;border-left: 1px solid gray;box-sizing: border-box;top: 0;bottom: 0;left: 50%;z-index: -1;}#sk-container-id-2 div.sk-parallel-item {display: flex;flex-direction: column;z-index: 1;position: relative;background-color: white;}#sk-container-id-2 div.sk-parallel-item:first-child::after {align-self: flex-end;width: 50%;}#sk-container-id-2 div.sk-parallel-item:last-child::after {align-self: flex-start;width: 50%;}#sk-container-id-2 div.sk-parallel-item:only-child::after {width: 0;}#sk-container-id-2 div.sk-dashed-wrapped {border: 1px dashed gray;margin: 0 0.4em 0.5em 0.4em;box-sizing: border-box;padding-bottom: 0.4em;background-color: white;}#sk-container-id-2 div.sk-label label {font-family: monospace;font-weight: bold;display: inline-block;line-height: 1.2em;}#sk-container-id-2 div.sk-label-container {text-align: center;}#sk-container-id-2 div.sk-container {/* jupyter's `normalize.less` sets `[hidden] { display: none; }` but bootstrap.min.css set `[hidden] { display: none !important; }` so we also need the `!important` here to be able to override the default hidden behavior on the sphinx rendered scikit-learn.org. See: https://github.com/scikit-learn/scikit-learn/issues/21755 */display: inline-block !important;position: relative;}#sk-container-id-2 div.sk-text-repr-fallback {display: none;}</style><div id=\"sk-container-id-2\" class=\"sk-top-container\"><div class=\"sk-text-repr-fallback\"><pre>DecisionTreeClassifier(random_state=111)</pre><b>In a Jupyter environment, please rerun this cell to show the HTML representation or trust the notebook. <br />On GitHub, the HTML representation is unable to render, please try loading this page with nbviewer.org.</b></div><div class=\"sk-container\" hidden><div class=\"sk-item\"><div class=\"sk-estimator sk-toggleable\"><input class=\"sk-toggleable__control sk-hidden--visually\" id=\"sk-estimator-id-2\" type=\"checkbox\" checked><label for=\"sk-estimator-id-2\" class=\"sk-toggleable__label sk-toggleable__label-arrow\">DecisionTreeClassifier</label><div class=\"sk-toggleable__content\"><pre>DecisionTreeClassifier(random_state=111)</pre></div></div></div></div></div>"
            ],
            "text/plain": [
              "DecisionTreeClassifier(random_state=111)"
            ]
          },
          "execution_count": 57,
          "metadata": {},
          "output_type": "execute_result"
        }
      ],
      "source": [
        "dt"
      ]
    },
    {
      "cell_type": "code",
      "execution_count": null,
      "id": "3f3a458c",
      "metadata": {
        "id": "3f3a458c",
        "outputId": "a4abf23a-f8f2-4c60-d94e-c0a46d33026b"
      },
      "outputs": [
        {
          "data": {
            "text/html": [
              "<style>#sk-container-id-3 {color: black;}#sk-container-id-3 pre{padding: 0;}#sk-container-id-3 div.sk-toggleable {background-color: white;}#sk-container-id-3 label.sk-toggleable__label {cursor: pointer;display: block;width: 100%;margin-bottom: 0;padding: 0.3em;box-sizing: border-box;text-align: center;}#sk-container-id-3 label.sk-toggleable__label-arrow:before {content: \"▸\";float: left;margin-right: 0.25em;color: #696969;}#sk-container-id-3 label.sk-toggleable__label-arrow:hover:before {color: black;}#sk-container-id-3 div.sk-estimator:hover label.sk-toggleable__label-arrow:before {color: black;}#sk-container-id-3 div.sk-toggleable__content {max-height: 0;max-width: 0;overflow: hidden;text-align: left;background-color: #f0f8ff;}#sk-container-id-3 div.sk-toggleable__content pre {margin: 0.2em;color: black;border-radius: 0.25em;background-color: #f0f8ff;}#sk-container-id-3 input.sk-toggleable__control:checked~div.sk-toggleable__content {max-height: 200px;max-width: 100%;overflow: auto;}#sk-container-id-3 input.sk-toggleable__control:checked~label.sk-toggleable__label-arrow:before {content: \"▾\";}#sk-container-id-3 div.sk-estimator input.sk-toggleable__control:checked~label.sk-toggleable__label {background-color: #d4ebff;}#sk-container-id-3 div.sk-label input.sk-toggleable__control:checked~label.sk-toggleable__label {background-color: #d4ebff;}#sk-container-id-3 input.sk-hidden--visually {border: 0;clip: rect(1px 1px 1px 1px);clip: rect(1px, 1px, 1px, 1px);height: 1px;margin: -1px;overflow: hidden;padding: 0;position: absolute;width: 1px;}#sk-container-id-3 div.sk-estimator {font-family: monospace;background-color: #f0f8ff;border: 1px dotted black;border-radius: 0.25em;box-sizing: border-box;margin-bottom: 0.5em;}#sk-container-id-3 div.sk-estimator:hover {background-color: #d4ebff;}#sk-container-id-3 div.sk-parallel-item::after {content: \"\";width: 100%;border-bottom: 1px solid gray;flex-grow: 1;}#sk-container-id-3 div.sk-label:hover label.sk-toggleable__label {background-color: #d4ebff;}#sk-container-id-3 div.sk-serial::before {content: \"\";position: absolute;border-left: 1px solid gray;box-sizing: border-box;top: 0;bottom: 0;left: 50%;z-index: 0;}#sk-container-id-3 div.sk-serial {display: flex;flex-direction: column;align-items: center;background-color: white;padding-right: 0.2em;padding-left: 0.2em;position: relative;}#sk-container-id-3 div.sk-item {position: relative;z-index: 1;}#sk-container-id-3 div.sk-parallel {display: flex;align-items: stretch;justify-content: center;background-color: white;position: relative;}#sk-container-id-3 div.sk-item::before, #sk-container-id-3 div.sk-parallel-item::before {content: \"\";position: absolute;border-left: 1px solid gray;box-sizing: border-box;top: 0;bottom: 0;left: 50%;z-index: -1;}#sk-container-id-3 div.sk-parallel-item {display: flex;flex-direction: column;z-index: 1;position: relative;background-color: white;}#sk-container-id-3 div.sk-parallel-item:first-child::after {align-self: flex-end;width: 50%;}#sk-container-id-3 div.sk-parallel-item:last-child::after {align-self: flex-start;width: 50%;}#sk-container-id-3 div.sk-parallel-item:only-child::after {width: 0;}#sk-container-id-3 div.sk-dashed-wrapped {border: 1px dashed gray;margin: 0 0.4em 0.5em 0.4em;box-sizing: border-box;padding-bottom: 0.4em;background-color: white;}#sk-container-id-3 div.sk-label label {font-family: monospace;font-weight: bold;display: inline-block;line-height: 1.2em;}#sk-container-id-3 div.sk-label-container {text-align: center;}#sk-container-id-3 div.sk-container {/* jupyter's `normalize.less` sets `[hidden] { display: none; }` but bootstrap.min.css set `[hidden] { display: none !important; }` so we also need the `!important` here to be able to override the default hidden behavior on the sphinx rendered scikit-learn.org. See: https://github.com/scikit-learn/scikit-learn/issues/21755 */display: inline-block !important;position: relative;}#sk-container-id-3 div.sk-text-repr-fallback {display: none;}</style><div id=\"sk-container-id-3\" class=\"sk-top-container\"><div class=\"sk-text-repr-fallback\"><pre>RandomForestClassifier(random_state=111)</pre><b>In a Jupyter environment, please rerun this cell to show the HTML representation or trust the notebook. <br />On GitHub, the HTML representation is unable to render, please try loading this page with nbviewer.org.</b></div><div class=\"sk-container\" hidden><div class=\"sk-item\"><div class=\"sk-estimator sk-toggleable\"><input class=\"sk-toggleable__control sk-hidden--visually\" id=\"sk-estimator-id-3\" type=\"checkbox\" checked><label for=\"sk-estimator-id-3\" class=\"sk-toggleable__label sk-toggleable__label-arrow\">RandomForestClassifier</label><div class=\"sk-toggleable__content\"><pre>RandomForestClassifier(random_state=111)</pre></div></div></div></div></div>"
            ],
            "text/plain": [
              "RandomForestClassifier(random_state=111)"
            ]
          },
          "execution_count": 58,
          "metadata": {},
          "output_type": "execute_result"
        }
      ],
      "source": [
        "rf"
      ]
    },
    {
      "cell_type": "code",
      "execution_count": null,
      "id": "ea878cb6",
      "metadata": {
        "id": "ea878cb6"
      },
      "outputs": [],
      "source": [
        "#hard voting\n",
        "hard_voting_clf =VotingClassifier(\n",
        "    estimators = [('Decision_tree', dt), ('Random_Forest',rf)],\n",
        "    voting='hard'\n",
        "    )\n",
        "\n",
        "#soft voting\n",
        "soft_voting_clf =VotingClassifier(\n",
        "    estimators = [('Decision_tree', dt), ('Random_Forest',rf)],\n",
        "    voting='soft'\n",
        "    )"
      ]
    },
    {
      "cell_type": "code",
      "execution_count": null,
      "id": "eb81bd0c",
      "metadata": {
        "id": "eb81bd0c",
        "outputId": "0ab4c490-78fe-4a88-c182-80a5c1bf826e"
      },
      "outputs": [
        {
          "data": {
            "text/html": [
              "<style>#sk-container-id-4 {color: black;}#sk-container-id-4 pre{padding: 0;}#sk-container-id-4 div.sk-toggleable {background-color: white;}#sk-container-id-4 label.sk-toggleable__label {cursor: pointer;display: block;width: 100%;margin-bottom: 0;padding: 0.3em;box-sizing: border-box;text-align: center;}#sk-container-id-4 label.sk-toggleable__label-arrow:before {content: \"▸\";float: left;margin-right: 0.25em;color: #696969;}#sk-container-id-4 label.sk-toggleable__label-arrow:hover:before {color: black;}#sk-container-id-4 div.sk-estimator:hover label.sk-toggleable__label-arrow:before {color: black;}#sk-container-id-4 div.sk-toggleable__content {max-height: 0;max-width: 0;overflow: hidden;text-align: left;background-color: #f0f8ff;}#sk-container-id-4 div.sk-toggleable__content pre {margin: 0.2em;color: black;border-radius: 0.25em;background-color: #f0f8ff;}#sk-container-id-4 input.sk-toggleable__control:checked~div.sk-toggleable__content {max-height: 200px;max-width: 100%;overflow: auto;}#sk-container-id-4 input.sk-toggleable__control:checked~label.sk-toggleable__label-arrow:before {content: \"▾\";}#sk-container-id-4 div.sk-estimator input.sk-toggleable__control:checked~label.sk-toggleable__label {background-color: #d4ebff;}#sk-container-id-4 div.sk-label input.sk-toggleable__control:checked~label.sk-toggleable__label {background-color: #d4ebff;}#sk-container-id-4 input.sk-hidden--visually {border: 0;clip: rect(1px 1px 1px 1px);clip: rect(1px, 1px, 1px, 1px);height: 1px;margin: -1px;overflow: hidden;padding: 0;position: absolute;width: 1px;}#sk-container-id-4 div.sk-estimator {font-family: monospace;background-color: #f0f8ff;border: 1px dotted black;border-radius: 0.25em;box-sizing: border-box;margin-bottom: 0.5em;}#sk-container-id-4 div.sk-estimator:hover {background-color: #d4ebff;}#sk-container-id-4 div.sk-parallel-item::after {content: \"\";width: 100%;border-bottom: 1px solid gray;flex-grow: 1;}#sk-container-id-4 div.sk-label:hover label.sk-toggleable__label {background-color: #d4ebff;}#sk-container-id-4 div.sk-serial::before {content: \"\";position: absolute;border-left: 1px solid gray;box-sizing: border-box;top: 0;bottom: 0;left: 50%;z-index: 0;}#sk-container-id-4 div.sk-serial {display: flex;flex-direction: column;align-items: center;background-color: white;padding-right: 0.2em;padding-left: 0.2em;position: relative;}#sk-container-id-4 div.sk-item {position: relative;z-index: 1;}#sk-container-id-4 div.sk-parallel {display: flex;align-items: stretch;justify-content: center;background-color: white;position: relative;}#sk-container-id-4 div.sk-item::before, #sk-container-id-4 div.sk-parallel-item::before {content: \"\";position: absolute;border-left: 1px solid gray;box-sizing: border-box;top: 0;bottom: 0;left: 50%;z-index: -1;}#sk-container-id-4 div.sk-parallel-item {display: flex;flex-direction: column;z-index: 1;position: relative;background-color: white;}#sk-container-id-4 div.sk-parallel-item:first-child::after {align-self: flex-end;width: 50%;}#sk-container-id-4 div.sk-parallel-item:last-child::after {align-self: flex-start;width: 50%;}#sk-container-id-4 div.sk-parallel-item:only-child::after {width: 0;}#sk-container-id-4 div.sk-dashed-wrapped {border: 1px dashed gray;margin: 0 0.4em 0.5em 0.4em;box-sizing: border-box;padding-bottom: 0.4em;background-color: white;}#sk-container-id-4 div.sk-label label {font-family: monospace;font-weight: bold;display: inline-block;line-height: 1.2em;}#sk-container-id-4 div.sk-label-container {text-align: center;}#sk-container-id-4 div.sk-container {/* jupyter's `normalize.less` sets `[hidden] { display: none; }` but bootstrap.min.css set `[hidden] { display: none !important; }` so we also need the `!important` here to be able to override the default hidden behavior on the sphinx rendered scikit-learn.org. See: https://github.com/scikit-learn/scikit-learn/issues/21755 */display: inline-block !important;position: relative;}#sk-container-id-4 div.sk-text-repr-fallback {display: none;}</style><div id=\"sk-container-id-4\" class=\"sk-top-container\"><div class=\"sk-text-repr-fallback\"><pre>VotingClassifier(estimators=[(&#x27;Decision_tree&#x27;,\n",
              "                              DecisionTreeClassifier(random_state=111)),\n",
              "                             (&#x27;Random_Forest&#x27;,\n",
              "                              RandomForestClassifier(random_state=111))])</pre><b>In a Jupyter environment, please rerun this cell to show the HTML representation or trust the notebook. <br />On GitHub, the HTML representation is unable to render, please try loading this page with nbviewer.org.</b></div><div class=\"sk-container\" hidden><div class=\"sk-item sk-dashed-wrapped\"><div class=\"sk-label-container\"><div class=\"sk-label sk-toggleable\"><input class=\"sk-toggleable__control sk-hidden--visually\" id=\"sk-estimator-id-4\" type=\"checkbox\" ><label for=\"sk-estimator-id-4\" class=\"sk-toggleable__label sk-toggleable__label-arrow\">VotingClassifier</label><div class=\"sk-toggleable__content\"><pre>VotingClassifier(estimators=[(&#x27;Decision_tree&#x27;,\n",
              "                              DecisionTreeClassifier(random_state=111)),\n",
              "                             (&#x27;Random_Forest&#x27;,\n",
              "                              RandomForestClassifier(random_state=111))])</pre></div></div></div><div class=\"sk-parallel\"><div class=\"sk-parallel-item\"><div class=\"sk-item\"><div class=\"sk-label-container\"><div class=\"sk-label sk-toggleable\"><label>Decision_tree</label></div></div><div class=\"sk-serial\"><div class=\"sk-item\"><div class=\"sk-estimator sk-toggleable\"><input class=\"sk-toggleable__control sk-hidden--visually\" id=\"sk-estimator-id-5\" type=\"checkbox\" ><label for=\"sk-estimator-id-5\" class=\"sk-toggleable__label sk-toggleable__label-arrow\">DecisionTreeClassifier</label><div class=\"sk-toggleable__content\"><pre>DecisionTreeClassifier(random_state=111)</pre></div></div></div></div></div></div><div class=\"sk-parallel-item\"><div class=\"sk-item\"><div class=\"sk-label-container\"><div class=\"sk-label sk-toggleable\"><label>Random_Forest</label></div></div><div class=\"sk-serial\"><div class=\"sk-item\"><div class=\"sk-estimator sk-toggleable\"><input class=\"sk-toggleable__control sk-hidden--visually\" id=\"sk-estimator-id-6\" type=\"checkbox\" ><label for=\"sk-estimator-id-6\" class=\"sk-toggleable__label sk-toggleable__label-arrow\">RandomForestClassifier</label><div class=\"sk-toggleable__content\"><pre>RandomForestClassifier(random_state=111)</pre></div></div></div></div></div></div></div></div></div></div>"
            ],
            "text/plain": [
              "VotingClassifier(estimators=[('Decision_tree',\n",
              "                              DecisionTreeClassifier(random_state=111)),\n",
              "                             ('Random_Forest',\n",
              "                              RandomForestClassifier(random_state=111))])"
            ]
          },
          "execution_count": 60,
          "metadata": {},
          "output_type": "execute_result"
        }
      ],
      "source": [
        "hard_voting_clf"
      ]
    },
    {
      "cell_type": "code",
      "execution_count": null,
      "id": "3365a020",
      "metadata": {
        "id": "3365a020",
        "outputId": "2dbe3be0-83b8-4b75-db78-e18156701398"
      },
      "outputs": [
        {
          "data": {
            "text/html": [
              "<style>#sk-container-id-5 {color: black;}#sk-container-id-5 pre{padding: 0;}#sk-container-id-5 div.sk-toggleable {background-color: white;}#sk-container-id-5 label.sk-toggleable__label {cursor: pointer;display: block;width: 100%;margin-bottom: 0;padding: 0.3em;box-sizing: border-box;text-align: center;}#sk-container-id-5 label.sk-toggleable__label-arrow:before {content: \"▸\";float: left;margin-right: 0.25em;color: #696969;}#sk-container-id-5 label.sk-toggleable__label-arrow:hover:before {color: black;}#sk-container-id-5 div.sk-estimator:hover label.sk-toggleable__label-arrow:before {color: black;}#sk-container-id-5 div.sk-toggleable__content {max-height: 0;max-width: 0;overflow: hidden;text-align: left;background-color: #f0f8ff;}#sk-container-id-5 div.sk-toggleable__content pre {margin: 0.2em;color: black;border-radius: 0.25em;background-color: #f0f8ff;}#sk-container-id-5 input.sk-toggleable__control:checked~div.sk-toggleable__content {max-height: 200px;max-width: 100%;overflow: auto;}#sk-container-id-5 input.sk-toggleable__control:checked~label.sk-toggleable__label-arrow:before {content: \"▾\";}#sk-container-id-5 div.sk-estimator input.sk-toggleable__control:checked~label.sk-toggleable__label {background-color: #d4ebff;}#sk-container-id-5 div.sk-label input.sk-toggleable__control:checked~label.sk-toggleable__label {background-color: #d4ebff;}#sk-container-id-5 input.sk-hidden--visually {border: 0;clip: rect(1px 1px 1px 1px);clip: rect(1px, 1px, 1px, 1px);height: 1px;margin: -1px;overflow: hidden;padding: 0;position: absolute;width: 1px;}#sk-container-id-5 div.sk-estimator {font-family: monospace;background-color: #f0f8ff;border: 1px dotted black;border-radius: 0.25em;box-sizing: border-box;margin-bottom: 0.5em;}#sk-container-id-5 div.sk-estimator:hover {background-color: #d4ebff;}#sk-container-id-5 div.sk-parallel-item::after {content: \"\";width: 100%;border-bottom: 1px solid gray;flex-grow: 1;}#sk-container-id-5 div.sk-label:hover label.sk-toggleable__label {background-color: #d4ebff;}#sk-container-id-5 div.sk-serial::before {content: \"\";position: absolute;border-left: 1px solid gray;box-sizing: border-box;top: 0;bottom: 0;left: 50%;z-index: 0;}#sk-container-id-5 div.sk-serial {display: flex;flex-direction: column;align-items: center;background-color: white;padding-right: 0.2em;padding-left: 0.2em;position: relative;}#sk-container-id-5 div.sk-item {position: relative;z-index: 1;}#sk-container-id-5 div.sk-parallel {display: flex;align-items: stretch;justify-content: center;background-color: white;position: relative;}#sk-container-id-5 div.sk-item::before, #sk-container-id-5 div.sk-parallel-item::before {content: \"\";position: absolute;border-left: 1px solid gray;box-sizing: border-box;top: 0;bottom: 0;left: 50%;z-index: -1;}#sk-container-id-5 div.sk-parallel-item {display: flex;flex-direction: column;z-index: 1;position: relative;background-color: white;}#sk-container-id-5 div.sk-parallel-item:first-child::after {align-self: flex-end;width: 50%;}#sk-container-id-5 div.sk-parallel-item:last-child::after {align-self: flex-start;width: 50%;}#sk-container-id-5 div.sk-parallel-item:only-child::after {width: 0;}#sk-container-id-5 div.sk-dashed-wrapped {border: 1px dashed gray;margin: 0 0.4em 0.5em 0.4em;box-sizing: border-box;padding-bottom: 0.4em;background-color: white;}#sk-container-id-5 div.sk-label label {font-family: monospace;font-weight: bold;display: inline-block;line-height: 1.2em;}#sk-container-id-5 div.sk-label-container {text-align: center;}#sk-container-id-5 div.sk-container {/* jupyter's `normalize.less` sets `[hidden] { display: none; }` but bootstrap.min.css set `[hidden] { display: none !important; }` so we also need the `!important` here to be able to override the default hidden behavior on the sphinx rendered scikit-learn.org. See: https://github.com/scikit-learn/scikit-learn/issues/21755 */display: inline-block !important;position: relative;}#sk-container-id-5 div.sk-text-repr-fallback {display: none;}</style><div id=\"sk-container-id-5\" class=\"sk-top-container\"><div class=\"sk-text-repr-fallback\"><pre>VotingClassifier(estimators=[(&#x27;Decision_tree&#x27;,\n",
              "                              DecisionTreeClassifier(random_state=111)),\n",
              "                             (&#x27;Random_Forest&#x27;,\n",
              "                              RandomForestClassifier(random_state=111))],\n",
              "                 voting=&#x27;soft&#x27;)</pre><b>In a Jupyter environment, please rerun this cell to show the HTML representation or trust the notebook. <br />On GitHub, the HTML representation is unable to render, please try loading this page with nbviewer.org.</b></div><div class=\"sk-container\" hidden><div class=\"sk-item sk-dashed-wrapped\"><div class=\"sk-label-container\"><div class=\"sk-label sk-toggleable\"><input class=\"sk-toggleable__control sk-hidden--visually\" id=\"sk-estimator-id-7\" type=\"checkbox\" ><label for=\"sk-estimator-id-7\" class=\"sk-toggleable__label sk-toggleable__label-arrow\">VotingClassifier</label><div class=\"sk-toggleable__content\"><pre>VotingClassifier(estimators=[(&#x27;Decision_tree&#x27;,\n",
              "                              DecisionTreeClassifier(random_state=111)),\n",
              "                             (&#x27;Random_Forest&#x27;,\n",
              "                              RandomForestClassifier(random_state=111))],\n",
              "                 voting=&#x27;soft&#x27;)</pre></div></div></div><div class=\"sk-parallel\"><div class=\"sk-parallel-item\"><div class=\"sk-item\"><div class=\"sk-label-container\"><div class=\"sk-label sk-toggleable\"><label>Decision_tree</label></div></div><div class=\"sk-serial\"><div class=\"sk-item\"><div class=\"sk-estimator sk-toggleable\"><input class=\"sk-toggleable__control sk-hidden--visually\" id=\"sk-estimator-id-8\" type=\"checkbox\" ><label for=\"sk-estimator-id-8\" class=\"sk-toggleable__label sk-toggleable__label-arrow\">DecisionTreeClassifier</label><div class=\"sk-toggleable__content\"><pre>DecisionTreeClassifier(random_state=111)</pre></div></div></div></div></div></div><div class=\"sk-parallel-item\"><div class=\"sk-item\"><div class=\"sk-label-container\"><div class=\"sk-label sk-toggleable\"><label>Random_Forest</label></div></div><div class=\"sk-serial\"><div class=\"sk-item\"><div class=\"sk-estimator sk-toggleable\"><input class=\"sk-toggleable__control sk-hidden--visually\" id=\"sk-estimator-id-9\" type=\"checkbox\" ><label for=\"sk-estimator-id-9\" class=\"sk-toggleable__label sk-toggleable__label-arrow\">RandomForestClassifier</label><div class=\"sk-toggleable__content\"><pre>RandomForestClassifier(random_state=111)</pre></div></div></div></div></div></div></div></div></div></div>"
            ],
            "text/plain": [
              "VotingClassifier(estimators=[('Decision_tree',\n",
              "                              DecisionTreeClassifier(random_state=111)),\n",
              "                             ('Random_Forest',\n",
              "                              RandomForestClassifier(random_state=111))],\n",
              "                 voting='soft')"
            ]
          },
          "execution_count": 62,
          "metadata": {},
          "output_type": "execute_result"
        }
      ],
      "source": [
        "soft_voting_clf"
      ]
    },
    {
      "cell_type": "code",
      "execution_count": null,
      "id": "26ee2913",
      "metadata": {
        "id": "26ee2913"
      },
      "outputs": [],
      "source": [
        "## voting 학습\n",
        "## voting 예측\n",
        "hard_voting_clf.fit(X_train,y_train)\n",
        "y_pred_hard=hard_voting_clf.predict(X_test)\n",
        "\n",
        "soft_voting_clf.fit(X_train,y_train)\n",
        "y_pred_soft=soft_voting_clf.predict(X_test)"
      ]
    },
    {
      "cell_type": "code",
      "execution_count": null,
      "id": "73055156",
      "metadata": {
        "id": "73055156",
        "outputId": "09da000a-548f-4b09-df7c-885ac389f374"
      },
      "outputs": [
        {
          "name": "stdout",
          "output_type": "stream",
          "text": [
            "acc:0.7877\n",
            "              precision    recall  f1-score   support\n",
            "\n",
            "           0       0.80      0.88      0.84       113\n",
            "           1       0.75      0.64      0.69        66\n",
            "\n",
            "    accuracy                           0.79       179\n",
            "   macro avg       0.78      0.76      0.76       179\n",
            "weighted avg       0.78      0.79      0.78       179\n",
            "\n",
            "[[99 14]\n",
            " [24 42]]\n"
          ]
        }
      ],
      "source": [
        "## Hard voting 평가\n",
        "\n",
        "accuracy =accuracy_score(y_test, y_pred_hard)\n",
        "print(f'acc:{accuracy:.4f}')\n",
        "\n",
        "print(classification_report(y_test, y_pred_hard))\n",
        "\n",
        "print(confusion_matrix(y_test, y_pred_hard))"
      ]
    },
    {
      "cell_type": "code",
      "execution_count": null,
      "id": "ae8df6ae",
      "metadata": {
        "id": "ae8df6ae",
        "outputId": "9b8f98b8-203e-4565-eebb-b13527f51a88"
      },
      "outputs": [
        {
          "name": "stdout",
          "output_type": "stream",
          "text": [
            "acc:0.7318\n",
            "              precision    recall  f1-score   support\n",
            "\n",
            "           0       0.81      0.75      0.78       113\n",
            "           1       0.62      0.70      0.66        66\n",
            "\n",
            "    accuracy                           0.73       179\n",
            "   macro avg       0.72      0.72      0.72       179\n",
            "weighted avg       0.74      0.73      0.73       179\n",
            "\n",
            "[[85 28]\n",
            " [20 46]]\n"
          ]
        }
      ],
      "source": [
        "## soft voting 평가\n",
        "\n",
        "accuracy =accuracy_score(y_test, y_pred_soft)\n",
        "print(f'acc:{accuracy:.4f}')\n",
        "\n",
        "print(classification_report(y_test, y_pred_soft))\n",
        "\n",
        "print(confusion_matrix(y_test, y_pred_soft))"
      ]
    },
    {
      "cell_type": "code",
      "execution_count": null,
      "id": "8bc4ffa3",
      "metadata": {
        "id": "8bc4ffa3"
      },
      "outputs": [],
      "source": [
        "## 모델 2개를 불러오자\n",
        "dt_best = DecisionTreeClassifier(max_depth=10, random_state=111)\n",
        "rf_best = RandomForestClassifier(\n",
        "        n_estimators = int(best_params['n_estimators']),\n",
        "        max_depth = int(best_params['max_depth']),\n",
        "        min_samples_split = int(best_params['min_samples_split']),\n",
        "        min_samples_leaf = int(best_params['min_samples_leaf']),\n",
        "        oob_score = True, ##OOB 계산\n",
        "        random_state=111)\n"
      ]
    },
    {
      "cell_type": "code",
      "execution_count": null,
      "id": "04a5d3b7",
      "metadata": {
        "id": "04a5d3b7"
      },
      "outputs": [],
      "source": [
        "#hard voting\n",
        "hard_voting_clf_best =VotingClassifier(\n",
        "    estimators = [('Decision_tree', dt_best), ('Random_Forest',rf_best)],\n",
        "    voting='hard'\n",
        "    )\n",
        "\n",
        "#soft voting\n",
        "soft_voting_clf_best =VotingClassifier(\n",
        "    estimators = [('Decision_tree', dt_best), ('Random_Forest',rf_best)],\n",
        "    voting='soft'\n",
        "    )"
      ]
    },
    {
      "cell_type": "code",
      "execution_count": null,
      "id": "77f49b6b",
      "metadata": {
        "id": "77f49b6b"
      },
      "outputs": [],
      "source": [
        "## voting 학습\n",
        "## voting 예측\n",
        "hard_voting_clf_best.fit(X_train,y_train)\n",
        "y_pred_hard=hard_voting_clf_best.predict(X_test)\n",
        "\n",
        "soft_voting_clf_best.fit(X_train,y_train)\n",
        "y_pred_soft=soft_voting_clf_best.predict(X_test)"
      ]
    },
    {
      "cell_type": "code",
      "execution_count": null,
      "id": "47d2916f",
      "metadata": {
        "id": "47d2916f",
        "outputId": "c809ed91-3c62-4981-e66a-d9ca904e0a6a"
      },
      "outputs": [
        {
          "name": "stdout",
          "output_type": "stream",
          "text": [
            "acc:0.8156\n",
            "              precision    recall  f1-score   support\n",
            "\n",
            "           0       0.79      0.96      0.87       113\n",
            "           1       0.88      0.58      0.70        66\n",
            "\n",
            "    accuracy                           0.82       179\n",
            "   macro avg       0.84      0.77      0.78       179\n",
            "weighted avg       0.83      0.82      0.80       179\n",
            "\n",
            "[[108   5]\n",
            " [ 28  38]]\n"
          ]
        }
      ],
      "source": [
        "## Hard voting 평가\n",
        "\n",
        "accuracy =accuracy_score(y_test, y_pred_hard)\n",
        "print(f'acc:{accuracy:.4f}')\n",
        "\n",
        "print(classification_report(y_test, y_pred_hard))\n",
        "\n",
        "print(confusion_matrix(y_test, y_pred_hard))"
      ]
    },
    {
      "cell_type": "code",
      "execution_count": null,
      "id": "9a35b266",
      "metadata": {
        "id": "9a35b266",
        "outputId": "5da198ea-e030-4561-d7b0-658e930af29a"
      },
      "outputs": [
        {
          "name": "stdout",
          "output_type": "stream",
          "text": [
            "acc:0.7598\n",
            "              precision    recall  f1-score   support\n",
            "\n",
            "           0       0.80      0.82      0.81       113\n",
            "           1       0.68      0.65      0.67        66\n",
            "\n",
            "    accuracy                           0.76       179\n",
            "   macro avg       0.74      0.74      0.74       179\n",
            "weighted avg       0.76      0.76      0.76       179\n",
            "\n",
            "[[93 20]\n",
            " [23 43]]\n"
          ]
        }
      ],
      "source": [
        "## soft voting 평가\n",
        "\n",
        "accuracy =accuracy_score(y_test, y_pred_soft)\n",
        "print(f'acc:{accuracy:.4f}')\n",
        "\n",
        "print(classification_report(y_test, y_pred_soft))\n",
        "\n",
        "print(confusion_matrix(y_test, y_pred_soft))"
      ]
    },
    {
      "cell_type": "code",
      "execution_count": null,
      "id": "8017e37d",
      "metadata": {
        "id": "8017e37d"
      },
      "outputs": [],
      "source": []
    }
  ],
  "metadata": {
    "kernelspec": {
      "display_name": "Python 3 (ipykernel)",
      "language": "python",
      "name": "python3"
    },
    "language_info": {
      "codemirror_mode": {
        "name": "ipython",
        "version": 3
      },
      "file_extension": ".py",
      "mimetype": "text/x-python",
      "name": "python",
      "nbconvert_exporter": "python",
      "pygments_lexer": "ipython3",
      "version": "3.8.16"
    },
    "colab": {
      "provenance": []
    }
  },
  "nbformat": 4,
  "nbformat_minor": 5
}